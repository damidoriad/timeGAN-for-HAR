{
  "cells": [
    {
      "cell_type": "markdown",
      "id": "4972d682",
      "metadata": {},
      "source": [
        "# Imports"
      ]
    },
    {
      "cell_type": "code",
      "execution_count": 1,
      "id": "a1c59f8a",
      "metadata": {
        "id": "a1c59f8a"
      },
      "outputs": [],
      "source": [
        "import numpy as np\n",
        "import torch\n",
        "import torch.nn as nn\n",
        "from torch import optim\n",
        "import torch.nn.functional as F\n",
        "import plotly.express as px\n",
        "import plotly.graph_objects as go\n",
        "\n",
        "from utils import real_data_loading\n",
        "from tqdm import tqdm\n",
        "\n",
        "# from data_loading import sine_data_generation\n",
        "# from utils import random_generator\n",
        "# from data_loading import MinMaxScaler\n",
        "\n",
        "from torch.utils.data import DataLoader\n",
        "\n",
        "\n",
        "# from utils import extract_time\n"
      ]
    },
    {
      "cell_type": "code",
      "execution_count": 2,
      "id": "ahJcCrzPQl-k",
      "metadata": {
        "id": "ahJcCrzPQl-k"
      },
      "outputs": [],
      "source": [
        "def train_test_divide (data_x, data_x_hat, data_t, data_t_hat, train_rate = 0.8):\n",
        "  \"\"\"Divide train and test data for both original and synthetic data.\n",
        "  \n",
        "  Args:\n",
        "    - data_x: original data\n",
        "    - data_x_hat: generated data\n",
        "    - data_t: original time\n",
        "    - data_t_hat: generated time\n",
        "    - train_rate: ratio of training data from the original data\n",
        "  \"\"\"\n",
        "  # Divide train/test index (original data)\n",
        "  no = len(data_x)\n",
        "  idx = np.random.permutation(no)\n",
        "  train_idx = idx[:int(no*train_rate)]\n",
        "  test_idx = idx[int(no*train_rate):]\n",
        "    \n",
        "  train_x = [data_x[i] for i in train_idx]\n",
        "  test_x = [data_x[i] for i in test_idx]\n",
        "  train_t = [data_t[i] for i in train_idx]\n",
        "  test_t = [data_t[i] for i in test_idx]      \n",
        "    \n",
        "  # Divide train/test index (synthetic data)\n",
        "  no = len(data_x_hat)\n",
        "  idx = np.random.permutation(no)\n",
        "  train_idx = idx[:int(no*train_rate)]\n",
        "  test_idx = idx[int(no*train_rate):]\n",
        "  \n",
        "  train_x_hat = [data_x_hat[i] for i in train_idx]\n",
        "  test_x_hat = [data_x_hat[i] for i in test_idx]\n",
        "  train_t_hat = [data_t_hat[i] for i in train_idx]\n",
        "  test_t_hat = [data_t_hat[i] for i in test_idx]\n",
        "  \n",
        "  return train_x, train_x_hat, test_x, test_x_hat, train_t, train_t_hat, test_t, test_t_hat\n",
        "\n",
        "\n",
        "def extract_time (data):\n",
        "  \"\"\"Returns Maximum sequence length and each sequence length.\n",
        "  \n",
        "  Args:\n",
        "    - data: original data\n",
        "    \n",
        "  Returns:\n",
        "    - time: extracted time information\n",
        "    - max_seq_len: maximum sequence length\n",
        "  \"\"\"\n",
        "  time = list()\n",
        "  max_seq_len = 0\n",
        "  for i in range(len(data)):\n",
        "    max_seq_len = max(max_seq_len, len(data[i][:,0]))\n",
        "    time.append(len(data[i][:,0]))\n",
        "    \n",
        "  return time, max_seq_len\n",
        "\n",
        "def random_generator (batch_size, z_dim, T_mb, max_seq_len):\n",
        "  \"\"\"Random vector generation.\n",
        "  \n",
        "  Args:\n",
        "    - batch_size: size of the random vector\n",
        "    - z_dim: dimension of random vector\n",
        "    - T_mb: time information for the random vector\n",
        "    - max_seq_len: maximum sequence length\n",
        "    \n",
        "  Returns:\n",
        "    - Z_mb: generated random vector\n",
        "  \"\"\"\n",
        "  Z_mb = list()\n",
        "  for i in range(batch_size):\n",
        "    temp = np.zeros([max_seq_len, z_dim])\n",
        "    temp_Z = np.random.uniform(0., 1, [T_mb[i], z_dim])\n",
        "    temp[:T_mb[i],:] = temp_Z\n",
        "    Z_mb.append(temp_Z)\n",
        "  return Z_mb\n",
        "\n",
        "\n",
        "def batch_generator(data, time, batch_size):\n",
        "  \"\"\"Mini-batch generator.\n",
        "  \n",
        "  Args:\n",
        "    - data: time-series data\n",
        "    - time: time information\n",
        "    - batch_size: the number of samples in each batch\n",
        "    \n",
        "  Returns:\n",
        "    - X_mb: time-series data in each batch\n",
        "    - T_mb: time information in each batch\n",
        "  \"\"\"\n",
        "  no = len(data)\n",
        "  idx = np.random.permutation(no)\n",
        "  train_idx = idx[:batch_size]     \n",
        "            \n",
        "  X_mb = list(data[i] for i in train_idx)\n",
        "  T_mb = list(time[i] for i in train_idx)\n",
        "  \n",
        "  return X_mb, T_mb"
      ]
    },
    {
      "cell_type": "markdown",
      "id": "4e849290",
      "metadata": {
        "id": "4e849290"
      },
      "source": [
        "# Define Class for Module Construction"
      ]
    },
    {
      "cell_type": "code",
      "execution_count": 3,
      "id": "294d9abe",
      "metadata": {
        "id": "294d9abe"
      },
      "outputs": [],
      "source": [
        "class Time_GAN_module(nn.Module):\n",
        "    \"\"\"\n",
        "    Class from which a module of the Time GAN Architecture can be constructed, \n",
        "    consisting of a n_layer stacked RNN layers and a fully connected layer\n",
        "    \n",
        "    input_size = dim of data (depending if module operates on latent or non-latent space)\n",
        "    \"\"\"\n",
        "    def __init__(self, input_size, output_size, hidden_dim, n_layers, activation=torch.sigmoid):\n",
        "        super(Time_GAN_module, self).__init__()\n",
        "\n",
        "        # Parameters\n",
        "        self.hidden_dim = hidden_dim\n",
        "        self.n_layers = n_layers\n",
        "        self.sigma = activation\n",
        "\n",
        "        #Defining the layers\n",
        "        # RNN Layer\n",
        "        self.rnn = nn.GRU(input_size, hidden_dim, n_layers, batch_first=True)   \n",
        "        # Fully connected layer\n",
        "        self.fc = nn.Linear(hidden_dim, output_size)\n",
        "        \n",
        "    def forward(self, x):\n",
        "    \n",
        "            batch_size = x.size(0)\n",
        "\n",
        "            # Initializing hidden state for first input using method defined below\n",
        "            hidden = self.init_hidden(batch_size)\n",
        "\n",
        "            # Passing in the input and hidden state into the model and obtaining outputs\n",
        "            out, hidden = self.rnn(x, hidden)\n",
        "        \n",
        "            # Reshaping the outputs such that it can be fit into the fully connected layer\n",
        "            out = out.contiguous().view(-1, self.hidden_dim)\n",
        "            out = self.fc(out)\n",
        "            \n",
        "            if self.sigma == nn.Identity:\n",
        "                idendity = nn.Identity()\n",
        "                return idendity(out)\n",
        "                \n",
        "            out = self.sigma(out)\n",
        "            \n",
        "            # HIDDEN STATES WERDEN IN DER PAPER IMPLEMENTIERUNG AUCH COMPUTED, ALLERDINGS NICHT BENUTZT?\n",
        "            \n",
        "            return out, hidden\n",
        "    \n",
        "    def init_hidden(self, batch_size):\n",
        "        # This method generates the first hidden state of zeros which we'll use in the forward pass\n",
        "        # We'll send the tensor holding the hidden state to the device we specified earlier as well\n",
        "        hidden = torch.zeros(self.n_layers, batch_size, self.hidden_dim)\n",
        "        return hidden"
      ]
    },
    {
      "cell_type": "code",
      "execution_count": 4,
      "id": "d75d90b5",
      "metadata": {},
      "outputs": [],
      "source": [
        "file = 'stock_data.csv'\n",
        "seq_len = 24\n",
        "data = real_data_loading(file, seq_len)\n",
        "data = torch.Tensor(np.array(data))"
      ]
    },
    {
      "cell_type": "code",
      "execution_count": 5,
      "id": "9dbc0c8a",
      "metadata": {},
      "outputs": [],
      "source": [
        "file = 'GOOG.csv'\n",
        "seq_len = 24\n",
        "goog = real_data_loading(file, seq_len)\n",
        "goog = torch.Tensor(np.array(goog))"
      ]
    },
    {
      "cell_type": "code",
      "execution_count": 6,
      "id": "6a2e3f85",
      "metadata": {
        "id": "6a2e3f85"
      },
      "outputs": [],
      "source": [
        "input_size = 6 # sequence length = number of features\n",
        "output_size = 24\n",
        "hidden_dim = 24\n",
        "n_layers = 3\n",
        "gamma = 1\n",
        "\n",
        "no, seq_len, dim = len(data), 24, 6\n",
        "\n",
        "batch_size = 128\n",
        "epoch = 50"
      ]
    },
    {
      "cell_type": "code",
      "execution_count": 6,
      "id": "e6e022a0",
      "metadata": {},
      "outputs": [],
      "source": [
        "net = nn.GRU(input_size, hidden_dim, n_layers, batch_first=True)\n",
        "fc = nn.Linear(hidden_dim, output_size)\n",
        "input = data[:batch_size,:,:]\n",
        "h0 = torch.randn(n_layers, batch_size, hidden_dim)\n",
        "output, hn = net(input, h0)"
      ]
    },
    {
      "cell_type": "code",
      "execution_count": 48,
      "id": "9fc64b82",
      "metadata": {},
      "outputs": [
        {
          "name": "stdout",
          "output_type": "stream",
          "text": [
            "Model's state_dict\n",
            "weight_ih_l0 \t torch.Size([72, 6])\n",
            "weight_hh_l0 \t torch.Size([72, 24])\n",
            "bias_ih_l0 \t torch.Size([72])\n",
            "bias_hh_l0 \t torch.Size([72])\n",
            "weight_ih_l1 \t torch.Size([72, 24])\n",
            "weight_hh_l1 \t torch.Size([72, 24])\n",
            "bias_ih_l1 \t torch.Size([72])\n",
            "bias_hh_l1 \t torch.Size([72])\n",
            "weight_ih_l2 \t torch.Size([72, 24])\n",
            "weight_hh_l2 \t torch.Size([72, 24])\n",
            "bias_ih_l2 \t torch.Size([72])\n",
            "bias_hh_l2 \t torch.Size([72])\n"
          ]
        }
      ],
      "source": [
        "print(\"Model's state_dict\")\n",
        "for param_tensor in net.state_dict():\n",
        "    print(param_tensor, '\\t', net.state_dict()[param_tensor].size())"
      ]
    },
    {
      "cell_type": "code",
      "execution_count": 31,
      "id": "911fcf09",
      "metadata": {},
      "outputs": [
        {
          "data": {
            "text/plain": [
              "==========================================================================================\n",
              "Layer (type:depth-idx)                   Output Shape              Param #\n",
              "==========================================================================================\n",
              "Time_GAN_module                          [3072, 24]                --\n",
              "├─GRU: 1-1                               [128, 24, 24]             9,504\n",
              "├─Linear: 1-2                            [3072, 24]                600\n",
              "==========================================================================================\n",
              "Total params: 10,104\n",
              "Trainable params: 10,104\n",
              "Non-trainable params: 0\n",
              "Total mult-adds (Units.MEGABYTES): 31.04\n",
              "==========================================================================================\n",
              "Input size (MB): 0.07\n",
              "Forward/backward pass size (MB): 1.18\n",
              "Params size (MB): 0.04\n",
              "Estimated Total Size (MB): 1.29\n",
              "=========================================================================================="
            ]
          },
          "execution_count": 31,
          "metadata": {},
          "output_type": "execute_result"
        }
      ],
      "source": [
        "summary(Embedder, input_size=(batch_size, 24, 6))"
      ]
    },
    {
      "cell_type": "code",
      "execution_count": 35,
      "id": "db4e7203",
      "metadata": {
        "colab": {
          "base_uri": "https://localhost:8080/"
        },
        "id": "db4e7203",
        "outputId": "ef492e6d-288a-4490-fed9-c1de8efa01e2"
      },
      "outputs": [
        {
          "data": {
            "text/plain": [
              "Time_GAN_module(\n",
              "  (rnn): GRU(6, 24, num_layers=3, batch_first=True)\n",
              "  (fc): Linear(in_features=24, out_features=24, bias=True)\n",
              ")"
            ]
          },
          "execution_count": 35,
          "metadata": {},
          "output_type": "execute_result"
        }
      ],
      "source": [
        "Embedder = Time_GAN_module(input_size=dim, output_size=hidden_dim, hidden_dim=hidden_dim, n_layers=n_layers)\n",
        "Embedder"
      ]
    },
    {
      "cell_type": "code",
      "execution_count": 36,
      "id": "9edcdcda",
      "metadata": {
        "colab": {
          "base_uri": "https://localhost:8080/"
        },
        "id": "9edcdcda",
        "outputId": "229d16fe-0033-4aac-bc4b-b76259aab192"
      },
      "outputs": [
        {
          "data": {
            "text/plain": [
              "Time_GAN_module(\n",
              "  (rnn): GRU(24, 24, num_layers=3, batch_first=True)\n",
              "  (fc): Linear(in_features=24, out_features=6, bias=True)\n",
              ")"
            ]
          },
          "execution_count": 36,
          "metadata": {},
          "output_type": "execute_result"
        }
      ],
      "source": [
        "Recovery = Time_GAN_module(input_size=hidden_dim, output_size=dim, hidden_dim=hidden_dim, n_layers=n_layers)\n",
        "Recovery"
      ]
    },
    {
      "cell_type": "code",
      "execution_count": 18,
      "id": "700d9516",
      "metadata": {
        "colab": {
          "base_uri": "https://localhost:8080/"
        },
        "id": "700d9516",
        "outputId": "9cba92f8-a7d6-47af-fd4b-2bb8ba88ff2f"
      },
      "outputs": [
        {
          "data": {
            "text/plain": [
              "Time_GAN_module(\n",
              "  (rnn): GRU(6, 24, num_layers=3, batch_first=True)\n",
              "  (fc): Linear(in_features=24, out_features=24, bias=True)\n",
              ")"
            ]
          },
          "execution_count": 18,
          "metadata": {},
          "output_type": "execute_result"
        }
      ],
      "source": [
        "Generator = Time_GAN_module(input_size=dim, output_size=hidden_dim, hidden_dim=hidden_dim, n_layers=n_layers)\n",
        "Generator"
      ]
    },
    {
      "cell_type": "code",
      "execution_count": 19,
      "id": "771283fc",
      "metadata": {
        "colab": {
          "base_uri": "https://localhost:8080/"
        },
        "id": "771283fc",
        "outputId": "8d5fc441-0979-4088-99f6-5689a6fe8129"
      },
      "outputs": [
        {
          "data": {
            "text/plain": [
              "Time_GAN_module(\n",
              "  (rnn): GRU(24, 24, num_layers=2, batch_first=True)\n",
              "  (fc): Linear(in_features=24, out_features=24, bias=True)\n",
              ")"
            ]
          },
          "execution_count": 19,
          "metadata": {},
          "output_type": "execute_result"
        }
      ],
      "source": [
        "Supervisor = Time_GAN_module(input_size=hidden_dim, output_size=hidden_dim, hidden_dim=hidden_dim, n_layers=n_layers-1)\n",
        "Supervisor"
      ]
    },
    {
      "cell_type": "code",
      "execution_count": 20,
      "id": "03e296b8",
      "metadata": {
        "colab": {
          "base_uri": "https://localhost:8080/"
        },
        "id": "03e296b8",
        "outputId": "ad523d22-e431-443b-a6e1-d46f9594b56b"
      },
      "outputs": [
        {
          "data": {
            "text/plain": [
              "Time_GAN_module(\n",
              "  (rnn): GRU(24, 24, num_layers=3, batch_first=True)\n",
              "  (fc): Linear(in_features=24, out_features=1, bias=True)\n",
              ")"
            ]
          },
          "execution_count": 20,
          "metadata": {},
          "output_type": "execute_result"
        }
      ],
      "source": [
        "Discriminator = Time_GAN_module(input_size=hidden_dim, output_size=1, hidden_dim=hidden_dim, n_layers=n_layers, \n",
        "                               activation=nn.Identity)\n",
        "Discriminator"
      ]
    },
    {
      "cell_type": "code",
      "execution_count": 21,
      "id": "c7aed175",
      "metadata": {
        "id": "c7aed175"
      },
      "outputs": [],
      "source": [
        "embedder_optimizer = optim.Adam(Embedder.parameters(), lr=0.001)\n",
        "recovery_optimizer = optim.Adam(Recovery.parameters(), lr=0.001)\n",
        "supervisor_optimizer = optim.Adam(Recovery.parameters(), lr=0.001)\n",
        "discriminator_optimizer = optim.Adam(Discriminator.parameters(), lr=0.001)\n",
        "generator_optimizer = optim.Adam(Generator.parameters(), lr=0.001)"
      ]
    },
    {
      "cell_type": "code",
      "execution_count": 7,
      "id": "f04458be",
      "metadata": {
        "colab": {
          "base_uri": "https://localhost:8080/"
        },
        "id": "f04458be",
        "outputId": "e1153625-f0ed-4135-c3de-5ea2b1918fd1"
      },
      "outputs": [
        {
          "ename": "NameError",
          "evalue": "name 'Embedder' is not defined",
          "output_type": "error",
          "traceback": [
            "\u001b[1;31m---------------------------------------------------------------------------\u001b[0m",
            "\u001b[1;31mNameError\u001b[0m                                 Traceback (most recent call last)",
            "Cell \u001b[1;32mIn[7], line 3\u001b[0m\n\u001b[0;32m      1\u001b[0m loader \u001b[38;5;241m=\u001b[39m DataLoader(data, batch_size, shuffle\u001b[38;5;241m=\u001b[39m\u001b[38;5;28;01mTrue\u001b[39;00m, drop_last\u001b[38;5;241m=\u001b[39m\u001b[38;5;28;01mTrue\u001b[39;00m)\n\u001b[0;32m      2\u001b[0m X \u001b[38;5;241m=\u001b[39m \u001b[38;5;28mnext\u001b[39m(\u001b[38;5;28miter\u001b[39m(loader))\n\u001b[1;32m----> 3\u001b[0m H, _ \u001b[38;5;241m=\u001b[39m \u001b[43mEmbedder\u001b[49m(X\u001b[38;5;241m.\u001b[39mfloat())\n\u001b[0;32m      4\u001b[0m H_re \u001b[38;5;241m=\u001b[39m torch\u001b[38;5;241m.\u001b[39mreshape(H, (batch_size, seq_len, hidden_dim))\n\u001b[0;32m      5\u001b[0m H\u001b[38;5;241m.\u001b[39mshape, H_re\u001b[38;5;241m.\u001b[39mshape\n",
            "\u001b[1;31mNameError\u001b[0m: name 'Embedder' is not defined"
          ]
        }
      ],
      "source": [
        "loader = DataLoader(data, batch_size, shuffle=True, drop_last=True)\n",
        "X = next(iter(loader))\n",
        "H, _ = Embedder(X.float())\n",
        "H_re = torch.reshape(H, (batch_size, seq_len, hidden_dim))\n",
        "H.shape, H_re.shape"
      ]
    },
    {
      "cell_type": "markdown",
      "id": "bcfd5039",
      "metadata": {
        "id": "bcfd5039"
      },
      "source": [
        "# Embedder Training"
      ]
    },
    {
      "cell_type": "code",
      "execution_count": 27,
      "id": "8fba6861",
      "metadata": {},
      "outputs": [],
      "source": [
        "Embedder = Time_GAN_module(input_size=dim, output_size=hidden_dim, hidden_dim=hidden_dim, n_layers=n_layers)\n",
        "Recovery = Time_GAN_module(input_size=hidden_dim, output_size=dim, hidden_dim=hidden_dim, n_layers=n_layers)\n",
        "embedder_optimizer = optim.Adam(Embedder.parameters(), lr=0.001)\n",
        "recovery_optimizer = optim.Adam(Recovery.parameters(), lr=0.001)\n",
        "epoch = 300"
      ]
    },
    {
      "cell_type": "code",
      "execution_count": 28,
      "id": "bd9274ab",
      "metadata": {
        "colab": {
          "base_uri": "https://localhost:8080/"
        },
        "id": "bd9274ab",
        "outputId": "4483b81a-8fb2-4fd5-f8ae-51b26d70609b"
      },
      "outputs": [
        {
          "name": "stdout",
          "output_type": "stream",
          "text": [
            "Start Embedding Network Training\n",
            "step: 1/300, e_loss: 1.4534404\n",
            "step: 2/300, e_loss: 1.5355204\n",
            "step: 3/300, e_loss: 1.330241\n",
            "step: 4/300, e_loss: 1.1330954\n",
            "step: 5/300, e_loss: 0.91477704\n",
            "step: 6/300, e_loss: 0.67764413\n",
            "step: 7/300, e_loss: 0.6088317\n",
            "step: 8/300, e_loss: 0.5542601\n",
            "step: 9/300, e_loss: 0.5431889\n",
            "step: 10/300, e_loss: 0.5600908\n",
            "step: 11/300, e_loss: 0.54986775\n",
            "step: 12/300, e_loss: 0.5422837\n",
            "step: 13/300, e_loss: 0.5432686\n",
            "step: 14/300, e_loss: 0.5404009\n",
            "step: 15/300, e_loss: 0.5210417\n",
            "step: 16/300, e_loss: 0.47952184\n",
            "step: 17/300, e_loss: 0.5238298\n",
            "step: 18/300, e_loss: 0.51491195\n",
            "step: 19/300, e_loss: 0.4887728\n",
            "step: 20/300, e_loss: 0.49148282\n",
            "step: 21/300, e_loss: 0.49025193\n",
            "step: 22/300, e_loss: 0.5007103\n",
            "step: 23/300, e_loss: 0.47561878\n",
            "step: 24/300, e_loss: 0.471286\n",
            "step: 25/300, e_loss: 0.49326468\n",
            "step: 26/300, e_loss: 0.4748056\n",
            "step: 27/300, e_loss: 0.4961755\n",
            "step: 28/300, e_loss: 0.5065446\n",
            "step: 29/300, e_loss: 0.48864236\n",
            "step: 30/300, e_loss: 0.48656026\n",
            "step: 31/300, e_loss: 0.4884648\n",
            "step: 32/300, e_loss: 0.49307334\n",
            "step: 33/300, e_loss: 0.4712109\n",
            "step: 34/300, e_loss: 0.44247591\n",
            "step: 35/300, e_loss: 0.44196323\n",
            "step: 36/300, e_loss: 0.48394907\n",
            "step: 37/300, e_loss: 0.46398064\n",
            "step: 38/300, e_loss: 0.52558327\n",
            "step: 39/300, e_loss: 0.44367787\n",
            "step: 40/300, e_loss: 0.44691375\n",
            "step: 41/300, e_loss: 0.49438214\n",
            "step: 42/300, e_loss: 0.44767547\n",
            "step: 43/300, e_loss: 0.4681423\n",
            "step: 44/300, e_loss: 0.48155332\n",
            "step: 45/300, e_loss: 0.47127694\n",
            "step: 46/300, e_loss: 0.45314595\n",
            "step: 47/300, e_loss: 0.49215695\n",
            "step: 48/300, e_loss: 0.4347491\n",
            "step: 49/300, e_loss: 0.45698702\n",
            "step: 50/300, e_loss: 0.44364253\n",
            "step: 51/300, e_loss: 0.4757929\n",
            "step: 52/300, e_loss: 0.46501482\n",
            "step: 53/300, e_loss: 0.4363789\n",
            "step: 54/300, e_loss: 0.4579857\n",
            "step: 55/300, e_loss: 0.45627043\n",
            "step: 56/300, e_loss: 0.41236776\n",
            "step: 57/300, e_loss: 0.47041652\n",
            "step: 58/300, e_loss: 0.45768234\n",
            "step: 59/300, e_loss: 0.47036585\n",
            "step: 60/300, e_loss: 0.4454144\n",
            "step: 61/300, e_loss: 0.4199151\n",
            "step: 62/300, e_loss: 0.42024383\n",
            "step: 63/300, e_loss: 0.43669817\n",
            "step: 64/300, e_loss: 0.41908312\n",
            "step: 65/300, e_loss: 0.42759517\n",
            "step: 66/300, e_loss: 0.42324305\n",
            "step: 67/300, e_loss: 0.41159913\n",
            "step: 68/300, e_loss: 0.3992017\n",
            "step: 69/300, e_loss: 0.42913878\n",
            "step: 70/300, e_loss: 0.41199073\n",
            "step: 71/300, e_loss: 0.4140232\n",
            "step: 72/300, e_loss: 0.40942734\n",
            "step: 73/300, e_loss: 0.38002616\n",
            "step: 74/300, e_loss: 0.39174163\n",
            "step: 75/300, e_loss: 0.38865665\n",
            "step: 76/300, e_loss: 0.4049999\n",
            "step: 77/300, e_loss: 0.40963575\n",
            "step: 78/300, e_loss: 0.4028527\n",
            "step: 79/300, e_loss: 0.4006669\n",
            "step: 80/300, e_loss: 0.39264625\n",
            "step: 81/300, e_loss: 0.36967906\n",
            "step: 82/300, e_loss: 0.39581332\n",
            "step: 83/300, e_loss: 0.37782025\n",
            "step: 84/300, e_loss: 0.36403736\n",
            "step: 85/300, e_loss: 0.37496623\n",
            "step: 86/300, e_loss: 0.3632205\n",
            "step: 87/300, e_loss: 0.35462847\n",
            "step: 88/300, e_loss: 0.35926116\n",
            "step: 89/300, e_loss: 0.3490445\n",
            "step: 90/300, e_loss: 0.34491384\n",
            "step: 91/300, e_loss: 0.36078414\n",
            "step: 92/300, e_loss: 0.35064045\n",
            "step: 93/300, e_loss: 0.37276933\n",
            "step: 94/300, e_loss: 0.33294988\n",
            "step: 95/300, e_loss: 0.35244238\n",
            "step: 96/300, e_loss: 0.36259305\n",
            "step: 97/300, e_loss: 0.33870968\n",
            "step: 98/300, e_loss: 0.36951092\n",
            "step: 99/300, e_loss: 0.3371326\n",
            "step: 100/300, e_loss: 0.3286448\n",
            "step: 101/300, e_loss: 0.34746647\n",
            "step: 102/300, e_loss: 0.34994298\n",
            "step: 103/300, e_loss: 0.34039053\n",
            "step: 104/300, e_loss: 0.33259752\n",
            "step: 105/300, e_loss: 0.33354843\n",
            "step: 106/300, e_loss: 0.3309907\n",
            "step: 107/300, e_loss: 0.32632723\n",
            "step: 108/300, e_loss: 0.33172956\n",
            "step: 109/300, e_loss: 0.3331437\n",
            "step: 110/300, e_loss: 0.33479095\n",
            "step: 111/300, e_loss: 0.33127248\n",
            "step: 112/300, e_loss: 0.32466868\n",
            "step: 113/300, e_loss: 0.34743845\n",
            "step: 114/300, e_loss: 0.36505282\n",
            "step: 115/300, e_loss: 0.3229255\n",
            "step: 116/300, e_loss: 0.33838904\n",
            "step: 117/300, e_loss: 0.3511994\n",
            "step: 118/300, e_loss: 0.3410174\n",
            "step: 119/300, e_loss: 0.35528898\n",
            "step: 120/300, e_loss: 0.35349166\n",
            "step: 121/300, e_loss: 0.3504427\n",
            "step: 122/300, e_loss: 0.3478292\n",
            "step: 123/300, e_loss: 0.3367674\n",
            "step: 124/300, e_loss: 0.33527654\n",
            "step: 125/300, e_loss: 0.38826028\n",
            "step: 126/300, e_loss: 0.37811786\n",
            "step: 127/300, e_loss: 0.34275058\n",
            "step: 128/300, e_loss: 0.32935578\n",
            "step: 129/300, e_loss: 0.3287382\n",
            "step: 130/300, e_loss: 0.31731156\n",
            "step: 131/300, e_loss: 0.32246783\n",
            "step: 132/300, e_loss: 0.35954016\n",
            "step: 133/300, e_loss: 0.3274926\n",
            "step: 134/300, e_loss: 0.31294927\n",
            "step: 135/300, e_loss: 0.34436476\n",
            "step: 136/300, e_loss: 0.3382243\n",
            "step: 137/300, e_loss: 0.3430132\n",
            "step: 138/300, e_loss: 0.32251546\n",
            "step: 139/300, e_loss: 0.33722097\n",
            "step: 140/300, e_loss: 0.32951367\n",
            "step: 141/300, e_loss: 0.31399548\n",
            "step: 142/300, e_loss: 0.33824664\n",
            "step: 143/300, e_loss: 0.317928\n",
            "step: 144/300, e_loss: 0.333398\n",
            "step: 145/300, e_loss: 0.34138075\n",
            "step: 146/300, e_loss: 0.33457613\n",
            "step: 147/300, e_loss: 0.32949898\n",
            "step: 148/300, e_loss: 0.3250461\n",
            "step: 149/300, e_loss: 0.34665224\n",
            "step: 150/300, e_loss: 0.32358813\n",
            "step: 151/300, e_loss: 0.32306227\n",
            "step: 152/300, e_loss: 0.32388467\n",
            "step: 153/300, e_loss: 0.3200407\n",
            "step: 154/300, e_loss: 0.3266384\n",
            "step: 155/300, e_loss: 0.32355312\n",
            "step: 156/300, e_loss: 0.32360202\n",
            "step: 157/300, e_loss: 0.324273\n",
            "step: 158/300, e_loss: 0.3306967\n",
            "step: 159/300, e_loss: 0.3238216\n",
            "step: 160/300, e_loss: 0.32863852\n",
            "step: 161/300, e_loss: 0.32753012\n",
            "step: 162/300, e_loss: 0.32703546\n",
            "step: 163/300, e_loss: 0.3417319\n",
            "step: 164/300, e_loss: 0.35030943\n",
            "step: 165/300, e_loss: 0.35700572\n",
            "step: 166/300, e_loss: 0.3303643\n",
            "step: 167/300, e_loss: 0.32778165\n",
            "step: 168/300, e_loss: 0.31915906\n",
            "step: 169/300, e_loss: 0.32117182\n",
            "step: 170/300, e_loss: 0.33515444\n",
            "step: 171/300, e_loss: 0.32809892\n",
            "step: 172/300, e_loss: 0.3343092\n",
            "step: 173/300, e_loss: 0.3163436\n",
            "step: 174/300, e_loss: 0.30724397\n",
            "step: 175/300, e_loss: 0.32022628\n",
            "step: 176/300, e_loss: 0.3366215\n",
            "step: 177/300, e_loss: 0.31763694\n",
            "step: 178/300, e_loss: 0.32028282\n",
            "step: 179/300, e_loss: 0.32564232\n",
            "step: 180/300, e_loss: 0.30968753\n",
            "step: 181/300, e_loss: 0.30884257\n",
            "step: 182/300, e_loss: 0.33431444\n",
            "step: 183/300, e_loss: 0.31950626\n",
            "step: 184/300, e_loss: 0.3210046\n",
            "step: 185/300, e_loss: 0.32878172\n",
            "step: 186/300, e_loss: 0.31665534\n",
            "step: 187/300, e_loss: 0.31705365\n",
            "step: 188/300, e_loss: 0.3229602\n",
            "step: 189/300, e_loss: 0.30850074\n",
            "step: 190/300, e_loss: 0.30568\n",
            "step: 191/300, e_loss: 0.32251596\n",
            "step: 192/300, e_loss: 0.3292159\n",
            "step: 193/300, e_loss: 0.31801394\n",
            "step: 194/300, e_loss: 0.31618696\n",
            "step: 195/300, e_loss: 0.31353346\n",
            "step: 196/300, e_loss: 0.3328914\n",
            "step: 197/300, e_loss: 0.31310248\n",
            "step: 198/300, e_loss: 0.31276464\n",
            "step: 199/300, e_loss: 0.31505725\n",
            "step: 200/300, e_loss: 0.32635564\n",
            "step: 201/300, e_loss: 0.3127141\n",
            "step: 202/300, e_loss: 0.32313436\n",
            "step: 203/300, e_loss: 0.32621062\n",
            "step: 204/300, e_loss: 0.3179204\n",
            "step: 205/300, e_loss: 0.30261862\n",
            "step: 206/300, e_loss: 0.32014045\n",
            "step: 207/300, e_loss: 0.33203116\n",
            "step: 208/300, e_loss: 0.32059464\n",
            "step: 209/300, e_loss: 0.31008977\n",
            "step: 210/300, e_loss: 0.32507995\n",
            "step: 211/300, e_loss: 0.32214862\n",
            "step: 212/300, e_loss: 0.32971144\n",
            "step: 213/300, e_loss: 0.34011745\n",
            "step: 214/300, e_loss: 0.31863883\n",
            "step: 215/300, e_loss: 0.3022611\n",
            "step: 216/300, e_loss: 0.31413868\n",
            "step: 217/300, e_loss: 0.30291268\n",
            "step: 218/300, e_loss: 0.33225867\n",
            "step: 219/300, e_loss: 0.34205547\n",
            "step: 220/300, e_loss: 0.306271\n",
            "step: 221/300, e_loss: 0.3158147\n",
            "step: 222/300, e_loss: 0.31731653\n",
            "step: 223/300, e_loss: 0.32695004\n",
            "step: 224/300, e_loss: 0.3307223\n",
            "step: 225/300, e_loss: 0.31190318\n",
            "step: 226/300, e_loss: 0.3019712\n",
            "step: 227/300, e_loss: 0.2982349\n",
            "step: 228/300, e_loss: 0.3243085\n",
            "step: 229/300, e_loss: 0.3026176\n",
            "step: 230/300, e_loss: 0.30697358\n",
            "step: 231/300, e_loss: 0.31958416\n",
            "step: 232/300, e_loss: 0.3087653\n",
            "step: 233/300, e_loss: 0.320873\n",
            "step: 234/300, e_loss: 0.3038667\n",
            "step: 235/300, e_loss: 0.30540854\n",
            "step: 236/300, e_loss: 0.3065199\n",
            "step: 237/300, e_loss: 0.31462944\n",
            "step: 238/300, e_loss: 0.32622626\n",
            "step: 239/300, e_loss: 0.31285423\n",
            "step: 240/300, e_loss: 0.30526263\n",
            "step: 241/300, e_loss: 0.30453008\n",
            "step: 242/300, e_loss: 0.3130624\n",
            "step: 243/300, e_loss: 0.31764266\n",
            "step: 244/300, e_loss: 0.30613536\n",
            "step: 245/300, e_loss: 0.30842122\n",
            "step: 246/300, e_loss: 0.33231717\n",
            "step: 247/300, e_loss: 0.3200586\n",
            "step: 248/300, e_loss: 0.32158738\n",
            "step: 249/300, e_loss: 0.3134742\n",
            "step: 250/300, e_loss: 0.29412952\n",
            "step: 251/300, e_loss: 0.30296588\n",
            "step: 252/300, e_loss: 0.31577465\n",
            "step: 253/300, e_loss: 0.3141343\n",
            "step: 254/300, e_loss: 0.30690095\n",
            "step: 255/300, e_loss: 0.31214118\n",
            "step: 256/300, e_loss: 0.30167308\n",
            "step: 257/300, e_loss: 0.30875218\n",
            "step: 258/300, e_loss: 0.30236956\n",
            "step: 259/300, e_loss: 0.30290076\n",
            "step: 260/300, e_loss: 0.30267376\n",
            "step: 261/300, e_loss: 0.31180507\n",
            "step: 262/300, e_loss: 0.31225845\n",
            "step: 263/300, e_loss: 0.32002196\n",
            "step: 264/300, e_loss: 0.3152026\n",
            "step: 265/300, e_loss: 0.3145037\n",
            "step: 266/300, e_loss: 0.3387459\n",
            "step: 267/300, e_loss: 0.31724566\n",
            "step: 268/300, e_loss: 0.32545546\n",
            "step: 269/300, e_loss: 0.32353994\n",
            "step: 270/300, e_loss: 0.32271376\n",
            "step: 271/300, e_loss: 0.3154328\n",
            "step: 272/300, e_loss: 0.30770093\n",
            "step: 273/300, e_loss: 0.31503183\n",
            "step: 274/300, e_loss: 0.31671816\n",
            "step: 275/300, e_loss: 0.31594715\n",
            "step: 276/300, e_loss: 0.31303787\n",
            "step: 277/300, e_loss: 0.3097771\n",
            "step: 278/300, e_loss: 0.3053899\n",
            "step: 279/300, e_loss: 0.3253359\n",
            "step: 280/300, e_loss: 0.3164343\n",
            "step: 281/300, e_loss: 0.3105017\n",
            "step: 282/300, e_loss: 0.31816408\n",
            "step: 283/300, e_loss: 0.32493255\n",
            "step: 284/300, e_loss: 0.29732135\n",
            "step: 285/300, e_loss: 0.30047077\n",
            "step: 286/300, e_loss: 0.31450263\n",
            "step: 287/300, e_loss: 0.30013046\n",
            "step: 288/300, e_loss: 0.3063978\n",
            "step: 289/300, e_loss: 0.31506404\n",
            "step: 290/300, e_loss: 0.32045996\n",
            "step: 291/300, e_loss: 0.29432473\n",
            "step: 292/300, e_loss: 0.32134658\n",
            "step: 293/300, e_loss: 0.30451888\n",
            "step: 294/300, e_loss: 0.31078562\n",
            "step: 295/300, e_loss: 0.31424278\n",
            "step: 296/300, e_loss: 0.31796077\n",
            "step: 297/300, e_loss: 0.3014744\n",
            "step: 298/300, e_loss: 0.29902065\n",
            "step: 299/300, e_loss: 0.30891705\n",
            "Finish Embedding Network Training\n"
          ]
        }
      ],
      "source": [
        "print('Start Embedding Network Training')\n",
        "valLoss = []\n",
        "trainLoss = []\n",
        "for e in range(epoch): \n",
        "    for batch_index, X in enumerate(loader):\n",
        "        Embedder.train()\n",
        "        Recovery.train()\n",
        "        \n",
        "        MSE_loss = nn.MSELoss()\n",
        "        \n",
        "        H, _ = Embedder(X.float())\n",
        "        H = torch.reshape(H, (batch_size, seq_len, hidden_dim))\n",
        "\n",
        "        X_tilde, _ = Recovery(H)\n",
        "        X_tilde = torch.reshape(X_tilde, (batch_size, seq_len, dim))\n",
        "\n",
        "        E_loss0 = 10 * torch.sqrt(MSE_loss(X, X_tilde))  \n",
        "\n",
        "        Embedder.zero_grad()\n",
        "        Recovery.zero_grad()\n",
        "\n",
        "        E_loss0.backward(retain_graph=True)\n",
        "\n",
        "        embedder_optimizer.step()\n",
        "        recovery_optimizer.step()\n",
        "\n",
        "        if e in range(1,epoch) and batch_index == 0:\n",
        "            Embedder.eval()\n",
        "            Recovery.eval()\n",
        "            H, _ = Embedder(goog)\n",
        "            H = torch.reshape(H, (goog.shape[0], seq_len, hidden_dim))\n",
        "            X_tilde, _ = Recovery(H)\n",
        "            X_tilde = torch.reshape(X_tilde, (goog.shape[0], seq_len, dim))\n",
        "            valLoss.append(10 * torch.sqrt(MSE_loss(goog, X_tilde)).detach().numpy())\n",
        "            H, _ = Embedder(data)\n",
        "            H = torch.reshape(H, (data.shape[0], seq_len, hidden_dim))\n",
        "            X_tilde, _ = Recovery(H)\n",
        "            X_tilde = torch.reshape(X_tilde, (data.shape[0], seq_len, dim))\n",
        "            trainLoss.append(10 * torch.sqrt(MSE_loss(data, X_tilde)).detach().numpy())\n",
        "            print('step: '+ str(e) + '/' + str(epoch) + ', e_loss: ' + str(np.sqrt(E_loss0.detach().numpy())))\n",
        "\n",
        "print('Finish Embedding Network Training')"
      ]
    },
    {
      "cell_type": "code",
      "execution_count": 26,
      "id": "5963c93c",
      "metadata": {},
      "outputs": [
        {
          "data": {
            "application/vnd.plotly.v1+json": {
              "config": {
                "plotlyServerURL": "https://plot.ly"
              },
              "data": [
                {
                  "hovertemplate": "variable=0<br>index=%{x}<br>value=%{y}<extra></extra>",
                  "legendgroup": "0",
                  "line": {
                    "color": "#636efa",
                    "dash": "solid"
                  },
                  "marker": {
                    "symbol": "circle"
                  },
                  "mode": "lines",
                  "name": "0",
                  "orientation": "v",
                  "showlegend": true,
                  "type": "scatter",
                  "x": [
                    0,
                    1,
                    2,
                    3,
                    4,
                    5,
                    6,
                    7,
                    8,
                    9,
                    10,
                    11,
                    12,
                    13,
                    14,
                    15,
                    16,
                    17,
                    18,
                    19,
                    20,
                    21,
                    22,
                    23,
                    24,
                    25,
                    26,
                    27,
                    28
                  ],
                  "xaxis": "x",
                  "y": [
                    2.095009982585907,
                    1.228581890463829,
                    0.7972797751426697,
                    0.5350063368678093,
                    0.4023454338312149,
                    0.3495091199874878,
                    0.3239499405026436,
                    0.3120397962629795,
                    0.30107224360108376,
                    0.2865852788090706,
                    0.2763802744448185,
                    0.26740945875644684,
                    0.2595369331538677,
                    0.2552272379398346,
                    0.24881739169359207,
                    0.24183331057429314,
                    0.23962637409567833,
                    0.2628304995596409,
                    0.23818297311663628,
                    0.23164421319961548,
                    0.23127824068069458,
                    0.22558027878403664,
                    0.22771373391151428,
                    0.22130191326141357,
                    0.22200027480721474,
                    0.2187834121286869,
                    0.2180488035082817,
                    0.21438395604491234,
                    0.21223599091172218
                  ],
                  "yaxis": "y"
                },
                {
                  "mode": "lines",
                  "type": "scatter",
                  "y": [
                    2.1811893582344055,
                    1.259593814611435,
                    0.9051249921321869,
                    0.6302974373102188,
                    0.5374519899487495,
                    0.4768124595284462,
                    0.47062620520591736,
                    0.46433471143245697,
                    0.4600032791495323,
                    0.44468555599451065,
                    0.4473350942134857,
                    0.44365812093019485,
                    0.45002754777669907,
                    0.4280855134129524,
                    0.4337345063686371,
                    0.4087432846426964,
                    0.40813256055116653,
                    0.41789211332798004,
                    0.40355995297431946,
                    0.4158603772521019,
                    0.4002147540450096,
                    0.39478134363889694,
                    0.40467724204063416,
                    0.37825167179107666,
                    0.3942873328924179,
                    0.3833194822072983,
                    0.3648369386792183,
                    0.38253024220466614,
                    0.3575790300965309
                  ]
                }
              ],
              "layout": {
                "legend": {
                  "title": {
                    "text": "variable"
                  },
                  "tracegroupgap": 0
                },
                "margin": {
                  "t": 60
                },
                "template": {
                  "data": {
                    "bar": [
                      {
                        "error_x": {
                          "color": "#2a3f5f"
                        },
                        "error_y": {
                          "color": "#2a3f5f"
                        },
                        "marker": {
                          "line": {
                            "color": "#E5ECF6",
                            "width": 0.5
                          },
                          "pattern": {
                            "fillmode": "overlay",
                            "size": 10,
                            "solidity": 0.2
                          }
                        },
                        "type": "bar"
                      }
                    ],
                    "barpolar": [
                      {
                        "marker": {
                          "line": {
                            "color": "#E5ECF6",
                            "width": 0.5
                          },
                          "pattern": {
                            "fillmode": "overlay",
                            "size": 10,
                            "solidity": 0.2
                          }
                        },
                        "type": "barpolar"
                      }
                    ],
                    "carpet": [
                      {
                        "aaxis": {
                          "endlinecolor": "#2a3f5f",
                          "gridcolor": "white",
                          "linecolor": "white",
                          "minorgridcolor": "white",
                          "startlinecolor": "#2a3f5f"
                        },
                        "baxis": {
                          "endlinecolor": "#2a3f5f",
                          "gridcolor": "white",
                          "linecolor": "white",
                          "minorgridcolor": "white",
                          "startlinecolor": "#2a3f5f"
                        },
                        "type": "carpet"
                      }
                    ],
                    "choropleth": [
                      {
                        "colorbar": {
                          "outlinewidth": 0,
                          "ticks": ""
                        },
                        "type": "choropleth"
                      }
                    ],
                    "contour": [
                      {
                        "colorbar": {
                          "outlinewidth": 0,
                          "ticks": ""
                        },
                        "colorscale": [
                          [
                            0,
                            "#0d0887"
                          ],
                          [
                            0.1111111111111111,
                            "#46039f"
                          ],
                          [
                            0.2222222222222222,
                            "#7201a8"
                          ],
                          [
                            0.3333333333333333,
                            "#9c179e"
                          ],
                          [
                            0.4444444444444444,
                            "#bd3786"
                          ],
                          [
                            0.5555555555555556,
                            "#d8576b"
                          ],
                          [
                            0.6666666666666666,
                            "#ed7953"
                          ],
                          [
                            0.7777777777777778,
                            "#fb9f3a"
                          ],
                          [
                            0.8888888888888888,
                            "#fdca26"
                          ],
                          [
                            1,
                            "#f0f921"
                          ]
                        ],
                        "type": "contour"
                      }
                    ],
                    "contourcarpet": [
                      {
                        "colorbar": {
                          "outlinewidth": 0,
                          "ticks": ""
                        },
                        "type": "contourcarpet"
                      }
                    ],
                    "heatmap": [
                      {
                        "colorbar": {
                          "outlinewidth": 0,
                          "ticks": ""
                        },
                        "colorscale": [
                          [
                            0,
                            "#0d0887"
                          ],
                          [
                            0.1111111111111111,
                            "#46039f"
                          ],
                          [
                            0.2222222222222222,
                            "#7201a8"
                          ],
                          [
                            0.3333333333333333,
                            "#9c179e"
                          ],
                          [
                            0.4444444444444444,
                            "#bd3786"
                          ],
                          [
                            0.5555555555555556,
                            "#d8576b"
                          ],
                          [
                            0.6666666666666666,
                            "#ed7953"
                          ],
                          [
                            0.7777777777777778,
                            "#fb9f3a"
                          ],
                          [
                            0.8888888888888888,
                            "#fdca26"
                          ],
                          [
                            1,
                            "#f0f921"
                          ]
                        ],
                        "type": "heatmap"
                      }
                    ],
                    "heatmapgl": [
                      {
                        "colorbar": {
                          "outlinewidth": 0,
                          "ticks": ""
                        },
                        "colorscale": [
                          [
                            0,
                            "#0d0887"
                          ],
                          [
                            0.1111111111111111,
                            "#46039f"
                          ],
                          [
                            0.2222222222222222,
                            "#7201a8"
                          ],
                          [
                            0.3333333333333333,
                            "#9c179e"
                          ],
                          [
                            0.4444444444444444,
                            "#bd3786"
                          ],
                          [
                            0.5555555555555556,
                            "#d8576b"
                          ],
                          [
                            0.6666666666666666,
                            "#ed7953"
                          ],
                          [
                            0.7777777777777778,
                            "#fb9f3a"
                          ],
                          [
                            0.8888888888888888,
                            "#fdca26"
                          ],
                          [
                            1,
                            "#f0f921"
                          ]
                        ],
                        "type": "heatmapgl"
                      }
                    ],
                    "histogram": [
                      {
                        "marker": {
                          "pattern": {
                            "fillmode": "overlay",
                            "size": 10,
                            "solidity": 0.2
                          }
                        },
                        "type": "histogram"
                      }
                    ],
                    "histogram2d": [
                      {
                        "colorbar": {
                          "outlinewidth": 0,
                          "ticks": ""
                        },
                        "colorscale": [
                          [
                            0,
                            "#0d0887"
                          ],
                          [
                            0.1111111111111111,
                            "#46039f"
                          ],
                          [
                            0.2222222222222222,
                            "#7201a8"
                          ],
                          [
                            0.3333333333333333,
                            "#9c179e"
                          ],
                          [
                            0.4444444444444444,
                            "#bd3786"
                          ],
                          [
                            0.5555555555555556,
                            "#d8576b"
                          ],
                          [
                            0.6666666666666666,
                            "#ed7953"
                          ],
                          [
                            0.7777777777777778,
                            "#fb9f3a"
                          ],
                          [
                            0.8888888888888888,
                            "#fdca26"
                          ],
                          [
                            1,
                            "#f0f921"
                          ]
                        ],
                        "type": "histogram2d"
                      }
                    ],
                    "histogram2dcontour": [
                      {
                        "colorbar": {
                          "outlinewidth": 0,
                          "ticks": ""
                        },
                        "colorscale": [
                          [
                            0,
                            "#0d0887"
                          ],
                          [
                            0.1111111111111111,
                            "#46039f"
                          ],
                          [
                            0.2222222222222222,
                            "#7201a8"
                          ],
                          [
                            0.3333333333333333,
                            "#9c179e"
                          ],
                          [
                            0.4444444444444444,
                            "#bd3786"
                          ],
                          [
                            0.5555555555555556,
                            "#d8576b"
                          ],
                          [
                            0.6666666666666666,
                            "#ed7953"
                          ],
                          [
                            0.7777777777777778,
                            "#fb9f3a"
                          ],
                          [
                            0.8888888888888888,
                            "#fdca26"
                          ],
                          [
                            1,
                            "#f0f921"
                          ]
                        ],
                        "type": "histogram2dcontour"
                      }
                    ],
                    "mesh3d": [
                      {
                        "colorbar": {
                          "outlinewidth": 0,
                          "ticks": ""
                        },
                        "type": "mesh3d"
                      }
                    ],
                    "parcoords": [
                      {
                        "line": {
                          "colorbar": {
                            "outlinewidth": 0,
                            "ticks": ""
                          }
                        },
                        "type": "parcoords"
                      }
                    ],
                    "pie": [
                      {
                        "automargin": true,
                        "type": "pie"
                      }
                    ],
                    "scatter": [
                      {
                        "fillpattern": {
                          "fillmode": "overlay",
                          "size": 10,
                          "solidity": 0.2
                        },
                        "type": "scatter"
                      }
                    ],
                    "scatter3d": [
                      {
                        "line": {
                          "colorbar": {
                            "outlinewidth": 0,
                            "ticks": ""
                          }
                        },
                        "marker": {
                          "colorbar": {
                            "outlinewidth": 0,
                            "ticks": ""
                          }
                        },
                        "type": "scatter3d"
                      }
                    ],
                    "scattercarpet": [
                      {
                        "marker": {
                          "colorbar": {
                            "outlinewidth": 0,
                            "ticks": ""
                          }
                        },
                        "type": "scattercarpet"
                      }
                    ],
                    "scattergeo": [
                      {
                        "marker": {
                          "colorbar": {
                            "outlinewidth": 0,
                            "ticks": ""
                          }
                        },
                        "type": "scattergeo"
                      }
                    ],
                    "scattergl": [
                      {
                        "marker": {
                          "colorbar": {
                            "outlinewidth": 0,
                            "ticks": ""
                          }
                        },
                        "type": "scattergl"
                      }
                    ],
                    "scattermapbox": [
                      {
                        "marker": {
                          "colorbar": {
                            "outlinewidth": 0,
                            "ticks": ""
                          }
                        },
                        "type": "scattermapbox"
                      }
                    ],
                    "scatterpolar": [
                      {
                        "marker": {
                          "colorbar": {
                            "outlinewidth": 0,
                            "ticks": ""
                          }
                        },
                        "type": "scatterpolar"
                      }
                    ],
                    "scatterpolargl": [
                      {
                        "marker": {
                          "colorbar": {
                            "outlinewidth": 0,
                            "ticks": ""
                          }
                        },
                        "type": "scatterpolargl"
                      }
                    ],
                    "scatterternary": [
                      {
                        "marker": {
                          "colorbar": {
                            "outlinewidth": 0,
                            "ticks": ""
                          }
                        },
                        "type": "scatterternary"
                      }
                    ],
                    "surface": [
                      {
                        "colorbar": {
                          "outlinewidth": 0,
                          "ticks": ""
                        },
                        "colorscale": [
                          [
                            0,
                            "#0d0887"
                          ],
                          [
                            0.1111111111111111,
                            "#46039f"
                          ],
                          [
                            0.2222222222222222,
                            "#7201a8"
                          ],
                          [
                            0.3333333333333333,
                            "#9c179e"
                          ],
                          [
                            0.4444444444444444,
                            "#bd3786"
                          ],
                          [
                            0.5555555555555556,
                            "#d8576b"
                          ],
                          [
                            0.6666666666666666,
                            "#ed7953"
                          ],
                          [
                            0.7777777777777778,
                            "#fb9f3a"
                          ],
                          [
                            0.8888888888888888,
                            "#fdca26"
                          ],
                          [
                            1,
                            "#f0f921"
                          ]
                        ],
                        "type": "surface"
                      }
                    ],
                    "table": [
                      {
                        "cells": {
                          "fill": {
                            "color": "#EBF0F8"
                          },
                          "line": {
                            "color": "white"
                          }
                        },
                        "header": {
                          "fill": {
                            "color": "#C8D4E3"
                          },
                          "line": {
                            "color": "white"
                          }
                        },
                        "type": "table"
                      }
                    ]
                  },
                  "layout": {
                    "annotationdefaults": {
                      "arrowcolor": "#2a3f5f",
                      "arrowhead": 0,
                      "arrowwidth": 1
                    },
                    "autotypenumbers": "strict",
                    "coloraxis": {
                      "colorbar": {
                        "outlinewidth": 0,
                        "ticks": ""
                      }
                    },
                    "colorscale": {
                      "diverging": [
                        [
                          0,
                          "#8e0152"
                        ],
                        [
                          0.1,
                          "#c51b7d"
                        ],
                        [
                          0.2,
                          "#de77ae"
                        ],
                        [
                          0.3,
                          "#f1b6da"
                        ],
                        [
                          0.4,
                          "#fde0ef"
                        ],
                        [
                          0.5,
                          "#f7f7f7"
                        ],
                        [
                          0.6,
                          "#e6f5d0"
                        ],
                        [
                          0.7,
                          "#b8e186"
                        ],
                        [
                          0.8,
                          "#7fbc41"
                        ],
                        [
                          0.9,
                          "#4d9221"
                        ],
                        [
                          1,
                          "#276419"
                        ]
                      ],
                      "sequential": [
                        [
                          0,
                          "#0d0887"
                        ],
                        [
                          0.1111111111111111,
                          "#46039f"
                        ],
                        [
                          0.2222222222222222,
                          "#7201a8"
                        ],
                        [
                          0.3333333333333333,
                          "#9c179e"
                        ],
                        [
                          0.4444444444444444,
                          "#bd3786"
                        ],
                        [
                          0.5555555555555556,
                          "#d8576b"
                        ],
                        [
                          0.6666666666666666,
                          "#ed7953"
                        ],
                        [
                          0.7777777777777778,
                          "#fb9f3a"
                        ],
                        [
                          0.8888888888888888,
                          "#fdca26"
                        ],
                        [
                          1,
                          "#f0f921"
                        ]
                      ],
                      "sequentialminus": [
                        [
                          0,
                          "#0d0887"
                        ],
                        [
                          0.1111111111111111,
                          "#46039f"
                        ],
                        [
                          0.2222222222222222,
                          "#7201a8"
                        ],
                        [
                          0.3333333333333333,
                          "#9c179e"
                        ],
                        [
                          0.4444444444444444,
                          "#bd3786"
                        ],
                        [
                          0.5555555555555556,
                          "#d8576b"
                        ],
                        [
                          0.6666666666666666,
                          "#ed7953"
                        ],
                        [
                          0.7777777777777778,
                          "#fb9f3a"
                        ],
                        [
                          0.8888888888888888,
                          "#fdca26"
                        ],
                        [
                          1,
                          "#f0f921"
                        ]
                      ]
                    },
                    "colorway": [
                      "#636efa",
                      "#EF553B",
                      "#00cc96",
                      "#ab63fa",
                      "#FFA15A",
                      "#19d3f3",
                      "#FF6692",
                      "#B6E880",
                      "#FF97FF",
                      "#FECB52"
                    ],
                    "font": {
                      "color": "#2a3f5f"
                    },
                    "geo": {
                      "bgcolor": "white",
                      "lakecolor": "white",
                      "landcolor": "#E5ECF6",
                      "showlakes": true,
                      "showland": true,
                      "subunitcolor": "white"
                    },
                    "hoverlabel": {
                      "align": "left"
                    },
                    "hovermode": "closest",
                    "mapbox": {
                      "style": "light"
                    },
                    "paper_bgcolor": "white",
                    "plot_bgcolor": "#E5ECF6",
                    "polar": {
                      "angularaxis": {
                        "gridcolor": "white",
                        "linecolor": "white",
                        "ticks": ""
                      },
                      "bgcolor": "#E5ECF6",
                      "radialaxis": {
                        "gridcolor": "white",
                        "linecolor": "white",
                        "ticks": ""
                      }
                    },
                    "scene": {
                      "xaxis": {
                        "backgroundcolor": "#E5ECF6",
                        "gridcolor": "white",
                        "gridwidth": 2,
                        "linecolor": "white",
                        "showbackground": true,
                        "ticks": "",
                        "zerolinecolor": "white"
                      },
                      "yaxis": {
                        "backgroundcolor": "#E5ECF6",
                        "gridcolor": "white",
                        "gridwidth": 2,
                        "linecolor": "white",
                        "showbackground": true,
                        "ticks": "",
                        "zerolinecolor": "white"
                      },
                      "zaxis": {
                        "backgroundcolor": "#E5ECF6",
                        "gridcolor": "white",
                        "gridwidth": 2,
                        "linecolor": "white",
                        "showbackground": true,
                        "ticks": "",
                        "zerolinecolor": "white"
                      }
                    },
                    "shapedefaults": {
                      "line": {
                        "color": "#2a3f5f"
                      }
                    },
                    "ternary": {
                      "aaxis": {
                        "gridcolor": "white",
                        "linecolor": "white",
                        "ticks": ""
                      },
                      "baxis": {
                        "gridcolor": "white",
                        "linecolor": "white",
                        "ticks": ""
                      },
                      "bgcolor": "#E5ECF6",
                      "caxis": {
                        "gridcolor": "white",
                        "linecolor": "white",
                        "ticks": ""
                      }
                    },
                    "title": {
                      "x": 0.05
                    },
                    "xaxis": {
                      "automargin": true,
                      "gridcolor": "white",
                      "linecolor": "white",
                      "ticks": "",
                      "title": {
                        "standoff": 15
                      },
                      "zerolinecolor": "white",
                      "zerolinewidth": 2
                    },
                    "yaxis": {
                      "automargin": true,
                      "gridcolor": "white",
                      "linecolor": "white",
                      "ticks": "",
                      "title": {
                        "standoff": 15
                      },
                      "zerolinecolor": "white",
                      "zerolinewidth": 2
                    }
                  }
                },
                "xaxis": {
                  "anchor": "y",
                  "domain": [
                    0,
                    1
                  ],
                  "title": {
                    "text": "index"
                  }
                },
                "yaxis": {
                  "anchor": "x",
                  "domain": [
                    0,
                    1
                  ],
                  "title": {
                    "text": "value"
                  }
                }
              }
            }
          },
          "metadata": {},
          "output_type": "display_data"
        }
      ],
      "source": [
        "fig = px.line(trainLoss)\n",
        "fig.add_trace(go.Scatter(y=valLoss, mode=\"lines\"))\n",
        "fig.show()             "
      ]
    },
    {
      "cell_type": "code",
      "execution_count": 31,
      "id": "ecb04897",
      "metadata": {},
      "outputs": [
        {
          "data": {
            "application/vnd.plotly.v1+json": {
              "config": {
                "plotlyServerURL": "https://plot.ly"
              },
              "data": [
                {
                  "hovertemplate": "variable=0<br>index=%{x}<br>value=%{y}<extra></extra>",
                  "legendgroup": "0",
                  "line": {
                    "color": "#636efa",
                    "dash": "solid"
                  },
                  "marker": {
                    "symbol": "circle"
                  },
                  "mode": "lines",
                  "name": "0",
                  "orientation": "v",
                  "showlegend": true,
                  "type": "scatter",
                  "x": [
                    0,
                    1,
                    2,
                    3,
                    4,
                    5,
                    6,
                    7,
                    8,
                    9,
                    10,
                    11,
                    12,
                    13,
                    14,
                    15,
                    16,
                    17,
                    18,
                    19,
                    20,
                    21,
                    22,
                    23,
                    24,
                    25,
                    26,
                    27,
                    28,
                    29,
                    30,
                    31,
                    32,
                    33,
                    34,
                    35,
                    36,
                    37,
                    38,
                    39,
                    40,
                    41,
                    42,
                    43,
                    44,
                    45,
                    46,
                    47,
                    48,
                    49,
                    50,
                    51,
                    52,
                    53,
                    54,
                    55,
                    56,
                    57,
                    58,
                    59,
                    60,
                    61,
                    62,
                    63,
                    64,
                    65,
                    66,
                    67,
                    68,
                    69,
                    70,
                    71,
                    72,
                    73,
                    74,
                    75,
                    76,
                    77,
                    78,
                    79,
                    80,
                    81,
                    82,
                    83,
                    84,
                    85,
                    86,
                    87,
                    88,
                    89,
                    90,
                    91,
                    92,
                    93,
                    94,
                    95,
                    96,
                    97,
                    98,
                    99,
                    100,
                    101,
                    102,
                    103,
                    104,
                    105,
                    106,
                    107,
                    108,
                    109,
                    110,
                    111,
                    112,
                    113,
                    114,
                    115,
                    116,
                    117,
                    118,
                    119,
                    120,
                    121,
                    122,
                    123,
                    124,
                    125,
                    126,
                    127,
                    128,
                    129,
                    130,
                    131,
                    132,
                    133,
                    134,
                    135,
                    136,
                    137,
                    138,
                    139,
                    140,
                    141,
                    142,
                    143,
                    144,
                    145,
                    146,
                    147,
                    148,
                    149,
                    150,
                    151,
                    152,
                    153,
                    154,
                    155,
                    156,
                    157,
                    158,
                    159,
                    160,
                    161,
                    162,
                    163,
                    164,
                    165,
                    166,
                    167,
                    168,
                    169,
                    170,
                    171,
                    172,
                    173,
                    174,
                    175,
                    176,
                    177,
                    178,
                    179,
                    180,
                    181,
                    182,
                    183,
                    184,
                    185,
                    186,
                    187,
                    188,
                    189,
                    190,
                    191,
                    192,
                    193,
                    194,
                    195,
                    196,
                    197,
                    198,
                    199,
                    200,
                    201,
                    202,
                    203,
                    204,
                    205,
                    206,
                    207,
                    208,
                    209,
                    210,
                    211,
                    212,
                    213,
                    214,
                    215,
                    216,
                    217,
                    218,
                    219,
                    220,
                    221,
                    222,
                    223,
                    224,
                    225,
                    226,
                    227,
                    228,
                    229,
                    230,
                    231,
                    232,
                    233,
                    234,
                    235,
                    236,
                    237,
                    238,
                    239,
                    240,
                    241,
                    242,
                    243,
                    244,
                    245,
                    246,
                    247,
                    248,
                    249,
                    250,
                    251,
                    252,
                    253,
                    254,
                    255,
                    256,
                    257,
                    258,
                    259,
                    260,
                    261,
                    262,
                    263,
                    264,
                    265,
                    266,
                    267,
                    268,
                    269,
                    270,
                    271,
                    272,
                    273,
                    274,
                    275,
                    276,
                    277,
                    278,
                    279,
                    280,
                    281,
                    282,
                    283,
                    284,
                    285,
                    286,
                    287,
                    288,
                    289,
                    290,
                    291,
                    292,
                    293,
                    294,
                    295,
                    296,
                    297,
                    298
                  ],
                  "xaxis": "x",
                  "y": [
                    2.4153244495391846,
                    2.3174352943897247,
                    1.9126266241073608,
                    1.2172846496105194,
                    0.7655912637710571,
                    0.48980098217725754,
                    0.39167098701000214,
                    0.34705962985754013,
                    0.33083517104387283,
                    0.31661029905080795,
                    0.36618229001760483,
                    0.3141091763973236,
                    0.29853280633687973,
                    0.29027264565229416,
                    0.28280995786190033,
                    0.2771666459739208,
                    0.2759758196771145,
                    0.2597751282155514,
                    0.2513520047068596,
                    0.3017647750675678,
                    0.23972738534212112,
                    0.2360714226961136,
                    0.23416489362716675,
                    0.23399362340569496,
                    0.24701209738850594,
                    0.22656502202153206,
                    0.2259030006825924,
                    0.22965140640735626,
                    0.2256588637828827,
                    0.22212570533156395,
                    0.22095203399658203,
                    0.2210458181798458,
                    0.23157907649874687,
                    0.22518187761306763,
                    0.21804524585604668,
                    0.2190074324607849,
                    0.21691050380468369,
                    0.2157953567802906,
                    0.22116020321846008,
                    0.2182692289352417,
                    0.21369123831391335,
                    0.22012265399098396,
                    0.21973447874188423,
                    0.2125476486980915,
                    0.2110401913523674,
                    0.21176235750317574,
                    0.20995883271098137,
                    0.21080104634165764,
                    0.20822077989578247,
                    0.20797884091734886,
                    0.2118496224284172,
                    0.20748745650053024,
                    0.20570239052176476,
                    0.20532017573714256,
                    0.20482396706938744,
                    0.204633679240942,
                    0.20153552293777466,
                    0.19846808165311813,
                    0.19780350849032402,
                    0.19500944763422012,
                    0.1944543793797493,
                    0.19111953675746918,
                    0.19040852785110474,
                    0.1881597936153412,
                    0.18661035224795341,
                    0.18438894301652908,
                    0.1795237883925438,
                    0.1767357438802719,
                    0.171942338347435,
                    0.1696130447089672,
                    0.16715649515390396,
                    0.16347264871001244,
                    0.16339797526597977,
                    0.15937386080622673,
                    0.1545870676636696,
                    0.1533418707549572,
                    0.15956277027726173,
                    0.1443690061569214,
                    0.14295189641416073,
                    0.14629666693508625,
                    0.13862702064216137,
                    0.13554182834923267,
                    0.1325722597539425,
                    0.13170862570405006,
                    0.13944449834525585,
                    0.13155657798051834,
                    0.14954608865082264,
                    0.12672423385083675,
                    0.12590735219419003,
                    0.12604691088199615,
                    0.12460111640393734,
                    0.12948406860232353,
                    0.12342733331024647,
                    0.12459687888622284,
                    0.13122709468007088,
                    0.12219100259244442,
                    0.12261058203876019,
                    0.12487838044762611,
                    0.12458364479243755,
                    0.11825527995824814,
                    0.11683627031743526,
                    0.12130279093980789,
                    0.11657632887363434,
                    0.11589843779802322,
                    0.1168915443122387,
                    0.11458031833171844,
                    0.12465854175388813,
                    0.1226072758436203,
                    0.1312912441790104,
                    0.11596618220210075,
                    0.11316345073282719,
                    0.11291862465441227,
                    0.11441883631050587,
                    0.11833138763904572,
                    0.11353555135428905,
                    0.11325310915708542,
                    0.11641512624919415,
                    0.11382743716239929,
                    0.11262822896242142,
                    0.11122697964310646,
                    0.1228578481823206,
                    0.11112893000245094,
                    0.11429021134972572,
                    0.11242121458053589,
                    0.1916448399424553,
                    0.11476791463792324,
                    0.11051304638385773,
                    0.11079858057200909,
                    0.11179743334650993,
                    0.10953932069242,
                    0.11092337779700756,
                    0.11318751610815525,
                    0.11183909140527248,
                    0.11073238216340542,
                    0.10902092792093754,
                    0.11299373582005501,
                    0.11097297072410583,
                    0.10910958983004093,
                    0.12045957148075104,
                    0.10950285941362381,
                    0.10793209075927734,
                    0.12025082483887672,
                    0.1078589167445898,
                    0.11189266107976437,
                    0.11051206849515438,
                    0.10753495618700981,
                    0.1068335771560669,
                    0.107851792126894,
                    0.10700010694563389,
                    0.10700730606913567,
                    0.10698510333895683,
                    0.10672876611351967,
                    0.10623791255056858,
                    0.1066985446959734,
                    0.10643735527992249,
                    0.10793166235089302,
                    0.10984055697917938,
                    0.10542526841163635,
                    0.1091315783560276,
                    0.10659524239599705,
                    0.10589529760181904,
                    0.11325650848448277,
                    0.10699932463467121,
                    0.10565654374659061,
                    0.10507404804229736,
                    0.10488396510481834,
                    0.10631085373461246,
                    0.12581334449350834,
                    0.10494662448763847,
                    0.10511848144233227,
                    0.10792826302349567,
                    0.1056100707501173,
                    0.10712211020290852,
                    0.10416373610496521,
                    0.1094085443764925,
                    0.10324559174478054,
                    0.10562343522906303,
                    0.10739471763372421,
                    0.10370824486017227,
                    0.10353788733482361,
                    0.10572737082839012,
                    0.10387716814875603,
                    0.10438241995871067,
                    0.1091339997947216,
                    0.10859031230211258,
                    0.10310476645827293,
                    0.10283229872584343,
                    0.10644585825502872,
                    0.10238179937005043,
                    0.10483462363481522,
                    0.10188399814069271,
                    0.10453375987708569,
                    0.10356775484979153,
                    0.10129683651030064,
                    0.10197583585977554,
                    0.10151807218790054,
                    0.10073667392134666,
                    0.10200054384768009,
                    0.10114279575645924,
                    0.10242312215268612,
                    0.11662350967526436,
                    0.10797730647027493,
                    0.10925550013780594,
                    0.10119941085577011,
                    0.10022062808275223,
                    0.10711203329265118,
                    0.10636826045811176,
                    0.09995045140385628,
                    0.10124102234840393,
                    0.10076887905597687,
                    0.10381540283560753,
                    0.1045545656234026,
                    0.10519212111830711,
                    0.10354859754443169,
                    0.10418180376291275,
                    0.10271824896335602,
                    0.10162074118852615,
                    0.09995507076382637,
                    0.11097067967057228,
                    0.09993534535169601,
                    0.10151268914341927,
                    0.10020843707025051,
                    0.09961456060409546,
                    0.09907047264277935,
                    0.10568343102931976,
                    0.09945103898644447,
                    0.10042062029242516,
                    0.10494004935026169,
                    0.09868304245173931,
                    0.10013245046138763,
                    0.09986867196857929,
                    0.0990445539355278,
                    0.09936715476214886,
                    0.0985055509954691,
                    0.09830151684582233,
                    0.09764594957232475,
                    0.1135482732206583,
                    0.10250997729599476,
                    0.09827268309891224,
                    0.09794662706553936,
                    0.0995583925396204,
                    0.09932143613696098,
                    0.09848389774560928,
                    0.10242704302072525,
                    0.10358217172324657,
                    0.09714788757264614,
                    0.10036914609372616,
                    0.09960207156836987,
                    0.09809600189328194,
                    0.09875533170998096,
                    0.09746470488607883,
                    0.09709333069622517,
                    0.09898070245981216,
                    0.1039709523320198,
                    0.10420538485050201,
                    0.09671978652477264,
                    0.09655233472585678,
                    0.09660678915679455,
                    0.098717100918293,
                    0.0961287971585989,
                    0.09741494432091713,
                    0.09652628563344479,
                    0.09777839295566082,
                    0.09842956438660622,
                    0.09832854382693768,
                    0.09740878827869892,
                    0.09667222388088703,
                    0.09619594551622868,
                    0.09560937993228436,
                    0.10001958347856998,
                    0.09544891305267811,
                    0.09979476220905781,
                    0.09643988683819771,
                    0.09837301447987556,
                    0.09931306354701519,
                    0.09721776470541954,
                    0.0953083485364914,
                    0.09704033844172955,
                    0.09510410018265247,
                    0.09585539810359478,
                    0.09594801813364029,
                    0.09428109042346478,
                    0.09494605474174023,
                    0.09438348934054375,
                    0.09589367546141148,
                    0.10285320691764355,
                    0.09518942795693874,
                    0.09760107845067978,
                    0.0945155881345272,
                    0.09919479489326477,
                    0.09463256224989891,
                    0.09726095013320446,
                    0.09537496604025364,
                    0.10555673390626907,
                    0.0947160366922617,
                    0.09409399703145027,
                    0.09342126548290253,
                    0.10193373076617718,
                    0.09527496993541718
                  ],
                  "yaxis": "y"
                },
                {
                  "mode": "lines",
                  "type": "scatter",
                  "y": [
                    2.5010883808135986,
                    2.3850275576114655,
                    2.047758847475052,
                    1.2203719466924667,
                    0.8870316296815872,
                    0.5897544324398041,
                    0.5144340172410011,
                    0.4908474534749985,
                    0.47787953168153763,
                    0.47313131392002106,
                    0.49175988882780075,
                    0.46124517917633057,
                    0.45327432453632355,
                    0.4525943472981453,
                    0.43775685131549835,
                    0.43129872530698776,
                    0.4424053430557251,
                    0.4254307597875595,
                    0.42480986565351486,
                    0.44470105320215225,
                    0.41056666523218155,
                    0.40452245622873306,
                    0.3989032655954361,
                    0.39726871997117996,
                    0.4014469310641289,
                    0.391433984041214,
                    0.37992849946022034,
                    0.3978278860449791,
                    0.3886501118540764,
                    0.3851013258099556,
                    0.38941092789173126,
                    0.36574602127075195,
                    0.3868371248245239,
                    0.37480682134628296,
                    0.37279680371284485,
                    0.36978036165237427,
                    0.38264211267232895,
                    0.3825267031788826,
                    0.37554193288087845,
                    0.3640730679035187,
                    0.37026382982730865,
                    0.3745998814702034,
                    0.37431567907333374,
                    0.35426050424575806,
                    0.3794727846980095,
                    0.360260047018528,
                    0.35572681576013565,
                    0.373762771487236,
                    0.36979470402002335,
                    0.3721955418586731,
                    0.3559662774205208,
                    0.3846661373972893,
                    0.3616603836417198,
                    0.36636438220739365,
                    0.3812215104699135,
                    0.3539927303791046,
                    0.3617861121892929,
                    0.3617829456925392,
                    0.35814400762319565,
                    0.3560500219464302,
                    0.33335447311401367,
                    0.3360417112708092,
                    0.3221522271633148,
                    0.33293556421995163,
                    0.3310808539390564,
                    0.31775888055562973,
                    0.3168443962931633,
                    0.3090229071676731,
                    0.3032125346362591,
                    0.2957555092871189,
                    0.30939728021621704,
                    0.26984691619873047,
                    0.2842610888183117,
                    0.2822127006947994,
                    0.2676140330731869,
                    0.2619052119553089,
                    0.2554420568048954,
                    0.2403818815946579,
                    0.2382548525929451,
                    0.23199902847409248,
                    0.21960048004984856,
                    0.2225240133702755,
                    0.21102884784340858,
                    0.213775634765625,
                    0.2256735973060131,
                    0.19746121019124985,
                    0.22222481667995453,
                    0.19592860713601112,
                    0.19433002918958664,
                    0.180172398686409,
                    0.19064223393797874,
                    0.19304802641272545,
                    0.17444631084799767,
                    0.17017584294080734,
                    0.17940033227205276,
                    0.178166963160038,
                    0.17136195674538612,
                    0.1894528791308403,
                    0.16371475532650948,
                    0.16559358686208725,
                    0.16707828268408775,
                    0.1554359868168831,
                    0.16626747325062752,
                    0.15900805592536926,
                    0.15998458489775658,
                    0.16089167445898056,
                    0.18397672101855278,
                    0.17266614362597466,
                    0.18036527559161186,
                    0.15279325656592846,
                    0.16198726370930672,
                    0.1556093990802765,
                    0.16335096210241318,
                    0.1746486872434616,
                    0.15576204285025597,
                    0.14989808201789856,
                    0.154864015057683,
                    0.15065194107592106,
                    0.15314416959881783,
                    0.15732677653431892,
                    0.15767255797982216,
                    0.1527118869125843,
                    0.15060968697071075,
                    0.15852650627493858,
                    0.19152527675032616,
                    0.14863569289445877,
                    0.14991971664130688,
                    0.1536419615149498,
                    0.15405011363327503,
                    0.14922239817678928,
                    0.1509558130055666,
                    0.1492271013557911,
                    0.14802084304392338,
                    0.15870347619056702,
                    0.15056857839226723,
                    0.1508178748190403,
                    0.16083268448710442,
                    0.15608315356075764,
                    0.17163917422294617,
                    0.14614664018154144,
                    0.1541889552026987,
                    0.17246555536985397,
                    0.1476581860333681,
                    0.15123223885893822,
                    0.15670914202928543,
                    0.15258613973855972,
                    0.15447097830474377,
                    0.1555786468088627,
                    0.15414954163134098,
                    0.1515603344887495,
                    0.15510371886193752,
                    0.15190941281616688,
                    0.1513167005032301,
                    0.15728620812296867,
                    0.1585087925195694,
                    0.15794988721609116,
                    0.1530064456164837,
                    0.15088465996086597,
                    0.14735289849340916,
                    0.15999726951122284,
                    0.15475790947675705,
                    0.1587970182299614,
                    0.15043694525957108,
                    0.15758469700813293,
                    0.1507724355906248,
                    0.14744766056537628,
                    0.15239263884723186,
                    0.15840627253055573,
                    0.1538749597966671,
                    0.15366939827799797,
                    0.1557101495563984,
                    0.15661707147955894,
                    0.15404894016683102,
                    0.1546679437160492,
                    0.16247006133198738,
                    0.15719739720225334,
                    0.15522821806371212,
                    0.15468765050172806,
                    0.14716275967657566,
                    0.1490763109177351,
                    0.1590176858007908,
                    0.15182781964540482,
                    0.1568717136979103,
                    0.15182704664766788,
                    0.1617780700325966,
                    0.15913108363747597,
                    0.15990929678082466,
                    0.15391326509416103,
                    0.15214384533464909,
                    0.15262454748153687,
                    0.15059998258948326,
                    0.14869123697280884,
                    0.15236027538776398,
                    0.15139260329306126,
                    0.14762762933969498,
                    0.148157374933362,
                    0.15336495824158192,
                    0.15046996995806694,
                    0.15260755084455013,
                    0.15606634318828583,
                    0.1669597625732422,
                    0.15747269615530968,
                    0.15842314809560776,
                    0.1539648324251175,
                    0.15419443137943745,
                    0.16406426206231117,
                    0.1620352454483509,
                    0.15007037669420242,
                    0.1587611809372902,
                    0.15287337824702263,
                    0.1563420332968235,
                    0.16050266101956367,
                    0.1514013111591339,
                    0.15902576968073845,
                    0.16365563496947289,
                    0.14919930137693882,
                    0.15671977773308754,
                    0.15602662228047848,
                    0.16424061730504036,
                    0.15433892607688904,
                    0.15729932114481926,
                    0.15705876052379608,
                    0.15284945257008076,
                    0.1495614368468523,
                    0.16370784491300583,
                    0.14972631819546223,
                    0.15185772441327572,
                    0.1552005298435688,
                    0.1510042417794466,
                    0.15355351381003857,
                    0.15670668333768845,
                    0.1572771742939949,
                    0.1518487837165594,
                    0.1521015726029873,
                    0.1553479116410017,
                    0.15085509978234768,
                    0.15630431473255157,
                    0.15386492013931274,
                    0.15221218578517437,
                    0.14915303327143192,
                    0.15543509274721146,
                    0.15575850382447243,
                    0.15887906774878502,
                    0.1568860374391079,
                    0.16427602618932724,
                    0.14970680698752403,
                    0.15427515842020512,
                    0.15768395736813545,
                    0.1530636101961136,
                    0.15670496970415115,
                    0.15456744469702244,
                    0.1477990299463272,
                    0.15841111540794373,
                    0.16032690182328224,
                    0.16099447384476662,
                    0.15407761558890343,
                    0.152550982311368,
                    0.15513528138399124,
                    0.153682054951787,
                    0.14979859814047813,
                    0.15511316247284412,
                    0.15434070490300655,
                    0.1501233782619238,
                    0.15140045434236526,
                    0.15289973467588425,
                    0.1543767750263214,
                    0.15387658961117268,
                    0.14926656149327755,
                    0.15518683940172195,
                    0.14925198629498482,
                    0.15159049071371555,
                    0.15678495168685913,
                    0.1579493284225464,
                    0.15648024156689644,
                    0.14877940528094769,
                    0.15009893104434013,
                    0.1531420648097992,
                    0.15580461360514164,
                    0.15152906067669392,
                    0.14897936023771763,
                    0.1521543227136135,
                    0.14973079785704613,
                    0.15204541385173798,
                    0.1509227231144905,
                    0.14824404381215572,
                    0.1617695763707161,
                    0.14861621893942356,
                    0.1542752142995596,
                    0.14931229874491692,
                    0.15203172340989113,
                    0.1479844842106104,
                    0.1552044227719307,
                    0.15463005751371384,
                    0.16282770782709122,
                    0.150876697152853,
                    0.14878813177347183,
                    0.15013437718153,
                    0.15448596328496933,
                    0.15337876044213772
                  ]
                }
              ],
              "layout": {
                "legend": {
                  "title": {
                    "text": "variable"
                  },
                  "tracegroupgap": 0
                },
                "margin": {
                  "t": 60
                },
                "template": {
                  "data": {
                    "bar": [
                      {
                        "error_x": {
                          "color": "#2a3f5f"
                        },
                        "error_y": {
                          "color": "#2a3f5f"
                        },
                        "marker": {
                          "line": {
                            "color": "#E5ECF6",
                            "width": 0.5
                          },
                          "pattern": {
                            "fillmode": "overlay",
                            "size": 10,
                            "solidity": 0.2
                          }
                        },
                        "type": "bar"
                      }
                    ],
                    "barpolar": [
                      {
                        "marker": {
                          "line": {
                            "color": "#E5ECF6",
                            "width": 0.5
                          },
                          "pattern": {
                            "fillmode": "overlay",
                            "size": 10,
                            "solidity": 0.2
                          }
                        },
                        "type": "barpolar"
                      }
                    ],
                    "carpet": [
                      {
                        "aaxis": {
                          "endlinecolor": "#2a3f5f",
                          "gridcolor": "white",
                          "linecolor": "white",
                          "minorgridcolor": "white",
                          "startlinecolor": "#2a3f5f"
                        },
                        "baxis": {
                          "endlinecolor": "#2a3f5f",
                          "gridcolor": "white",
                          "linecolor": "white",
                          "minorgridcolor": "white",
                          "startlinecolor": "#2a3f5f"
                        },
                        "type": "carpet"
                      }
                    ],
                    "choropleth": [
                      {
                        "colorbar": {
                          "outlinewidth": 0,
                          "ticks": ""
                        },
                        "type": "choropleth"
                      }
                    ],
                    "contour": [
                      {
                        "colorbar": {
                          "outlinewidth": 0,
                          "ticks": ""
                        },
                        "colorscale": [
                          [
                            0,
                            "#0d0887"
                          ],
                          [
                            0.1111111111111111,
                            "#46039f"
                          ],
                          [
                            0.2222222222222222,
                            "#7201a8"
                          ],
                          [
                            0.3333333333333333,
                            "#9c179e"
                          ],
                          [
                            0.4444444444444444,
                            "#bd3786"
                          ],
                          [
                            0.5555555555555556,
                            "#d8576b"
                          ],
                          [
                            0.6666666666666666,
                            "#ed7953"
                          ],
                          [
                            0.7777777777777778,
                            "#fb9f3a"
                          ],
                          [
                            0.8888888888888888,
                            "#fdca26"
                          ],
                          [
                            1,
                            "#f0f921"
                          ]
                        ],
                        "type": "contour"
                      }
                    ],
                    "contourcarpet": [
                      {
                        "colorbar": {
                          "outlinewidth": 0,
                          "ticks": ""
                        },
                        "type": "contourcarpet"
                      }
                    ],
                    "heatmap": [
                      {
                        "colorbar": {
                          "outlinewidth": 0,
                          "ticks": ""
                        },
                        "colorscale": [
                          [
                            0,
                            "#0d0887"
                          ],
                          [
                            0.1111111111111111,
                            "#46039f"
                          ],
                          [
                            0.2222222222222222,
                            "#7201a8"
                          ],
                          [
                            0.3333333333333333,
                            "#9c179e"
                          ],
                          [
                            0.4444444444444444,
                            "#bd3786"
                          ],
                          [
                            0.5555555555555556,
                            "#d8576b"
                          ],
                          [
                            0.6666666666666666,
                            "#ed7953"
                          ],
                          [
                            0.7777777777777778,
                            "#fb9f3a"
                          ],
                          [
                            0.8888888888888888,
                            "#fdca26"
                          ],
                          [
                            1,
                            "#f0f921"
                          ]
                        ],
                        "type": "heatmap"
                      }
                    ],
                    "heatmapgl": [
                      {
                        "colorbar": {
                          "outlinewidth": 0,
                          "ticks": ""
                        },
                        "colorscale": [
                          [
                            0,
                            "#0d0887"
                          ],
                          [
                            0.1111111111111111,
                            "#46039f"
                          ],
                          [
                            0.2222222222222222,
                            "#7201a8"
                          ],
                          [
                            0.3333333333333333,
                            "#9c179e"
                          ],
                          [
                            0.4444444444444444,
                            "#bd3786"
                          ],
                          [
                            0.5555555555555556,
                            "#d8576b"
                          ],
                          [
                            0.6666666666666666,
                            "#ed7953"
                          ],
                          [
                            0.7777777777777778,
                            "#fb9f3a"
                          ],
                          [
                            0.8888888888888888,
                            "#fdca26"
                          ],
                          [
                            1,
                            "#f0f921"
                          ]
                        ],
                        "type": "heatmapgl"
                      }
                    ],
                    "histogram": [
                      {
                        "marker": {
                          "pattern": {
                            "fillmode": "overlay",
                            "size": 10,
                            "solidity": 0.2
                          }
                        },
                        "type": "histogram"
                      }
                    ],
                    "histogram2d": [
                      {
                        "colorbar": {
                          "outlinewidth": 0,
                          "ticks": ""
                        },
                        "colorscale": [
                          [
                            0,
                            "#0d0887"
                          ],
                          [
                            0.1111111111111111,
                            "#46039f"
                          ],
                          [
                            0.2222222222222222,
                            "#7201a8"
                          ],
                          [
                            0.3333333333333333,
                            "#9c179e"
                          ],
                          [
                            0.4444444444444444,
                            "#bd3786"
                          ],
                          [
                            0.5555555555555556,
                            "#d8576b"
                          ],
                          [
                            0.6666666666666666,
                            "#ed7953"
                          ],
                          [
                            0.7777777777777778,
                            "#fb9f3a"
                          ],
                          [
                            0.8888888888888888,
                            "#fdca26"
                          ],
                          [
                            1,
                            "#f0f921"
                          ]
                        ],
                        "type": "histogram2d"
                      }
                    ],
                    "histogram2dcontour": [
                      {
                        "colorbar": {
                          "outlinewidth": 0,
                          "ticks": ""
                        },
                        "colorscale": [
                          [
                            0,
                            "#0d0887"
                          ],
                          [
                            0.1111111111111111,
                            "#46039f"
                          ],
                          [
                            0.2222222222222222,
                            "#7201a8"
                          ],
                          [
                            0.3333333333333333,
                            "#9c179e"
                          ],
                          [
                            0.4444444444444444,
                            "#bd3786"
                          ],
                          [
                            0.5555555555555556,
                            "#d8576b"
                          ],
                          [
                            0.6666666666666666,
                            "#ed7953"
                          ],
                          [
                            0.7777777777777778,
                            "#fb9f3a"
                          ],
                          [
                            0.8888888888888888,
                            "#fdca26"
                          ],
                          [
                            1,
                            "#f0f921"
                          ]
                        ],
                        "type": "histogram2dcontour"
                      }
                    ],
                    "mesh3d": [
                      {
                        "colorbar": {
                          "outlinewidth": 0,
                          "ticks": ""
                        },
                        "type": "mesh3d"
                      }
                    ],
                    "parcoords": [
                      {
                        "line": {
                          "colorbar": {
                            "outlinewidth": 0,
                            "ticks": ""
                          }
                        },
                        "type": "parcoords"
                      }
                    ],
                    "pie": [
                      {
                        "automargin": true,
                        "type": "pie"
                      }
                    ],
                    "scatter": [
                      {
                        "fillpattern": {
                          "fillmode": "overlay",
                          "size": 10,
                          "solidity": 0.2
                        },
                        "type": "scatter"
                      }
                    ],
                    "scatter3d": [
                      {
                        "line": {
                          "colorbar": {
                            "outlinewidth": 0,
                            "ticks": ""
                          }
                        },
                        "marker": {
                          "colorbar": {
                            "outlinewidth": 0,
                            "ticks": ""
                          }
                        },
                        "type": "scatter3d"
                      }
                    ],
                    "scattercarpet": [
                      {
                        "marker": {
                          "colorbar": {
                            "outlinewidth": 0,
                            "ticks": ""
                          }
                        },
                        "type": "scattercarpet"
                      }
                    ],
                    "scattergeo": [
                      {
                        "marker": {
                          "colorbar": {
                            "outlinewidth": 0,
                            "ticks": ""
                          }
                        },
                        "type": "scattergeo"
                      }
                    ],
                    "scattergl": [
                      {
                        "marker": {
                          "colorbar": {
                            "outlinewidth": 0,
                            "ticks": ""
                          }
                        },
                        "type": "scattergl"
                      }
                    ],
                    "scattermapbox": [
                      {
                        "marker": {
                          "colorbar": {
                            "outlinewidth": 0,
                            "ticks": ""
                          }
                        },
                        "type": "scattermapbox"
                      }
                    ],
                    "scatterpolar": [
                      {
                        "marker": {
                          "colorbar": {
                            "outlinewidth": 0,
                            "ticks": ""
                          }
                        },
                        "type": "scatterpolar"
                      }
                    ],
                    "scatterpolargl": [
                      {
                        "marker": {
                          "colorbar": {
                            "outlinewidth": 0,
                            "ticks": ""
                          }
                        },
                        "type": "scatterpolargl"
                      }
                    ],
                    "scatterternary": [
                      {
                        "marker": {
                          "colorbar": {
                            "outlinewidth": 0,
                            "ticks": ""
                          }
                        },
                        "type": "scatterternary"
                      }
                    ],
                    "surface": [
                      {
                        "colorbar": {
                          "outlinewidth": 0,
                          "ticks": ""
                        },
                        "colorscale": [
                          [
                            0,
                            "#0d0887"
                          ],
                          [
                            0.1111111111111111,
                            "#46039f"
                          ],
                          [
                            0.2222222222222222,
                            "#7201a8"
                          ],
                          [
                            0.3333333333333333,
                            "#9c179e"
                          ],
                          [
                            0.4444444444444444,
                            "#bd3786"
                          ],
                          [
                            0.5555555555555556,
                            "#d8576b"
                          ],
                          [
                            0.6666666666666666,
                            "#ed7953"
                          ],
                          [
                            0.7777777777777778,
                            "#fb9f3a"
                          ],
                          [
                            0.8888888888888888,
                            "#fdca26"
                          ],
                          [
                            1,
                            "#f0f921"
                          ]
                        ],
                        "type": "surface"
                      }
                    ],
                    "table": [
                      {
                        "cells": {
                          "fill": {
                            "color": "#EBF0F8"
                          },
                          "line": {
                            "color": "white"
                          }
                        },
                        "header": {
                          "fill": {
                            "color": "#C8D4E3"
                          },
                          "line": {
                            "color": "white"
                          }
                        },
                        "type": "table"
                      }
                    ]
                  },
                  "layout": {
                    "annotationdefaults": {
                      "arrowcolor": "#2a3f5f",
                      "arrowhead": 0,
                      "arrowwidth": 1
                    },
                    "autotypenumbers": "strict",
                    "coloraxis": {
                      "colorbar": {
                        "outlinewidth": 0,
                        "ticks": ""
                      }
                    },
                    "colorscale": {
                      "diverging": [
                        [
                          0,
                          "#8e0152"
                        ],
                        [
                          0.1,
                          "#c51b7d"
                        ],
                        [
                          0.2,
                          "#de77ae"
                        ],
                        [
                          0.3,
                          "#f1b6da"
                        ],
                        [
                          0.4,
                          "#fde0ef"
                        ],
                        [
                          0.5,
                          "#f7f7f7"
                        ],
                        [
                          0.6,
                          "#e6f5d0"
                        ],
                        [
                          0.7,
                          "#b8e186"
                        ],
                        [
                          0.8,
                          "#7fbc41"
                        ],
                        [
                          0.9,
                          "#4d9221"
                        ],
                        [
                          1,
                          "#276419"
                        ]
                      ],
                      "sequential": [
                        [
                          0,
                          "#0d0887"
                        ],
                        [
                          0.1111111111111111,
                          "#46039f"
                        ],
                        [
                          0.2222222222222222,
                          "#7201a8"
                        ],
                        [
                          0.3333333333333333,
                          "#9c179e"
                        ],
                        [
                          0.4444444444444444,
                          "#bd3786"
                        ],
                        [
                          0.5555555555555556,
                          "#d8576b"
                        ],
                        [
                          0.6666666666666666,
                          "#ed7953"
                        ],
                        [
                          0.7777777777777778,
                          "#fb9f3a"
                        ],
                        [
                          0.8888888888888888,
                          "#fdca26"
                        ],
                        [
                          1,
                          "#f0f921"
                        ]
                      ],
                      "sequentialminus": [
                        [
                          0,
                          "#0d0887"
                        ],
                        [
                          0.1111111111111111,
                          "#46039f"
                        ],
                        [
                          0.2222222222222222,
                          "#7201a8"
                        ],
                        [
                          0.3333333333333333,
                          "#9c179e"
                        ],
                        [
                          0.4444444444444444,
                          "#bd3786"
                        ],
                        [
                          0.5555555555555556,
                          "#d8576b"
                        ],
                        [
                          0.6666666666666666,
                          "#ed7953"
                        ],
                        [
                          0.7777777777777778,
                          "#fb9f3a"
                        ],
                        [
                          0.8888888888888888,
                          "#fdca26"
                        ],
                        [
                          1,
                          "#f0f921"
                        ]
                      ]
                    },
                    "colorway": [
                      "#636efa",
                      "#EF553B",
                      "#00cc96",
                      "#ab63fa",
                      "#FFA15A",
                      "#19d3f3",
                      "#FF6692",
                      "#B6E880",
                      "#FF97FF",
                      "#FECB52"
                    ],
                    "font": {
                      "color": "#2a3f5f"
                    },
                    "geo": {
                      "bgcolor": "white",
                      "lakecolor": "white",
                      "landcolor": "#E5ECF6",
                      "showlakes": true,
                      "showland": true,
                      "subunitcolor": "white"
                    },
                    "hoverlabel": {
                      "align": "left"
                    },
                    "hovermode": "closest",
                    "mapbox": {
                      "style": "light"
                    },
                    "paper_bgcolor": "white",
                    "plot_bgcolor": "#E5ECF6",
                    "polar": {
                      "angularaxis": {
                        "gridcolor": "white",
                        "linecolor": "white",
                        "ticks": ""
                      },
                      "bgcolor": "#E5ECF6",
                      "radialaxis": {
                        "gridcolor": "white",
                        "linecolor": "white",
                        "ticks": ""
                      }
                    },
                    "scene": {
                      "xaxis": {
                        "backgroundcolor": "#E5ECF6",
                        "gridcolor": "white",
                        "gridwidth": 2,
                        "linecolor": "white",
                        "showbackground": true,
                        "ticks": "",
                        "zerolinecolor": "white"
                      },
                      "yaxis": {
                        "backgroundcolor": "#E5ECF6",
                        "gridcolor": "white",
                        "gridwidth": 2,
                        "linecolor": "white",
                        "showbackground": true,
                        "ticks": "",
                        "zerolinecolor": "white"
                      },
                      "zaxis": {
                        "backgroundcolor": "#E5ECF6",
                        "gridcolor": "white",
                        "gridwidth": 2,
                        "linecolor": "white",
                        "showbackground": true,
                        "ticks": "",
                        "zerolinecolor": "white"
                      }
                    },
                    "shapedefaults": {
                      "line": {
                        "color": "#2a3f5f"
                      }
                    },
                    "ternary": {
                      "aaxis": {
                        "gridcolor": "white",
                        "linecolor": "white",
                        "ticks": ""
                      },
                      "baxis": {
                        "gridcolor": "white",
                        "linecolor": "white",
                        "ticks": ""
                      },
                      "bgcolor": "#E5ECF6",
                      "caxis": {
                        "gridcolor": "white",
                        "linecolor": "white",
                        "ticks": ""
                      }
                    },
                    "title": {
                      "x": 0.05
                    },
                    "xaxis": {
                      "automargin": true,
                      "gridcolor": "white",
                      "linecolor": "white",
                      "ticks": "",
                      "title": {
                        "standoff": 15
                      },
                      "zerolinecolor": "white",
                      "zerolinewidth": 2
                    },
                    "yaxis": {
                      "automargin": true,
                      "gridcolor": "white",
                      "linecolor": "white",
                      "ticks": "",
                      "title": {
                        "standoff": 15
                      },
                      "zerolinecolor": "white",
                      "zerolinewidth": 2
                    }
                  }
                },
                "xaxis": {
                  "anchor": "y",
                  "domain": [
                    0,
                    1
                  ],
                  "title": {
                    "text": "index"
                  }
                },
                "yaxis": {
                  "anchor": "x",
                  "domain": [
                    0,
                    1
                  ],
                  "title": {
                    "text": "value"
                  }
                }
              }
            }
          },
          "metadata": {},
          "output_type": "display_data"
        }
      ],
      "source": [
        "fig = px.line(trainLoss)\n",
        "fig.add_trace(go.Scatter(y=valLoss, mode=\"lines\"))\n",
        "fig.show()"
      ]
    },
    {
      "cell_type": "code",
      "execution_count": 29,
      "id": "1c2c24ea",
      "metadata": {},
      "outputs": [
        {
          "data": {
            "text/plain": [
              "Time_GAN_module(\n",
              "  (rnn): GRU(24, 24, num_layers=3, batch_first=True)\n",
              "  (fc): Linear(in_features=24, out_features=6, bias=True)\n",
              ")"
            ]
          },
          "execution_count": 29,
          "metadata": {},
          "output_type": "execute_result"
        }
      ],
      "source": [
        "Embedder.eval()\n",
        "Recovery.eval()"
      ]
    },
    {
      "cell_type": "code",
      "execution_count": 19,
      "id": "90acbbaf",
      "metadata": {},
      "outputs": [
        {
          "data": {
            "text/plain": [
              "tensor(0.3777, grad_fn=<MulBackward0>)"
            ]
          },
          "execution_count": 19,
          "metadata": {},
          "output_type": "execute_result"
        }
      ],
      "source": [
        "H, _ = Embedder(goog)\n",
        "H = torch.reshape(H, (goog.shape[0], seq_len, hidden_dim))\n",
        "X_tilde, _ = Recovery(H)\n",
        "X_tilde = torch.reshape(X_tilde, (goog.shape[0], seq_len, dim))\n",
        "valLoss = 10 * torch.sqrt(MSE_loss(goog, X_tilde))  \n",
        "valLoss"
      ]
    },
    {
      "cell_type": "code",
      "execution_count": 22,
      "id": "941b4ba2",
      "metadata": {},
      "outputs": [
        {
          "data": {
            "application/vnd.plotly.v1+json": {
              "config": {
                "plotlyServerURL": "https://plot.ly"
              },
              "data": [
                {
                  "hovertemplate": "variable=0<br>index=%{x}<br>value=%{y}<extra></extra>",
                  "legendgroup": "0",
                  "line": {
                    "color": "#636efa",
                    "dash": "solid"
                  },
                  "marker": {
                    "symbol": "circle"
                  },
                  "mode": "lines",
                  "name": "0",
                  "orientation": "v",
                  "showlegend": true,
                  "type": "scatter",
                  "x": [
                    0,
                    1,
                    2,
                    3,
                    4,
                    5,
                    6,
                    7,
                    8,
                    9,
                    10,
                    11,
                    12,
                    13,
                    14,
                    15,
                    16,
                    17,
                    18,
                    19,
                    20,
                    21,
                    22,
                    23
                  ],
                  "xaxis": "x",
                  "y": [
                    0.43899568915367126,
                    0.4503752291202545,
                    0.4517076313495636,
                    0.4502745568752289,
                    0.45000195503234863,
                    0.44527798891067505,
                    0.4516471028327942,
                    0.45278963446617126,
                    0.45089492201805115,
                    0.4585479199886322,
                    0.45466482639312744,
                    0.458877831697464,
                    0.4589093029499054,
                    0.469950407743454,
                    0.4846058189868927,
                    0.49280473589897156,
                    0.47925394773483276,
                    0.4802178144454956,
                    0.4826454818248749,
                    0.48871663212776184,
                    0.50138920545578,
                    0.5103951096534729,
                    0.5128644704818726,
                    0.5185666084289551
                  ],
                  "yaxis": "y"
                },
                {
                  "hovertemplate": "variable=1<br>index=%{x}<br>value=%{y}<extra></extra>",
                  "legendgroup": "1",
                  "line": {
                    "color": "#EF553B",
                    "dash": "solid"
                  },
                  "marker": {
                    "symbol": "circle"
                  },
                  "mode": "lines",
                  "name": "1",
                  "orientation": "v",
                  "showlegend": true,
                  "type": "scatter",
                  "x": [
                    0,
                    1,
                    2,
                    3,
                    4,
                    5,
                    6,
                    7,
                    8,
                    9,
                    10,
                    11,
                    12,
                    13,
                    14,
                    15,
                    16,
                    17,
                    18,
                    19,
                    20,
                    21,
                    22,
                    23
                  ],
                  "xaxis": "x",
                  "y": [
                    0.4437190592288971,
                    0.4417358636856079,
                    0.4494534432888031,
                    0.44923603534698486,
                    0.4489493668079376,
                    0.44468748569488525,
                    0.4501219689846039,
                    0.4516034424304962,
                    0.45001792907714844,
                    0.45683395862579346,
                    0.4538479745388031,
                    0.45744574069976807,
                    0.4577518403530121,
                    0.4678593575954437,
                    0.4821048080921173,
                    0.4907555878162384,
                    0.4788954257965088,
                    0.4788854122161865,
                    0.4811114966869354,
                    0.48688840866088867,
                    0.49905192852020264,
                    0.5083174109458923,
                    0.5112798810005188,
                    0.5168010592460632
                  ],
                  "yaxis": "y"
                },
                {
                  "hovertemplate": "variable=2<br>index=%{x}<br>value=%{y}<extra></extra>",
                  "legendgroup": "2",
                  "line": {
                    "color": "#00cc96",
                    "dash": "solid"
                  },
                  "marker": {
                    "symbol": "circle"
                  },
                  "mode": "lines",
                  "name": "2",
                  "orientation": "v",
                  "showlegend": true,
                  "type": "scatter",
                  "x": [
                    0,
                    1,
                    2,
                    3,
                    4,
                    5,
                    6,
                    7,
                    8,
                    9,
                    10,
                    11,
                    12,
                    13,
                    14,
                    15,
                    16,
                    17,
                    18,
                    19,
                    20,
                    21,
                    22,
                    23
                  ],
                  "xaxis": "x",
                  "y": [
                    0.4506095051765442,
                    0.4535282552242279,
                    0.45827075839042664,
                    0.4567883312702179,
                    0.45632675290107727,
                    0.4515986144542694,
                    0.4578615725040436,
                    0.4591451585292816,
                    0.4572482109069824,
                    0.46486231684684753,
                    0.46114209294319153,
                    0.465248167514801,
                    0.4653838872909546,
                    0.47641441226005554,
                    0.4912976622581482,
                    0.49973025918006897,
                    0.4862964451313019,
                    0.4869786202907562,
                    0.48948436975479126,
                    0.4955866038799286,
                    0.5083590745925903,
                    0.5175631046295166,
                    0.5201423764228821,
                    0.5258501768112183
                  ],
                  "yaxis": "y"
                },
                {
                  "hovertemplate": "variable=3<br>index=%{x}<br>value=%{y}<extra></extra>",
                  "legendgroup": "3",
                  "line": {
                    "color": "#ab63fa",
                    "dash": "solid"
                  },
                  "marker": {
                    "symbol": "circle"
                  },
                  "mode": "lines",
                  "name": "3",
                  "orientation": "v",
                  "showlegend": true,
                  "type": "scatter",
                  "x": [
                    0,
                    1,
                    2,
                    3,
                    4,
                    5,
                    6,
                    7,
                    8,
                    9,
                    10,
                    11,
                    12,
                    13,
                    14,
                    15,
                    16,
                    17,
                    18,
                    19,
                    20,
                    21,
                    22,
                    23
                  ],
                  "xaxis": "x",
                  "y": [
                    0.4472256004810333,
                    0.4405888020992279,
                    0.45139795541763306,
                    0.4492604732513428,
                    0.4487276077270508,
                    0.4440721273422241,
                    0.45026418566703796,
                    0.45146840810775757,
                    0.44961175322532654,
                    0.45713967084884644,
                    0.453409343957901,
                    0.4575193524360657,
                    0.45761165022850037,
                    0.4685344099998474,
                    0.4832191467285156,
                    0.4915417432785034,
                    0.4781680405139923,
                    0.4790167808532715,
                    0.48144832253456116,
                    0.4874941408634186,
                    0.5001797676086426,
                    0.5092971920967102,
                    0.5118602514266968,
                    0.5176057815551758
                  ],
                  "yaxis": "y"
                },
                {
                  "hovertemplate": "variable=4<br>index=%{x}<br>value=%{y}<extra></extra>",
                  "legendgroup": "4",
                  "line": {
                    "color": "#FFA15A",
                    "dash": "solid"
                  },
                  "marker": {
                    "symbol": "circle"
                  },
                  "mode": "lines",
                  "name": "4",
                  "orientation": "v",
                  "showlegend": true,
                  "type": "scatter",
                  "x": [
                    0,
                    1,
                    2,
                    3,
                    4,
                    5,
                    6,
                    7,
                    8,
                    9,
                    10,
                    11,
                    12,
                    13,
                    14,
                    15,
                    16,
                    17,
                    18,
                    19,
                    20,
                    21,
                    22,
                    23
                  ],
                  "xaxis": "x",
                  "y": [
                    0.4420520067214966,
                    0.4481980800628662,
                    0.45363208651542664,
                    0.4514330327510834,
                    0.4509575664997101,
                    0.44632890820503235,
                    0.45244622230529785,
                    0.4536842405796051,
                    0.4518512189388275,
                    0.4593280851840973,
                    0.4556804597377777,
                    0.4597422480583191,
                    0.4598679840564728,
                    0.47072067856788635,
                    0.48536670207977295,
                    0.4937114119529724,
                    0.48056894540786743,
                    0.48133692145347595,
                    0.48374077677726746,
                    0.48973315954208374,
                    0.5023259520530701,
                    0.5114092826843262,
                    0.5140031576156616,
                    0.5197087526321411
                  ],
                  "yaxis": "y"
                },
                {
                  "hovertemplate": "variable=5<br>index=%{x}<br>value=%{y}<extra></extra>",
                  "legendgroup": "5",
                  "line": {
                    "color": "#19d3f3",
                    "dash": "solid"
                  },
                  "marker": {
                    "symbol": "circle"
                  },
                  "mode": "lines",
                  "name": "5",
                  "orientation": "v",
                  "showlegend": true,
                  "type": "scatter",
                  "x": [
                    0,
                    1,
                    2,
                    3,
                    4,
                    5,
                    6,
                    7,
                    8,
                    9,
                    10,
                    11,
                    12,
                    13,
                    14,
                    15,
                    16,
                    17,
                    18,
                    19,
                    20,
                    21,
                    22,
                    23
                  ],
                  "xaxis": "x",
                  "y": [
                    0.03302379697561264,
                    0.02479284442961216,
                    0.026028044521808624,
                    0.026139797642827034,
                    0.026166832074522972,
                    0.02657613530755043,
                    0.026035523042082787,
                    0.02593003399670124,
                    0.02609504945576191,
                    0.025465544313192368,
                    0.02577093057334423,
                    0.025439321994781494,
                    0.02542695961892605,
                    0.024572983384132385,
                    0.023502914234995842,
                    0.022933239117264748,
                    0.023848025128245354,
                    0.023809906095266342,
                    0.023627014830708504,
                    0.023210354149341583,
                    0.0223819799721241,
                    0.021812397986650467,
                    0.021652616560459137,
                    0.021324126049876213
                  ],
                  "yaxis": "y"
                }
              ],
              "layout": {
                "legend": {
                  "title": {
                    "text": "variable"
                  },
                  "tracegroupgap": 0
                },
                "margin": {
                  "t": 60
                },
                "template": {
                  "data": {
                    "bar": [
                      {
                        "error_x": {
                          "color": "#2a3f5f"
                        },
                        "error_y": {
                          "color": "#2a3f5f"
                        },
                        "marker": {
                          "line": {
                            "color": "#E5ECF6",
                            "width": 0.5
                          },
                          "pattern": {
                            "fillmode": "overlay",
                            "size": 10,
                            "solidity": 0.2
                          }
                        },
                        "type": "bar"
                      }
                    ],
                    "barpolar": [
                      {
                        "marker": {
                          "line": {
                            "color": "#E5ECF6",
                            "width": 0.5
                          },
                          "pattern": {
                            "fillmode": "overlay",
                            "size": 10,
                            "solidity": 0.2
                          }
                        },
                        "type": "barpolar"
                      }
                    ],
                    "carpet": [
                      {
                        "aaxis": {
                          "endlinecolor": "#2a3f5f",
                          "gridcolor": "white",
                          "linecolor": "white",
                          "minorgridcolor": "white",
                          "startlinecolor": "#2a3f5f"
                        },
                        "baxis": {
                          "endlinecolor": "#2a3f5f",
                          "gridcolor": "white",
                          "linecolor": "white",
                          "minorgridcolor": "white",
                          "startlinecolor": "#2a3f5f"
                        },
                        "type": "carpet"
                      }
                    ],
                    "choropleth": [
                      {
                        "colorbar": {
                          "outlinewidth": 0,
                          "ticks": ""
                        },
                        "type": "choropleth"
                      }
                    ],
                    "contour": [
                      {
                        "colorbar": {
                          "outlinewidth": 0,
                          "ticks": ""
                        },
                        "colorscale": [
                          [
                            0,
                            "#0d0887"
                          ],
                          [
                            0.1111111111111111,
                            "#46039f"
                          ],
                          [
                            0.2222222222222222,
                            "#7201a8"
                          ],
                          [
                            0.3333333333333333,
                            "#9c179e"
                          ],
                          [
                            0.4444444444444444,
                            "#bd3786"
                          ],
                          [
                            0.5555555555555556,
                            "#d8576b"
                          ],
                          [
                            0.6666666666666666,
                            "#ed7953"
                          ],
                          [
                            0.7777777777777778,
                            "#fb9f3a"
                          ],
                          [
                            0.8888888888888888,
                            "#fdca26"
                          ],
                          [
                            1,
                            "#f0f921"
                          ]
                        ],
                        "type": "contour"
                      }
                    ],
                    "contourcarpet": [
                      {
                        "colorbar": {
                          "outlinewidth": 0,
                          "ticks": ""
                        },
                        "type": "contourcarpet"
                      }
                    ],
                    "heatmap": [
                      {
                        "colorbar": {
                          "outlinewidth": 0,
                          "ticks": ""
                        },
                        "colorscale": [
                          [
                            0,
                            "#0d0887"
                          ],
                          [
                            0.1111111111111111,
                            "#46039f"
                          ],
                          [
                            0.2222222222222222,
                            "#7201a8"
                          ],
                          [
                            0.3333333333333333,
                            "#9c179e"
                          ],
                          [
                            0.4444444444444444,
                            "#bd3786"
                          ],
                          [
                            0.5555555555555556,
                            "#d8576b"
                          ],
                          [
                            0.6666666666666666,
                            "#ed7953"
                          ],
                          [
                            0.7777777777777778,
                            "#fb9f3a"
                          ],
                          [
                            0.8888888888888888,
                            "#fdca26"
                          ],
                          [
                            1,
                            "#f0f921"
                          ]
                        ],
                        "type": "heatmap"
                      }
                    ],
                    "heatmapgl": [
                      {
                        "colorbar": {
                          "outlinewidth": 0,
                          "ticks": ""
                        },
                        "colorscale": [
                          [
                            0,
                            "#0d0887"
                          ],
                          [
                            0.1111111111111111,
                            "#46039f"
                          ],
                          [
                            0.2222222222222222,
                            "#7201a8"
                          ],
                          [
                            0.3333333333333333,
                            "#9c179e"
                          ],
                          [
                            0.4444444444444444,
                            "#bd3786"
                          ],
                          [
                            0.5555555555555556,
                            "#d8576b"
                          ],
                          [
                            0.6666666666666666,
                            "#ed7953"
                          ],
                          [
                            0.7777777777777778,
                            "#fb9f3a"
                          ],
                          [
                            0.8888888888888888,
                            "#fdca26"
                          ],
                          [
                            1,
                            "#f0f921"
                          ]
                        ],
                        "type": "heatmapgl"
                      }
                    ],
                    "histogram": [
                      {
                        "marker": {
                          "pattern": {
                            "fillmode": "overlay",
                            "size": 10,
                            "solidity": 0.2
                          }
                        },
                        "type": "histogram"
                      }
                    ],
                    "histogram2d": [
                      {
                        "colorbar": {
                          "outlinewidth": 0,
                          "ticks": ""
                        },
                        "colorscale": [
                          [
                            0,
                            "#0d0887"
                          ],
                          [
                            0.1111111111111111,
                            "#46039f"
                          ],
                          [
                            0.2222222222222222,
                            "#7201a8"
                          ],
                          [
                            0.3333333333333333,
                            "#9c179e"
                          ],
                          [
                            0.4444444444444444,
                            "#bd3786"
                          ],
                          [
                            0.5555555555555556,
                            "#d8576b"
                          ],
                          [
                            0.6666666666666666,
                            "#ed7953"
                          ],
                          [
                            0.7777777777777778,
                            "#fb9f3a"
                          ],
                          [
                            0.8888888888888888,
                            "#fdca26"
                          ],
                          [
                            1,
                            "#f0f921"
                          ]
                        ],
                        "type": "histogram2d"
                      }
                    ],
                    "histogram2dcontour": [
                      {
                        "colorbar": {
                          "outlinewidth": 0,
                          "ticks": ""
                        },
                        "colorscale": [
                          [
                            0,
                            "#0d0887"
                          ],
                          [
                            0.1111111111111111,
                            "#46039f"
                          ],
                          [
                            0.2222222222222222,
                            "#7201a8"
                          ],
                          [
                            0.3333333333333333,
                            "#9c179e"
                          ],
                          [
                            0.4444444444444444,
                            "#bd3786"
                          ],
                          [
                            0.5555555555555556,
                            "#d8576b"
                          ],
                          [
                            0.6666666666666666,
                            "#ed7953"
                          ],
                          [
                            0.7777777777777778,
                            "#fb9f3a"
                          ],
                          [
                            0.8888888888888888,
                            "#fdca26"
                          ],
                          [
                            1,
                            "#f0f921"
                          ]
                        ],
                        "type": "histogram2dcontour"
                      }
                    ],
                    "mesh3d": [
                      {
                        "colorbar": {
                          "outlinewidth": 0,
                          "ticks": ""
                        },
                        "type": "mesh3d"
                      }
                    ],
                    "parcoords": [
                      {
                        "line": {
                          "colorbar": {
                            "outlinewidth": 0,
                            "ticks": ""
                          }
                        },
                        "type": "parcoords"
                      }
                    ],
                    "pie": [
                      {
                        "automargin": true,
                        "type": "pie"
                      }
                    ],
                    "scatter": [
                      {
                        "fillpattern": {
                          "fillmode": "overlay",
                          "size": 10,
                          "solidity": 0.2
                        },
                        "type": "scatter"
                      }
                    ],
                    "scatter3d": [
                      {
                        "line": {
                          "colorbar": {
                            "outlinewidth": 0,
                            "ticks": ""
                          }
                        },
                        "marker": {
                          "colorbar": {
                            "outlinewidth": 0,
                            "ticks": ""
                          }
                        },
                        "type": "scatter3d"
                      }
                    ],
                    "scattercarpet": [
                      {
                        "marker": {
                          "colorbar": {
                            "outlinewidth": 0,
                            "ticks": ""
                          }
                        },
                        "type": "scattercarpet"
                      }
                    ],
                    "scattergeo": [
                      {
                        "marker": {
                          "colorbar": {
                            "outlinewidth": 0,
                            "ticks": ""
                          }
                        },
                        "type": "scattergeo"
                      }
                    ],
                    "scattergl": [
                      {
                        "marker": {
                          "colorbar": {
                            "outlinewidth": 0,
                            "ticks": ""
                          }
                        },
                        "type": "scattergl"
                      }
                    ],
                    "scattermapbox": [
                      {
                        "marker": {
                          "colorbar": {
                            "outlinewidth": 0,
                            "ticks": ""
                          }
                        },
                        "type": "scattermapbox"
                      }
                    ],
                    "scatterpolar": [
                      {
                        "marker": {
                          "colorbar": {
                            "outlinewidth": 0,
                            "ticks": ""
                          }
                        },
                        "type": "scatterpolar"
                      }
                    ],
                    "scatterpolargl": [
                      {
                        "marker": {
                          "colorbar": {
                            "outlinewidth": 0,
                            "ticks": ""
                          }
                        },
                        "type": "scatterpolargl"
                      }
                    ],
                    "scatterternary": [
                      {
                        "marker": {
                          "colorbar": {
                            "outlinewidth": 0,
                            "ticks": ""
                          }
                        },
                        "type": "scatterternary"
                      }
                    ],
                    "surface": [
                      {
                        "colorbar": {
                          "outlinewidth": 0,
                          "ticks": ""
                        },
                        "colorscale": [
                          [
                            0,
                            "#0d0887"
                          ],
                          [
                            0.1111111111111111,
                            "#46039f"
                          ],
                          [
                            0.2222222222222222,
                            "#7201a8"
                          ],
                          [
                            0.3333333333333333,
                            "#9c179e"
                          ],
                          [
                            0.4444444444444444,
                            "#bd3786"
                          ],
                          [
                            0.5555555555555556,
                            "#d8576b"
                          ],
                          [
                            0.6666666666666666,
                            "#ed7953"
                          ],
                          [
                            0.7777777777777778,
                            "#fb9f3a"
                          ],
                          [
                            0.8888888888888888,
                            "#fdca26"
                          ],
                          [
                            1,
                            "#f0f921"
                          ]
                        ],
                        "type": "surface"
                      }
                    ],
                    "table": [
                      {
                        "cells": {
                          "fill": {
                            "color": "#EBF0F8"
                          },
                          "line": {
                            "color": "white"
                          }
                        },
                        "header": {
                          "fill": {
                            "color": "#C8D4E3"
                          },
                          "line": {
                            "color": "white"
                          }
                        },
                        "type": "table"
                      }
                    ]
                  },
                  "layout": {
                    "annotationdefaults": {
                      "arrowcolor": "#2a3f5f",
                      "arrowhead": 0,
                      "arrowwidth": 1
                    },
                    "autotypenumbers": "strict",
                    "coloraxis": {
                      "colorbar": {
                        "outlinewidth": 0,
                        "ticks": ""
                      }
                    },
                    "colorscale": {
                      "diverging": [
                        [
                          0,
                          "#8e0152"
                        ],
                        [
                          0.1,
                          "#c51b7d"
                        ],
                        [
                          0.2,
                          "#de77ae"
                        ],
                        [
                          0.3,
                          "#f1b6da"
                        ],
                        [
                          0.4,
                          "#fde0ef"
                        ],
                        [
                          0.5,
                          "#f7f7f7"
                        ],
                        [
                          0.6,
                          "#e6f5d0"
                        ],
                        [
                          0.7,
                          "#b8e186"
                        ],
                        [
                          0.8,
                          "#7fbc41"
                        ],
                        [
                          0.9,
                          "#4d9221"
                        ],
                        [
                          1,
                          "#276419"
                        ]
                      ],
                      "sequential": [
                        [
                          0,
                          "#0d0887"
                        ],
                        [
                          0.1111111111111111,
                          "#46039f"
                        ],
                        [
                          0.2222222222222222,
                          "#7201a8"
                        ],
                        [
                          0.3333333333333333,
                          "#9c179e"
                        ],
                        [
                          0.4444444444444444,
                          "#bd3786"
                        ],
                        [
                          0.5555555555555556,
                          "#d8576b"
                        ],
                        [
                          0.6666666666666666,
                          "#ed7953"
                        ],
                        [
                          0.7777777777777778,
                          "#fb9f3a"
                        ],
                        [
                          0.8888888888888888,
                          "#fdca26"
                        ],
                        [
                          1,
                          "#f0f921"
                        ]
                      ],
                      "sequentialminus": [
                        [
                          0,
                          "#0d0887"
                        ],
                        [
                          0.1111111111111111,
                          "#46039f"
                        ],
                        [
                          0.2222222222222222,
                          "#7201a8"
                        ],
                        [
                          0.3333333333333333,
                          "#9c179e"
                        ],
                        [
                          0.4444444444444444,
                          "#bd3786"
                        ],
                        [
                          0.5555555555555556,
                          "#d8576b"
                        ],
                        [
                          0.6666666666666666,
                          "#ed7953"
                        ],
                        [
                          0.7777777777777778,
                          "#fb9f3a"
                        ],
                        [
                          0.8888888888888888,
                          "#fdca26"
                        ],
                        [
                          1,
                          "#f0f921"
                        ]
                      ]
                    },
                    "colorway": [
                      "#636efa",
                      "#EF553B",
                      "#00cc96",
                      "#ab63fa",
                      "#FFA15A",
                      "#19d3f3",
                      "#FF6692",
                      "#B6E880",
                      "#FF97FF",
                      "#FECB52"
                    ],
                    "font": {
                      "color": "#2a3f5f"
                    },
                    "geo": {
                      "bgcolor": "white",
                      "lakecolor": "white",
                      "landcolor": "#E5ECF6",
                      "showlakes": true,
                      "showland": true,
                      "subunitcolor": "white"
                    },
                    "hoverlabel": {
                      "align": "left"
                    },
                    "hovermode": "closest",
                    "mapbox": {
                      "style": "light"
                    },
                    "paper_bgcolor": "white",
                    "plot_bgcolor": "#E5ECF6",
                    "polar": {
                      "angularaxis": {
                        "gridcolor": "white",
                        "linecolor": "white",
                        "ticks": ""
                      },
                      "bgcolor": "#E5ECF6",
                      "radialaxis": {
                        "gridcolor": "white",
                        "linecolor": "white",
                        "ticks": ""
                      }
                    },
                    "scene": {
                      "xaxis": {
                        "backgroundcolor": "#E5ECF6",
                        "gridcolor": "white",
                        "gridwidth": 2,
                        "linecolor": "white",
                        "showbackground": true,
                        "ticks": "",
                        "zerolinecolor": "white"
                      },
                      "yaxis": {
                        "backgroundcolor": "#E5ECF6",
                        "gridcolor": "white",
                        "gridwidth": 2,
                        "linecolor": "white",
                        "showbackground": true,
                        "ticks": "",
                        "zerolinecolor": "white"
                      },
                      "zaxis": {
                        "backgroundcolor": "#E5ECF6",
                        "gridcolor": "white",
                        "gridwidth": 2,
                        "linecolor": "white",
                        "showbackground": true,
                        "ticks": "",
                        "zerolinecolor": "white"
                      }
                    },
                    "shapedefaults": {
                      "line": {
                        "color": "#2a3f5f"
                      }
                    },
                    "ternary": {
                      "aaxis": {
                        "gridcolor": "white",
                        "linecolor": "white",
                        "ticks": ""
                      },
                      "baxis": {
                        "gridcolor": "white",
                        "linecolor": "white",
                        "ticks": ""
                      },
                      "bgcolor": "#E5ECF6",
                      "caxis": {
                        "gridcolor": "white",
                        "linecolor": "white",
                        "ticks": ""
                      }
                    },
                    "title": {
                      "x": 0.05
                    },
                    "xaxis": {
                      "automargin": true,
                      "gridcolor": "white",
                      "linecolor": "white",
                      "ticks": "",
                      "title": {
                        "standoff": 15
                      },
                      "zerolinecolor": "white",
                      "zerolinewidth": 2
                    },
                    "yaxis": {
                      "automargin": true,
                      "gridcolor": "white",
                      "linecolor": "white",
                      "ticks": "",
                      "title": {
                        "standoff": 15
                      },
                      "zerolinecolor": "white",
                      "zerolinewidth": 2
                    }
                  }
                },
                "xaxis": {
                  "anchor": "y",
                  "domain": [
                    0,
                    1
                  ],
                  "title": {
                    "text": "index"
                  }
                },
                "yaxis": {
                  "anchor": "x",
                  "domain": [
                    0,
                    1
                  ],
                  "title": {
                    "text": "value"
                  }
                }
              }
            }
          },
          "metadata": {},
          "output_type": "display_data"
        }
      ],
      "source": [
        "px.line(X_tilde[0].detach())"
      ]
    },
    {
      "cell_type": "code",
      "execution_count": 21,
      "id": "e8706b0f",
      "metadata": {},
      "outputs": [
        {
          "data": {
            "application/vnd.plotly.v1+json": {
              "config": {
                "plotlyServerURL": "https://plot.ly"
              },
              "data": [
                {
                  "hovertemplate": "variable=0<br>index=%{x}<br>value=%{y}<extra></extra>",
                  "legendgroup": "0",
                  "line": {
                    "color": "#636efa",
                    "dash": "solid"
                  },
                  "marker": {
                    "symbol": "circle"
                  },
                  "mode": "lines",
                  "name": "0",
                  "orientation": "v",
                  "showlegend": true,
                  "type": "scatter",
                  "x": [
                    0,
                    1,
                    2,
                    3,
                    4,
                    5,
                    6,
                    7,
                    8,
                    9,
                    10,
                    11,
                    12,
                    13,
                    14,
                    15,
                    16,
                    17,
                    18,
                    19,
                    20,
                    21,
                    22,
                    23
                  ],
                  "xaxis": "x",
                  "y": [
                    0.45223864912986755,
                    0.4677712321281433,
                    0.46153706312179565,
                    0.4485139846801758,
                    0.4467441141605377,
                    0.4492272436618805,
                    0.45878979563713074,
                    0.44986122846603394,
                    0.45678219199180603,
                    0.461008757352829,
                    0.4557255804538727,
                    0.4670844078063965,
                    0.46877503395080566,
                    0.4811377227306366,
                    0.4917041063308716,
                    0.5050705671310425,
                    0.4787602424621582,
                    0.4830396771430969,
                    0.4924965798854828,
                    0.4982024133205414,
                    0.5135236382484436,
                    0.5142897367477417,
                    0.511938750743866,
                    0.5226635932922363
                  ],
                  "yaxis": "y"
                },
                {
                  "hovertemplate": "variable=1<br>index=%{x}<br>value=%{y}<extra></extra>",
                  "legendgroup": "1",
                  "line": {
                    "color": "#EF553B",
                    "dash": "solid"
                  },
                  "marker": {
                    "symbol": "circle"
                  },
                  "mode": "lines",
                  "name": "1",
                  "orientation": "v",
                  "showlegend": true,
                  "type": "scatter",
                  "x": [
                    0,
                    1,
                    2,
                    3,
                    4,
                    5,
                    6,
                    7,
                    8,
                    9,
                    10,
                    11,
                    12,
                    13,
                    14,
                    15,
                    16,
                    17,
                    18,
                    19,
                    20,
                    21,
                    22,
                    23
                  ],
                  "xaxis": "x",
                  "y": [
                    0.4490921199321747,
                    0.46497461199760437,
                    0.46659958362579346,
                    0.45234203338623047,
                    0.45514634251594543,
                    0.4507170617580414,
                    0.45585399866104126,
                    0.45899903774261475,
                    0.4541766345500946,
                    0.46327105164527893,
                    0.4573216736316681,
                    0.46476495265960693,
                    0.467647910118103,
                    0.47959911823272705,
                    0.49632030725479126,
                    0.5098440051078796,
                    0.4787866473197937,
                    0.4820103049278259,
                    0.4892439544200897,
                    0.4967920482158661,
                    0.5119931101799011,
                    0.520065426826477,
                    0.5169203877449036,
                    0.5244684815406799
                  ],
                  "yaxis": "y"
                },
                {
                  "hovertemplate": "variable=2<br>index=%{x}<br>value=%{y}<extra></extra>",
                  "legendgroup": "2",
                  "line": {
                    "color": "#00cc96",
                    "dash": "solid"
                  },
                  "marker": {
                    "symbol": "circle"
                  },
                  "mode": "lines",
                  "name": "2",
                  "orientation": "v",
                  "showlegend": true,
                  "type": "scatter",
                  "x": [
                    0,
                    1,
                    2,
                    3,
                    4,
                    5,
                    6,
                    7,
                    8,
                    9,
                    10,
                    11,
                    12,
                    13,
                    14,
                    15,
                    16,
                    17,
                    18,
                    19,
                    20,
                    21,
                    22,
                    23
                  ],
                  "xaxis": "x",
                  "y": [
                    0.44694751501083374,
                    0.45353782176971436,
                    0.4600217640399933,
                    0.4494454264640808,
                    0.4492328464984894,
                    0.44593772292137146,
                    0.45212942361831665,
                    0.45258116722106934,
                    0.4489671289920807,
                    0.45943719148635864,
                    0.4548133313655853,
                    0.4595169126987457,
                    0.4652833938598633,
                    0.46751558780670166,
                    0.48617035150527954,
                    0.4938235580921173,
                    0.475328266620636,
                    0.48128077387809753,
                    0.48542630672454834,
                    0.4919368624687195,
                    0.5011579394340515,
                    0.5149497389793396,
                    0.51396644115448,
                    0.5219385623931885
                  ],
                  "yaxis": "y"
                },
                {
                  "hovertemplate": "variable=3<br>index=%{x}<br>value=%{y}<extra></extra>",
                  "legendgroup": "3",
                  "line": {
                    "color": "#ab63fa",
                    "dash": "solid"
                  },
                  "marker": {
                    "symbol": "circle"
                  },
                  "mode": "lines",
                  "name": "3",
                  "orientation": "v",
                  "showlegend": true,
                  "type": "scatter",
                  "x": [
                    0,
                    1,
                    2,
                    3,
                    4,
                    5,
                    6,
                    7,
                    8,
                    9,
                    10,
                    11,
                    12,
                    13,
                    14,
                    15,
                    16,
                    17,
                    18,
                    19,
                    20,
                    21,
                    22,
                    23
                  ],
                  "xaxis": "x",
                  "y": [
                    0.443179726600647,
                    0.45338118076324463,
                    0.45858705043792725,
                    0.4534863531589508,
                    0.454643189907074,
                    0.4415495991706848,
                    0.4492795765399933,
                    0.45916548371315,
                    0.4510148763656616,
                    0.4614792466163635,
                    0.4582189619541168,
                    0.45569491386413574,
                    0.46468690037727356,
                    0.4664747714996338,
                    0.48808711767196655,
                    0.49092671275138855,
                    0.4788847863674164,
                    0.476308137178421,
                    0.48093560338020325,
                    0.4872457981109619,
                    0.49860408902168274,
                    0.5120658278465271,
                    0.5171139240264893,
                    0.5194802284240723
                  ],
                  "yaxis": "y"
                },
                {
                  "hovertemplate": "variable=4<br>index=%{x}<br>value=%{y}<extra></extra>",
                  "legendgroup": "4",
                  "line": {
                    "color": "#FFA15A",
                    "dash": "solid"
                  },
                  "marker": {
                    "symbol": "circle"
                  },
                  "mode": "lines",
                  "name": "4",
                  "orientation": "v",
                  "showlegend": true,
                  "type": "scatter",
                  "x": [
                    0,
                    1,
                    2,
                    3,
                    4,
                    5,
                    6,
                    7,
                    8,
                    9,
                    10,
                    11,
                    12,
                    13,
                    14,
                    15,
                    16,
                    17,
                    18,
                    19,
                    20,
                    21,
                    22,
                    23
                  ],
                  "xaxis": "x",
                  "y": [
                    0.4426693916320801,
                    0.452859103679657,
                    0.4580589830875397,
                    0.452964186668396,
                    0.45411965250968933,
                    0.44104114174842834,
                    0.4487622082233429,
                    0.4586367607116699,
                    0.45049554109573364,
                    0.46094781160354614,
                    0.45769134163856506,
                    0.4551701545715332,
                    0.4641517996788025,
                    0.46593761444091797,
                    0.487525075674057,
                    0.49036139249801636,
                    0.47833332419395447,
                    0.4757596552371979,
                    0.4803817868232727,
                    0.4866847097873688,
                    0.4980299174785614,
                    0.5114761590957642,
                    0.5165184736251831,
                    0.5188820362091064
                  ],
                  "yaxis": "y"
                },
                {
                  "hovertemplate": "variable=5<br>index=%{x}<br>value=%{y}<extra></extra>",
                  "legendgroup": "5",
                  "line": {
                    "color": "#19d3f3",
                    "dash": "solid"
                  },
                  "marker": {
                    "symbol": "circle"
                  },
                  "mode": "lines",
                  "name": "5",
                  "orientation": "v",
                  "showlegend": true,
                  "type": "scatter",
                  "x": [
                    0,
                    1,
                    2,
                    3,
                    4,
                    5,
                    6,
                    7,
                    8,
                    9,
                    10,
                    11,
                    12,
                    13,
                    14,
                    15,
                    16,
                    17,
                    18,
                    19,
                    20,
                    21,
                    22,
                    23
                  ],
                  "xaxis": "x",
                  "y": [
                    0.01392017025500536,
                    0.01628914102911949,
                    0.012467673048377037,
                    0.011529752984642982,
                    0.010978705249726772,
                    0.010735713876783848,
                    0.009276492521166801,
                    0.01069657877087593,
                    0.014235192909836769,
                    0.012224075384438038,
                    0.013217851519584656,
                    0.013850138522684574,
                    0.029277168214321136,
                    0.017047801986336708,
                    0.015929531306028366,
                    0.020979346707463264,
                    0.01649172604084015,
                    0.013162419199943542,
                    0.0154087133705616,
                    0.016047663986682892,
                    0.01255194190889597,
                    0.01199332159012556,
                    0.011306329630315304,
                    0.013093478046357632
                  ],
                  "yaxis": "y"
                }
              ],
              "layout": {
                "legend": {
                  "title": {
                    "text": "variable"
                  },
                  "tracegroupgap": 0
                },
                "margin": {
                  "t": 60
                },
                "template": {
                  "data": {
                    "bar": [
                      {
                        "error_x": {
                          "color": "#2a3f5f"
                        },
                        "error_y": {
                          "color": "#2a3f5f"
                        },
                        "marker": {
                          "line": {
                            "color": "#E5ECF6",
                            "width": 0.5
                          },
                          "pattern": {
                            "fillmode": "overlay",
                            "size": 10,
                            "solidity": 0.2
                          }
                        },
                        "type": "bar"
                      }
                    ],
                    "barpolar": [
                      {
                        "marker": {
                          "line": {
                            "color": "#E5ECF6",
                            "width": 0.5
                          },
                          "pattern": {
                            "fillmode": "overlay",
                            "size": 10,
                            "solidity": 0.2
                          }
                        },
                        "type": "barpolar"
                      }
                    ],
                    "carpet": [
                      {
                        "aaxis": {
                          "endlinecolor": "#2a3f5f",
                          "gridcolor": "white",
                          "linecolor": "white",
                          "minorgridcolor": "white",
                          "startlinecolor": "#2a3f5f"
                        },
                        "baxis": {
                          "endlinecolor": "#2a3f5f",
                          "gridcolor": "white",
                          "linecolor": "white",
                          "minorgridcolor": "white",
                          "startlinecolor": "#2a3f5f"
                        },
                        "type": "carpet"
                      }
                    ],
                    "choropleth": [
                      {
                        "colorbar": {
                          "outlinewidth": 0,
                          "ticks": ""
                        },
                        "type": "choropleth"
                      }
                    ],
                    "contour": [
                      {
                        "colorbar": {
                          "outlinewidth": 0,
                          "ticks": ""
                        },
                        "colorscale": [
                          [
                            0,
                            "#0d0887"
                          ],
                          [
                            0.1111111111111111,
                            "#46039f"
                          ],
                          [
                            0.2222222222222222,
                            "#7201a8"
                          ],
                          [
                            0.3333333333333333,
                            "#9c179e"
                          ],
                          [
                            0.4444444444444444,
                            "#bd3786"
                          ],
                          [
                            0.5555555555555556,
                            "#d8576b"
                          ],
                          [
                            0.6666666666666666,
                            "#ed7953"
                          ],
                          [
                            0.7777777777777778,
                            "#fb9f3a"
                          ],
                          [
                            0.8888888888888888,
                            "#fdca26"
                          ],
                          [
                            1,
                            "#f0f921"
                          ]
                        ],
                        "type": "contour"
                      }
                    ],
                    "contourcarpet": [
                      {
                        "colorbar": {
                          "outlinewidth": 0,
                          "ticks": ""
                        },
                        "type": "contourcarpet"
                      }
                    ],
                    "heatmap": [
                      {
                        "colorbar": {
                          "outlinewidth": 0,
                          "ticks": ""
                        },
                        "colorscale": [
                          [
                            0,
                            "#0d0887"
                          ],
                          [
                            0.1111111111111111,
                            "#46039f"
                          ],
                          [
                            0.2222222222222222,
                            "#7201a8"
                          ],
                          [
                            0.3333333333333333,
                            "#9c179e"
                          ],
                          [
                            0.4444444444444444,
                            "#bd3786"
                          ],
                          [
                            0.5555555555555556,
                            "#d8576b"
                          ],
                          [
                            0.6666666666666666,
                            "#ed7953"
                          ],
                          [
                            0.7777777777777778,
                            "#fb9f3a"
                          ],
                          [
                            0.8888888888888888,
                            "#fdca26"
                          ],
                          [
                            1,
                            "#f0f921"
                          ]
                        ],
                        "type": "heatmap"
                      }
                    ],
                    "heatmapgl": [
                      {
                        "colorbar": {
                          "outlinewidth": 0,
                          "ticks": ""
                        },
                        "colorscale": [
                          [
                            0,
                            "#0d0887"
                          ],
                          [
                            0.1111111111111111,
                            "#46039f"
                          ],
                          [
                            0.2222222222222222,
                            "#7201a8"
                          ],
                          [
                            0.3333333333333333,
                            "#9c179e"
                          ],
                          [
                            0.4444444444444444,
                            "#bd3786"
                          ],
                          [
                            0.5555555555555556,
                            "#d8576b"
                          ],
                          [
                            0.6666666666666666,
                            "#ed7953"
                          ],
                          [
                            0.7777777777777778,
                            "#fb9f3a"
                          ],
                          [
                            0.8888888888888888,
                            "#fdca26"
                          ],
                          [
                            1,
                            "#f0f921"
                          ]
                        ],
                        "type": "heatmapgl"
                      }
                    ],
                    "histogram": [
                      {
                        "marker": {
                          "pattern": {
                            "fillmode": "overlay",
                            "size": 10,
                            "solidity": 0.2
                          }
                        },
                        "type": "histogram"
                      }
                    ],
                    "histogram2d": [
                      {
                        "colorbar": {
                          "outlinewidth": 0,
                          "ticks": ""
                        },
                        "colorscale": [
                          [
                            0,
                            "#0d0887"
                          ],
                          [
                            0.1111111111111111,
                            "#46039f"
                          ],
                          [
                            0.2222222222222222,
                            "#7201a8"
                          ],
                          [
                            0.3333333333333333,
                            "#9c179e"
                          ],
                          [
                            0.4444444444444444,
                            "#bd3786"
                          ],
                          [
                            0.5555555555555556,
                            "#d8576b"
                          ],
                          [
                            0.6666666666666666,
                            "#ed7953"
                          ],
                          [
                            0.7777777777777778,
                            "#fb9f3a"
                          ],
                          [
                            0.8888888888888888,
                            "#fdca26"
                          ],
                          [
                            1,
                            "#f0f921"
                          ]
                        ],
                        "type": "histogram2d"
                      }
                    ],
                    "histogram2dcontour": [
                      {
                        "colorbar": {
                          "outlinewidth": 0,
                          "ticks": ""
                        },
                        "colorscale": [
                          [
                            0,
                            "#0d0887"
                          ],
                          [
                            0.1111111111111111,
                            "#46039f"
                          ],
                          [
                            0.2222222222222222,
                            "#7201a8"
                          ],
                          [
                            0.3333333333333333,
                            "#9c179e"
                          ],
                          [
                            0.4444444444444444,
                            "#bd3786"
                          ],
                          [
                            0.5555555555555556,
                            "#d8576b"
                          ],
                          [
                            0.6666666666666666,
                            "#ed7953"
                          ],
                          [
                            0.7777777777777778,
                            "#fb9f3a"
                          ],
                          [
                            0.8888888888888888,
                            "#fdca26"
                          ],
                          [
                            1,
                            "#f0f921"
                          ]
                        ],
                        "type": "histogram2dcontour"
                      }
                    ],
                    "mesh3d": [
                      {
                        "colorbar": {
                          "outlinewidth": 0,
                          "ticks": ""
                        },
                        "type": "mesh3d"
                      }
                    ],
                    "parcoords": [
                      {
                        "line": {
                          "colorbar": {
                            "outlinewidth": 0,
                            "ticks": ""
                          }
                        },
                        "type": "parcoords"
                      }
                    ],
                    "pie": [
                      {
                        "automargin": true,
                        "type": "pie"
                      }
                    ],
                    "scatter": [
                      {
                        "fillpattern": {
                          "fillmode": "overlay",
                          "size": 10,
                          "solidity": 0.2
                        },
                        "type": "scatter"
                      }
                    ],
                    "scatter3d": [
                      {
                        "line": {
                          "colorbar": {
                            "outlinewidth": 0,
                            "ticks": ""
                          }
                        },
                        "marker": {
                          "colorbar": {
                            "outlinewidth": 0,
                            "ticks": ""
                          }
                        },
                        "type": "scatter3d"
                      }
                    ],
                    "scattercarpet": [
                      {
                        "marker": {
                          "colorbar": {
                            "outlinewidth": 0,
                            "ticks": ""
                          }
                        },
                        "type": "scattercarpet"
                      }
                    ],
                    "scattergeo": [
                      {
                        "marker": {
                          "colorbar": {
                            "outlinewidth": 0,
                            "ticks": ""
                          }
                        },
                        "type": "scattergeo"
                      }
                    ],
                    "scattergl": [
                      {
                        "marker": {
                          "colorbar": {
                            "outlinewidth": 0,
                            "ticks": ""
                          }
                        },
                        "type": "scattergl"
                      }
                    ],
                    "scattermapbox": [
                      {
                        "marker": {
                          "colorbar": {
                            "outlinewidth": 0,
                            "ticks": ""
                          }
                        },
                        "type": "scattermapbox"
                      }
                    ],
                    "scatterpolar": [
                      {
                        "marker": {
                          "colorbar": {
                            "outlinewidth": 0,
                            "ticks": ""
                          }
                        },
                        "type": "scatterpolar"
                      }
                    ],
                    "scatterpolargl": [
                      {
                        "marker": {
                          "colorbar": {
                            "outlinewidth": 0,
                            "ticks": ""
                          }
                        },
                        "type": "scatterpolargl"
                      }
                    ],
                    "scatterternary": [
                      {
                        "marker": {
                          "colorbar": {
                            "outlinewidth": 0,
                            "ticks": ""
                          }
                        },
                        "type": "scatterternary"
                      }
                    ],
                    "surface": [
                      {
                        "colorbar": {
                          "outlinewidth": 0,
                          "ticks": ""
                        },
                        "colorscale": [
                          [
                            0,
                            "#0d0887"
                          ],
                          [
                            0.1111111111111111,
                            "#46039f"
                          ],
                          [
                            0.2222222222222222,
                            "#7201a8"
                          ],
                          [
                            0.3333333333333333,
                            "#9c179e"
                          ],
                          [
                            0.4444444444444444,
                            "#bd3786"
                          ],
                          [
                            0.5555555555555556,
                            "#d8576b"
                          ],
                          [
                            0.6666666666666666,
                            "#ed7953"
                          ],
                          [
                            0.7777777777777778,
                            "#fb9f3a"
                          ],
                          [
                            0.8888888888888888,
                            "#fdca26"
                          ],
                          [
                            1,
                            "#f0f921"
                          ]
                        ],
                        "type": "surface"
                      }
                    ],
                    "table": [
                      {
                        "cells": {
                          "fill": {
                            "color": "#EBF0F8"
                          },
                          "line": {
                            "color": "white"
                          }
                        },
                        "header": {
                          "fill": {
                            "color": "#C8D4E3"
                          },
                          "line": {
                            "color": "white"
                          }
                        },
                        "type": "table"
                      }
                    ]
                  },
                  "layout": {
                    "annotationdefaults": {
                      "arrowcolor": "#2a3f5f",
                      "arrowhead": 0,
                      "arrowwidth": 1
                    },
                    "autotypenumbers": "strict",
                    "coloraxis": {
                      "colorbar": {
                        "outlinewidth": 0,
                        "ticks": ""
                      }
                    },
                    "colorscale": {
                      "diverging": [
                        [
                          0,
                          "#8e0152"
                        ],
                        [
                          0.1,
                          "#c51b7d"
                        ],
                        [
                          0.2,
                          "#de77ae"
                        ],
                        [
                          0.3,
                          "#f1b6da"
                        ],
                        [
                          0.4,
                          "#fde0ef"
                        ],
                        [
                          0.5,
                          "#f7f7f7"
                        ],
                        [
                          0.6,
                          "#e6f5d0"
                        ],
                        [
                          0.7,
                          "#b8e186"
                        ],
                        [
                          0.8,
                          "#7fbc41"
                        ],
                        [
                          0.9,
                          "#4d9221"
                        ],
                        [
                          1,
                          "#276419"
                        ]
                      ],
                      "sequential": [
                        [
                          0,
                          "#0d0887"
                        ],
                        [
                          0.1111111111111111,
                          "#46039f"
                        ],
                        [
                          0.2222222222222222,
                          "#7201a8"
                        ],
                        [
                          0.3333333333333333,
                          "#9c179e"
                        ],
                        [
                          0.4444444444444444,
                          "#bd3786"
                        ],
                        [
                          0.5555555555555556,
                          "#d8576b"
                        ],
                        [
                          0.6666666666666666,
                          "#ed7953"
                        ],
                        [
                          0.7777777777777778,
                          "#fb9f3a"
                        ],
                        [
                          0.8888888888888888,
                          "#fdca26"
                        ],
                        [
                          1,
                          "#f0f921"
                        ]
                      ],
                      "sequentialminus": [
                        [
                          0,
                          "#0d0887"
                        ],
                        [
                          0.1111111111111111,
                          "#46039f"
                        ],
                        [
                          0.2222222222222222,
                          "#7201a8"
                        ],
                        [
                          0.3333333333333333,
                          "#9c179e"
                        ],
                        [
                          0.4444444444444444,
                          "#bd3786"
                        ],
                        [
                          0.5555555555555556,
                          "#d8576b"
                        ],
                        [
                          0.6666666666666666,
                          "#ed7953"
                        ],
                        [
                          0.7777777777777778,
                          "#fb9f3a"
                        ],
                        [
                          0.8888888888888888,
                          "#fdca26"
                        ],
                        [
                          1,
                          "#f0f921"
                        ]
                      ]
                    },
                    "colorway": [
                      "#636efa",
                      "#EF553B",
                      "#00cc96",
                      "#ab63fa",
                      "#FFA15A",
                      "#19d3f3",
                      "#FF6692",
                      "#B6E880",
                      "#FF97FF",
                      "#FECB52"
                    ],
                    "font": {
                      "color": "#2a3f5f"
                    },
                    "geo": {
                      "bgcolor": "white",
                      "lakecolor": "white",
                      "landcolor": "#E5ECF6",
                      "showlakes": true,
                      "showland": true,
                      "subunitcolor": "white"
                    },
                    "hoverlabel": {
                      "align": "left"
                    },
                    "hovermode": "closest",
                    "mapbox": {
                      "style": "light"
                    },
                    "paper_bgcolor": "white",
                    "plot_bgcolor": "#E5ECF6",
                    "polar": {
                      "angularaxis": {
                        "gridcolor": "white",
                        "linecolor": "white",
                        "ticks": ""
                      },
                      "bgcolor": "#E5ECF6",
                      "radialaxis": {
                        "gridcolor": "white",
                        "linecolor": "white",
                        "ticks": ""
                      }
                    },
                    "scene": {
                      "xaxis": {
                        "backgroundcolor": "#E5ECF6",
                        "gridcolor": "white",
                        "gridwidth": 2,
                        "linecolor": "white",
                        "showbackground": true,
                        "ticks": "",
                        "zerolinecolor": "white"
                      },
                      "yaxis": {
                        "backgroundcolor": "#E5ECF6",
                        "gridcolor": "white",
                        "gridwidth": 2,
                        "linecolor": "white",
                        "showbackground": true,
                        "ticks": "",
                        "zerolinecolor": "white"
                      },
                      "zaxis": {
                        "backgroundcolor": "#E5ECF6",
                        "gridcolor": "white",
                        "gridwidth": 2,
                        "linecolor": "white",
                        "showbackground": true,
                        "ticks": "",
                        "zerolinecolor": "white"
                      }
                    },
                    "shapedefaults": {
                      "line": {
                        "color": "#2a3f5f"
                      }
                    },
                    "ternary": {
                      "aaxis": {
                        "gridcolor": "white",
                        "linecolor": "white",
                        "ticks": ""
                      },
                      "baxis": {
                        "gridcolor": "white",
                        "linecolor": "white",
                        "ticks": ""
                      },
                      "bgcolor": "#E5ECF6",
                      "caxis": {
                        "gridcolor": "white",
                        "linecolor": "white",
                        "ticks": ""
                      }
                    },
                    "title": {
                      "x": 0.05
                    },
                    "xaxis": {
                      "automargin": true,
                      "gridcolor": "white",
                      "linecolor": "white",
                      "ticks": "",
                      "title": {
                        "standoff": 15
                      },
                      "zerolinecolor": "white",
                      "zerolinewidth": 2
                    },
                    "yaxis": {
                      "automargin": true,
                      "gridcolor": "white",
                      "linecolor": "white",
                      "ticks": "",
                      "title": {
                        "standoff": 15
                      },
                      "zerolinecolor": "white",
                      "zerolinewidth": 2
                    }
                  }
                },
                "xaxis": {
                  "anchor": "y",
                  "domain": [
                    0,
                    1
                  ],
                  "title": {
                    "text": "index"
                  }
                },
                "yaxis": {
                  "anchor": "x",
                  "domain": [
                    0,
                    1
                  ],
                  "title": {
                    "text": "value"
                  }
                }
              }
            }
          },
          "metadata": {},
          "output_type": "display_data"
        }
      ],
      "source": [
        "px.line(goog[0])"
      ]
    },
    {
      "cell_type": "code",
      "execution_count": null,
      "id": "1d556a1c",
      "metadata": {},
      "outputs": [],
      "source": []
    },
    {
      "cell_type": "markdown",
      "id": "f1634b07",
      "metadata": {
        "id": "f1634b07"
      },
      "source": [
        "# Training with supervised Loss"
      ]
    },
    {
      "cell_type": "code",
      "execution_count": 35,
      "id": "96e26040",
      "metadata": {},
      "outputs": [],
      "source": [
        "# Embedder = Time_GAN_module(input_size=dim, output_size=hidden_dim, hidden_dim=hidden_dim, n_layers=n_layers)\n",
        "# Vamos usar o embedder pré treinado\n",
        "Supervisor = Time_GAN_module(input_size=hidden_dim, output_size=hidden_dim, hidden_dim=hidden_dim, n_layers=n_layers-1)\n",
        "embedder_optimizer = optim.Adam(Embedder.parameters(), lr=0.001)\n",
        "supervisor_optimizer = optim.Adam(Recovery.parameters(), lr=0.001)\n",
        "epoch = 100"
      ]
    },
    {
      "cell_type": "code",
      "execution_count": 38,
      "id": "c75a988f",
      "metadata": {
        "colab": {
          "base_uri": "https://localhost:8080/"
        },
        "id": "c75a988f",
        "outputId": "c7c3014a-aa5b-48af-82fa-8e186a4566ce"
      },
      "outputs": [
        {
          "name": "stdout",
          "output_type": "stream",
          "text": [
            "Start Training with Supervised Loss Only\n",
            "step: 1/100, s_loss: 0.02368827\n",
            "step: 2/100, s_loss: 0.018743552\n",
            "step: 3/100, s_loss: 0.014971204\n",
            "step: 4/100, s_loss: 0.012903114\n",
            "step: 5/100, s_loss: 0.010869999\n",
            "step: 6/100, s_loss: 0.010323133\n",
            "step: 7/100, s_loss: 0.009339249\n",
            "step: 8/100, s_loss: 0.008151464\n",
            "step: 9/100, s_loss: 0.007883803\n",
            "step: 10/100, s_loss: 0.0071520777\n",
            "step: 11/100, s_loss: 0.006448887\n",
            "step: 12/100, s_loss: 0.0067113275\n",
            "step: 13/100, s_loss: 0.006464646\n",
            "step: 14/100, s_loss: 0.0060999803\n",
            "step: 15/100, s_loss: 0.00596619\n",
            "step: 16/100, s_loss: 0.005176845\n",
            "step: 17/100, s_loss: 0.0049726684\n",
            "step: 18/100, s_loss: 0.004815283\n",
            "step: 19/100, s_loss: 0.004754663\n",
            "step: 20/100, s_loss: 0.0042526633\n",
            "step: 21/100, s_loss: 0.0042157234\n",
            "step: 22/100, s_loss: 0.0041143917\n",
            "step: 23/100, s_loss: 0.0041654683\n",
            "step: 24/100, s_loss: 0.0036213712\n",
            "step: 25/100, s_loss: 0.0036716044\n",
            "step: 26/100, s_loss: 0.0033999765\n",
            "step: 27/100, s_loss: 0.0035637\n",
            "step: 28/100, s_loss: 0.0034326573\n",
            "step: 29/100, s_loss: 0.0032517503\n",
            "step: 30/100, s_loss: 0.0031716542\n",
            "step: 31/100, s_loss: 0.0030135775\n",
            "step: 32/100, s_loss: 0.0029338438\n",
            "step: 33/100, s_loss: 0.002892233\n",
            "step: 34/100, s_loss: 0.0029420715\n",
            "step: 35/100, s_loss: 0.0025946836\n",
            "step: 36/100, s_loss: 0.00278033\n",
            "step: 37/100, s_loss: 0.0027695529\n",
            "step: 38/100, s_loss: 0.0025675148\n",
            "step: 39/100, s_loss: 0.0025289785\n",
            "step: 40/100, s_loss: 0.0026695996\n",
            "step: 41/100, s_loss: 0.0024918816\n",
            "step: 42/100, s_loss: 0.002550144\n",
            "step: 43/100, s_loss: 0.002405059\n",
            "step: 44/100, s_loss: 0.0021199533\n",
            "step: 45/100, s_loss: 0.002238491\n",
            "step: 46/100, s_loss: 0.0021071343\n",
            "step: 47/100, s_loss: 0.0022588065\n",
            "step: 48/100, s_loss: 0.0020926376\n",
            "step: 49/100, s_loss: 0.00209018\n",
            "step: 50/100, s_loss: 0.0019545401\n",
            "step: 51/100, s_loss: 0.0020546056\n",
            "step: 52/100, s_loss: 0.001971062\n",
            "step: 53/100, s_loss: 0.0020589586\n",
            "step: 54/100, s_loss: 0.0019086921\n",
            "step: 55/100, s_loss: 0.0019948038\n",
            "step: 56/100, s_loss: 0.0020673545\n",
            "step: 57/100, s_loss: 0.0019567225\n",
            "step: 58/100, s_loss: 0.0017740249\n",
            "step: 59/100, s_loss: 0.0019198367\n",
            "step: 60/100, s_loss: 0.0018358646\n",
            "step: 61/100, s_loss: 0.0018247259\n",
            "step: 62/100, s_loss: 0.0017421291\n",
            "step: 63/100, s_loss: 0.0016788758\n",
            "step: 64/100, s_loss: 0.0017223108\n",
            "step: 65/100, s_loss: 0.0016773166\n",
            "step: 66/100, s_loss: 0.0016526452\n",
            "step: 67/100, s_loss: 0.0017563823\n",
            "step: 68/100, s_loss: 0.0015738204\n",
            "step: 69/100, s_loss: 0.0016482619\n",
            "step: 70/100, s_loss: 0.0016169938\n",
            "step: 71/100, s_loss: 0.0015844029\n",
            "step: 72/100, s_loss: 0.0015242071\n",
            "step: 73/100, s_loss: 0.0015385374\n",
            "step: 74/100, s_loss: 0.0015194026\n",
            "step: 75/100, s_loss: 0.0014829824\n",
            "step: 76/100, s_loss: 0.0014445191\n",
            "step: 77/100, s_loss: 0.0014837297\n",
            "step: 78/100, s_loss: 0.0015048551\n",
            "step: 79/100, s_loss: 0.0014410028\n",
            "step: 80/100, s_loss: 0.0015010289\n",
            "step: 81/100, s_loss: 0.001384535\n",
            "step: 82/100, s_loss: 0.0015296086\n",
            "step: 83/100, s_loss: 0.0014692164\n",
            "step: 84/100, s_loss: 0.0013893123\n",
            "step: 85/100, s_loss: 0.0013645487\n",
            "step: 86/100, s_loss: 0.0013722753\n",
            "step: 87/100, s_loss: 0.0015349059\n",
            "step: 88/100, s_loss: 0.0013988971\n",
            "step: 89/100, s_loss: 0.0012976858\n",
            "step: 90/100, s_loss: 0.0012687093\n",
            "step: 91/100, s_loss: 0.0012499727\n",
            "step: 92/100, s_loss: 0.0012368122\n",
            "step: 93/100, s_loss: 0.0012334884\n",
            "step: 94/100, s_loss: 0.0012211393\n",
            "step: 95/100, s_loss: 0.0013381129\n",
            "step: 96/100, s_loss: 0.001211024\n",
            "step: 97/100, s_loss: 0.0012407124\n",
            "step: 98/100, s_loss: 0.0011881546\n",
            "step: 99/100, s_loss: 0.0011498366\n",
            "Finish Training with Supervised Loss Only\n"
          ]
        }
      ],
      "source": [
        "print('Start Training with Supervised Loss Only')\n",
        "valLoss = []\n",
        "trainLoss = []\n",
        "for e in range(epoch): \n",
        "    for batch_index, X in enumerate(loader):\n",
        "        Embedder.train()\n",
        "        Supervisor.train()\n",
        "\n",
        "        H, _ = Embedder(X.float())\n",
        "        H = torch.reshape(H, (batch_size, seq_len, hidden_dim))\n",
        "\n",
        "        H_hat_supervise, _ = Supervisor(H)\n",
        "        H_hat_supervise = torch.reshape(H_hat_supervise, (batch_size, seq_len, hidden_dim))  \n",
        "\n",
        "        G_loss_S = MSE_loss(H[:,1:,:], H_hat_supervise[:,:-1,:])\n",
        "\n",
        "        Embedder.zero_grad()\n",
        "        Supervisor.zero_grad()\n",
        "\n",
        "        G_loss_S.backward(retain_graph=True)\n",
        "\n",
        "        embedder_optimizer.step()\n",
        "        supervisor_optimizer.step()\n",
        "\n",
        "        if e in range(1,epoch) and batch_index == 0:\n",
        "            Embedder.eval()\n",
        "            Supervisor.eval()\n",
        "            H, _ = Embedder(goog)\n",
        "            H = torch.reshape(H, (goog.shape[0], seq_len, hidden_dim))\n",
        "            H_hat_supervise, _ = Supervisor(H)\n",
        "            H_hat_supervise = torch.reshape(H_hat_supervise, (goog.shape[0], seq_len, hidden_dim)) \n",
        "            valLoss.append(MSE_loss(H[:,1:,:], H_hat_supervise[:,:-1,:]).detach().numpy())\n",
        "            H, _ = Embedder(data)\n",
        "            H = torch.reshape(H, (data.shape[0], seq_len, hidden_dim))\n",
        "            H_hat_supervise, _ = Supervisor(H)\n",
        "            H_hat_supervise = torch.reshape(H_hat_supervise, (data.shape[0], seq_len, hidden_dim)) \n",
        "            trainLoss.append(MSE_loss(H[:,1:,:], H_hat_supervise[:,:-1,:]).detach().numpy())\n",
        "            print('step: '+ str(e) + '/' + str(epoch) + ', s_loss: ' + str(np.sqrt(G_loss_S.detach().numpy())))\n",
        "\n",
        "print('Finish Training with Supervised Loss Only')"
      ]
    },
    {
      "cell_type": "code",
      "execution_count": 40,
      "id": "1040c2c0",
      "metadata": {
        "id": "1040c2c0"
      },
      "outputs": [],
      "source": [
        "torch.save(Embedder.state_dict(), 'Embedder.pth')\n",
        "torch.save(Supervisor.state_dict(), 'Supervisor.pth')\n",
        "torch.save(Recovery.state_dict(), 'Recovery.pth')"
      ]
    },
    {
      "cell_type": "code",
      "execution_count": 7,
      "id": "a0e1ecac",
      "metadata": {},
      "outputs": [
        {
          "data": {
            "text/plain": [
              "<All keys matched successfully>"
            ]
          },
          "execution_count": 7,
          "metadata": {},
          "output_type": "execute_result"
        }
      ],
      "source": [
        "Embedder = Time_GAN_module(input_size=dim, output_size=hidden_dim, hidden_dim=hidden_dim, n_layers=n_layers)\n",
        "Recovery = Time_GAN_module(input_size=hidden_dim, output_size=dim, hidden_dim=hidden_dim, n_layers=n_layers)\n",
        "Supervisor = Time_GAN_module(input_size=hidden_dim, output_size=hidden_dim, hidden_dim=hidden_dim, n_layers=n_layers-1)\n",
        "Embedder.load_state_dict(torch.load('Embedder.pth'))\n",
        "Supervisor.load_state_dict(torch.load('Supervisor.pth'))\n",
        "Recovery.load_state_dict(torch.load('Recovery.pth'))"
      ]
    },
    {
      "cell_type": "code",
      "execution_count": 39,
      "id": "23e96c5d",
      "metadata": {},
      "outputs": [
        {
          "data": {
            "application/vnd.plotly.v1+json": {
              "config": {
                "plotlyServerURL": "https://plot.ly"
              },
              "data": [
                {
                  "hovertemplate": "variable=0<br>index=%{x}<br>value=%{y}<extra></extra>",
                  "legendgroup": "0",
                  "line": {
                    "color": "#636efa",
                    "dash": "solid"
                  },
                  "marker": {
                    "symbol": "circle"
                  },
                  "mode": "lines",
                  "name": "0",
                  "orientation": "v",
                  "showlegend": true,
                  "type": "scatter",
                  "x": [
                    0,
                    1,
                    2,
                    3,
                    4,
                    5,
                    6,
                    7,
                    8,
                    9,
                    10,
                    11,
                    12,
                    13,
                    14,
                    15,
                    16,
                    17,
                    18,
                    19,
                    20,
                    21,
                    22,
                    23,
                    24,
                    25,
                    26,
                    27,
                    28,
                    29,
                    30,
                    31,
                    32,
                    33,
                    34,
                    35,
                    36,
                    37,
                    38,
                    39,
                    40,
                    41,
                    42,
                    43,
                    44,
                    45,
                    46,
                    47,
                    48,
                    49,
                    50,
                    51,
                    52,
                    53,
                    54,
                    55,
                    56,
                    57,
                    58,
                    59,
                    60,
                    61,
                    62,
                    63,
                    64,
                    65,
                    66,
                    67,
                    68,
                    69,
                    70,
                    71,
                    72,
                    73,
                    74,
                    75,
                    76,
                    77,
                    78,
                    79,
                    80,
                    81,
                    82,
                    83,
                    84,
                    85,
                    86,
                    87,
                    88,
                    89,
                    90,
                    91,
                    92,
                    93,
                    94,
                    95,
                    96,
                    97,
                    98
                  ],
                  "xaxis": "x",
                  "y": [
                    0.0005312349530868232,
                    0.0003395587264094502,
                    0.0002332149597350508,
                    0.00016627239529043436,
                    0.00012589656398631632,
                    0.00010070015559904277,
                    0.00008336477912962437,
                    0.00007085076504154131,
                    0.00006146803934825584,
                    0.00005404900366556831,
                    0.00004783413533004932,
                    0.00004273899321560748,
                    0.00003830330024356954,
                    0.00003453790122875944,
                    0.00003134319922537543,
                    0.000028230433599674143,
                    0.000025705803636810742,
                    0.00002335935459996108,
                    0.000021318057406460866,
                    0.000019457473172224127,
                    0.00001786708162399009,
                    0.000016450765542685986,
                    0.000015215301573334727,
                    0.000014155543794913683,
                    0.000013162589311832562,
                    0.000012338922715571243,
                    0.000011553822332643904,
                    0.000010881566595344339,
                    0.000010368970833951607,
                    0.000009722355571284425,
                    0.000009232810043613426,
                    0.000008771503416937776,
                    0.000008348294613824692,
                    0.000007956668923725374,
                    0.000007632776942045894,
                    0.000007269322850333992,
                    0.000006965096872590948,
                    0.000006673749794572359,
                    0.000006410575224435888,
                    0.0000061520145209215116,
                    0.000005923865501245018,
                    0.000005704584054910811,
                    0.0000054994561651255935,
                    0.0000053126159400562756,
                    0.000005134883849677863,
                    0.000004984103725291789,
                    0.000004856409759668168,
                    0.000004647848982131109,
                    0.000004523189545579953,
                    0.000004364015694591217,
                    0.0000042294659579056315,
                    0.000004109225756110391,
                    0.000004017300852865446,
                    0.0000038747753023926634,
                    0.000003767569296542206,
                    0.0000037047918794996804,
                    0.0000035922946608479833,
                    0.000003472727257758379,
                    0.0000033883570722537115,
                    0.0000032955069855233887,
                    0.0000032185630516323727,
                    0.000003135425458822283,
                    0.0000030686969694215804,
                    0.0000029974098652019165,
                    0.0000029177510896261083,
                    0.000002856993432942545,
                    0.000002785822744044708,
                    0.00000272570900961,
                    0.0000026624020392773673,
                    0.0000026323120891902363,
                    0.000002607078386063222,
                    0.000002531680820538895,
                    0.0000024422247406619135,
                    0.000002399237473582616,
                    0.000002353754098294303,
                    0.0000023094191874406533,
                    0.0000022478882328869076,
                    0.000002208940259151859,
                    0.0000021635705707012676,
                    0.000002116624955306179,
                    0.0000020747982034663437,
                    0.0000020370414404169424,
                    0.000002000576387217734,
                    0.000001984429445656133,
                    0.0000019246037936682114,
                    0.000001914301719807554,
                    0.000001852696186688263,
                    0.0000018175804825659725,
                    0.0000017860726302387775,
                    0.0000018338948848395376,
                    0.0000017228348951903172,
                    0.0000016948634993241285,
                    0.0000016609041040283046,
                    0.0000016384850596296019,
                    0.0000016140149909915635,
                    0.0000015737073226773646,
                    0.0000015451831814061734,
                    0.0000015179526826614165,
                    0.0000015109386595213437
                  ],
                  "yaxis": "y"
                },
                {
                  "mode": "lines",
                  "type": "scatter",
                  "y": [
                    0.0006326361326500773,
                    0.000413810892496258,
                    0.00030091870576143265,
                    0.00023018979118205607,
                    0.0001840520853875205,
                    0.00015598074242006987,
                    0.00013321981532499194,
                    0.00011720057955244556,
                    0.00010223699791822582,
                    0.00009254654287360609,
                    0.00008282433554995805,
                    0.00007564281986560673,
                    0.00006948572990950197,
                    0.00006318964005913585,
                    0.00005587899431702681,
                    0.000053391482651932165,
                    0.00004830880425288342,
                    0.000044807864469476044,
                    0.00004183550117886625,
                    0.000037419456930365413,
                    0.00003464745168457739,
                    0.000032099698728416115,
                    0.000029319578970898874,
                    0.00002691829649847932,
                    0.000025513996661175042,
                    0.000024346703867195174,
                    0.00002235988540633116,
                    0.000020943574781995267,
                    0.000020547464373521507,
                    0.000018807604647008702,
                    0.000017982620192924514,
                    0.000016861387848621234,
                    0.00001646269447519444,
                    0.00001535116825834848,
                    0.000014610929611080792,
                    0.000014251102584239561,
                    0.000013520389074983541,
                    0.000013029511137574445,
                    0.000012874884305347223,
                    0.000012222950317664072,
                    0.000011867948160215747,
                    0.000011439756235631648,
                    0.000010931975339190103,
                    0.000010606716386973858,
                    0.000010369092706241645,
                    0.000010158705663343426,
                    0.000009864558705885429,
                    0.000009340424185211305,
                    0.0000091629781309166,
                    0.000008608192729298025,
                    0.000008522601092408877,
                    0.000008123849511321168,
                    0.000007874987204559147,
                    0.00000774345789977815,
                    0.000007546514098066837,
                    0.000007562637620139867,
                    0.000007031785571598448,
                    0.000006888827556394972,
                    0.000006893855243106373,
                    0.000006599170319532277,
                    0.000006515163931908319,
                    0.000006256069809751352,
                    0.000006171306722535519,
                    0.00000607483934800257,
                    0.0000057547395044821315,
                    0.000005567300377151696,
                    0.000005584672635450261,
                    0.000005485849214892369,
                    0.000005245573447609786,
                    0.000005273530859994935,
                    0.000005210206836636644,
                    0.0000050740754886646755,
                    0.000004784541943081422,
                    0.000004675418949773302,
                    0.000004535207608569181,
                    0.000004429320142662618,
                    0.000004399723366077524,
                    0.000004199720933684148,
                    0.000004265094503352884,
                    0.000004143250407651067,
                    0.000003987309810327133,
                    0.000003906964138877811,
                    0.00000380826941182022,
                    0.000003891366759489756,
                    0.0000036858132261841092,
                    0.0000035055281841778196,
                    0.0000035582820601121057,
                    0.0000034525432965892833,
                    0.0000034215258892800193,
                    0.000003230893526051659,
                    0.0000032789889701234642,
                    0.0000031541851512884023,
                    0.0000031656963983550668,
                    0.000003144830543533317,
                    0.0000029586981327156536,
                    0.0000029667237413377734,
                    0.000002905906512751244,
                    0.000002824055854944163,
                    0.0000028540553103084676
                  ]
                }
              ],
              "layout": {
                "legend": {
                  "title": {
                    "text": "variable"
                  },
                  "tracegroupgap": 0
                },
                "margin": {
                  "t": 60
                },
                "template": {
                  "data": {
                    "bar": [
                      {
                        "error_x": {
                          "color": "#2a3f5f"
                        },
                        "error_y": {
                          "color": "#2a3f5f"
                        },
                        "marker": {
                          "line": {
                            "color": "#E5ECF6",
                            "width": 0.5
                          },
                          "pattern": {
                            "fillmode": "overlay",
                            "size": 10,
                            "solidity": 0.2
                          }
                        },
                        "type": "bar"
                      }
                    ],
                    "barpolar": [
                      {
                        "marker": {
                          "line": {
                            "color": "#E5ECF6",
                            "width": 0.5
                          },
                          "pattern": {
                            "fillmode": "overlay",
                            "size": 10,
                            "solidity": 0.2
                          }
                        },
                        "type": "barpolar"
                      }
                    ],
                    "carpet": [
                      {
                        "aaxis": {
                          "endlinecolor": "#2a3f5f",
                          "gridcolor": "white",
                          "linecolor": "white",
                          "minorgridcolor": "white",
                          "startlinecolor": "#2a3f5f"
                        },
                        "baxis": {
                          "endlinecolor": "#2a3f5f",
                          "gridcolor": "white",
                          "linecolor": "white",
                          "minorgridcolor": "white",
                          "startlinecolor": "#2a3f5f"
                        },
                        "type": "carpet"
                      }
                    ],
                    "choropleth": [
                      {
                        "colorbar": {
                          "outlinewidth": 0,
                          "ticks": ""
                        },
                        "type": "choropleth"
                      }
                    ],
                    "contour": [
                      {
                        "colorbar": {
                          "outlinewidth": 0,
                          "ticks": ""
                        },
                        "colorscale": [
                          [
                            0,
                            "#0d0887"
                          ],
                          [
                            0.1111111111111111,
                            "#46039f"
                          ],
                          [
                            0.2222222222222222,
                            "#7201a8"
                          ],
                          [
                            0.3333333333333333,
                            "#9c179e"
                          ],
                          [
                            0.4444444444444444,
                            "#bd3786"
                          ],
                          [
                            0.5555555555555556,
                            "#d8576b"
                          ],
                          [
                            0.6666666666666666,
                            "#ed7953"
                          ],
                          [
                            0.7777777777777778,
                            "#fb9f3a"
                          ],
                          [
                            0.8888888888888888,
                            "#fdca26"
                          ],
                          [
                            1,
                            "#f0f921"
                          ]
                        ],
                        "type": "contour"
                      }
                    ],
                    "contourcarpet": [
                      {
                        "colorbar": {
                          "outlinewidth": 0,
                          "ticks": ""
                        },
                        "type": "contourcarpet"
                      }
                    ],
                    "heatmap": [
                      {
                        "colorbar": {
                          "outlinewidth": 0,
                          "ticks": ""
                        },
                        "colorscale": [
                          [
                            0,
                            "#0d0887"
                          ],
                          [
                            0.1111111111111111,
                            "#46039f"
                          ],
                          [
                            0.2222222222222222,
                            "#7201a8"
                          ],
                          [
                            0.3333333333333333,
                            "#9c179e"
                          ],
                          [
                            0.4444444444444444,
                            "#bd3786"
                          ],
                          [
                            0.5555555555555556,
                            "#d8576b"
                          ],
                          [
                            0.6666666666666666,
                            "#ed7953"
                          ],
                          [
                            0.7777777777777778,
                            "#fb9f3a"
                          ],
                          [
                            0.8888888888888888,
                            "#fdca26"
                          ],
                          [
                            1,
                            "#f0f921"
                          ]
                        ],
                        "type": "heatmap"
                      }
                    ],
                    "heatmapgl": [
                      {
                        "colorbar": {
                          "outlinewidth": 0,
                          "ticks": ""
                        },
                        "colorscale": [
                          [
                            0,
                            "#0d0887"
                          ],
                          [
                            0.1111111111111111,
                            "#46039f"
                          ],
                          [
                            0.2222222222222222,
                            "#7201a8"
                          ],
                          [
                            0.3333333333333333,
                            "#9c179e"
                          ],
                          [
                            0.4444444444444444,
                            "#bd3786"
                          ],
                          [
                            0.5555555555555556,
                            "#d8576b"
                          ],
                          [
                            0.6666666666666666,
                            "#ed7953"
                          ],
                          [
                            0.7777777777777778,
                            "#fb9f3a"
                          ],
                          [
                            0.8888888888888888,
                            "#fdca26"
                          ],
                          [
                            1,
                            "#f0f921"
                          ]
                        ],
                        "type": "heatmapgl"
                      }
                    ],
                    "histogram": [
                      {
                        "marker": {
                          "pattern": {
                            "fillmode": "overlay",
                            "size": 10,
                            "solidity": 0.2
                          }
                        },
                        "type": "histogram"
                      }
                    ],
                    "histogram2d": [
                      {
                        "colorbar": {
                          "outlinewidth": 0,
                          "ticks": ""
                        },
                        "colorscale": [
                          [
                            0,
                            "#0d0887"
                          ],
                          [
                            0.1111111111111111,
                            "#46039f"
                          ],
                          [
                            0.2222222222222222,
                            "#7201a8"
                          ],
                          [
                            0.3333333333333333,
                            "#9c179e"
                          ],
                          [
                            0.4444444444444444,
                            "#bd3786"
                          ],
                          [
                            0.5555555555555556,
                            "#d8576b"
                          ],
                          [
                            0.6666666666666666,
                            "#ed7953"
                          ],
                          [
                            0.7777777777777778,
                            "#fb9f3a"
                          ],
                          [
                            0.8888888888888888,
                            "#fdca26"
                          ],
                          [
                            1,
                            "#f0f921"
                          ]
                        ],
                        "type": "histogram2d"
                      }
                    ],
                    "histogram2dcontour": [
                      {
                        "colorbar": {
                          "outlinewidth": 0,
                          "ticks": ""
                        },
                        "colorscale": [
                          [
                            0,
                            "#0d0887"
                          ],
                          [
                            0.1111111111111111,
                            "#46039f"
                          ],
                          [
                            0.2222222222222222,
                            "#7201a8"
                          ],
                          [
                            0.3333333333333333,
                            "#9c179e"
                          ],
                          [
                            0.4444444444444444,
                            "#bd3786"
                          ],
                          [
                            0.5555555555555556,
                            "#d8576b"
                          ],
                          [
                            0.6666666666666666,
                            "#ed7953"
                          ],
                          [
                            0.7777777777777778,
                            "#fb9f3a"
                          ],
                          [
                            0.8888888888888888,
                            "#fdca26"
                          ],
                          [
                            1,
                            "#f0f921"
                          ]
                        ],
                        "type": "histogram2dcontour"
                      }
                    ],
                    "mesh3d": [
                      {
                        "colorbar": {
                          "outlinewidth": 0,
                          "ticks": ""
                        },
                        "type": "mesh3d"
                      }
                    ],
                    "parcoords": [
                      {
                        "line": {
                          "colorbar": {
                            "outlinewidth": 0,
                            "ticks": ""
                          }
                        },
                        "type": "parcoords"
                      }
                    ],
                    "pie": [
                      {
                        "automargin": true,
                        "type": "pie"
                      }
                    ],
                    "scatter": [
                      {
                        "fillpattern": {
                          "fillmode": "overlay",
                          "size": 10,
                          "solidity": 0.2
                        },
                        "type": "scatter"
                      }
                    ],
                    "scatter3d": [
                      {
                        "line": {
                          "colorbar": {
                            "outlinewidth": 0,
                            "ticks": ""
                          }
                        },
                        "marker": {
                          "colorbar": {
                            "outlinewidth": 0,
                            "ticks": ""
                          }
                        },
                        "type": "scatter3d"
                      }
                    ],
                    "scattercarpet": [
                      {
                        "marker": {
                          "colorbar": {
                            "outlinewidth": 0,
                            "ticks": ""
                          }
                        },
                        "type": "scattercarpet"
                      }
                    ],
                    "scattergeo": [
                      {
                        "marker": {
                          "colorbar": {
                            "outlinewidth": 0,
                            "ticks": ""
                          }
                        },
                        "type": "scattergeo"
                      }
                    ],
                    "scattergl": [
                      {
                        "marker": {
                          "colorbar": {
                            "outlinewidth": 0,
                            "ticks": ""
                          }
                        },
                        "type": "scattergl"
                      }
                    ],
                    "scattermapbox": [
                      {
                        "marker": {
                          "colorbar": {
                            "outlinewidth": 0,
                            "ticks": ""
                          }
                        },
                        "type": "scattermapbox"
                      }
                    ],
                    "scatterpolar": [
                      {
                        "marker": {
                          "colorbar": {
                            "outlinewidth": 0,
                            "ticks": ""
                          }
                        },
                        "type": "scatterpolar"
                      }
                    ],
                    "scatterpolargl": [
                      {
                        "marker": {
                          "colorbar": {
                            "outlinewidth": 0,
                            "ticks": ""
                          }
                        },
                        "type": "scatterpolargl"
                      }
                    ],
                    "scatterternary": [
                      {
                        "marker": {
                          "colorbar": {
                            "outlinewidth": 0,
                            "ticks": ""
                          }
                        },
                        "type": "scatterternary"
                      }
                    ],
                    "surface": [
                      {
                        "colorbar": {
                          "outlinewidth": 0,
                          "ticks": ""
                        },
                        "colorscale": [
                          [
                            0,
                            "#0d0887"
                          ],
                          [
                            0.1111111111111111,
                            "#46039f"
                          ],
                          [
                            0.2222222222222222,
                            "#7201a8"
                          ],
                          [
                            0.3333333333333333,
                            "#9c179e"
                          ],
                          [
                            0.4444444444444444,
                            "#bd3786"
                          ],
                          [
                            0.5555555555555556,
                            "#d8576b"
                          ],
                          [
                            0.6666666666666666,
                            "#ed7953"
                          ],
                          [
                            0.7777777777777778,
                            "#fb9f3a"
                          ],
                          [
                            0.8888888888888888,
                            "#fdca26"
                          ],
                          [
                            1,
                            "#f0f921"
                          ]
                        ],
                        "type": "surface"
                      }
                    ],
                    "table": [
                      {
                        "cells": {
                          "fill": {
                            "color": "#EBF0F8"
                          },
                          "line": {
                            "color": "white"
                          }
                        },
                        "header": {
                          "fill": {
                            "color": "#C8D4E3"
                          },
                          "line": {
                            "color": "white"
                          }
                        },
                        "type": "table"
                      }
                    ]
                  },
                  "layout": {
                    "annotationdefaults": {
                      "arrowcolor": "#2a3f5f",
                      "arrowhead": 0,
                      "arrowwidth": 1
                    },
                    "autotypenumbers": "strict",
                    "coloraxis": {
                      "colorbar": {
                        "outlinewidth": 0,
                        "ticks": ""
                      }
                    },
                    "colorscale": {
                      "diverging": [
                        [
                          0,
                          "#8e0152"
                        ],
                        [
                          0.1,
                          "#c51b7d"
                        ],
                        [
                          0.2,
                          "#de77ae"
                        ],
                        [
                          0.3,
                          "#f1b6da"
                        ],
                        [
                          0.4,
                          "#fde0ef"
                        ],
                        [
                          0.5,
                          "#f7f7f7"
                        ],
                        [
                          0.6,
                          "#e6f5d0"
                        ],
                        [
                          0.7,
                          "#b8e186"
                        ],
                        [
                          0.8,
                          "#7fbc41"
                        ],
                        [
                          0.9,
                          "#4d9221"
                        ],
                        [
                          1,
                          "#276419"
                        ]
                      ],
                      "sequential": [
                        [
                          0,
                          "#0d0887"
                        ],
                        [
                          0.1111111111111111,
                          "#46039f"
                        ],
                        [
                          0.2222222222222222,
                          "#7201a8"
                        ],
                        [
                          0.3333333333333333,
                          "#9c179e"
                        ],
                        [
                          0.4444444444444444,
                          "#bd3786"
                        ],
                        [
                          0.5555555555555556,
                          "#d8576b"
                        ],
                        [
                          0.6666666666666666,
                          "#ed7953"
                        ],
                        [
                          0.7777777777777778,
                          "#fb9f3a"
                        ],
                        [
                          0.8888888888888888,
                          "#fdca26"
                        ],
                        [
                          1,
                          "#f0f921"
                        ]
                      ],
                      "sequentialminus": [
                        [
                          0,
                          "#0d0887"
                        ],
                        [
                          0.1111111111111111,
                          "#46039f"
                        ],
                        [
                          0.2222222222222222,
                          "#7201a8"
                        ],
                        [
                          0.3333333333333333,
                          "#9c179e"
                        ],
                        [
                          0.4444444444444444,
                          "#bd3786"
                        ],
                        [
                          0.5555555555555556,
                          "#d8576b"
                        ],
                        [
                          0.6666666666666666,
                          "#ed7953"
                        ],
                        [
                          0.7777777777777778,
                          "#fb9f3a"
                        ],
                        [
                          0.8888888888888888,
                          "#fdca26"
                        ],
                        [
                          1,
                          "#f0f921"
                        ]
                      ]
                    },
                    "colorway": [
                      "#636efa",
                      "#EF553B",
                      "#00cc96",
                      "#ab63fa",
                      "#FFA15A",
                      "#19d3f3",
                      "#FF6692",
                      "#B6E880",
                      "#FF97FF",
                      "#FECB52"
                    ],
                    "font": {
                      "color": "#2a3f5f"
                    },
                    "geo": {
                      "bgcolor": "white",
                      "lakecolor": "white",
                      "landcolor": "#E5ECF6",
                      "showlakes": true,
                      "showland": true,
                      "subunitcolor": "white"
                    },
                    "hoverlabel": {
                      "align": "left"
                    },
                    "hovermode": "closest",
                    "mapbox": {
                      "style": "light"
                    },
                    "paper_bgcolor": "white",
                    "plot_bgcolor": "#E5ECF6",
                    "polar": {
                      "angularaxis": {
                        "gridcolor": "white",
                        "linecolor": "white",
                        "ticks": ""
                      },
                      "bgcolor": "#E5ECF6",
                      "radialaxis": {
                        "gridcolor": "white",
                        "linecolor": "white",
                        "ticks": ""
                      }
                    },
                    "scene": {
                      "xaxis": {
                        "backgroundcolor": "#E5ECF6",
                        "gridcolor": "white",
                        "gridwidth": 2,
                        "linecolor": "white",
                        "showbackground": true,
                        "ticks": "",
                        "zerolinecolor": "white"
                      },
                      "yaxis": {
                        "backgroundcolor": "#E5ECF6",
                        "gridcolor": "white",
                        "gridwidth": 2,
                        "linecolor": "white",
                        "showbackground": true,
                        "ticks": "",
                        "zerolinecolor": "white"
                      },
                      "zaxis": {
                        "backgroundcolor": "#E5ECF6",
                        "gridcolor": "white",
                        "gridwidth": 2,
                        "linecolor": "white",
                        "showbackground": true,
                        "ticks": "",
                        "zerolinecolor": "white"
                      }
                    },
                    "shapedefaults": {
                      "line": {
                        "color": "#2a3f5f"
                      }
                    },
                    "ternary": {
                      "aaxis": {
                        "gridcolor": "white",
                        "linecolor": "white",
                        "ticks": ""
                      },
                      "baxis": {
                        "gridcolor": "white",
                        "linecolor": "white",
                        "ticks": ""
                      },
                      "bgcolor": "#E5ECF6",
                      "caxis": {
                        "gridcolor": "white",
                        "linecolor": "white",
                        "ticks": ""
                      }
                    },
                    "title": {
                      "x": 0.05
                    },
                    "xaxis": {
                      "automargin": true,
                      "gridcolor": "white",
                      "linecolor": "white",
                      "ticks": "",
                      "title": {
                        "standoff": 15
                      },
                      "zerolinecolor": "white",
                      "zerolinewidth": 2
                    },
                    "yaxis": {
                      "automargin": true,
                      "gridcolor": "white",
                      "linecolor": "white",
                      "ticks": "",
                      "title": {
                        "standoff": 15
                      },
                      "zerolinecolor": "white",
                      "zerolinewidth": 2
                    }
                  }
                },
                "xaxis": {
                  "anchor": "y",
                  "domain": [
                    0,
                    1
                  ],
                  "title": {
                    "text": "index"
                  }
                },
                "yaxis": {
                  "anchor": "x",
                  "domain": [
                    0,
                    1
                  ],
                  "title": {
                    "text": "value"
                  }
                }
              }
            }
          },
          "metadata": {},
          "output_type": "display_data"
        }
      ],
      "source": [
        "fig = px.line(trainLoss)\n",
        "fig.add_trace(go.Scatter(y=valLoss, mode=\"lines\"))\n",
        "fig.show()"
      ]
    },
    {
      "cell_type": "code",
      "execution_count": null,
      "id": "a2cc8c39",
      "metadata": {},
      "outputs": [],
      "source": []
    },
    {
      "cell_type": "markdown",
      "id": "3c608668",
      "metadata": {},
      "source": [
        "# Treinamento do discriminador"
      ]
    },
    {
      "cell_type": "code",
      "execution_count": 8,
      "id": "9e2cd6ad",
      "metadata": {
        "id": "9e2cd6ad"
      },
      "outputs": [],
      "source": [
        "random_data = random_generator(batch_size=batch_size, z_dim=dim, \n",
        "                                       T_mb=extract_time(data)[0], max_seq_len=extract_time(data)[1])"
      ]
    },
    {
      "cell_type": "code",
      "execution_count": 9,
      "id": "627dd17f",
      "metadata": {
        "id": "627dd17f"
      },
      "outputs": [],
      "source": [
        "loader = DataLoader(data, batch_size, shuffle=True, drop_last=True)\n",
        "random_loader = DataLoader(random_data, batch_size, shuffle=True, drop_last=True)\n",
        "binary_cross_entropy_loss = nn.BCEWithLogitsLoss()\n",
        "MSE_loss = nn.MSELoss()"
      ]
    },
    {
      "cell_type": "code",
      "execution_count": 49,
      "id": "GFKdBugWo9OM",
      "metadata": {
        "id": "GFKdBugWo9OM"
      },
      "outputs": [],
      "source": [
        "def TimeGAN(data, parameters):\n",
        "  hidden_dim = parameters[\"hidden_dim\"]\n",
        "  num_layers = parameters[\"num_layers\"]\n",
        "  iterations = parameters[\"iterations\"]\n",
        "  batch_size = parameters[\"batch_size\"]\n",
        "  module = parameters[\"module\"]\n",
        "  epoch = parameters[\"epoch\"]\n",
        "  no, seq_len, dim = np.asarray(data).shape\n",
        "  z_dim = dim\n",
        "  gamma = 1\n",
        "\n",
        "  Embedder = Time_GAN_module(input_size=z_dim, output_size=hidden_dim, hidden_dim=hidden_dim, n_layers=num_layers)\n",
        "  Recovery = Time_GAN_module(input_size=hidden_dim, output_size=dim, hidden_dim=hidden_dim, n_layers=n_layers)\n",
        "  Generator = Time_GAN_module(input_size=dim, output_size=hidden_dim, hidden_dim=hidden_dim, n_layers=n_layers)\n",
        "  Supervisor = Time_GAN_module(input_size=hidden_dim, output_size=hidden_dim, hidden_dim=hidden_dim, n_layers=n_layers-1)\n",
        "  Discriminator = Time_GAN_module(input_size=hidden_dim, output_size=1, hidden_dim=hidden_dim, n_layers=n_layers, activation=nn.Identity)\n",
        "\n",
        "  embedder_optimizer = optim.Adam(Embedder.parameters(), lr=0.001)\n",
        "  recovery_optimizer = optim.Adam(Recovery.parameters(), lr=0.001)\n",
        "  supervisor_optimizer = optim.Adam(Recovery.parameters(), lr=0.001)\n",
        "  discriminator_optimizer = optim.Adam(Discriminator.parameters(), lr=0.001)\n",
        "  generator_optimizer = optim.Adam(Generator.parameters(), lr=0.001)\n",
        "\n",
        "  # Embedding Network Training\n",
        "  print('Start Embedding Network Training')\n",
        "  for e in range(epoch): \n",
        "    for batch_index, X in enumerate(loader):\n",
        "        \n",
        "        MSE_loss = nn.MSELoss()\n",
        "        \n",
        "        H, _ = Embedder(X.float())\n",
        "        H = torch.reshape(H, (batch_size, seq_len, hidden_dim))\n",
        "\n",
        "        X_tilde, _ = Recovery(H)\n",
        "        X_tilde = torch.reshape(X_tilde, (batch_size, seq_len, dim))\n",
        "\n",
        "        E_loss0 = 10 * torch.sqrt(MSE_loss(X, X_tilde))  \n",
        "\n",
        "        Embedder.zero_grad()\n",
        "        Recovery.zero_grad()\n",
        "\n",
        "        E_loss0.backward(retain_graph=True)\n",
        "\n",
        "        embedder_optimizer.step()\n",
        "        recovery_optimizer.step()\n",
        "\n",
        "        if e in range(1,epoch) and batch_index == 0:\n",
        "            print('step: '+ str(e) + '/' + str(epoch) + ', e_loss: ' + str(np.sqrt(E_loss0.detach().numpy())))\n",
        "\n",
        "  print('Finish Embedding Network Training')\n",
        "\n",
        "  # Training only with supervised loss\n",
        "  print('Start Training with Supervised Loss Only')\n",
        "  for e in range(epoch): \n",
        "    for batch_index, X in enumerate(loader):\n",
        "\n",
        "        H, _ = Embedder(X.float())\n",
        "        H = torch.reshape(H, (batch_size, seq_len, hidden_dim))\n",
        "\n",
        "        H_hat_supervise, _ = Supervisor(H)\n",
        "        H_hat_supervise = torch.reshape(H_hat_supervise, (batch_size, seq_len, hidden_dim))  \n",
        "\n",
        "        G_loss_S = MSE_loss(H[:,1:,:], H_hat_supervise[:,:-1,:])\n",
        "\n",
        "\n",
        "        Embedder.zero_grad()\n",
        "        Supervisor.zero_grad()\n",
        "\n",
        "        G_loss_S.backward(retain_graph=True)\n",
        "\n",
        "        embedder_optimizer.step()\n",
        "        supervisor_optimizer.step()\n",
        "\n",
        "        if e in range(1,epoch) and batch_index == 0:\n",
        "            print('step: '+ str(e) + '/' + str(epoch) + ', s_loss: ' + str(np.sqrt(G_loss_S.detach().numpy())))\n",
        "\n",
        "  print('Finish Training with Supervised Loss Only')\n",
        "  # Joint Training\n",
        "  print('Start Joint Training')\n",
        "  for itt in range(epoch):\n",
        "    for kk in range(2):\n",
        "      X = next(iter(loader))\n",
        "      random_data = random_generator(batch_size=batch_size, z_dim=dim, \n",
        "                                       T_mb=extract_time(data)[0], max_seq_len=extract_time(data)[1])\n",
        "        \n",
        "      # Generator Training \n",
        "      ## Train Generator\n",
        "      z = torch.tensor(random_data)\n",
        "      z = z.float()\n",
        "        \n",
        "      e_hat, _ = Generator(z)\n",
        "      e_hat = torch.reshape(e_hat, (batch_size, seq_len, hidden_dim))\n",
        "        \n",
        "      H_hat, _ = Supervisor(e_hat)\n",
        "      H_hat = torch.reshape(H_hat, (batch_size, seq_len, hidden_dim))\n",
        "        \n",
        "      Y_fake = Discriminator(H_hat)\n",
        "      Y_fake = torch.reshape(Y_fake, (batch_size, seq_len, 1))\n",
        "        \n",
        "      x_hat, _ = Recovery(H_hat)\n",
        "      x_hat = torch.reshape(x_hat, (batch_size, seq_len, dim))\n",
        "        \n",
        "      H, _ = Embedder(X.float())\n",
        "      H = torch.reshape(H, (batch_size, seq_len, hidden_dim))\n",
        "\n",
        "      H_hat_supervise, _ = Supervisor(H)\n",
        "      H_hat_supervise = torch.reshape(H_hat_supervise, (batch_size, seq_len, hidden_dim))\n",
        "\n",
        "      Generator.zero_grad()\n",
        "      Supervisor.zero_grad()\n",
        "      Discriminator.zero_grad()\n",
        "      Recovery.zero_grad()\n",
        "\n",
        "      # line 267 of original implementation: \n",
        "      # G_loss_U, G_loss_S, G_loss_V\n",
        "      G_loss_S = MSE_loss(H[:,1:,:], H_hat_supervise[:,:-1,:])\n",
        "        \n",
        "      G_loss_U = binary_cross_entropy_loss(torch.ones_like(Y_fake), Y_fake)\n",
        "        \n",
        "      G_loss_V1 = torch.mean(torch.abs((torch.std(x_hat, [0], unbiased = False)) + 1e-6 - (torch.std(X, [0]) + 1e-6)))\n",
        "      G_loss_V2 = torch.mean(torch.abs((torch.mean(x_hat, [0]) - (torch.mean(X, [0])))))\n",
        "      G_loss_V = G_loss_V1 + G_loss_V2\n",
        "        \n",
        "      # doing a backward step for each loss should result in gradients accumulating \n",
        "      # so we should be able to optimize them jointly\n",
        "      G_loss_S.backward(retain_graph=True)#\n",
        "      G_loss_U.backward(retain_graph=True)\n",
        "      G_loss_V.backward(retain_graph=True)#\n",
        "\n",
        "\n",
        "      generator_optimizer.step()\n",
        "      supervisor_optimizer.step()\n",
        "      discriminator_optimizer.step()\n",
        "      # Train Embedder \n",
        "      ## line 270: we only optimize E_loss_T0\n",
        "      ## E_loss_T0 = just mse of x and x_tilde\n",
        "      # but it calls E_solver which optimizes E_loss, which is a sum of \n",
        "      # E_loss0 and 0.1* G_loss_S\n",
        "      MSE_loss = nn.MSELoss()\n",
        "        \n",
        "      H, _ = Embedder(X.float())\n",
        "      H = torch.reshape(H, (batch_size, seq_len, hidden_dim))\n",
        "\n",
        "      X_tilde, _ = Recovery(H)\n",
        "      X_tilde = torch.reshape(X_tilde, (batch_size, seq_len, dim))\n",
        "\n",
        "      E_loss_T0 = MSE_loss(X, X_tilde)\n",
        "      E_loss0 = 10 * torch.sqrt(MSE_loss(X, X_tilde))  \n",
        "        \n",
        "      H_hat_supervise, _ = Supervisor(H)\n",
        "      H_hat_supervise = torch.reshape(H_hat_supervise, (batch_size, seq_len, hidden_dim))  \n",
        "\n",
        "      G_loss_S = MSE_loss(H[:,1:,:], H_hat_supervise[:,:-1,:])\n",
        "      E_loss = E_loss0  + 0.1 * G_loss_S\n",
        "        \n",
        "      G_loss_S.backward(retain_graph=True)\n",
        "      E_loss_T0.backward()\n",
        "        \n",
        "      Embedder.zero_grad()\n",
        "      Recovery.zero_grad()\n",
        "      Supervisor.zero_grad()\n",
        "        \n",
        "      embedder_optimizer.step()\n",
        "      recovery_optimizer.step()\n",
        "      supervisor_optimizer.step()\n",
        "    # train Discriminator\n",
        "    for batch_index, X in enumerate(loader):\n",
        "      random_data = random_generator(batch_size=batch_size, z_dim=dim, \n",
        "                                       T_mb=extract_time(data)[0], max_seq_len=extract_time(data)[1])\n",
        "      \n",
        "      z = torch.tensor(random_data)\n",
        "      z = z.float()\n",
        "\n",
        "      H, _ = Embedder(X)\n",
        "      H = torch.reshape(H, (batch_size, seq_len, hidden_dim))\n",
        "\n",
        "      Y_real = Discriminator(H)\n",
        "      Y_real = torch.reshape(Y_real, (batch_size, seq_len, 1))\n",
        "      \n",
        "      e_hat, _ = Generator(z)\n",
        "      e_hat = torch.reshape(e_hat, (batch_size, seq_len, hidden_dim))\n",
        "\n",
        "      Y_fake_e = Discriminator(e_hat)\n",
        "      Y_fake_e = torch.reshape(Y_fake_e, (batch_size, seq_len, 1))\n",
        "        \n",
        "      H_hat, _ = Supervisor(e_hat)\n",
        "      H_hat = torch.reshape(H_hat, (batch_size, seq_len, hidden_dim))\n",
        "        \n",
        "      Y_fake = Discriminator(H_hat)\n",
        "      Y_fake = torch.reshape(Y_fake, (batch_size, seq_len, 1))\n",
        "        \n",
        "      x_hat, _ = Recovery(H_hat)\n",
        "      x_hat = torch.reshape(x_hat, (batch_size, seq_len, dim))\n",
        "\n",
        "      Generator.zero_grad()\n",
        "      Supervisor.zero_grad()\n",
        "      Discriminator.zero_grad()\n",
        "      Recovery.zero_grad()\n",
        "      Embedder.zero_grad()\n",
        "\n",
        "      # logits first, then targets\n",
        "      # D_loss_real(Y_real, torch.ones_like(Y_real))\n",
        "      D_loss_real = nn.BCEWithLogitsLoss()\n",
        "      DLR = D_loss_real(Y_real, torch.ones_like(Y_real))\n",
        "\n",
        "      D_loss_fake = nn.BCEWithLogitsLoss()\n",
        "      DLF = D_loss_fake(Y_fake, torch.zeros_like(Y_fake))\n",
        "\n",
        "      D_loss_fake_e = nn.BCEWithLogitsLoss()\n",
        "      DLF_e = D_loss_fake_e(Y_fake_e, torch.zeros_like(Y_fake_e))\n",
        "\n",
        "      D_loss = DLR + DLF + gamma * DLF_e\n",
        "\n",
        "      # D_loss.backward(retain_graph=True)\n",
        "      \n",
        "      # discriminator_optimizer.step()\n",
        "\n",
        "      # check discriminator loss before updating\n",
        "      check_d_loss = D_loss\n",
        "      if (check_d_loss > 0.15):\n",
        "        D_loss.backward(retain_graph=True)\n",
        "        discriminator_optimizer.step()\n",
        "      \n",
        "      print('step: '+ str(e) + '/' + str(epoch) + \n",
        "            ', D_loss: ' + str(D_loss.detach().numpy()) +\n",
        "            ', G_loss_U: ' + str(G_loss_U.detach().numpy()) + \n",
        "            ', G_loss_S: ' + str(G_loss_S.detach().numpy()) + \n",
        "            ', E_loss_t0: ' + str(np.sqrt(E_loss0.detach().numpy()))\n",
        "             )\n",
        "  print('Finish Joint Training')"
      ]
    },
    {
      "cell_type": "code",
      "execution_count": 10,
      "id": "YPbbUH0dJqjt",
      "metadata": {
        "id": "YPbbUH0dJqjt"
      },
      "outputs": [],
      "source": [
        "parameters = dict()\n",
        "parameters['module'] = 'gru' \n",
        "parameters['hidden_dim'] = 24\n",
        "parameters['num_layers'] = 3\n",
        "parameters['iterations'] = 10000\n",
        "parameters['batch_size'] = 128\n",
        "parameters['epoch'] = 50"
      ]
    },
    {
      "cell_type": "code",
      "execution_count": 51,
      "id": "9rnug7qqmddM",
      "metadata": {
        "colab": {
          "base_uri": "https://localhost:8080/",
          "height": 1000
        },
        "id": "9rnug7qqmddM",
        "outputId": "aacf2bb0-7f70-496a-d98f-0316b540c67a"
      },
      "outputs": [
        {
          "name": "stdout",
          "output_type": "stream",
          "text": [
            "Start Embedding Network Training\n"
          ]
        },
        {
          "ename": "RuntimeError",
          "evalue": "shape '[128, 24, 24]' is invalid for input of size 44352",
          "output_type": "error",
          "traceback": [
            "\u001b[1;31m---------------------------------------------------------------------------\u001b[0m",
            "\u001b[1;31mRuntimeError\u001b[0m                              Traceback (most recent call last)",
            "Cell \u001b[1;32mIn[51], line 1\u001b[0m\n\u001b[1;32m----> 1\u001b[0m \u001b[43mTimeGAN\u001b[49m\u001b[43m(\u001b[49m\u001b[43mdata\u001b[49m\u001b[43m,\u001b[49m\u001b[43m \u001b[49m\u001b[43mparameters\u001b[49m\u001b[43m)\u001b[49m\n",
            "Cell \u001b[1;32mIn[49], line 32\u001b[0m, in \u001b[0;36mTimeGAN\u001b[1;34m(data, parameters)\u001b[0m\n\u001b[0;32m     29\u001b[0m MSE_loss \u001b[38;5;241m=\u001b[39m nn\u001b[38;5;241m.\u001b[39mMSELoss()\n\u001b[0;32m     31\u001b[0m H, _ \u001b[38;5;241m=\u001b[39m Embedder(X\u001b[38;5;241m.\u001b[39mfloat())\n\u001b[1;32m---> 32\u001b[0m H \u001b[38;5;241m=\u001b[39m \u001b[43mtorch\u001b[49m\u001b[38;5;241;43m.\u001b[39;49m\u001b[43mreshape\u001b[49m\u001b[43m(\u001b[49m\u001b[43mH\u001b[49m\u001b[43m,\u001b[49m\u001b[43m \u001b[49m\u001b[43m(\u001b[49m\u001b[43mbatch_size\u001b[49m\u001b[43m,\u001b[49m\u001b[43m \u001b[49m\u001b[43mseq_len\u001b[49m\u001b[43m,\u001b[49m\u001b[43m \u001b[49m\u001b[43mhidden_dim\u001b[49m\u001b[43m)\u001b[49m\u001b[43m)\u001b[49m\n\u001b[0;32m     34\u001b[0m X_tilde, _ \u001b[38;5;241m=\u001b[39m Recovery(H)\n\u001b[0;32m     35\u001b[0m X_tilde \u001b[38;5;241m=\u001b[39m torch\u001b[38;5;241m.\u001b[39mreshape(X_tilde, (batch_size, seq_len, dim))\n",
            "\u001b[1;31mRuntimeError\u001b[0m: shape '[128, 24, 24]' is invalid for input of size 44352"
          ]
        }
      ],
      "source": [
        "TimeGAN(data, parameters)"
      ]
    },
    {
      "cell_type": "code",
      "execution_count": 57,
      "id": "uP_YyhAZpKXl",
      "metadata": {
        "colab": {
          "base_uri": "https://localhost:8080/"
        },
        "id": "uP_YyhAZpKXl",
        "outputId": "942a1644-b110-4e31-d7f2-debf02a2e3f3"
      },
      "outputs": [
        {
          "name": "stdout",
          "output_type": "stream",
          "text": [
            "Start Embedding Network Training\n",
            "step: 1/5, e_loss: 1.5941393\n",
            "step: 2/5, e_loss: 1.5449587\n",
            "step: 3/5, e_loss: 1.5283412\n",
            "step: 4/5, e_loss: 1.5067494\n",
            "Finish Embedding Network Training\n",
            "Start Training with Supervised Loss Only\n",
            "step: 1/5, s_loss: 0.11959934\n",
            "step: 2/5, s_loss: 0.028934417\n",
            "step: 3/5, s_loss: 0.013511296\n",
            "step: 4/5, s_loss: 0.009382767\n",
            "Finish Training with Supervised Loss Only\n"
          ]
        }
      ],
      "source": [
        "hidden_dim = parameters[\"hidden_dim\"]\n",
        "num_layers = parameters[\"num_layers\"]\n",
        "iterations = parameters[\"iterations\"]\n",
        "batch_size = parameters[\"batch_size\"]\n",
        "module = parameters[\"module\"]\n",
        "epoch = parameters[\"epoch\"]\n",
        "no, seq_len, dim = np.asarray(data).shape\n",
        "z_dim = dim\n",
        "gamma = 1\n",
        "\n",
        "Embedder = Time_GAN_module(input_size=z_dim, output_size=hidden_dim, hidden_dim=hidden_dim, n_layers=num_layers)\n",
        "Recovery = Time_GAN_module(input_size=hidden_dim, output_size=dim, hidden_dim=hidden_dim, n_layers=n_layers)\n",
        "Generator = Time_GAN_module(input_size=dim, output_size=hidden_dim, hidden_dim=hidden_dim, n_layers=n_layers)\n",
        "Supervisor = Time_GAN_module(input_size=hidden_dim, output_size=hidden_dim, hidden_dim=hidden_dim, n_layers=n_layers-1)\n",
        "Discriminator = Time_GAN_module(input_size=hidden_dim, output_size=1, hidden_dim=hidden_dim, n_layers=n_layers, activation=nn.Identity)\n",
        "\n",
        "embedder_optimizer = optim.Adam(Embedder.parameters(), lr=0.001)\n",
        "recovery_optimizer = optim.Adam(Recovery.parameters(), lr=0.001)\n",
        "supervisor_optimizer = optim.Adam(Recovery.parameters(), lr=0.001)\n",
        "discriminator_optimizer = optim.Adam(Discriminator.parameters(), lr=0.001)\n",
        "generator_optimizer = optim.Adam(Generator.parameters(), lr=0.001)\n",
        "\n",
        "# Embedding Network Training\n",
        "print('Start Embedding Network Training')\n",
        "for e in range(epoch): \n",
        "    for batch_index, X in enumerate(loader):\n",
        "        \n",
        "        MSE_loss = nn.MSELoss()\n",
        "        \n",
        "        H, _ = Embedder(X.float())\n",
        "        H = torch.reshape(H, (batch_size, seq_len, hidden_dim))\n",
        "\n",
        "        X_tilde, _ = Recovery(H)\n",
        "        X_tilde = torch.reshape(X_tilde, (batch_size, seq_len, dim))\n",
        "\n",
        "        E_loss0 = 10 * torch.sqrt(MSE_loss(X, X_tilde))  \n",
        "\n",
        "        Embedder.zero_grad()\n",
        "        Recovery.zero_grad()\n",
        "\n",
        "        E_loss0.backward(retain_graph=True)\n",
        "\n",
        "        embedder_optimizer.step()\n",
        "        recovery_optimizer.step()\n",
        "\n",
        "        if e in range(1,epoch) and batch_index == 0:\n",
        "            print('step: '+ str(e) + '/' + str(epoch) + ', e_loss: ' + str(np.sqrt(E_loss0.detach().numpy())))\n",
        "\n",
        "print('Finish Embedding Network Training')\n",
        "\n",
        "# Training only with supervised loss\n",
        "print('Start Training with Supervised Loss Only')\n",
        "for e in range(epoch): \n",
        "    for batch_index, X in enumerate(loader):\n",
        "\n",
        "        H, _ = Embedder(X.float())\n",
        "        H = torch.reshape(H, (batch_size, seq_len, hidden_dim))\n",
        "\n",
        "        H_hat_supervise, _ = Supervisor(H)\n",
        "        H_hat_supervise = torch.reshape(H_hat_supervise, (batch_size, seq_len, hidden_dim))  \n",
        "\n",
        "        G_loss_S = MSE_loss(H[:,1:,:], H_hat_supervise[:,:-1,:])\n",
        "\n",
        "\n",
        "        Embedder.zero_grad()\n",
        "        Supervisor.zero_grad()\n",
        "\n",
        "        G_loss_S.backward(retain_graph=True)\n",
        "\n",
        "        embedder_optimizer.step()\n",
        "        supervisor_optimizer.step()\n",
        "\n",
        "        if e in range(1,epoch) and batch_index == 0:\n",
        "            print('step: '+ str(e) + '/' + str(epoch) + ', s_loss: ' + str(np.sqrt(G_loss_S.detach().numpy())))\n",
        "\n",
        "print('Finish Training with Supervised Loss Only')"
      ]
    },
    {
      "cell_type": "code",
      "execution_count": 14,
      "id": "6147fc75",
      "metadata": {},
      "outputs": [],
      "source": [
        "Generator = Time_GAN_module(input_size=dim, output_size=hidden_dim, hidden_dim=hidden_dim, n_layers=n_layers)\n",
        "Discriminator = Time_GAN_module(input_size=hidden_dim, output_size=1, hidden_dim=hidden_dim, n_layers=n_layers, activation=nn.Identity)\n",
        "\n",
        "embedder_optimizer = optim.Adam(Embedder.parameters(), lr=0.001)\n",
        "recovery_optimizer = optim.Adam(Recovery.parameters(), lr=0.001)\n",
        "supervisor_optimizer = optim.Adam(Recovery.parameters(), lr=0.001)\n",
        "discriminator_optimizer = optim.Adam(Discriminator.parameters(), lr=0.001)\n",
        "generator_optimizer = optim.Adam(Generator.parameters(), lr=0.001)"
      ]
    },
    {
      "cell_type": "code",
      "execution_count": 15,
      "id": "0d7d9824",
      "metadata": {},
      "outputs": [
        {
          "name": "stdout",
          "output_type": "stream",
          "text": [
            "Start Joint Training\n",
            "step: 0/50, D_loss: 2.294889, G_loss_U: 1.0195522, G_loss_S: 1.7623687e-06, E_loss_t0: 2.5916085\n",
            "step: 0/50, D_loss: 2.3087003, G_loss_U: 1.0195522, G_loss_S: 1.7623687e-06, E_loss_t0: 2.5916085\n",
            "step: 0/50, D_loss: 2.308175, G_loss_U: 1.0195522, G_loss_S: 1.7623687e-06, E_loss_t0: 2.5916085\n",
            "step: 0/50, D_loss: 2.2991896, G_loss_U: 1.0195522, G_loss_S: 1.7623687e-06, E_loss_t0: 2.5916085\n",
            "step: 0/50, D_loss: 2.285274, G_loss_U: 1.0195522, G_loss_S: 1.7623687e-06, E_loss_t0: 2.5916085\n",
            "step: 0/50, D_loss: 2.2685602, G_loss_U: 1.0195522, G_loss_S: 1.7623687e-06, E_loss_t0: 2.5916085\n",
            "step: 0/50, D_loss: 2.2504292, G_loss_U: 1.0195522, G_loss_S: 1.7623687e-06, E_loss_t0: 2.5916085\n",
            "step: 0/50, D_loss: 2.2317314, G_loss_U: 1.0195522, G_loss_S: 1.7623687e-06, E_loss_t0: 2.5916085\n",
            "step: 0/50, D_loss: 2.213047, G_loss_U: 1.0195522, G_loss_S: 1.7623687e-06, E_loss_t0: 2.5916085\n",
            "step: 0/50, D_loss: 2.1946092, G_loss_U: 1.0195522, G_loss_S: 1.7623687e-06, E_loss_t0: 2.5916085\n",
            "step: 0/50, D_loss: 2.176576, G_loss_U: 1.0195522, G_loss_S: 1.7623687e-06, E_loss_t0: 2.5916085\n",
            "step: 0/50, D_loss: 2.159021, G_loss_U: 1.0195522, G_loss_S: 1.7623687e-06, E_loss_t0: 2.5916085\n",
            "step: 0/50, D_loss: 2.1419852, G_loss_U: 1.0195522, G_loss_S: 1.7623687e-06, E_loss_t0: 2.5916085\n",
            "step: 0/50, D_loss: 2.1254709, G_loss_U: 1.0195522, G_loss_S: 1.7623687e-06, E_loss_t0: 2.5916085\n",
            "step: 0/50, D_loss: 2.1094258, G_loss_U: 1.0195522, G_loss_S: 1.7623687e-06, E_loss_t0: 2.5916085\n",
            "step: 0/50, D_loss: 2.0938683, G_loss_U: 1.0195522, G_loss_S: 1.7623687e-06, E_loss_t0: 2.5916085\n",
            "step: 0/50, D_loss: 2.0787153, G_loss_U: 1.0195522, G_loss_S: 1.7623687e-06, E_loss_t0: 2.5916085\n",
            "step: 0/50, D_loss: 2.0640059, G_loss_U: 1.0195522, G_loss_S: 1.7623687e-06, E_loss_t0: 2.5916085\n",
            "step: 0/50, D_loss: 2.049695, G_loss_U: 1.0195522, G_loss_S: 1.7623687e-06, E_loss_t0: 2.5916085\n",
            "step: 0/50, D_loss: 2.0358238, G_loss_U: 1.0195522, G_loss_S: 1.7623687e-06, E_loss_t0: 2.5916085\n",
            "step: 0/50, D_loss: 2.0224, G_loss_U: 1.0195522, G_loss_S: 1.7623687e-06, E_loss_t0: 2.5916085\n",
            "step: 0/50, D_loss: 2.0094764, G_loss_U: 1.0195522, G_loss_S: 1.7623687e-06, E_loss_t0: 2.5916085\n",
            "step: 0/50, D_loss: 1.9971125, G_loss_U: 1.0195522, G_loss_S: 1.7623687e-06, E_loss_t0: 2.5916085\n",
            "step: 0/50, D_loss: 1.9854221, G_loss_U: 1.0195522, G_loss_S: 1.7623687e-06, E_loss_t0: 2.5916085\n",
            "step: 0/50, D_loss: 1.9744561, G_loss_U: 1.0195522, G_loss_S: 1.7623687e-06, E_loss_t0: 2.5916085\n",
            "step: 0/50, D_loss: 1.9643002, G_loss_U: 1.0195522, G_loss_S: 1.7623687e-06, E_loss_t0: 2.5916085\n",
            "step: 0/50, D_loss: 1.9551594, G_loss_U: 1.0195522, G_loss_S: 1.7623687e-06, E_loss_t0: 2.5916085\n",
            "step: 0/50, D_loss: 1.947067, G_loss_U: 1.0195522, G_loss_S: 1.7623687e-06, E_loss_t0: 2.5916085\n",
            "step: 1/50, D_loss: 1.9382279, G_loss_U: 1.7631398, G_loss_S: 1.4900461e-06, E_loss_t0: 2.5657024\n",
            "step: 1/50, D_loss: 1.9382176, G_loss_U: 1.7631398, G_loss_S: 1.4900461e-06, E_loss_t0: 2.5657024\n",
            "step: 1/50, D_loss: 1.9378941, G_loss_U: 1.7631398, G_loss_S: 1.4900461e-06, E_loss_t0: 2.5657024\n",
            "step: 1/50, D_loss: 1.9373637, G_loss_U: 1.7631398, G_loss_S: 1.4900461e-06, E_loss_t0: 2.5657024\n",
            "step: 1/50, D_loss: 1.936587, G_loss_U: 1.7631398, G_loss_S: 1.4900461e-06, E_loss_t0: 2.5657024\n",
            "step: 1/50, D_loss: 1.9356672, G_loss_U: 1.7631398, G_loss_S: 1.4900461e-06, E_loss_t0: 2.5657024\n",
            "step: 1/50, D_loss: 1.9345744, G_loss_U: 1.7631398, G_loss_S: 1.4900461e-06, E_loss_t0: 2.5657024\n",
            "step: 1/50, D_loss: 1.933433, G_loss_U: 1.7631398, G_loss_S: 1.4900461e-06, E_loss_t0: 2.5657024\n",
            "step: 1/50, D_loss: 1.9322281, G_loss_U: 1.7631398, G_loss_S: 1.4900461e-06, E_loss_t0: 2.5657024\n",
            "step: 1/50, D_loss: 1.930973, G_loss_U: 1.7631398, G_loss_S: 1.4900461e-06, E_loss_t0: 2.5657024\n",
            "step: 1/50, D_loss: 1.92976, G_loss_U: 1.7631398, G_loss_S: 1.4900461e-06, E_loss_t0: 2.5657024\n",
            "step: 1/50, D_loss: 1.9285845, G_loss_U: 1.7631398, G_loss_S: 1.4900461e-06, E_loss_t0: 2.5657024\n",
            "step: 1/50, D_loss: 1.927452, G_loss_U: 1.7631398, G_loss_S: 1.4900461e-06, E_loss_t0: 2.5657024\n",
            "step: 1/50, D_loss: 1.9264036, G_loss_U: 1.7631398, G_loss_S: 1.4900461e-06, E_loss_t0: 2.5657024\n",
            "step: 1/50, D_loss: 1.9254547, G_loss_U: 1.7631398, G_loss_S: 1.4900461e-06, E_loss_t0: 2.5657024\n",
            "step: 1/50, D_loss: 1.9246134, G_loss_U: 1.7631398, G_loss_S: 1.4900461e-06, E_loss_t0: 2.5657024\n",
            "step: 1/50, D_loss: 1.9238874, G_loss_U: 1.7631398, G_loss_S: 1.4900461e-06, E_loss_t0: 2.5657024\n",
            "step: 1/50, D_loss: 1.9233149, G_loss_U: 1.7631398, G_loss_S: 1.4900461e-06, E_loss_t0: 2.5657024\n",
            "step: 1/50, D_loss: 1.9228288, G_loss_U: 1.7631398, G_loss_S: 1.4900461e-06, E_loss_t0: 2.5657024\n",
            "step: 1/50, D_loss: 1.9224241, G_loss_U: 1.7631398, G_loss_S: 1.4900461e-06, E_loss_t0: 2.5657024\n",
            "step: 1/50, D_loss: 1.9221272, G_loss_U: 1.7631398, G_loss_S: 1.4900461e-06, E_loss_t0: 2.5657024\n",
            "step: 1/50, D_loss: 1.9219509, G_loss_U: 1.7631398, G_loss_S: 1.4900461e-06, E_loss_t0: 2.5657024\n",
            "step: 1/50, D_loss: 1.9217998, G_loss_U: 1.7631398, G_loss_S: 1.4900461e-06, E_loss_t0: 2.5657024\n",
            "step: 1/50, D_loss: 1.9216988, G_loss_U: 1.7631398, G_loss_S: 1.4900461e-06, E_loss_t0: 2.5657024\n",
            "step: 1/50, D_loss: 1.9216117, G_loss_U: 1.7631398, G_loss_S: 1.4900461e-06, E_loss_t0: 2.5657024\n",
            "step: 1/50, D_loss: 1.921561, G_loss_U: 1.7631398, G_loss_S: 1.4900461e-06, E_loss_t0: 2.5657024\n",
            "step: 1/50, D_loss: 1.9215121, G_loss_U: 1.7631398, G_loss_S: 1.4900461e-06, E_loss_t0: 2.5657024\n",
            "step: 1/50, D_loss: 1.9214319, G_loss_U: 1.7631398, G_loss_S: 1.4900461e-06, E_loss_t0: 2.5657024\n",
            "step: 2/50, D_loss: 1.9205725, G_loss_U: 1.9786009, G_loss_S: 1.8355912e-06, E_loss_t0: 2.578773\n",
            "step: 2/50, D_loss: 1.921113, G_loss_U: 1.9786009, G_loss_S: 1.8355912e-06, E_loss_t0: 2.578773\n",
            "step: 2/50, D_loss: 1.9220389, G_loss_U: 1.9786009, G_loss_S: 1.8355912e-06, E_loss_t0: 2.578773\n",
            "step: 2/50, D_loss: 1.9232397, G_loss_U: 1.9786009, G_loss_S: 1.8355912e-06, E_loss_t0: 2.578773\n",
            "step: 2/50, D_loss: 1.9244851, G_loss_U: 1.9786009, G_loss_S: 1.8355912e-06, E_loss_t0: 2.578773\n",
            "step: 2/50, D_loss: 1.925691, G_loss_U: 1.9786009, G_loss_S: 1.8355912e-06, E_loss_t0: 2.578773\n",
            "step: 2/50, D_loss: 1.9267572, G_loss_U: 1.9786009, G_loss_S: 1.8355912e-06, E_loss_t0: 2.578773\n",
            "step: 2/50, D_loss: 1.9276321, G_loss_U: 1.9786009, G_loss_S: 1.8355912e-06, E_loss_t0: 2.578773\n",
            "step: 2/50, D_loss: 1.9282794, G_loss_U: 1.9786009, G_loss_S: 1.8355912e-06, E_loss_t0: 2.578773\n",
            "step: 2/50, D_loss: 1.9286929, G_loss_U: 1.9786009, G_loss_S: 1.8355912e-06, E_loss_t0: 2.578773\n",
            "step: 2/50, D_loss: 1.928857, G_loss_U: 1.9786009, G_loss_S: 1.8355912e-06, E_loss_t0: 2.578773\n",
            "step: 2/50, D_loss: 1.9288372, G_loss_U: 1.9786009, G_loss_S: 1.8355912e-06, E_loss_t0: 2.578773\n",
            "step: 2/50, D_loss: 1.9285738, G_loss_U: 1.9786009, G_loss_S: 1.8355912e-06, E_loss_t0: 2.578773\n",
            "step: 2/50, D_loss: 1.9281358, G_loss_U: 1.9786009, G_loss_S: 1.8355912e-06, E_loss_t0: 2.578773\n",
            "step: 2/50, D_loss: 1.927565, G_loss_U: 1.9786009, G_loss_S: 1.8355912e-06, E_loss_t0: 2.578773\n",
            "step: 2/50, D_loss: 1.9268336, G_loss_U: 1.9786009, G_loss_S: 1.8355912e-06, E_loss_t0: 2.578773\n",
            "step: 2/50, D_loss: 1.9260172, G_loss_U: 1.9786009, G_loss_S: 1.8355912e-06, E_loss_t0: 2.578773\n",
            "step: 2/50, D_loss: 1.9251392, G_loss_U: 1.9786009, G_loss_S: 1.8355912e-06, E_loss_t0: 2.578773\n",
            "step: 2/50, D_loss: 1.9241886, G_loss_U: 1.9786009, G_loss_S: 1.8355912e-06, E_loss_t0: 2.578773\n",
            "step: 2/50, D_loss: 1.9232646, G_loss_U: 1.9786009, G_loss_S: 1.8355912e-06, E_loss_t0: 2.578773\n",
            "step: 2/50, D_loss: 1.9223502, G_loss_U: 1.9786009, G_loss_S: 1.8355912e-06, E_loss_t0: 2.578773\n",
            "step: 2/50, D_loss: 1.9214582, G_loss_U: 1.9786009, G_loss_S: 1.8355912e-06, E_loss_t0: 2.578773\n",
            "step: 2/50, D_loss: 1.9206414, G_loss_U: 1.9786009, G_loss_S: 1.8355912e-06, E_loss_t0: 2.578773\n",
            "step: 2/50, D_loss: 1.9198815, G_loss_U: 1.9786009, G_loss_S: 1.8355912e-06, E_loss_t0: 2.578773\n",
            "step: 2/50, D_loss: 1.919204, G_loss_U: 1.9786009, G_loss_S: 1.8355912e-06, E_loss_t0: 2.578773\n",
            "step: 2/50, D_loss: 1.9185885, G_loss_U: 1.9786009, G_loss_S: 1.8355912e-06, E_loss_t0: 2.578773\n",
            "step: 2/50, D_loss: 1.9180933, G_loss_U: 1.9786009, G_loss_S: 1.8355912e-06, E_loss_t0: 2.578773\n",
            "step: 2/50, D_loss: 1.91768, G_loss_U: 1.9786009, G_loss_S: 1.8355912e-06, E_loss_t0: 2.578773\n",
            "step: 3/50, D_loss: 1.918141, G_loss_U: 1.9270731, G_loss_S: 1.304286e-06, E_loss_t0: 2.5568812\n",
            "step: 3/50, D_loss: 1.9192152, G_loss_U: 1.9270731, G_loss_S: 1.304286e-06, E_loss_t0: 2.5568812\n",
            "step: 3/50, D_loss: 1.9203975, G_loss_U: 1.9270731, G_loss_S: 1.304286e-06, E_loss_t0: 2.5568812\n",
            "step: 3/50, D_loss: 1.9216205, G_loss_U: 1.9270731, G_loss_S: 1.304286e-06, E_loss_t0: 2.5568812\n",
            "step: 3/50, D_loss: 1.9226643, G_loss_U: 1.9270731, G_loss_S: 1.304286e-06, E_loss_t0: 2.5568812\n",
            "step: 3/50, D_loss: 1.9235771, G_loss_U: 1.9270731, G_loss_S: 1.304286e-06, E_loss_t0: 2.5568812\n",
            "step: 3/50, D_loss: 1.9242718, G_loss_U: 1.9270731, G_loss_S: 1.304286e-06, E_loss_t0: 2.5568812\n",
            "step: 3/50, D_loss: 1.9247253, G_loss_U: 1.9270731, G_loss_S: 1.304286e-06, E_loss_t0: 2.5568812\n",
            "step: 3/50, D_loss: 1.9249547, G_loss_U: 1.9270731, G_loss_S: 1.304286e-06, E_loss_t0: 2.5568812\n",
            "step: 3/50, D_loss: 1.9249465, G_loss_U: 1.9270731, G_loss_S: 1.304286e-06, E_loss_t0: 2.5568812\n",
            "step: 3/50, D_loss: 1.924719, G_loss_U: 1.9270731, G_loss_S: 1.304286e-06, E_loss_t0: 2.5568812\n",
            "step: 3/50, D_loss: 1.9243, G_loss_U: 1.9270731, G_loss_S: 1.304286e-06, E_loss_t0: 2.5568812\n",
            "step: 3/50, D_loss: 1.9237005, G_loss_U: 1.9270731, G_loss_S: 1.304286e-06, E_loss_t0: 2.5568812\n",
            "step: 3/50, D_loss: 1.9229896, G_loss_U: 1.9270731, G_loss_S: 1.304286e-06, E_loss_t0: 2.5568812\n",
            "step: 3/50, D_loss: 1.9221547, G_loss_U: 1.9270731, G_loss_S: 1.304286e-06, E_loss_t0: 2.5568812\n",
            "step: 3/50, D_loss: 1.9212508, G_loss_U: 1.9270731, G_loss_S: 1.304286e-06, E_loss_t0: 2.5568812\n",
            "step: 3/50, D_loss: 1.9203166, G_loss_U: 1.9270731, G_loss_S: 1.304286e-06, E_loss_t0: 2.5568812\n",
            "step: 3/50, D_loss: 1.9193587, G_loss_U: 1.9270731, G_loss_S: 1.304286e-06, E_loss_t0: 2.5568812\n",
            "step: 3/50, D_loss: 1.9184287, G_loss_U: 1.9270731, G_loss_S: 1.304286e-06, E_loss_t0: 2.5568812\n",
            "step: 3/50, D_loss: 1.9175247, G_loss_U: 1.9270731, G_loss_S: 1.304286e-06, E_loss_t0: 2.5568812\n",
            "step: 3/50, D_loss: 1.9166937, G_loss_U: 1.9270731, G_loss_S: 1.304286e-06, E_loss_t0: 2.5568812\n",
            "step: 3/50, D_loss: 1.91591, G_loss_U: 1.9270731, G_loss_S: 1.304286e-06, E_loss_t0: 2.5568812\n",
            "step: 3/50, D_loss: 1.9152108, G_loss_U: 1.9270731, G_loss_S: 1.304286e-06, E_loss_t0: 2.5568812\n",
            "step: 3/50, D_loss: 1.9146112, G_loss_U: 1.9270731, G_loss_S: 1.304286e-06, E_loss_t0: 2.5568812\n",
            "step: 3/50, D_loss: 1.9140698, G_loss_U: 1.9270731, G_loss_S: 1.304286e-06, E_loss_t0: 2.5568812\n",
            "step: 3/50, D_loss: 1.9136423, G_loss_U: 1.9270731, G_loss_S: 1.304286e-06, E_loss_t0: 2.5568812\n",
            "step: 3/50, D_loss: 1.9133028, G_loss_U: 1.9270731, G_loss_S: 1.304286e-06, E_loss_t0: 2.5568812\n",
            "step: 3/50, D_loss: 1.9129715, G_loss_U: 1.9270731, G_loss_S: 1.304286e-06, E_loss_t0: 2.5568812\n",
            "step: 4/50, D_loss: 1.912922, G_loss_U: 1.945741, G_loss_S: 1.3292203e-06, E_loss_t0: 2.6152418\n",
            "step: 4/50, D_loss: 1.9139827, G_loss_U: 1.945741, G_loss_S: 1.3292203e-06, E_loss_t0: 2.6152418\n",
            "step: 4/50, D_loss: 1.9152648, G_loss_U: 1.945741, G_loss_S: 1.3292203e-06, E_loss_t0: 2.6152418\n",
            "step: 4/50, D_loss: 1.916638, G_loss_U: 1.945741, G_loss_S: 1.3292203e-06, E_loss_t0: 2.6152418\n",
            "step: 4/50, D_loss: 1.9179363, G_loss_U: 1.945741, G_loss_S: 1.3292203e-06, E_loss_t0: 2.6152418\n",
            "step: 4/50, D_loss: 1.9190978, G_loss_U: 1.945741, G_loss_S: 1.3292203e-06, E_loss_t0: 2.6152418\n",
            "step: 4/50, D_loss: 1.9199846, G_loss_U: 1.945741, G_loss_S: 1.3292203e-06, E_loss_t0: 2.6152418\n",
            "step: 4/50, D_loss: 1.9206058, G_loss_U: 1.945741, G_loss_S: 1.3292203e-06, E_loss_t0: 2.6152418\n",
            "step: 4/50, D_loss: 1.9209356, G_loss_U: 1.945741, G_loss_S: 1.3292203e-06, E_loss_t0: 2.6152418\n",
            "step: 4/50, D_loss: 1.9209615, G_loss_U: 1.945741, G_loss_S: 1.3292203e-06, E_loss_t0: 2.6152418\n",
            "step: 4/50, D_loss: 1.9207073, G_loss_U: 1.945741, G_loss_S: 1.3292203e-06, E_loss_t0: 2.6152418\n",
            "step: 4/50, D_loss: 1.9201845, G_loss_U: 1.945741, G_loss_S: 1.3292203e-06, E_loss_t0: 2.6152418\n",
            "step: 4/50, D_loss: 1.9194489, G_loss_U: 1.945741, G_loss_S: 1.3292203e-06, E_loss_t0: 2.6152418\n",
            "step: 4/50, D_loss: 1.918525, G_loss_U: 1.945741, G_loss_S: 1.3292203e-06, E_loss_t0: 2.6152418\n",
            "step: 4/50, D_loss: 1.9174763, G_loss_U: 1.945741, G_loss_S: 1.3292203e-06, E_loss_t0: 2.6152418\n",
            "step: 4/50, D_loss: 1.9163214, G_loss_U: 1.945741, G_loss_S: 1.3292203e-06, E_loss_t0: 2.6152418\n",
            "step: 4/50, D_loss: 1.9151219, G_loss_U: 1.945741, G_loss_S: 1.3292203e-06, E_loss_t0: 2.6152418\n",
            "step: 4/50, D_loss: 1.9139068, G_loss_U: 1.945741, G_loss_S: 1.3292203e-06, E_loss_t0: 2.6152418\n",
            "step: 4/50, D_loss: 1.9127127, G_loss_U: 1.945741, G_loss_S: 1.3292203e-06, E_loss_t0: 2.6152418\n",
            "step: 4/50, D_loss: 1.9115866, G_loss_U: 1.945741, G_loss_S: 1.3292203e-06, E_loss_t0: 2.6152418\n",
            "step: 4/50, D_loss: 1.910554, G_loss_U: 1.945741, G_loss_S: 1.3292203e-06, E_loss_t0: 2.6152418\n",
            "step: 4/50, D_loss: 1.9095933, G_loss_U: 1.945741, G_loss_S: 1.3292203e-06, E_loss_t0: 2.6152418\n",
            "step: 4/50, D_loss: 1.9087574, G_loss_U: 1.945741, G_loss_S: 1.3292203e-06, E_loss_t0: 2.6152418\n",
            "step: 4/50, D_loss: 1.9080317, G_loss_U: 1.945741, G_loss_S: 1.3292203e-06, E_loss_t0: 2.6152418\n",
            "step: 4/50, D_loss: 1.9074138, G_loss_U: 1.945741, G_loss_S: 1.3292203e-06, E_loss_t0: 2.6152418\n",
            "step: 4/50, D_loss: 1.9069093, G_loss_U: 1.945741, G_loss_S: 1.3292203e-06, E_loss_t0: 2.6152418\n",
            "step: 4/50, D_loss: 1.9064827, G_loss_U: 1.945741, G_loss_S: 1.3292203e-06, E_loss_t0: 2.6152418\n",
            "step: 4/50, D_loss: 1.9061168, G_loss_U: 1.945741, G_loss_S: 1.3292203e-06, E_loss_t0: 2.6152418\n",
            "step: 5/50, D_loss: 1.9051616, G_loss_U: 1.9505091, G_loss_S: 1.5965107e-06, E_loss_t0: 2.5523496\n",
            "step: 5/50, D_loss: 1.9063017, G_loss_U: 1.9505091, G_loss_S: 1.5965107e-06, E_loss_t0: 2.5523496\n",
            "step: 5/50, D_loss: 1.9079512, G_loss_U: 1.9505091, G_loss_S: 1.5965107e-06, E_loss_t0: 2.5523496\n",
            "step: 5/50, D_loss: 1.909817, G_loss_U: 1.9505091, G_loss_S: 1.5965107e-06, E_loss_t0: 2.5523496\n",
            "step: 5/50, D_loss: 1.9116305, G_loss_U: 1.9505091, G_loss_S: 1.5965107e-06, E_loss_t0: 2.5523496\n",
            "step: 5/50, D_loss: 1.9132129, G_loss_U: 1.9505091, G_loss_S: 1.5965107e-06, E_loss_t0: 2.5523496\n",
            "step: 5/50, D_loss: 1.9144144, G_loss_U: 1.9505091, G_loss_S: 1.5965107e-06, E_loss_t0: 2.5523496\n",
            "step: 5/50, D_loss: 1.9151537, G_loss_U: 1.9505091, G_loss_S: 1.5965107e-06, E_loss_t0: 2.5523496\n",
            "step: 5/50, D_loss: 1.9153849, G_loss_U: 1.9505091, G_loss_S: 1.5965107e-06, E_loss_t0: 2.5523496\n",
            "step: 5/50, D_loss: 1.9150695, G_loss_U: 1.9505091, G_loss_S: 1.5965107e-06, E_loss_t0: 2.5523496\n",
            "step: 5/50, D_loss: 1.9142913, G_loss_U: 1.9505091, G_loss_S: 1.5965107e-06, E_loss_t0: 2.5523496\n",
            "step: 5/50, D_loss: 1.9130977, G_loss_U: 1.9505091, G_loss_S: 1.5965107e-06, E_loss_t0: 2.5523496\n",
            "step: 5/50, D_loss: 1.9115611, G_loss_U: 1.9505091, G_loss_S: 1.5965107e-06, E_loss_t0: 2.5523496\n",
            "step: 5/50, D_loss: 1.9097625, G_loss_U: 1.9505091, G_loss_S: 1.5965107e-06, E_loss_t0: 2.5523496\n",
            "step: 5/50, D_loss: 1.9077983, G_loss_U: 1.9505091, G_loss_S: 1.5965107e-06, E_loss_t0: 2.5523496\n",
            "step: 5/50, D_loss: 1.9057547, G_loss_U: 1.9505091, G_loss_S: 1.5965107e-06, E_loss_t0: 2.5523496\n",
            "step: 5/50, D_loss: 1.9037223, G_loss_U: 1.9505091, G_loss_S: 1.5965107e-06, E_loss_t0: 2.5523496\n",
            "step: 5/50, D_loss: 1.90179, G_loss_U: 1.9505091, G_loss_S: 1.5965107e-06, E_loss_t0: 2.5523496\n",
            "step: 5/50, D_loss: 1.9000067, G_loss_U: 1.9505091, G_loss_S: 1.5965107e-06, E_loss_t0: 2.5523496\n",
            "step: 5/50, D_loss: 1.8984258, G_loss_U: 1.9505091, G_loss_S: 1.5965107e-06, E_loss_t0: 2.5523496\n",
            "step: 5/50, D_loss: 1.8970228, G_loss_U: 1.9505091, G_loss_S: 1.5965107e-06, E_loss_t0: 2.5523496\n",
            "step: 5/50, D_loss: 1.8958718, G_loss_U: 1.9505091, G_loss_S: 1.5965107e-06, E_loss_t0: 2.5523496\n",
            "step: 5/50, D_loss: 1.8948488, G_loss_U: 1.9505091, G_loss_S: 1.5965107e-06, E_loss_t0: 2.5523496\n",
            "step: 5/50, D_loss: 1.8940614, G_loss_U: 1.9505091, G_loss_S: 1.5965107e-06, E_loss_t0: 2.5523496\n",
            "step: 5/50, D_loss: 1.8933094, G_loss_U: 1.9505091, G_loss_S: 1.5965107e-06, E_loss_t0: 2.5523496\n",
            "step: 5/50, D_loss: 1.8926234, G_loss_U: 1.9505091, G_loss_S: 1.5965107e-06, E_loss_t0: 2.5523496\n",
            "step: 5/50, D_loss: 1.891909, G_loss_U: 1.9505091, G_loss_S: 1.5965107e-06, E_loss_t0: 2.5523496\n",
            "step: 5/50, D_loss: 1.8910397, G_loss_U: 1.9505091, G_loss_S: 1.5965107e-06, E_loss_t0: 2.5523496\n",
            "step: 6/50, D_loss: 1.8860018, G_loss_U: 1.9519634, G_loss_S: 1.6358917e-06, E_loss_t0: 2.580043\n",
            "step: 6/50, D_loss: 1.8883656, G_loss_U: 1.9519634, G_loss_S: 1.6358917e-06, E_loss_t0: 2.580043\n",
            "step: 6/50, D_loss: 1.8928173, G_loss_U: 1.9519634, G_loss_S: 1.6358917e-06, E_loss_t0: 2.580043\n",
            "step: 6/50, D_loss: 1.8982142, G_loss_U: 1.9519634, G_loss_S: 1.6358917e-06, E_loss_t0: 2.580043\n",
            "step: 6/50, D_loss: 1.9033478, G_loss_U: 1.9519634, G_loss_S: 1.6358917e-06, E_loss_t0: 2.580043\n",
            "step: 6/50, D_loss: 1.9073293, G_loss_U: 1.9519634, G_loss_S: 1.6358917e-06, E_loss_t0: 2.580043\n",
            "step: 6/50, D_loss: 1.9094825, G_loss_U: 1.9519634, G_loss_S: 1.6358917e-06, E_loss_t0: 2.580043\n",
            "step: 6/50, D_loss: 1.909474, G_loss_U: 1.9519634, G_loss_S: 1.6358917e-06, E_loss_t0: 2.580043\n",
            "step: 6/50, D_loss: 1.9073002, G_loss_U: 1.9519634, G_loss_S: 1.6358917e-06, E_loss_t0: 2.580043\n",
            "step: 6/50, D_loss: 1.9033034, G_loss_U: 1.9519634, G_loss_S: 1.6358917e-06, E_loss_t0: 2.580043\n",
            "step: 6/50, D_loss: 1.8979715, G_loss_U: 1.9519634, G_loss_S: 1.6358917e-06, E_loss_t0: 2.580043\n",
            "step: 6/50, D_loss: 1.8918724, G_loss_U: 1.9519634, G_loss_S: 1.6358917e-06, E_loss_t0: 2.580043\n",
            "step: 6/50, D_loss: 1.8855541, G_loss_U: 1.9519634, G_loss_S: 1.6358917e-06, E_loss_t0: 2.580043\n",
            "step: 6/50, D_loss: 1.8796629, G_loss_U: 1.9519634, G_loss_S: 1.6358917e-06, E_loss_t0: 2.580043\n",
            "step: 6/50, D_loss: 1.8746303, G_loss_U: 1.9519634, G_loss_S: 1.6358917e-06, E_loss_t0: 2.580043\n",
            "step: 6/50, D_loss: 1.8708491, G_loss_U: 1.9519634, G_loss_S: 1.6358917e-06, E_loss_t0: 2.580043\n",
            "step: 6/50, D_loss: 1.8680955, G_loss_U: 1.9519634, G_loss_S: 1.6358917e-06, E_loss_t0: 2.580043\n",
            "step: 6/50, D_loss: 1.8665012, G_loss_U: 1.9519634, G_loss_S: 1.6358917e-06, E_loss_t0: 2.580043\n",
            "step: 6/50, D_loss: 1.8657558, G_loss_U: 1.9519634, G_loss_S: 1.6358917e-06, E_loss_t0: 2.580043\n",
            "step: 6/50, D_loss: 1.8651234, G_loss_U: 1.9519634, G_loss_S: 1.6358917e-06, E_loss_t0: 2.580043\n",
            "step: 6/50, D_loss: 1.8640516, G_loss_U: 1.9519634, G_loss_S: 1.6358917e-06, E_loss_t0: 2.580043\n",
            "step: 6/50, D_loss: 1.861888, G_loss_U: 1.9519634, G_loss_S: 1.6358917e-06, E_loss_t0: 2.580043\n",
            "step: 6/50, D_loss: 1.858214, G_loss_U: 1.9519634, G_loss_S: 1.6358917e-06, E_loss_t0: 2.580043\n",
            "step: 6/50, D_loss: 1.8526984, G_loss_U: 1.9519634, G_loss_S: 1.6358917e-06, E_loss_t0: 2.580043\n",
            "step: 6/50, D_loss: 1.8450457, G_loss_U: 1.9519634, G_loss_S: 1.6358917e-06, E_loss_t0: 2.580043\n",
            "step: 6/50, D_loss: 1.8362356, G_loss_U: 1.9519634, G_loss_S: 1.6358917e-06, E_loss_t0: 2.580043\n",
            "step: 6/50, D_loss: 1.8270664, G_loss_U: 1.9519634, G_loss_S: 1.6358917e-06, E_loss_t0: 2.580043\n",
            "step: 6/50, D_loss: 1.8192583, G_loss_U: 1.9519634, G_loss_S: 1.6358917e-06, E_loss_t0: 2.580043\n",
            "step: 7/50, D_loss: 1.901774, G_loss_U: 1.5606965, G_loss_S: 1.7113548e-06, E_loss_t0: 2.5393722\n",
            "step: 7/50, D_loss: 1.9798758, G_loss_U: 1.5606965, G_loss_S: 1.7113548e-06, E_loss_t0: 2.5393722\n",
            "step: 7/50, D_loss: 2.0252368, G_loss_U: 1.5606965, G_loss_S: 1.7113548e-06, E_loss_t0: 2.5393722\n",
            "step: 7/50, D_loss: 2.0287352, G_loss_U: 1.5606965, G_loss_S: 1.7113548e-06, E_loss_t0: 2.5393722\n",
            "step: 7/50, D_loss: 1.9967291, G_loss_U: 1.5606965, G_loss_S: 1.7113548e-06, E_loss_t0: 2.5393722\n",
            "step: 7/50, D_loss: 1.9413676, G_loss_U: 1.5606965, G_loss_S: 1.7113548e-06, E_loss_t0: 2.5393722\n",
            "step: 7/50, D_loss: 1.8784716, G_loss_U: 1.5606965, G_loss_S: 1.7113548e-06, E_loss_t0: 2.5393722\n",
            "step: 7/50, D_loss: 1.8234056, G_loss_U: 1.5606965, G_loss_S: 1.7113548e-06, E_loss_t0: 2.5393722\n",
            "step: 7/50, D_loss: 1.7900118, G_loss_U: 1.5606965, G_loss_S: 1.7113548e-06, E_loss_t0: 2.5393722\n",
            "step: 7/50, D_loss: 1.7829916, G_loss_U: 1.5606965, G_loss_S: 1.7113548e-06, E_loss_t0: 2.5393722\n",
            "step: 7/50, D_loss: 1.7982321, G_loss_U: 1.5606965, G_loss_S: 1.7113548e-06, E_loss_t0: 2.5393722\n",
            "step: 7/50, D_loss: 1.8228347, G_loss_U: 1.5606965, G_loss_S: 1.7113548e-06, E_loss_t0: 2.5393722\n",
            "step: 7/50, D_loss: 1.8432432, G_loss_U: 1.5606965, G_loss_S: 1.7113548e-06, E_loss_t0: 2.5393722\n",
            "step: 7/50, D_loss: 1.8524244, G_loss_U: 1.5606965, G_loss_S: 1.7113548e-06, E_loss_t0: 2.5393722\n",
            "step: 7/50, D_loss: 1.848184, G_loss_U: 1.5606965, G_loss_S: 1.7113548e-06, E_loss_t0: 2.5393722\n",
            "step: 7/50, D_loss: 1.8328742, G_loss_U: 1.5606965, G_loss_S: 1.7113548e-06, E_loss_t0: 2.5393722\n",
            "step: 7/50, D_loss: 1.8115531, G_loss_U: 1.5606965, G_loss_S: 1.7113548e-06, E_loss_t0: 2.5393722\n",
            "step: 7/50, D_loss: 1.7907615, G_loss_U: 1.5606965, G_loss_S: 1.7113548e-06, E_loss_t0: 2.5393722\n",
            "step: 7/50, D_loss: 1.775789, G_loss_U: 1.5606965, G_loss_S: 1.7113548e-06, E_loss_t0: 2.5393722\n",
            "step: 7/50, D_loss: 1.7685407, G_loss_U: 1.5606965, G_loss_S: 1.7113548e-06, E_loss_t0: 2.5393722\n",
            "step: 7/50, D_loss: 1.7682198, G_loss_U: 1.5606965, G_loss_S: 1.7113548e-06, E_loss_t0: 2.5393722\n",
            "step: 7/50, D_loss: 1.77183, G_loss_U: 1.5606965, G_loss_S: 1.7113548e-06, E_loss_t0: 2.5393722\n",
            "step: 7/50, D_loss: 1.774167, G_loss_U: 1.5606965, G_loss_S: 1.7113548e-06, E_loss_t0: 2.5393722\n",
            "step: 7/50, D_loss: 1.7723382, G_loss_U: 1.5606965, G_loss_S: 1.7113548e-06, E_loss_t0: 2.5393722\n",
            "step: 7/50, D_loss: 1.7643495, G_loss_U: 1.5606965, G_loss_S: 1.7113548e-06, E_loss_t0: 2.5393722\n",
            "step: 7/50, D_loss: 1.7489827, G_loss_U: 1.5606965, G_loss_S: 1.7113548e-06, E_loss_t0: 2.5393722\n",
            "step: 7/50, D_loss: 1.7278209, G_loss_U: 1.5606965, G_loss_S: 1.7113548e-06, E_loss_t0: 2.5393722\n",
            "step: 7/50, D_loss: 1.7061036, G_loss_U: 1.5606965, G_loss_S: 1.7113548e-06, E_loss_t0: 2.5393722\n",
            "step: 8/50, D_loss: 1.7014344, G_loss_U: 1.5963353, G_loss_S: 1.4468861e-06, E_loss_t0: 2.5311306\n",
            "step: 8/50, D_loss: 1.7510568, G_loss_U: 1.5963353, G_loss_S: 1.4468861e-06, E_loss_t0: 2.5311306\n",
            "step: 8/50, D_loss: 1.7802066, G_loss_U: 1.5963353, G_loss_S: 1.4468861e-06, E_loss_t0: 2.5311306\n",
            "step: 8/50, D_loss: 1.7609526, G_loss_U: 1.5963353, G_loss_S: 1.4468861e-06, E_loss_t0: 2.5311306\n",
            "step: 8/50, D_loss: 1.6980436, G_loss_U: 1.5963353, G_loss_S: 1.4468861e-06, E_loss_t0: 2.5311306\n",
            "step: 8/50, D_loss: 1.6307204, G_loss_U: 1.5963353, G_loss_S: 1.4468861e-06, E_loss_t0: 2.5311306\n",
            "step: 8/50, D_loss: 1.5925889, G_loss_U: 1.5963353, G_loss_S: 1.4468861e-06, E_loss_t0: 2.5311306\n",
            "step: 8/50, D_loss: 1.6072092, G_loss_U: 1.5963353, G_loss_S: 1.4468861e-06, E_loss_t0: 2.5311306\n",
            "step: 8/50, D_loss: 1.6690433, G_loss_U: 1.5963353, G_loss_S: 1.4468861e-06, E_loss_t0: 2.5311306\n",
            "step: 8/50, D_loss: 1.623618, G_loss_U: 1.5963353, G_loss_S: 1.4468861e-06, E_loss_t0: 2.5311306\n",
            "step: 8/50, D_loss: 1.565803, G_loss_U: 1.5963353, G_loss_S: 1.4468861e-06, E_loss_t0: 2.5311306\n",
            "step: 8/50, D_loss: 1.5715616, G_loss_U: 1.5963353, G_loss_S: 1.4468861e-06, E_loss_t0: 2.5311306\n",
            "step: 8/50, D_loss: 1.5923166, G_loss_U: 1.5963353, G_loss_S: 1.4468861e-06, E_loss_t0: 2.5311306\n",
            "step: 8/50, D_loss: 1.6059113, G_loss_U: 1.5963353, G_loss_S: 1.4468861e-06, E_loss_t0: 2.5311306\n",
            "step: 8/50, D_loss: 1.6026521, G_loss_U: 1.5963353, G_loss_S: 1.4468861e-06, E_loss_t0: 2.5311306\n",
            "step: 8/50, D_loss: 1.5849266, G_loss_U: 1.5963353, G_loss_S: 1.4468861e-06, E_loss_t0: 2.5311306\n",
            "step: 8/50, D_loss: 1.559467, G_loss_U: 1.5963353, G_loss_S: 1.4468861e-06, E_loss_t0: 2.5311306\n",
            "step: 8/50, D_loss: 1.535645, G_loss_U: 1.5963353, G_loss_S: 1.4468861e-06, E_loss_t0: 2.5311306\n",
            "step: 8/50, D_loss: 1.5346407, G_loss_U: 1.5963353, G_loss_S: 1.4468861e-06, E_loss_t0: 2.5311306\n",
            "step: 8/50, D_loss: 1.5559422, G_loss_U: 1.5963353, G_loss_S: 1.4468861e-06, E_loss_t0: 2.5311306\n",
            "step: 8/50, D_loss: 1.541607, G_loss_U: 1.5963353, G_loss_S: 1.4468861e-06, E_loss_t0: 2.5311306\n",
            "step: 8/50, D_loss: 1.5171257, G_loss_U: 1.5963353, G_loss_S: 1.4468861e-06, E_loss_t0: 2.5311306\n",
            "step: 8/50, D_loss: 1.514318, G_loss_U: 1.5963353, G_loss_S: 1.4468861e-06, E_loss_t0: 2.5311306\n",
            "step: 8/50, D_loss: 1.5193115, G_loss_U: 1.5963353, G_loss_S: 1.4468861e-06, E_loss_t0: 2.5311306\n",
            "step: 8/50, D_loss: 1.520839, G_loss_U: 1.5963353, G_loss_S: 1.4468861e-06, E_loss_t0: 2.5311306\n",
            "step: 8/50, D_loss: 1.5153029, G_loss_U: 1.5963353, G_loss_S: 1.4468861e-06, E_loss_t0: 2.5311306\n",
            "step: 8/50, D_loss: 1.5034716, G_loss_U: 1.5963353, G_loss_S: 1.4468861e-06, E_loss_t0: 2.5311306\n",
            "step: 8/50, D_loss: 1.4898853, G_loss_U: 1.5963353, G_loss_S: 1.4468861e-06, E_loss_t0: 2.5311306\n",
            "step: 9/50, D_loss: 1.6167454, G_loss_U: 1.150231, G_loss_S: 1.166161e-06, E_loss_t0: 2.5585253\n",
            "step: 9/50, D_loss: 1.7489781, G_loss_U: 1.150231, G_loss_S: 1.166161e-06, E_loss_t0: 2.5585253\n",
            "step: 9/50, D_loss: 1.9157546, G_loss_U: 1.150231, G_loss_S: 1.166161e-06, E_loss_t0: 2.5585253\n",
            "step: 9/50, D_loss: 1.821601, G_loss_U: 1.150231, G_loss_S: 1.166161e-06, E_loss_t0: 2.5585253\n",
            "step: 9/50, D_loss: 1.6940928, G_loss_U: 1.150231, G_loss_S: 1.166161e-06, E_loss_t0: 2.5585253\n",
            "step: 9/50, D_loss: 1.6104869, G_loss_U: 1.150231, G_loss_S: 1.166161e-06, E_loss_t0: 2.5585253\n",
            "step: 9/50, D_loss: 1.540996, G_loss_U: 1.150231, G_loss_S: 1.166161e-06, E_loss_t0: 2.5585253\n",
            "step: 9/50, D_loss: 1.4816105, G_loss_U: 1.150231, G_loss_S: 1.166161e-06, E_loss_t0: 2.5585253\n",
            "step: 9/50, D_loss: 1.4664392, G_loss_U: 1.150231, G_loss_S: 1.166161e-06, E_loss_t0: 2.5585253\n",
            "step: 9/50, D_loss: 1.7438532, G_loss_U: 1.150231, G_loss_S: 1.166161e-06, E_loss_t0: 2.5585253\n",
            "step: 9/50, D_loss: 1.4615285, G_loss_U: 1.150231, G_loss_S: 1.166161e-06, E_loss_t0: 2.5585253\n",
            "step: 9/50, D_loss: 1.4763331, G_loss_U: 1.150231, G_loss_S: 1.166161e-06, E_loss_t0: 2.5585253\n",
            "step: 9/50, D_loss: 1.5026423, G_loss_U: 1.150231, G_loss_S: 1.166161e-06, E_loss_t0: 2.5585253\n",
            "step: 9/50, D_loss: 1.5253136, G_loss_U: 1.150231, G_loss_S: 1.166161e-06, E_loss_t0: 2.5585253\n",
            "step: 9/50, D_loss: 1.5441366, G_loss_U: 1.150231, G_loss_S: 1.166161e-06, E_loss_t0: 2.5585253\n",
            "step: 9/50, D_loss: 1.558078, G_loss_U: 1.150231, G_loss_S: 1.166161e-06, E_loss_t0: 2.5585253\n",
            "step: 9/50, D_loss: 1.5670266, G_loss_U: 1.150231, G_loss_S: 1.166161e-06, E_loss_t0: 2.5585253\n",
            "step: 9/50, D_loss: 1.5689315, G_loss_U: 1.150231, G_loss_S: 1.166161e-06, E_loss_t0: 2.5585253\n",
            "step: 9/50, D_loss: 1.5617603, G_loss_U: 1.150231, G_loss_S: 1.166161e-06, E_loss_t0: 2.5585253\n",
            "step: 9/50, D_loss: 1.5471144, G_loss_U: 1.150231, G_loss_S: 1.166161e-06, E_loss_t0: 2.5585253\n",
            "step: 9/50, D_loss: 1.5286409, G_loss_U: 1.150231, G_loss_S: 1.166161e-06, E_loss_t0: 2.5585253\n",
            "step: 9/50, D_loss: 1.5104337, G_loss_U: 1.150231, G_loss_S: 1.166161e-06, E_loss_t0: 2.5585253\n",
            "step: 9/50, D_loss: 1.4951903, G_loss_U: 1.150231, G_loss_S: 1.166161e-06, E_loss_t0: 2.5585253\n",
            "step: 9/50, D_loss: 1.4839844, G_loss_U: 1.150231, G_loss_S: 1.166161e-06, E_loss_t0: 2.5585253\n",
            "step: 9/50, D_loss: 1.4767435, G_loss_U: 1.150231, G_loss_S: 1.166161e-06, E_loss_t0: 2.5585253\n",
            "step: 9/50, D_loss: 1.4736476, G_loss_U: 1.150231, G_loss_S: 1.166161e-06, E_loss_t0: 2.5585253\n",
            "step: 9/50, D_loss: 1.4736751, G_loss_U: 1.150231, G_loss_S: 1.166161e-06, E_loss_t0: 2.5585253\n",
            "step: 9/50, D_loss: 1.4754664, G_loss_U: 1.150231, G_loss_S: 1.166161e-06, E_loss_t0: 2.5585253\n",
            "step: 10/50, D_loss: 1.4639266, G_loss_U: 1.645184, G_loss_S: 1.2298646e-06, E_loss_t0: 2.5523443\n",
            "step: 10/50, D_loss: 1.4636402, G_loss_U: 1.645184, G_loss_S: 1.2298646e-06, E_loss_t0: 2.5523443\n",
            "step: 10/50, D_loss: 1.4680004, G_loss_U: 1.645184, G_loss_S: 1.2298646e-06, E_loss_t0: 2.5523443\n",
            "step: 10/50, D_loss: 1.4747726, G_loss_U: 1.645184, G_loss_S: 1.2298646e-06, E_loss_t0: 2.5523443\n",
            "step: 10/50, D_loss: 1.4813784, G_loss_U: 1.645184, G_loss_S: 1.2298646e-06, E_loss_t0: 2.5523443\n",
            "step: 10/50, D_loss: 1.4871479, G_loss_U: 1.645184, G_loss_S: 1.2298646e-06, E_loss_t0: 2.5523443\n",
            "step: 10/50, D_loss: 1.4905727, G_loss_U: 1.645184, G_loss_S: 1.2298646e-06, E_loss_t0: 2.5523443\n",
            "step: 10/50, D_loss: 1.4910645, G_loss_U: 1.645184, G_loss_S: 1.2298646e-06, E_loss_t0: 2.5523443\n",
            "step: 10/50, D_loss: 1.4886322, G_loss_U: 1.645184, G_loss_S: 1.2298646e-06, E_loss_t0: 2.5523443\n",
            "step: 10/50, D_loss: 1.4839145, G_loss_U: 1.645184, G_loss_S: 1.2298646e-06, E_loss_t0: 2.5523443\n",
            "step: 10/50, D_loss: 1.4780598, G_loss_U: 1.645184, G_loss_S: 1.2298646e-06, E_loss_t0: 2.5523443\n",
            "step: 10/50, D_loss: 1.470656, G_loss_U: 1.645184, G_loss_S: 1.2298646e-06, E_loss_t0: 2.5523443\n",
            "step: 10/50, D_loss: 1.4627465, G_loss_U: 1.645184, G_loss_S: 1.2298646e-06, E_loss_t0: 2.5523443\n",
            "step: 10/50, D_loss: 1.4551076, G_loss_U: 1.645184, G_loss_S: 1.2298646e-06, E_loss_t0: 2.5523443\n",
            "step: 10/50, D_loss: 1.4475901, G_loss_U: 1.645184, G_loss_S: 1.2298646e-06, E_loss_t0: 2.5523443\n",
            "step: 10/50, D_loss: 1.4411249, G_loss_U: 1.645184, G_loss_S: 1.2298646e-06, E_loss_t0: 2.5523443\n",
            "step: 10/50, D_loss: 1.4363315, G_loss_U: 1.645184, G_loss_S: 1.2298646e-06, E_loss_t0: 2.5523443\n",
            "step: 10/50, D_loss: 1.4317733, G_loss_U: 1.645184, G_loss_S: 1.2298646e-06, E_loss_t0: 2.5523443\n",
            "step: 10/50, D_loss: 1.4297533, G_loss_U: 1.645184, G_loss_S: 1.2298646e-06, E_loss_t0: 2.5523443\n",
            "step: 10/50, D_loss: 1.4294453, G_loss_U: 1.645184, G_loss_S: 1.2298646e-06, E_loss_t0: 2.5523443\n",
            "step: 10/50, D_loss: 1.42859, G_loss_U: 1.645184, G_loss_S: 1.2298646e-06, E_loss_t0: 2.5523443\n",
            "step: 10/50, D_loss: 1.4277786, G_loss_U: 1.645184, G_loss_S: 1.2298646e-06, E_loss_t0: 2.5523443\n",
            "step: 10/50, D_loss: 1.425924, G_loss_U: 1.645184, G_loss_S: 1.2298646e-06, E_loss_t0: 2.5523443\n",
            "step: 10/50, D_loss: 1.421398, G_loss_U: 1.645184, G_loss_S: 1.2298646e-06, E_loss_t0: 2.5523443\n",
            "step: 10/50, D_loss: 1.4168613, G_loss_U: 1.645184, G_loss_S: 1.2298646e-06, E_loss_t0: 2.5523443\n",
            "step: 10/50, D_loss: 1.4118102, G_loss_U: 1.645184, G_loss_S: 1.2298646e-06, E_loss_t0: 2.5523443\n",
            "step: 10/50, D_loss: 1.4049951, G_loss_U: 1.645184, G_loss_S: 1.2298646e-06, E_loss_t0: 2.5523443\n",
            "step: 10/50, D_loss: 1.3989574, G_loss_U: 1.645184, G_loss_S: 1.2298646e-06, E_loss_t0: 2.5523443\n",
            "step: 11/50, D_loss: 1.4416125, G_loss_U: 1.3913989, G_loss_S: 1.94473e-06, E_loss_t0: 2.563007\n",
            "step: 11/50, D_loss: 1.4879991, G_loss_U: 1.3913989, G_loss_S: 1.94473e-06, E_loss_t0: 2.563007\n",
            "step: 11/50, D_loss: 1.5328485, G_loss_U: 1.3913989, G_loss_S: 1.94473e-06, E_loss_t0: 2.563007\n",
            "step: 11/50, D_loss: 1.5725422, G_loss_U: 1.3913989, G_loss_S: 1.94473e-06, E_loss_t0: 2.563007\n",
            "step: 11/50, D_loss: 1.6046376, G_loss_U: 1.3913989, G_loss_S: 1.94473e-06, E_loss_t0: 2.563007\n",
            "step: 11/50, D_loss: 1.6240224, G_loss_U: 1.3913989, G_loss_S: 1.94473e-06, E_loss_t0: 2.563007\n",
            "step: 11/50, D_loss: 1.6196473, G_loss_U: 1.3913989, G_loss_S: 1.94473e-06, E_loss_t0: 2.563007\n",
            "step: 11/50, D_loss: 1.5951643, G_loss_U: 1.3913989, G_loss_S: 1.94473e-06, E_loss_t0: 2.563007\n",
            "step: 11/50, D_loss: 1.5635719, G_loss_U: 1.3913989, G_loss_S: 1.94473e-06, E_loss_t0: 2.563007\n",
            "step: 11/50, D_loss: 1.5317799, G_loss_U: 1.3913989, G_loss_S: 1.94473e-06, E_loss_t0: 2.563007\n",
            "step: 11/50, D_loss: 1.5014479, G_loss_U: 1.3913989, G_loss_S: 1.94473e-06, E_loss_t0: 2.563007\n",
            "step: 11/50, D_loss: 1.4732089, G_loss_U: 1.3913989, G_loss_S: 1.94473e-06, E_loss_t0: 2.563007\n",
            "step: 11/50, D_loss: 1.4474374, G_loss_U: 1.3913989, G_loss_S: 1.94473e-06, E_loss_t0: 2.563007\n",
            "step: 11/50, D_loss: 1.4243681, G_loss_U: 1.3913989, G_loss_S: 1.94473e-06, E_loss_t0: 2.563007\n",
            "step: 11/50, D_loss: 1.4065198, G_loss_U: 1.3913989, G_loss_S: 1.94473e-06, E_loss_t0: 2.563007\n",
            "step: 11/50, D_loss: 1.3922435, G_loss_U: 1.3913989, G_loss_S: 1.94473e-06, E_loss_t0: 2.563007\n",
            "step: 11/50, D_loss: 1.381087, G_loss_U: 1.3913989, G_loss_S: 1.94473e-06, E_loss_t0: 2.563007\n",
            "step: 11/50, D_loss: 1.3732269, G_loss_U: 1.3913989, G_loss_S: 1.94473e-06, E_loss_t0: 2.563007\n",
            "step: 11/50, D_loss: 1.368797, G_loss_U: 1.3913989, G_loss_S: 1.94473e-06, E_loss_t0: 2.563007\n",
            "step: 11/50, D_loss: 1.3540734, G_loss_U: 1.3913989, G_loss_S: 1.94473e-06, E_loss_t0: 2.563007\n",
            "step: 11/50, D_loss: 1.361672, G_loss_U: 1.3913989, G_loss_S: 1.94473e-06, E_loss_t0: 2.563007\n",
            "step: 11/50, D_loss: 1.3405412, G_loss_U: 1.3913989, G_loss_S: 1.94473e-06, E_loss_t0: 2.563007\n",
            "step: 11/50, D_loss: 1.3475993, G_loss_U: 1.3913989, G_loss_S: 1.94473e-06, E_loss_t0: 2.563007\n",
            "step: 11/50, D_loss: 1.349545, G_loss_U: 1.3913989, G_loss_S: 1.94473e-06, E_loss_t0: 2.563007\n",
            "step: 11/50, D_loss: 1.3511708, G_loss_U: 1.3913989, G_loss_S: 1.94473e-06, E_loss_t0: 2.563007\n",
            "step: 11/50, D_loss: 1.3500948, G_loss_U: 1.3913989, G_loss_S: 1.94473e-06, E_loss_t0: 2.563007\n",
            "step: 11/50, D_loss: 1.3475899, G_loss_U: 1.3913989, G_loss_S: 1.94473e-06, E_loss_t0: 2.563007\n",
            "step: 11/50, D_loss: 1.3411615, G_loss_U: 1.3913989, G_loss_S: 1.94473e-06, E_loss_t0: 2.563007\n",
            "step: 12/50, D_loss: 1.4052136, G_loss_U: 1.3550874, G_loss_S: 1.4469996e-06, E_loss_t0: 2.5573251\n",
            "step: 12/50, D_loss: 1.4420961, G_loss_U: 1.3550874, G_loss_S: 1.4469996e-06, E_loss_t0: 2.5573251\n",
            "step: 12/50, D_loss: 1.4726999, G_loss_U: 1.3550874, G_loss_S: 1.4469996e-06, E_loss_t0: 2.5573251\n",
            "step: 12/50, D_loss: 1.4975637, G_loss_U: 1.3550874, G_loss_S: 1.4469996e-06, E_loss_t0: 2.5573251\n",
            "step: 12/50, D_loss: 1.5167367, G_loss_U: 1.3550874, G_loss_S: 1.4469996e-06, E_loss_t0: 2.5573251\n",
            "step: 12/50, D_loss: 1.5298477, G_loss_U: 1.3550874, G_loss_S: 1.4469996e-06, E_loss_t0: 2.5573251\n",
            "step: 12/50, D_loss: 1.5362478, G_loss_U: 1.3550874, G_loss_S: 1.4469996e-06, E_loss_t0: 2.5573251\n",
            "step: 12/50, D_loss: 1.5364182, G_loss_U: 1.3550874, G_loss_S: 1.4469996e-06, E_loss_t0: 2.5573251\n",
            "step: 12/50, D_loss: 1.5293067, G_loss_U: 1.3550874, G_loss_S: 1.4469996e-06, E_loss_t0: 2.5573251\n",
            "step: 12/50, D_loss: 1.5171938, G_loss_U: 1.3550874, G_loss_S: 1.4469996e-06, E_loss_t0: 2.5573251\n",
            "step: 12/50, D_loss: 1.5014106, G_loss_U: 1.3550874, G_loss_S: 1.4469996e-06, E_loss_t0: 2.5573251\n",
            "step: 12/50, D_loss: 1.4843098, G_loss_U: 1.3550874, G_loss_S: 1.4469996e-06, E_loss_t0: 2.5573251\n",
            "step: 12/50, D_loss: 1.4657197, G_loss_U: 1.3550874, G_loss_S: 1.4469996e-06, E_loss_t0: 2.5573251\n",
            "step: 12/50, D_loss: 1.4474381, G_loss_U: 1.3550874, G_loss_S: 1.4469996e-06, E_loss_t0: 2.5573251\n",
            "step: 12/50, D_loss: 1.4306438, G_loss_U: 1.3550874, G_loss_S: 1.4469996e-06, E_loss_t0: 2.5573251\n",
            "step: 12/50, D_loss: 1.4141933, G_loss_U: 1.3550874, G_loss_S: 1.4469996e-06, E_loss_t0: 2.5573251\n",
            "step: 12/50, D_loss: 1.3979906, G_loss_U: 1.3550874, G_loss_S: 1.4469996e-06, E_loss_t0: 2.5573251\n",
            "step: 12/50, D_loss: 1.3839005, G_loss_U: 1.3550874, G_loss_S: 1.4469996e-06, E_loss_t0: 2.5573251\n",
            "step: 12/50, D_loss: 1.3694838, G_loss_U: 1.3550874, G_loss_S: 1.4469996e-06, E_loss_t0: 2.5573251\n",
            "step: 12/50, D_loss: 1.356294, G_loss_U: 1.3550874, G_loss_S: 1.4469996e-06, E_loss_t0: 2.5573251\n",
            "step: 12/50, D_loss: 1.3412315, G_loss_U: 1.3550874, G_loss_S: 1.4469996e-06, E_loss_t0: 2.5573251\n",
            "step: 12/50, D_loss: 1.3195841, G_loss_U: 1.3550874, G_loss_S: 1.4469996e-06, E_loss_t0: 2.5573251\n",
            "step: 12/50, D_loss: 1.2817988, G_loss_U: 1.3550874, G_loss_S: 1.4469996e-06, E_loss_t0: 2.5573251\n",
            "step: 12/50, D_loss: 1.0088788, G_loss_U: 1.3550874, G_loss_S: 1.4469996e-06, E_loss_t0: 2.5573251\n",
            "step: 12/50, D_loss: 1.0863614, G_loss_U: 1.3550874, G_loss_S: 1.4469996e-06, E_loss_t0: 2.5573251\n",
            "step: 12/50, D_loss: 0.9969431, G_loss_U: 1.3550874, G_loss_S: 1.4469996e-06, E_loss_t0: 2.5573251\n",
            "step: 12/50, D_loss: 1.2300799, G_loss_U: 1.3550874, G_loss_S: 1.4469996e-06, E_loss_t0: 2.5573251\n",
            "step: 12/50, D_loss: 1.2176163, G_loss_U: 1.3550874, G_loss_S: 1.4469996e-06, E_loss_t0: 2.5573251\n",
            "step: 13/50, D_loss: 1.3655132, G_loss_U: 1.6506082, G_loss_S: 1.5490298e-06, E_loss_t0: 2.5872033\n",
            "step: 13/50, D_loss: 1.4053279, G_loss_U: 1.6506082, G_loss_S: 1.5490298e-06, E_loss_t0: 2.5872033\n",
            "step: 13/50, D_loss: 1.4402362, G_loss_U: 1.6506082, G_loss_S: 1.5490298e-06, E_loss_t0: 2.5872033\n",
            "step: 13/50, D_loss: 1.4850283, G_loss_U: 1.6506082, G_loss_S: 1.5490298e-06, E_loss_t0: 2.5872033\n",
            "step: 13/50, D_loss: 1.5824865, G_loss_U: 1.6506082, G_loss_S: 1.5490298e-06, E_loss_t0: 2.5872033\n",
            "step: 13/50, D_loss: 1.6964197, G_loss_U: 1.6506082, G_loss_S: 1.5490298e-06, E_loss_t0: 2.5872033\n",
            "step: 13/50, D_loss: 1.5508155, G_loss_U: 1.6506082, G_loss_S: 1.5490298e-06, E_loss_t0: 2.5872033\n",
            "step: 13/50, D_loss: 1.4888425, G_loss_U: 1.6506082, G_loss_S: 1.5490298e-06, E_loss_t0: 2.5872033\n",
            "step: 13/50, D_loss: 1.4591558, G_loss_U: 1.6506082, G_loss_S: 1.5490298e-06, E_loss_t0: 2.5872033\n",
            "step: 13/50, D_loss: 1.4353244, G_loss_U: 1.6506082, G_loss_S: 1.5490298e-06, E_loss_t0: 2.5872033\n",
            "step: 13/50, D_loss: 1.4168406, G_loss_U: 1.6506082, G_loss_S: 1.5490298e-06, E_loss_t0: 2.5872033\n",
            "step: 13/50, D_loss: 1.3987492, G_loss_U: 1.6506082, G_loss_S: 1.5490298e-06, E_loss_t0: 2.5872033\n",
            "step: 13/50, D_loss: 1.3808739, G_loss_U: 1.6506082, G_loss_S: 1.5490298e-06, E_loss_t0: 2.5872033\n",
            "step: 13/50, D_loss: 1.3610628, G_loss_U: 1.6506082, G_loss_S: 1.5490298e-06, E_loss_t0: 2.5872033\n",
            "step: 13/50, D_loss: 1.3413618, G_loss_U: 1.6506082, G_loss_S: 1.5490298e-06, E_loss_t0: 2.5872033\n",
            "step: 13/50, D_loss: 1.3139074, G_loss_U: 1.6506082, G_loss_S: 1.5490298e-06, E_loss_t0: 2.5872033\n",
            "step: 13/50, D_loss: 1.2638826, G_loss_U: 1.6506082, G_loss_S: 1.5490298e-06, E_loss_t0: 2.5872033\n",
            "step: 13/50, D_loss: 0.9432564, G_loss_U: 1.6506082, G_loss_S: 1.5490298e-06, E_loss_t0: 2.5872033\n",
            "step: 13/50, D_loss: 1.0613048, G_loss_U: 1.6506082, G_loss_S: 1.5490298e-06, E_loss_t0: 2.5872033\n",
            "step: 13/50, D_loss: 1.0299029, G_loss_U: 1.6506082, G_loss_S: 1.5490298e-06, E_loss_t0: 2.5872033\n",
            "step: 13/50, D_loss: 0.97428274, G_loss_U: 1.6506082, G_loss_S: 1.5490298e-06, E_loss_t0: 2.5872033\n",
            "step: 13/50, D_loss: 2.2179158, G_loss_U: 1.6506082, G_loss_S: 1.5490298e-06, E_loss_t0: 2.5872033\n",
            "step: 13/50, D_loss: 0.94290066, G_loss_U: 1.6506082, G_loss_S: 1.5490298e-06, E_loss_t0: 2.5872033\n",
            "step: 13/50, D_loss: 1.1027279, G_loss_U: 1.6506082, G_loss_S: 1.5490298e-06, E_loss_t0: 2.5872033\n",
            "step: 13/50, D_loss: 1.1715631, G_loss_U: 1.6506082, G_loss_S: 1.5490298e-06, E_loss_t0: 2.5872033\n",
            "step: 13/50, D_loss: 1.0218402, G_loss_U: 1.6506082, G_loss_S: 1.5490298e-06, E_loss_t0: 2.5872033\n",
            "step: 13/50, D_loss: 1.1365209, G_loss_U: 1.6506082, G_loss_S: 1.5490298e-06, E_loss_t0: 2.5872033\n",
            "step: 13/50, D_loss: 1.7078229, G_loss_U: 1.6506082, G_loss_S: 1.5490298e-06, E_loss_t0: 2.5872033\n",
            "step: 14/50, D_loss: 1.5141542, G_loss_U: 0.970865, G_loss_S: 1.3744215e-06, E_loss_t0: 2.4817085\n",
            "step: 14/50, D_loss: 1.9181731, G_loss_U: 0.970865, G_loss_S: 1.3744215e-06, E_loss_t0: 2.4817085\n",
            "step: 14/50, D_loss: 2.4127665, G_loss_U: 0.970865, G_loss_S: 1.3744215e-06, E_loss_t0: 2.4817085\n",
            "step: 14/50, D_loss: 2.5104418, G_loss_U: 0.970865, G_loss_S: 1.3744215e-06, E_loss_t0: 2.4817085\n",
            "step: 14/50, D_loss: 2.5491633, G_loss_U: 0.970865, G_loss_S: 1.3744215e-06, E_loss_t0: 2.4817085\n",
            "step: 14/50, D_loss: 2.5537195, G_loss_U: 0.970865, G_loss_S: 1.3744215e-06, E_loss_t0: 2.4817085\n",
            "step: 14/50, D_loss: 2.5355768, G_loss_U: 0.970865, G_loss_S: 1.3744215e-06, E_loss_t0: 2.4817085\n",
            "step: 14/50, D_loss: 2.5020194, G_loss_U: 0.970865, G_loss_S: 1.3744215e-06, E_loss_t0: 2.4817085\n",
            "step: 14/50, D_loss: 2.456553, G_loss_U: 0.970865, G_loss_S: 1.3744215e-06, E_loss_t0: 2.4817085\n",
            "step: 14/50, D_loss: 2.4050221, G_loss_U: 0.970865, G_loss_S: 1.3744215e-06, E_loss_t0: 2.4817085\n",
            "step: 14/50, D_loss: 2.3490183, G_loss_U: 0.970865, G_loss_S: 1.3744215e-06, E_loss_t0: 2.4817085\n",
            "step: 14/50, D_loss: 2.2917717, G_loss_U: 0.970865, G_loss_S: 1.3744215e-06, E_loss_t0: 2.4817085\n",
            "step: 14/50, D_loss: 2.2353795, G_loss_U: 0.970865, G_loss_S: 1.3744215e-06, E_loss_t0: 2.4817085\n",
            "step: 14/50, D_loss: 2.180957, G_loss_U: 0.970865, G_loss_S: 1.3744215e-06, E_loss_t0: 2.4817085\n",
            "step: 14/50, D_loss: 2.130223, G_loss_U: 0.970865, G_loss_S: 1.3744215e-06, E_loss_t0: 2.4817085\n",
            "step: 14/50, D_loss: 2.0830317, G_loss_U: 0.970865, G_loss_S: 1.3744215e-06, E_loss_t0: 2.4817085\n",
            "step: 14/50, D_loss: 2.0420399, G_loss_U: 0.970865, G_loss_S: 1.3744215e-06, E_loss_t0: 2.4817085\n",
            "step: 14/50, D_loss: 2.005888, G_loss_U: 0.970865, G_loss_S: 1.3744215e-06, E_loss_t0: 2.4817085\n",
            "step: 14/50, D_loss: 1.974898, G_loss_U: 0.970865, G_loss_S: 1.3744215e-06, E_loss_t0: 2.4817085\n",
            "step: 14/50, D_loss: 1.9485278, G_loss_U: 0.970865, G_loss_S: 1.3744215e-06, E_loss_t0: 2.4817085\n",
            "step: 14/50, D_loss: 1.9287479, G_loss_U: 0.970865, G_loss_S: 1.3744215e-06, E_loss_t0: 2.4817085\n",
            "step: 14/50, D_loss: 1.9133186, G_loss_U: 0.970865, G_loss_S: 1.3744215e-06, E_loss_t0: 2.4817085\n",
            "step: 14/50, D_loss: 1.902099, G_loss_U: 0.970865, G_loss_S: 1.3744215e-06, E_loss_t0: 2.4817085\n",
            "step: 14/50, D_loss: 1.8945721, G_loss_U: 0.970865, G_loss_S: 1.3744215e-06, E_loss_t0: 2.4817085\n",
            "step: 14/50, D_loss: 1.8904784, G_loss_U: 0.970865, G_loss_S: 1.3744215e-06, E_loss_t0: 2.4817085\n",
            "step: 14/50, D_loss: 1.889234, G_loss_U: 0.970865, G_loss_S: 1.3744215e-06, E_loss_t0: 2.4817085\n",
            "step: 14/50, D_loss: 1.8896394, G_loss_U: 0.970865, G_loss_S: 1.3744215e-06, E_loss_t0: 2.4817085\n",
            "step: 14/50, D_loss: 1.8906484, G_loss_U: 0.970865, G_loss_S: 1.3744215e-06, E_loss_t0: 2.4817085\n",
            "step: 15/50, D_loss: 1.8901796, G_loss_U: 2.100699, G_loss_S: 1.7060046e-06, E_loss_t0: 2.60945\n",
            "step: 15/50, D_loss: 1.8880037, G_loss_U: 2.100699, G_loss_S: 1.7060046e-06, E_loss_t0: 2.60945\n",
            "step: 15/50, D_loss: 1.887081, G_loss_U: 2.100699, G_loss_S: 1.7060046e-06, E_loss_t0: 2.60945\n",
            "step: 15/50, D_loss: 1.8843205, G_loss_U: 2.100699, G_loss_S: 1.7060046e-06, E_loss_t0: 2.60945\n",
            "step: 15/50, D_loss: 1.8819386, G_loss_U: 2.100699, G_loss_S: 1.7060046e-06, E_loss_t0: 2.60945\n",
            "step: 15/50, D_loss: 1.880787, G_loss_U: 2.100699, G_loss_S: 1.7060046e-06, E_loss_t0: 2.60945\n",
            "step: 15/50, D_loss: 1.8776752, G_loss_U: 2.100699, G_loss_S: 1.7060046e-06, E_loss_t0: 2.60945\n",
            "step: 15/50, D_loss: 1.8774756, G_loss_U: 2.100699, G_loss_S: 1.7060046e-06, E_loss_t0: 2.60945\n",
            "step: 15/50, D_loss: 1.8759645, G_loss_U: 2.100699, G_loss_S: 1.7060046e-06, E_loss_t0: 2.60945\n",
            "step: 15/50, D_loss: 1.8737224, G_loss_U: 2.100699, G_loss_S: 1.7060046e-06, E_loss_t0: 2.60945\n",
            "step: 15/50, D_loss: 1.8738458, G_loss_U: 2.100699, G_loss_S: 1.7060046e-06, E_loss_t0: 2.60945\n",
            "step: 15/50, D_loss: 1.8721308, G_loss_U: 2.100699, G_loss_S: 1.7060046e-06, E_loss_t0: 2.60945\n",
            "step: 15/50, D_loss: 1.8710867, G_loss_U: 2.100699, G_loss_S: 1.7060046e-06, E_loss_t0: 2.60945\n",
            "step: 15/50, D_loss: 1.8698261, G_loss_U: 2.100699, G_loss_S: 1.7060046e-06, E_loss_t0: 2.60945\n",
            "step: 15/50, D_loss: 1.8678393, G_loss_U: 2.100699, G_loss_S: 1.7060046e-06, E_loss_t0: 2.60945\n",
            "step: 15/50, D_loss: 1.866816, G_loss_U: 2.100699, G_loss_S: 1.7060046e-06, E_loss_t0: 2.60945\n",
            "step: 15/50, D_loss: 1.8654917, G_loss_U: 2.100699, G_loss_S: 1.7060046e-06, E_loss_t0: 2.60945\n",
            "step: 15/50, D_loss: 1.864051, G_loss_U: 2.100699, G_loss_S: 1.7060046e-06, E_loss_t0: 2.60945\n",
            "step: 15/50, D_loss: 1.8632476, G_loss_U: 2.100699, G_loss_S: 1.7060046e-06, E_loss_t0: 2.60945\n",
            "step: 15/50, D_loss: 1.8610777, G_loss_U: 2.100699, G_loss_S: 1.7060046e-06, E_loss_t0: 2.60945\n",
            "step: 15/50, D_loss: 1.8585306, G_loss_U: 2.100699, G_loss_S: 1.7060046e-06, E_loss_t0: 2.60945\n",
            "step: 15/50, D_loss: 1.8572549, G_loss_U: 2.100699, G_loss_S: 1.7060046e-06, E_loss_t0: 2.60945\n",
            "step: 15/50, D_loss: 1.8542364, G_loss_U: 2.100699, G_loss_S: 1.7060046e-06, E_loss_t0: 2.60945\n",
            "step: 15/50, D_loss: 1.8545407, G_loss_U: 2.100699, G_loss_S: 1.7060046e-06, E_loss_t0: 2.60945\n",
            "step: 15/50, D_loss: 1.8520635, G_loss_U: 2.100699, G_loss_S: 1.7060046e-06, E_loss_t0: 2.60945\n",
            "step: 15/50, D_loss: 1.8507506, G_loss_U: 2.100699, G_loss_S: 1.7060046e-06, E_loss_t0: 2.60945\n",
            "step: 15/50, D_loss: 1.8466638, G_loss_U: 2.100699, G_loss_S: 1.7060046e-06, E_loss_t0: 2.60945\n",
            "step: 15/50, D_loss: 1.8450449, G_loss_U: 2.100699, G_loss_S: 1.7060046e-06, E_loss_t0: 2.60945\n",
            "step: 16/50, D_loss: 1.8411595, G_loss_U: 1.8898687, G_loss_S: 1.463421e-06, E_loss_t0: 2.5300329\n",
            "step: 16/50, D_loss: 1.8429995, G_loss_U: 1.8898687, G_loss_S: 1.463421e-06, E_loss_t0: 2.5300329\n",
            "step: 16/50, D_loss: 1.8457984, G_loss_U: 1.8898687, G_loss_S: 1.463421e-06, E_loss_t0: 2.5300329\n",
            "step: 16/50, D_loss: 1.847801, G_loss_U: 1.8898687, G_loss_S: 1.463421e-06, E_loss_t0: 2.5300329\n",
            "step: 16/50, D_loss: 1.8481458, G_loss_U: 1.8898687, G_loss_S: 1.463421e-06, E_loss_t0: 2.5300329\n",
            "step: 16/50, D_loss: 1.8477582, G_loss_U: 1.8898687, G_loss_S: 1.463421e-06, E_loss_t0: 2.5300329\n",
            "step: 16/50, D_loss: 1.8466529, G_loss_U: 1.8898687, G_loss_S: 1.463421e-06, E_loss_t0: 2.5300329\n",
            "step: 16/50, D_loss: 1.8455209, G_loss_U: 1.8898687, G_loss_S: 1.463421e-06, E_loss_t0: 2.5300329\n",
            "step: 16/50, D_loss: 1.8429836, G_loss_U: 1.8898687, G_loss_S: 1.463421e-06, E_loss_t0: 2.5300329\n",
            "step: 16/50, D_loss: 1.8390076, G_loss_U: 1.8898687, G_loss_S: 1.463421e-06, E_loss_t0: 2.5300329\n",
            "step: 16/50, D_loss: 1.8360626, G_loss_U: 1.8898687, G_loss_S: 1.463421e-06, E_loss_t0: 2.5300329\n",
            "step: 16/50, D_loss: 1.8301677, G_loss_U: 1.8898687, G_loss_S: 1.463421e-06, E_loss_t0: 2.5300329\n",
            "step: 16/50, D_loss: 1.826302, G_loss_U: 1.8898687, G_loss_S: 1.463421e-06, E_loss_t0: 2.5300329\n",
            "step: 16/50, D_loss: 1.8200424, G_loss_U: 1.8898687, G_loss_S: 1.463421e-06, E_loss_t0: 2.5300329\n",
            "step: 16/50, D_loss: 1.8145572, G_loss_U: 1.8898687, G_loss_S: 1.463421e-06, E_loss_t0: 2.5300329\n",
            "step: 16/50, D_loss: 1.8093117, G_loss_U: 1.8898687, G_loss_S: 1.463421e-06, E_loss_t0: 2.5300329\n",
            "step: 16/50, D_loss: 1.8049307, G_loss_U: 1.8898687, G_loss_S: 1.463421e-06, E_loss_t0: 2.5300329\n",
            "step: 16/50, D_loss: 1.7990686, G_loss_U: 1.8898687, G_loss_S: 1.463421e-06, E_loss_t0: 2.5300329\n",
            "step: 16/50, D_loss: 1.7942988, G_loss_U: 1.8898687, G_loss_S: 1.463421e-06, E_loss_t0: 2.5300329\n",
            "step: 16/50, D_loss: 1.7922217, G_loss_U: 1.8898687, G_loss_S: 1.463421e-06, E_loss_t0: 2.5300329\n",
            "step: 16/50, D_loss: 1.7873946, G_loss_U: 1.8898687, G_loss_S: 1.463421e-06, E_loss_t0: 2.5300329\n",
            "step: 16/50, D_loss: 1.7837793, G_loss_U: 1.8898687, G_loss_S: 1.463421e-06, E_loss_t0: 2.5300329\n",
            "step: 16/50, D_loss: 1.7802203, G_loss_U: 1.8898687, G_loss_S: 1.463421e-06, E_loss_t0: 2.5300329\n",
            "step: 16/50, D_loss: 1.7793709, G_loss_U: 1.8898687, G_loss_S: 1.463421e-06, E_loss_t0: 2.5300329\n",
            "step: 16/50, D_loss: 1.7748125, G_loss_U: 1.8898687, G_loss_S: 1.463421e-06, E_loss_t0: 2.5300329\n",
            "step: 16/50, D_loss: 1.7704692, G_loss_U: 1.8898687, G_loss_S: 1.463421e-06, E_loss_t0: 2.5300329\n",
            "step: 16/50, D_loss: 1.7668715, G_loss_U: 1.8898687, G_loss_S: 1.463421e-06, E_loss_t0: 2.5300329\n",
            "step: 16/50, D_loss: 1.7590649, G_loss_U: 1.8898687, G_loss_S: 1.463421e-06, E_loss_t0: 2.5300329\n",
            "step: 17/50, D_loss: 1.7479365, G_loss_U: 2.0283315, G_loss_S: 1.4923753e-06, E_loss_t0: 2.5543392\n",
            "step: 17/50, D_loss: 1.7484254, G_loss_U: 2.0283315, G_loss_S: 1.4923753e-06, E_loss_t0: 2.5543392\n",
            "step: 17/50, D_loss: 1.750876, G_loss_U: 2.0283315, G_loss_S: 1.4923753e-06, E_loss_t0: 2.5543392\n",
            "step: 17/50, D_loss: 1.7543346, G_loss_U: 2.0283315, G_loss_S: 1.4923753e-06, E_loss_t0: 2.5543392\n",
            "step: 17/50, D_loss: 1.7588996, G_loss_U: 2.0283315, G_loss_S: 1.4923753e-06, E_loss_t0: 2.5543392\n",
            "step: 17/50, D_loss: 1.7602414, G_loss_U: 2.0283315, G_loss_S: 1.4923753e-06, E_loss_t0: 2.5543392\n",
            "step: 17/50, D_loss: 1.7565428, G_loss_U: 2.0283315, G_loss_S: 1.4923753e-06, E_loss_t0: 2.5543392\n",
            "step: 17/50, D_loss: 1.7535071, G_loss_U: 2.0283315, G_loss_S: 1.4923753e-06, E_loss_t0: 2.5543392\n",
            "step: 17/50, D_loss: 1.7486398, G_loss_U: 2.0283315, G_loss_S: 1.4923753e-06, E_loss_t0: 2.5543392\n",
            "step: 17/50, D_loss: 1.7374151, G_loss_U: 2.0283315, G_loss_S: 1.4923753e-06, E_loss_t0: 2.5543392\n",
            "step: 17/50, D_loss: 1.7245692, G_loss_U: 2.0283315, G_loss_S: 1.4923753e-06, E_loss_t0: 2.5543392\n",
            "step: 17/50, D_loss: 1.7150335, G_loss_U: 2.0283315, G_loss_S: 1.4923753e-06, E_loss_t0: 2.5543392\n",
            "step: 17/50, D_loss: 1.7009071, G_loss_U: 2.0283315, G_loss_S: 1.4923753e-06, E_loss_t0: 2.5543392\n",
            "step: 17/50, D_loss: 1.687842, G_loss_U: 2.0283315, G_loss_S: 1.4923753e-06, E_loss_t0: 2.5543392\n",
            "step: 17/50, D_loss: 1.6771724, G_loss_U: 2.0283315, G_loss_S: 1.4923753e-06, E_loss_t0: 2.5543392\n",
            "step: 17/50, D_loss: 1.6709226, G_loss_U: 2.0283315, G_loss_S: 1.4923753e-06, E_loss_t0: 2.5543392\n",
            "step: 17/50, D_loss: 1.6661773, G_loss_U: 2.0283315, G_loss_S: 1.4923753e-06, E_loss_t0: 2.5543392\n",
            "step: 17/50, D_loss: 1.6603702, G_loss_U: 2.0283315, G_loss_S: 1.4923753e-06, E_loss_t0: 2.5543392\n",
            "step: 17/50, D_loss: 1.6525009, G_loss_U: 2.0283315, G_loss_S: 1.4923753e-06, E_loss_t0: 2.5543392\n",
            "step: 17/50, D_loss: 1.6493465, G_loss_U: 2.0283315, G_loss_S: 1.4923753e-06, E_loss_t0: 2.5543392\n",
            "step: 17/50, D_loss: 1.6402845, G_loss_U: 2.0283315, G_loss_S: 1.4923753e-06, E_loss_t0: 2.5543392\n",
            "step: 17/50, D_loss: 1.6267651, G_loss_U: 2.0283315, G_loss_S: 1.4923753e-06, E_loss_t0: 2.5543392\n",
            "step: 17/50, D_loss: 1.6170782, G_loss_U: 2.0283315, G_loss_S: 1.4923753e-06, E_loss_t0: 2.5543392\n",
            "step: 17/50, D_loss: 1.6040266, G_loss_U: 2.0283315, G_loss_S: 1.4923753e-06, E_loss_t0: 2.5543392\n",
            "step: 17/50, D_loss: 1.5920713, G_loss_U: 2.0283315, G_loss_S: 1.4923753e-06, E_loss_t0: 2.5543392\n",
            "step: 17/50, D_loss: 1.5729136, G_loss_U: 2.0283315, G_loss_S: 1.4923753e-06, E_loss_t0: 2.5543392\n",
            "step: 17/50, D_loss: 1.5664158, G_loss_U: 2.0283315, G_loss_S: 1.4923753e-06, E_loss_t0: 2.5543392\n",
            "step: 17/50, D_loss: 1.5552263, G_loss_U: 2.0283315, G_loss_S: 1.4923753e-06, E_loss_t0: 2.5543392\n",
            "step: 18/50, D_loss: 1.5741172, G_loss_U: 1.8718, G_loss_S: 1.4870589e-06, E_loss_t0: 2.5167277\n",
            "step: 18/50, D_loss: 1.6154689, G_loss_U: 1.8718, G_loss_S: 1.4870589e-06, E_loss_t0: 2.5167277\n",
            "step: 18/50, D_loss: 1.64164, G_loss_U: 1.8718, G_loss_S: 1.4870589e-06, E_loss_t0: 2.5167277\n",
            "step: 18/50, D_loss: 1.6535594, G_loss_U: 1.8718, G_loss_S: 1.4870589e-06, E_loss_t0: 2.5167277\n",
            "step: 18/50, D_loss: 1.6488988, G_loss_U: 1.8718, G_loss_S: 1.4870589e-06, E_loss_t0: 2.5167277\n",
            "step: 18/50, D_loss: 1.6260562, G_loss_U: 1.8718, G_loss_S: 1.4870589e-06, E_loss_t0: 2.5167277\n",
            "step: 18/50, D_loss: 1.5825073, G_loss_U: 1.8718, G_loss_S: 1.4870589e-06, E_loss_t0: 2.5167277\n",
            "step: 18/50, D_loss: 1.5346183, G_loss_U: 1.8718, G_loss_S: 1.4870589e-06, E_loss_t0: 2.5167277\n",
            "step: 18/50, D_loss: 1.4816084, G_loss_U: 1.8718, G_loss_S: 1.4870589e-06, E_loss_t0: 2.5167277\n",
            "step: 18/50, D_loss: 1.4299341, G_loss_U: 1.8718, G_loss_S: 1.4870589e-06, E_loss_t0: 2.5167277\n",
            "step: 18/50, D_loss: 1.3937726, G_loss_U: 1.8718, G_loss_S: 1.4870589e-06, E_loss_t0: 2.5167277\n",
            "step: 18/50, D_loss: 1.3883708, G_loss_U: 1.8718, G_loss_S: 1.4870589e-06, E_loss_t0: 2.5167277\n",
            "step: 18/50, D_loss: 1.3878376, G_loss_U: 1.8718, G_loss_S: 1.4870589e-06, E_loss_t0: 2.5167277\n",
            "step: 18/50, D_loss: 1.403155, G_loss_U: 1.8718, G_loss_S: 1.4870589e-06, E_loss_t0: 2.5167277\n",
            "step: 18/50, D_loss: 1.3983128, G_loss_U: 1.8718, G_loss_S: 1.4870589e-06, E_loss_t0: 2.5167277\n",
            "step: 18/50, D_loss: 1.3673161, G_loss_U: 1.8718, G_loss_S: 1.4870589e-06, E_loss_t0: 2.5167277\n",
            "step: 18/50, D_loss: 1.3153523, G_loss_U: 1.8718, G_loss_S: 1.4870589e-06, E_loss_t0: 2.5167277\n",
            "step: 18/50, D_loss: 1.2669548, G_loss_U: 1.8718, G_loss_S: 1.4870589e-06, E_loss_t0: 2.5167277\n",
            "step: 18/50, D_loss: 1.2569063, G_loss_U: 1.8718, G_loss_S: 1.4870589e-06, E_loss_t0: 2.5167277\n",
            "step: 18/50, D_loss: 1.2549702, G_loss_U: 1.8718, G_loss_S: 1.4870589e-06, E_loss_t0: 2.5167277\n",
            "step: 18/50, D_loss: 1.2399898, G_loss_U: 1.8718, G_loss_S: 1.4870589e-06, E_loss_t0: 2.5167277\n",
            "step: 18/50, D_loss: 1.2279615, G_loss_U: 1.8718, G_loss_S: 1.4870589e-06, E_loss_t0: 2.5167277\n",
            "step: 18/50, D_loss: 1.201957, G_loss_U: 1.8718, G_loss_S: 1.4870589e-06, E_loss_t0: 2.5167277\n",
            "step: 18/50, D_loss: 1.1592877, G_loss_U: 1.8718, G_loss_S: 1.4870589e-06, E_loss_t0: 2.5167277\n",
            "step: 18/50, D_loss: 1.1138705, G_loss_U: 1.8718, G_loss_S: 1.4870589e-06, E_loss_t0: 2.5167277\n",
            "step: 18/50, D_loss: 1.0770996, G_loss_U: 1.8718, G_loss_S: 1.4870589e-06, E_loss_t0: 2.5167277\n",
            "step: 18/50, D_loss: 1.0608313, G_loss_U: 1.8718, G_loss_S: 1.4870589e-06, E_loss_t0: 2.5167277\n",
            "step: 18/50, D_loss: 1.0431514, G_loss_U: 1.8718, G_loss_S: 1.4870589e-06, E_loss_t0: 2.5167277\n",
            "step: 19/50, D_loss: 1.2206768, G_loss_U: 2.5175555, G_loss_S: 1.5074213e-06, E_loss_t0: 2.5025792\n",
            "step: 19/50, D_loss: 1.4026612, G_loss_U: 2.5175555, G_loss_S: 1.5074213e-06, E_loss_t0: 2.5025792\n",
            "step: 19/50, D_loss: 1.5613248, G_loss_U: 2.5175555, G_loss_S: 1.5074213e-06, E_loss_t0: 2.5025792\n",
            "step: 19/50, D_loss: 1.6992058, G_loss_U: 2.5175555, G_loss_S: 1.5074213e-06, E_loss_t0: 2.5025792\n",
            "step: 19/50, D_loss: 1.7577718, G_loss_U: 2.5175555, G_loss_S: 1.5074213e-06, E_loss_t0: 2.5025792\n",
            "step: 19/50, D_loss: 1.7120944, G_loss_U: 2.5175555, G_loss_S: 1.5074213e-06, E_loss_t0: 2.5025792\n",
            "step: 19/50, D_loss: 1.5984056, G_loss_U: 2.5175555, G_loss_S: 1.5074213e-06, E_loss_t0: 2.5025792\n",
            "step: 19/50, D_loss: 1.4755541, G_loss_U: 2.5175555, G_loss_S: 1.5074213e-06, E_loss_t0: 2.5025792\n",
            "step: 19/50, D_loss: 1.358926, G_loss_U: 2.5175555, G_loss_S: 1.5074213e-06, E_loss_t0: 2.5025792\n",
            "step: 19/50, D_loss: 1.2423598, G_loss_U: 2.5175555, G_loss_S: 1.5074213e-06, E_loss_t0: 2.5025792\n",
            "step: 19/50, D_loss: 1.1090438, G_loss_U: 2.5175555, G_loss_S: 1.5074213e-06, E_loss_t0: 2.5025792\n",
            "step: 19/50, D_loss: 0.9512042, G_loss_U: 2.5175555, G_loss_S: 1.5074213e-06, E_loss_t0: 2.5025792\n",
            "step: 19/50, D_loss: 0.92042065, G_loss_U: 2.5175555, G_loss_S: 1.5074213e-06, E_loss_t0: 2.5025792\n",
            "step: 19/50, D_loss: 1.0721076, G_loss_U: 2.5175555, G_loss_S: 1.5074213e-06, E_loss_t0: 2.5025792\n",
            "step: 19/50, D_loss: 1.2283151, G_loss_U: 2.5175555, G_loss_S: 1.5074213e-06, E_loss_t0: 2.5025792\n",
            "step: 19/50, D_loss: 1.126239, G_loss_U: 2.5175555, G_loss_S: 1.5074213e-06, E_loss_t0: 2.5025792\n",
            "step: 19/50, D_loss: 0.9466744, G_loss_U: 2.5175555, G_loss_S: 1.5074213e-06, E_loss_t0: 2.5025792\n",
            "step: 19/50, D_loss: 0.8520939, G_loss_U: 2.5175555, G_loss_S: 1.5074213e-06, E_loss_t0: 2.5025792\n",
            "step: 19/50, D_loss: 0.88642645, G_loss_U: 2.5175555, G_loss_S: 1.5074213e-06, E_loss_t0: 2.5025792\n",
            "step: 19/50, D_loss: 0.9450793, G_loss_U: 2.5175555, G_loss_S: 1.5074213e-06, E_loss_t0: 2.5025792\n",
            "step: 19/50, D_loss: 0.97625417, G_loss_U: 2.5175555, G_loss_S: 1.5074213e-06, E_loss_t0: 2.5025792\n",
            "step: 19/50, D_loss: 0.96538043, G_loss_U: 2.5175555, G_loss_S: 1.5074213e-06, E_loss_t0: 2.5025792\n",
            "step: 19/50, D_loss: 0.8912263, G_loss_U: 2.5175555, G_loss_S: 1.5074213e-06, E_loss_t0: 2.5025792\n",
            "step: 19/50, D_loss: 0.7867512, G_loss_U: 2.5175555, G_loss_S: 1.5074213e-06, E_loss_t0: 2.5025792\n",
            "step: 19/50, D_loss: 0.75474817, G_loss_U: 2.5175555, G_loss_S: 1.5074213e-06, E_loss_t0: 2.5025792\n",
            "step: 19/50, D_loss: 0.782071, G_loss_U: 2.5175555, G_loss_S: 1.5074213e-06, E_loss_t0: 2.5025792\n",
            "step: 19/50, D_loss: 0.79037285, G_loss_U: 2.5175555, G_loss_S: 1.5074213e-06, E_loss_t0: 2.5025792\n",
            "step: 19/50, D_loss: 0.7824452, G_loss_U: 2.5175555, G_loss_S: 1.5074213e-06, E_loss_t0: 2.5025792\n",
            "step: 20/50, D_loss: 0.6980967, G_loss_U: 3.6252563, G_loss_S: 1.882473e-06, E_loss_t0: 2.5354438\n",
            "step: 20/50, D_loss: 0.8950672, G_loss_U: 3.6252563, G_loss_S: 1.882473e-06, E_loss_t0: 2.5354438\n",
            "step: 20/50, D_loss: 0.96965426, G_loss_U: 3.6252563, G_loss_S: 1.882473e-06, E_loss_t0: 2.5354438\n",
            "step: 20/50, D_loss: 0.9512729, G_loss_U: 3.6252563, G_loss_S: 1.882473e-06, E_loss_t0: 2.5354438\n",
            "step: 20/50, D_loss: 0.82851964, G_loss_U: 3.6252563, G_loss_S: 1.882473e-06, E_loss_t0: 2.5354438\n",
            "step: 20/50, D_loss: 0.644305, G_loss_U: 3.6252563, G_loss_S: 1.882473e-06, E_loss_t0: 2.5354438\n",
            "step: 20/50, D_loss: 0.6162309, G_loss_U: 3.6252563, G_loss_S: 1.882473e-06, E_loss_t0: 2.5354438\n",
            "step: 20/50, D_loss: 0.6566477, G_loss_U: 3.6252563, G_loss_S: 1.882473e-06, E_loss_t0: 2.5354438\n",
            "step: 20/50, D_loss: 0.74534374, G_loss_U: 3.6252563, G_loss_S: 1.882473e-06, E_loss_t0: 2.5354438\n",
            "step: 20/50, D_loss: 0.7478897, G_loss_U: 3.6252563, G_loss_S: 1.882473e-06, E_loss_t0: 2.5354438\n",
            "step: 20/50, D_loss: 0.692177, G_loss_U: 3.6252563, G_loss_S: 1.882473e-06, E_loss_t0: 2.5354438\n",
            "step: 20/50, D_loss: 0.6468659, G_loss_U: 3.6252563, G_loss_S: 1.882473e-06, E_loss_t0: 2.5354438\n",
            "step: 20/50, D_loss: 0.5619959, G_loss_U: 3.6252563, G_loss_S: 1.882473e-06, E_loss_t0: 2.5354438\n",
            "step: 20/50, D_loss: 0.5449014, G_loss_U: 3.6252563, G_loss_S: 1.882473e-06, E_loss_t0: 2.5354438\n",
            "step: 20/50, D_loss: 0.5499762, G_loss_U: 3.6252563, G_loss_S: 1.882473e-06, E_loss_t0: 2.5354438\n",
            "step: 20/50, D_loss: 0.57916474, G_loss_U: 3.6252563, G_loss_S: 1.882473e-06, E_loss_t0: 2.5354438\n",
            "step: 20/50, D_loss: 0.5682634, G_loss_U: 3.6252563, G_loss_S: 1.882473e-06, E_loss_t0: 2.5354438\n",
            "step: 20/50, D_loss: 0.5138654, G_loss_U: 3.6252563, G_loss_S: 1.882473e-06, E_loss_t0: 2.5354438\n",
            "step: 20/50, D_loss: 0.48249853, G_loss_U: 3.6252563, G_loss_S: 1.882473e-06, E_loss_t0: 2.5354438\n",
            "step: 20/50, D_loss: 0.46728733, G_loss_U: 3.6252563, G_loss_S: 1.882473e-06, E_loss_t0: 2.5354438\n",
            "step: 20/50, D_loss: 0.46055076, G_loss_U: 3.6252563, G_loss_S: 1.882473e-06, E_loss_t0: 2.5354438\n",
            "step: 20/50, D_loss: 0.46798727, G_loss_U: 3.6252563, G_loss_S: 1.882473e-06, E_loss_t0: 2.5354438\n",
            "step: 20/50, D_loss: 0.45621917, G_loss_U: 3.6252563, G_loss_S: 1.882473e-06, E_loss_t0: 2.5354438\n",
            "step: 20/50, D_loss: 0.44546306, G_loss_U: 3.6252563, G_loss_S: 1.882473e-06, E_loss_t0: 2.5354438\n",
            "step: 20/50, D_loss: 0.44767374, G_loss_U: 3.6252563, G_loss_S: 1.882473e-06, E_loss_t0: 2.5354438\n",
            "step: 20/50, D_loss: 0.42724258, G_loss_U: 3.6252563, G_loss_S: 1.882473e-06, E_loss_t0: 2.5354438\n",
            "step: 20/50, D_loss: 0.41883233, G_loss_U: 3.6252563, G_loss_S: 1.882473e-06, E_loss_t0: 2.5354438\n",
            "step: 20/50, D_loss: 0.39455009, G_loss_U: 3.6252563, G_loss_S: 1.882473e-06, E_loss_t0: 2.5354438\n",
            "step: 21/50, D_loss: 0.81614804, G_loss_U: 3.7244184, G_loss_S: 1.5685918e-06, E_loss_t0: 2.484668\n",
            "step: 21/50, D_loss: 0.48976353, G_loss_U: 3.7244184, G_loss_S: 1.5685918e-06, E_loss_t0: 2.484668\n",
            "step: 21/50, D_loss: 0.37825036, G_loss_U: 3.7244184, G_loss_S: 1.5685918e-06, E_loss_t0: 2.484668\n",
            "step: 21/50, D_loss: 0.3746967, G_loss_U: 3.7244184, G_loss_S: 1.5685918e-06, E_loss_t0: 2.484668\n",
            "step: 21/50, D_loss: 0.38056803, G_loss_U: 3.7244184, G_loss_S: 1.5685918e-06, E_loss_t0: 2.484668\n",
            "step: 21/50, D_loss: 0.45499718, G_loss_U: 3.7244184, G_loss_S: 1.5685918e-06, E_loss_t0: 2.484668\n",
            "step: 21/50, D_loss: 0.48999134, G_loss_U: 3.7244184, G_loss_S: 1.5685918e-06, E_loss_t0: 2.484668\n",
            "step: 21/50, D_loss: 0.5138201, G_loss_U: 3.7244184, G_loss_S: 1.5685918e-06, E_loss_t0: 2.484668\n",
            "step: 21/50, D_loss: 0.4512553, G_loss_U: 3.7244184, G_loss_S: 1.5685918e-06, E_loss_t0: 2.484668\n",
            "step: 21/50, D_loss: 0.3884613, G_loss_U: 3.7244184, G_loss_S: 1.5685918e-06, E_loss_t0: 2.484668\n",
            "step: 21/50, D_loss: 0.35790932, G_loss_U: 3.7244184, G_loss_S: 1.5685918e-06, E_loss_t0: 2.484668\n",
            "step: 21/50, D_loss: 0.3491937, G_loss_U: 3.7244184, G_loss_S: 1.5685918e-06, E_loss_t0: 2.484668\n",
            "step: 21/50, D_loss: 0.34816068, G_loss_U: 3.7244184, G_loss_S: 1.5685918e-06, E_loss_t0: 2.484668\n",
            "step: 21/50, D_loss: 0.34746662, G_loss_U: 3.7244184, G_loss_S: 1.5685918e-06, E_loss_t0: 2.484668\n",
            "step: 21/50, D_loss: 0.3573352, G_loss_U: 3.7244184, G_loss_S: 1.5685918e-06, E_loss_t0: 2.484668\n",
            "step: 21/50, D_loss: 0.36725852, G_loss_U: 3.7244184, G_loss_S: 1.5685918e-06, E_loss_t0: 2.484668\n",
            "step: 21/50, D_loss: 0.37211683, G_loss_U: 3.7244184, G_loss_S: 1.5685918e-06, E_loss_t0: 2.484668\n",
            "step: 21/50, D_loss: 0.35999036, G_loss_U: 3.7244184, G_loss_S: 1.5685918e-06, E_loss_t0: 2.484668\n",
            "step: 21/50, D_loss: 0.33835393, G_loss_U: 3.7244184, G_loss_S: 1.5685918e-06, E_loss_t0: 2.484668\n",
            "step: 21/50, D_loss: 0.31862736, G_loss_U: 3.7244184, G_loss_S: 1.5685918e-06, E_loss_t0: 2.484668\n",
            "step: 21/50, D_loss: 0.3084145, G_loss_U: 3.7244184, G_loss_S: 1.5685918e-06, E_loss_t0: 2.484668\n",
            "step: 21/50, D_loss: 0.29949284, G_loss_U: 3.7244184, G_loss_S: 1.5685918e-06, E_loss_t0: 2.484668\n",
            "step: 21/50, D_loss: 0.2911154, G_loss_U: 3.7244184, G_loss_S: 1.5685918e-06, E_loss_t0: 2.484668\n",
            "step: 21/50, D_loss: 0.2908221, G_loss_U: 3.7244184, G_loss_S: 1.5685918e-06, E_loss_t0: 2.484668\n",
            "step: 21/50, D_loss: 0.2840953, G_loss_U: 3.7244184, G_loss_S: 1.5685918e-06, E_loss_t0: 2.484668\n",
            "step: 21/50, D_loss: 0.2795799, G_loss_U: 3.7244184, G_loss_S: 1.5685918e-06, E_loss_t0: 2.484668\n",
            "step: 21/50, D_loss: 0.28194684, G_loss_U: 3.7244184, G_loss_S: 1.5685918e-06, E_loss_t0: 2.484668\n",
            "step: 21/50, D_loss: 0.310223, G_loss_U: 3.7244184, G_loss_S: 1.5685918e-06, E_loss_t0: 2.484668\n",
            "step: 22/50, D_loss: 0.26301953, G_loss_U: 4.270135, G_loss_S: 1.37108e-06, E_loss_t0: 2.5331042\n",
            "step: 22/50, D_loss: 0.28280362, G_loss_U: 4.270135, G_loss_S: 1.37108e-06, E_loss_t0: 2.5331042\n",
            "step: 22/50, D_loss: 0.29795158, G_loss_U: 4.270135, G_loss_S: 1.37108e-06, E_loss_t0: 2.5331042\n",
            "step: 22/50, D_loss: 0.3408718, G_loss_U: 4.270135, G_loss_S: 1.37108e-06, E_loss_t0: 2.5331042\n",
            "step: 22/50, D_loss: 0.3846597, G_loss_U: 4.270135, G_loss_S: 1.37108e-06, E_loss_t0: 2.5331042\n",
            "step: 22/50, D_loss: 0.3165777, G_loss_U: 4.270135, G_loss_S: 1.37108e-06, E_loss_t0: 2.5331042\n",
            "step: 22/50, D_loss: 0.287889, G_loss_U: 4.270135, G_loss_S: 1.37108e-06, E_loss_t0: 2.5331042\n",
            "step: 22/50, D_loss: 0.27276653, G_loss_U: 4.270135, G_loss_S: 1.37108e-06, E_loss_t0: 2.5331042\n",
            "step: 22/50, D_loss: 0.27683595, G_loss_U: 4.270135, G_loss_S: 1.37108e-06, E_loss_t0: 2.5331042\n",
            "step: 22/50, D_loss: 0.25825572, G_loss_U: 4.270135, G_loss_S: 1.37108e-06, E_loss_t0: 2.5331042\n",
            "step: 22/50, D_loss: 0.27769336, G_loss_U: 4.270135, G_loss_S: 1.37108e-06, E_loss_t0: 2.5331042\n",
            "step: 22/50, D_loss: 0.26158965, G_loss_U: 4.270135, G_loss_S: 1.37108e-06, E_loss_t0: 2.5331042\n",
            "step: 22/50, D_loss: 0.26428595, G_loss_U: 4.270135, G_loss_S: 1.37108e-06, E_loss_t0: 2.5331042\n",
            "step: 22/50, D_loss: 0.2661586, G_loss_U: 4.270135, G_loss_S: 1.37108e-06, E_loss_t0: 2.5331042\n",
            "step: 22/50, D_loss: 0.29047546, G_loss_U: 4.270135, G_loss_S: 1.37108e-06, E_loss_t0: 2.5331042\n",
            "step: 22/50, D_loss: 0.28894317, G_loss_U: 4.270135, G_loss_S: 1.37108e-06, E_loss_t0: 2.5331042\n",
            "step: 22/50, D_loss: 0.28699034, G_loss_U: 4.270135, G_loss_S: 1.37108e-06, E_loss_t0: 2.5331042\n",
            "step: 22/50, D_loss: 0.25028205, G_loss_U: 4.270135, G_loss_S: 1.37108e-06, E_loss_t0: 2.5331042\n",
            "step: 22/50, D_loss: 0.24851927, G_loss_U: 4.270135, G_loss_S: 1.37108e-06, E_loss_t0: 2.5331042\n",
            "step: 22/50, D_loss: 0.25742406, G_loss_U: 4.270135, G_loss_S: 1.37108e-06, E_loss_t0: 2.5331042\n",
            "step: 22/50, D_loss: 0.2624792, G_loss_U: 4.270135, G_loss_S: 1.37108e-06, E_loss_t0: 2.5331042\n",
            "step: 22/50, D_loss: 0.23748803, G_loss_U: 4.270135, G_loss_S: 1.37108e-06, E_loss_t0: 2.5331042\n",
            "step: 22/50, D_loss: 0.23108038, G_loss_U: 4.270135, G_loss_S: 1.37108e-06, E_loss_t0: 2.5331042\n",
            "step: 22/50, D_loss: 0.23078087, G_loss_U: 4.270135, G_loss_S: 1.37108e-06, E_loss_t0: 2.5331042\n",
            "step: 22/50, D_loss: 0.24630119, G_loss_U: 4.270135, G_loss_S: 1.37108e-06, E_loss_t0: 2.5331042\n",
            "step: 22/50, D_loss: 0.22733007, G_loss_U: 4.270135, G_loss_S: 1.37108e-06, E_loss_t0: 2.5331042\n",
            "step: 22/50, D_loss: 0.22592215, G_loss_U: 4.270135, G_loss_S: 1.37108e-06, E_loss_t0: 2.5331042\n",
            "step: 22/50, D_loss: 0.22394596, G_loss_U: 4.270135, G_loss_S: 1.37108e-06, E_loss_t0: 2.5331042\n",
            "step: 23/50, D_loss: 0.285916, G_loss_U: 3.8462486, G_loss_S: 1.3998641e-06, E_loss_t0: 2.4595256\n",
            "step: 23/50, D_loss: 1.4965099, G_loss_U: 3.8462486, G_loss_S: 1.3998641e-06, E_loss_t0: 2.4595256\n",
            "step: 23/50, D_loss: 0.29149348, G_loss_U: 3.8462486, G_loss_S: 1.3998641e-06, E_loss_t0: 2.4595256\n",
            "step: 23/50, D_loss: 0.2463857, G_loss_U: 3.8462486, G_loss_S: 1.3998641e-06, E_loss_t0: 2.4595256\n",
            "step: 23/50, D_loss: 0.23245847, G_loss_U: 3.8462486, G_loss_S: 1.3998641e-06, E_loss_t0: 2.4595256\n",
            "step: 23/50, D_loss: 0.24473459, G_loss_U: 3.8462486, G_loss_S: 1.3998641e-06, E_loss_t0: 2.4595256\n",
            "step: 23/50, D_loss: 0.23393776, G_loss_U: 3.8462486, G_loss_S: 1.3998641e-06, E_loss_t0: 2.4595256\n",
            "step: 23/50, D_loss: 0.2663907, G_loss_U: 3.8462486, G_loss_S: 1.3998641e-06, E_loss_t0: 2.4595256\n",
            "step: 23/50, D_loss: 0.40362704, G_loss_U: 3.8462486, G_loss_S: 1.3998641e-06, E_loss_t0: 2.4595256\n",
            "step: 23/50, D_loss: 0.32949877, G_loss_U: 3.8462486, G_loss_S: 1.3998641e-06, E_loss_t0: 2.4595256\n",
            "step: 23/50, D_loss: 0.32699084, G_loss_U: 3.8462486, G_loss_S: 1.3998641e-06, E_loss_t0: 2.4595256\n",
            "step: 23/50, D_loss: 0.2670017, G_loss_U: 3.8462486, G_loss_S: 1.3998641e-06, E_loss_t0: 2.4595256\n",
            "step: 23/50, D_loss: 0.24166112, G_loss_U: 3.8462486, G_loss_S: 1.3998641e-06, E_loss_t0: 2.4595256\n",
            "step: 23/50, D_loss: 0.22760877, G_loss_U: 3.8462486, G_loss_S: 1.3998641e-06, E_loss_t0: 2.4595256\n",
            "step: 23/50, D_loss: 0.22804625, G_loss_U: 3.8462486, G_loss_S: 1.3998641e-06, E_loss_t0: 2.4595256\n",
            "step: 23/50, D_loss: 0.24630882, G_loss_U: 3.8462486, G_loss_S: 1.3998641e-06, E_loss_t0: 2.4595256\n",
            "step: 23/50, D_loss: 0.24760616, G_loss_U: 3.8462486, G_loss_S: 1.3998641e-06, E_loss_t0: 2.4595256\n",
            "step: 23/50, D_loss: 0.26629955, G_loss_U: 3.8462486, G_loss_S: 1.3998641e-06, E_loss_t0: 2.4595256\n",
            "step: 23/50, D_loss: 0.2824703, G_loss_U: 3.8462486, G_loss_S: 1.3998641e-06, E_loss_t0: 2.4595256\n",
            "step: 23/50, D_loss: 0.29472613, G_loss_U: 3.8462486, G_loss_S: 1.3998641e-06, E_loss_t0: 2.4595256\n",
            "step: 23/50, D_loss: 0.28755087, G_loss_U: 3.8462486, G_loss_S: 1.3998641e-06, E_loss_t0: 2.4595256\n",
            "step: 23/50, D_loss: 0.270167, G_loss_U: 3.8462486, G_loss_S: 1.3998641e-06, E_loss_t0: 2.4595256\n",
            "step: 23/50, D_loss: 0.24911565, G_loss_U: 3.8462486, G_loss_S: 1.3998641e-06, E_loss_t0: 2.4595256\n",
            "step: 23/50, D_loss: 0.23384567, G_loss_U: 3.8462486, G_loss_S: 1.3998641e-06, E_loss_t0: 2.4595256\n",
            "step: 23/50, D_loss: 0.21999526, G_loss_U: 3.8462486, G_loss_S: 1.3998641e-06, E_loss_t0: 2.4595256\n",
            "step: 23/50, D_loss: 0.21130754, G_loss_U: 3.8462486, G_loss_S: 1.3998641e-06, E_loss_t0: 2.4595256\n",
            "step: 23/50, D_loss: 0.20398152, G_loss_U: 3.8462486, G_loss_S: 1.3998641e-06, E_loss_t0: 2.4595256\n",
            "step: 23/50, D_loss: 0.19780111, G_loss_U: 3.8462486, G_loss_S: 1.3998641e-06, E_loss_t0: 2.4595256\n",
            "step: 24/50, D_loss: 0.21734282, G_loss_U: 4.129835, G_loss_S: 1.5346336e-06, E_loss_t0: 2.4628797\n",
            "step: 24/50, D_loss: 0.21596506, G_loss_U: 4.129835, G_loss_S: 1.5346336e-06, E_loss_t0: 2.4628797\n",
            "step: 24/50, D_loss: 0.22796881, G_loss_U: 4.129835, G_loss_S: 1.5346336e-06, E_loss_t0: 2.4628797\n",
            "step: 24/50, D_loss: 0.24273118, G_loss_U: 4.129835, G_loss_S: 1.5346336e-06, E_loss_t0: 2.4628797\n",
            "step: 24/50, D_loss: 0.2553389, G_loss_U: 4.129835, G_loss_S: 1.5346336e-06, E_loss_t0: 2.4628797\n",
            "step: 24/50, D_loss: 0.2653606, G_loss_U: 4.129835, G_loss_S: 1.5346336e-06, E_loss_t0: 2.4628797\n",
            "step: 24/50, D_loss: 0.26215595, G_loss_U: 4.129835, G_loss_S: 1.5346336e-06, E_loss_t0: 2.4628797\n",
            "step: 24/50, D_loss: 0.25484183, G_loss_U: 4.129835, G_loss_S: 1.5346336e-06, E_loss_t0: 2.4628797\n",
            "step: 24/50, D_loss: 0.24413085, G_loss_U: 4.129835, G_loss_S: 1.5346336e-06, E_loss_t0: 2.4628797\n",
            "step: 24/50, D_loss: 0.23607348, G_loss_U: 4.129835, G_loss_S: 1.5346336e-06, E_loss_t0: 2.4628797\n",
            "step: 24/50, D_loss: 0.2247096, G_loss_U: 4.129835, G_loss_S: 1.5346336e-06, E_loss_t0: 2.4628797\n",
            "step: 24/50, D_loss: 0.21548043, G_loss_U: 4.129835, G_loss_S: 1.5346336e-06, E_loss_t0: 2.4628797\n",
            "step: 24/50, D_loss: 0.20838863, G_loss_U: 4.129835, G_loss_S: 1.5346336e-06, E_loss_t0: 2.4628797\n",
            "step: 24/50, D_loss: 0.2046645, G_loss_U: 4.129835, G_loss_S: 1.5346336e-06, E_loss_t0: 2.4628797\n",
            "step: 24/50, D_loss: 0.19827804, G_loss_U: 4.129835, G_loss_S: 1.5346336e-06, E_loss_t0: 2.4628797\n",
            "step: 24/50, D_loss: 0.19905482, G_loss_U: 4.129835, G_loss_S: 1.5346336e-06, E_loss_t0: 2.4628797\n",
            "step: 24/50, D_loss: 0.19200575, G_loss_U: 4.129835, G_loss_S: 1.5346336e-06, E_loss_t0: 2.4628797\n",
            "step: 24/50, D_loss: 0.20982315, G_loss_U: 4.129835, G_loss_S: 1.5346336e-06, E_loss_t0: 2.4628797\n",
            "step: 24/50, D_loss: 0.21009235, G_loss_U: 4.129835, G_loss_S: 1.5346336e-06, E_loss_t0: 2.4628797\n",
            "step: 24/50, D_loss: 0.19173297, G_loss_U: 4.129835, G_loss_S: 1.5346336e-06, E_loss_t0: 2.4628797\n",
            "step: 24/50, D_loss: 0.2075968, G_loss_U: 4.129835, G_loss_S: 1.5346336e-06, E_loss_t0: 2.4628797\n",
            "step: 24/50, D_loss: 0.18848626, G_loss_U: 4.129835, G_loss_S: 1.5346336e-06, E_loss_t0: 2.4628797\n",
            "step: 24/50, D_loss: 0.18766603, G_loss_U: 4.129835, G_loss_S: 1.5346336e-06, E_loss_t0: 2.4628797\n",
            "step: 24/50, D_loss: 0.19166023, G_loss_U: 4.129835, G_loss_S: 1.5346336e-06, E_loss_t0: 2.4628797\n",
            "step: 24/50, D_loss: 0.21541524, G_loss_U: 4.129835, G_loss_S: 1.5346336e-06, E_loss_t0: 2.4628797\n",
            "step: 24/50, D_loss: 0.183494, G_loss_U: 4.129835, G_loss_S: 1.5346336e-06, E_loss_t0: 2.4628797\n",
            "step: 24/50, D_loss: 0.18374367, G_loss_U: 4.129835, G_loss_S: 1.5346336e-06, E_loss_t0: 2.4628797\n",
            "step: 24/50, D_loss: 0.17850448, G_loss_U: 4.129835, G_loss_S: 1.5346336e-06, E_loss_t0: 2.4628797\n",
            "step: 25/50, D_loss: 0.1986157, G_loss_U: 4.3216815, G_loss_S: 1.4422149e-06, E_loss_t0: 2.498062\n",
            "step: 25/50, D_loss: 0.19269013, G_loss_U: 4.3216815, G_loss_S: 1.4422149e-06, E_loss_t0: 2.498062\n",
            "step: 25/50, D_loss: 0.20690154, G_loss_U: 4.3216815, G_loss_S: 1.4422149e-06, E_loss_t0: 2.498062\n",
            "step: 25/50, D_loss: 0.22591639, G_loss_U: 4.3216815, G_loss_S: 1.4422149e-06, E_loss_t0: 2.498062\n",
            "step: 25/50, D_loss: 0.25027215, G_loss_U: 4.3216815, G_loss_S: 1.4422149e-06, E_loss_t0: 2.498062\n",
            "step: 25/50, D_loss: 0.27274162, G_loss_U: 4.3216815, G_loss_S: 1.4422149e-06, E_loss_t0: 2.498062\n",
            "step: 25/50, D_loss: 0.27536008, G_loss_U: 4.3216815, G_loss_S: 1.4422149e-06, E_loss_t0: 2.498062\n",
            "step: 25/50, D_loss: 0.25712225, G_loss_U: 4.3216815, G_loss_S: 1.4422149e-06, E_loss_t0: 2.498062\n",
            "step: 25/50, D_loss: 0.2387687, G_loss_U: 4.3216815, G_loss_S: 1.4422149e-06, E_loss_t0: 2.498062\n",
            "step: 25/50, D_loss: 0.2226599, G_loss_U: 4.3216815, G_loss_S: 1.4422149e-06, E_loss_t0: 2.498062\n",
            "step: 25/50, D_loss: 0.212362, G_loss_U: 4.3216815, G_loss_S: 1.4422149e-06, E_loss_t0: 2.498062\n",
            "step: 25/50, D_loss: 0.2057271, G_loss_U: 4.3216815, G_loss_S: 1.4422149e-06, E_loss_t0: 2.498062\n",
            "step: 25/50, D_loss: 0.1953999, G_loss_U: 4.3216815, G_loss_S: 1.4422149e-06, E_loss_t0: 2.498062\n",
            "step: 25/50, D_loss: 0.19123043, G_loss_U: 4.3216815, G_loss_S: 1.4422149e-06, E_loss_t0: 2.498062\n",
            "step: 25/50, D_loss: 0.18741399, G_loss_U: 4.3216815, G_loss_S: 1.4422149e-06, E_loss_t0: 2.498062\n",
            "step: 25/50, D_loss: 0.1835296, G_loss_U: 4.3216815, G_loss_S: 1.4422149e-06, E_loss_t0: 2.498062\n",
            "step: 25/50, D_loss: 0.19803523, G_loss_U: 4.3216815, G_loss_S: 1.4422149e-06, E_loss_t0: 2.498062\n",
            "step: 25/50, D_loss: 0.19831327, G_loss_U: 4.3216815, G_loss_S: 1.4422149e-06, E_loss_t0: 2.498062\n",
            "step: 25/50, D_loss: 0.1960039, G_loss_U: 4.3216815, G_loss_S: 1.4422149e-06, E_loss_t0: 2.498062\n",
            "step: 25/50, D_loss: 0.19512953, G_loss_U: 4.3216815, G_loss_S: 1.4422149e-06, E_loss_t0: 2.498062\n",
            "step: 25/50, D_loss: 0.17720933, G_loss_U: 4.3216815, G_loss_S: 1.4422149e-06, E_loss_t0: 2.498062\n",
            "step: 25/50, D_loss: 0.20493416, G_loss_U: 4.3216815, G_loss_S: 1.4422149e-06, E_loss_t0: 2.498062\n",
            "step: 25/50, D_loss: 0.21027952, G_loss_U: 4.3216815, G_loss_S: 1.4422149e-06, E_loss_t0: 2.498062\n",
            "step: 25/50, D_loss: 0.22722027, G_loss_U: 4.3216815, G_loss_S: 1.4422149e-06, E_loss_t0: 2.498062\n",
            "step: 25/50, D_loss: 0.21215278, G_loss_U: 4.3216815, G_loss_S: 1.4422149e-06, E_loss_t0: 2.498062\n",
            "step: 25/50, D_loss: 0.16987401, G_loss_U: 4.3216815, G_loss_S: 1.4422149e-06, E_loss_t0: 2.498062\n",
            "step: 25/50, D_loss: 0.16847399, G_loss_U: 4.3216815, G_loss_S: 1.4422149e-06, E_loss_t0: 2.498062\n",
            "step: 25/50, D_loss: 0.16820192, G_loss_U: 4.3216815, G_loss_S: 1.4422149e-06, E_loss_t0: 2.498062\n",
            "step: 26/50, D_loss: 0.18292245, G_loss_U: 4.041403, G_loss_S: 1.4636852e-06, E_loss_t0: 2.429994\n",
            "step: 26/50, D_loss: 0.2008586, G_loss_U: 4.041403, G_loss_S: 1.4636852e-06, E_loss_t0: 2.429994\n",
            "step: 26/50, D_loss: 0.22872242, G_loss_U: 4.041403, G_loss_S: 1.4636852e-06, E_loss_t0: 2.429994\n",
            "step: 26/50, D_loss: 0.26809952, G_loss_U: 4.041403, G_loss_S: 1.4636852e-06, E_loss_t0: 2.429994\n",
            "step: 26/50, D_loss: 0.30423182, G_loss_U: 4.041403, G_loss_S: 1.4636852e-06, E_loss_t0: 2.429994\n",
            "step: 26/50, D_loss: 0.25351176, G_loss_U: 4.041403, G_loss_S: 1.4636852e-06, E_loss_t0: 2.429994\n",
            "step: 26/50, D_loss: 0.22562061, G_loss_U: 4.041403, G_loss_S: 1.4636852e-06, E_loss_t0: 2.429994\n",
            "step: 26/50, D_loss: 0.20831378, G_loss_U: 4.041403, G_loss_S: 1.4636852e-06, E_loss_t0: 2.429994\n",
            "step: 26/50, D_loss: 0.19769697, G_loss_U: 4.041403, G_loss_S: 1.4636852e-06, E_loss_t0: 2.429994\n",
            "step: 26/50, D_loss: 0.18839158, G_loss_U: 4.041403, G_loss_S: 1.4636852e-06, E_loss_t0: 2.429994\n",
            "step: 26/50, D_loss: 0.1987563, G_loss_U: 4.041403, G_loss_S: 1.4636852e-06, E_loss_t0: 2.429994\n",
            "step: 26/50, D_loss: 0.19566463, G_loss_U: 4.041403, G_loss_S: 1.4636852e-06, E_loss_t0: 2.429994\n",
            "step: 26/50, D_loss: 0.19377814, G_loss_U: 4.041403, G_loss_S: 1.4636852e-06, E_loss_t0: 2.429994\n",
            "step: 26/50, D_loss: 0.18786146, G_loss_U: 4.041403, G_loss_S: 1.4636852e-06, E_loss_t0: 2.429994\n",
            "step: 26/50, D_loss: 0.17570889, G_loss_U: 4.041403, G_loss_S: 1.4636852e-06, E_loss_t0: 2.429994\n",
            "step: 26/50, D_loss: 0.17581809, G_loss_U: 4.041403, G_loss_S: 1.4636852e-06, E_loss_t0: 2.429994\n",
            "step: 26/50, D_loss: 0.22891831, G_loss_U: 4.041403, G_loss_S: 1.4636852e-06, E_loss_t0: 2.429994\n",
            "step: 26/50, D_loss: 0.22380769, G_loss_U: 4.041403, G_loss_S: 1.4636852e-06, E_loss_t0: 2.429994\n",
            "step: 26/50, D_loss: 0.21125901, G_loss_U: 4.041403, G_loss_S: 1.4636852e-06, E_loss_t0: 2.429994\n",
            "step: 26/50, D_loss: 0.17375012, G_loss_U: 4.041403, G_loss_S: 1.4636852e-06, E_loss_t0: 2.429994\n",
            "step: 26/50, D_loss: 0.22336161, G_loss_U: 4.041403, G_loss_S: 1.4636852e-06, E_loss_t0: 2.429994\n",
            "step: 26/50, D_loss: 0.19875345, G_loss_U: 4.041403, G_loss_S: 1.4636852e-06, E_loss_t0: 2.429994\n",
            "step: 26/50, D_loss: 0.17070426, G_loss_U: 4.041403, G_loss_S: 1.4636852e-06, E_loss_t0: 2.429994\n",
            "step: 26/50, D_loss: 0.1643367, G_loss_U: 4.041403, G_loss_S: 1.4636852e-06, E_loss_t0: 2.429994\n",
            "step: 26/50, D_loss: 0.16347454, G_loss_U: 4.041403, G_loss_S: 1.4636852e-06, E_loss_t0: 2.429994\n",
            "step: 26/50, D_loss: 0.16241558, G_loss_U: 4.041403, G_loss_S: 1.4636852e-06, E_loss_t0: 2.429994\n",
            "step: 26/50, D_loss: 0.16100162, G_loss_U: 4.041403, G_loss_S: 1.4636852e-06, E_loss_t0: 2.429994\n",
            "step: 26/50, D_loss: 0.16176215, G_loss_U: 4.041403, G_loss_S: 1.4636852e-06, E_loss_t0: 2.429994\n",
            "step: 27/50, D_loss: 0.18553586, G_loss_U: 3.8703988, G_loss_S: 1.3730912e-06, E_loss_t0: 2.399678\n",
            "step: 27/50, D_loss: 0.21067163, G_loss_U: 3.8703988, G_loss_S: 1.3730912e-06, E_loss_t0: 2.399678\n",
            "step: 27/50, D_loss: 0.25028703, G_loss_U: 3.8703988, G_loss_S: 1.3730912e-06, E_loss_t0: 2.399678\n",
            "step: 27/50, D_loss: 0.32680714, G_loss_U: 3.8703988, G_loss_S: 1.3730912e-06, E_loss_t0: 2.399678\n",
            "step: 27/50, D_loss: 0.2335782, G_loss_U: 3.8703988, G_loss_S: 1.3730912e-06, E_loss_t0: 2.399678\n",
            "step: 27/50, D_loss: 0.20529528, G_loss_U: 3.8703988, G_loss_S: 1.3730912e-06, E_loss_t0: 2.399678\n",
            "step: 27/50, D_loss: 0.18972456, G_loss_U: 3.8703988, G_loss_S: 1.3730912e-06, E_loss_t0: 2.399678\n",
            "step: 27/50, D_loss: 0.1959074, G_loss_U: 3.8703988, G_loss_S: 1.3730912e-06, E_loss_t0: 2.399678\n",
            "step: 27/50, D_loss: 0.17378084, G_loss_U: 3.8703988, G_loss_S: 1.3730912e-06, E_loss_t0: 2.399678\n",
            "step: 27/50, D_loss: 0.18495308, G_loss_U: 3.8703988, G_loss_S: 1.3730912e-06, E_loss_t0: 2.399678\n",
            "step: 27/50, D_loss: 0.16599357, G_loss_U: 3.8703988, G_loss_S: 1.3730912e-06, E_loss_t0: 2.399678\n",
            "step: 27/50, D_loss: 0.16873668, G_loss_U: 3.8703988, G_loss_S: 1.3730912e-06, E_loss_t0: 2.399678\n",
            "step: 27/50, D_loss: 0.21782286, G_loss_U: 3.8703988, G_loss_S: 1.3730912e-06, E_loss_t0: 2.399678\n",
            "step: 27/50, D_loss: 0.2792233, G_loss_U: 3.8703988, G_loss_S: 1.3730912e-06, E_loss_t0: 2.399678\n",
            "step: 27/50, D_loss: 0.17909424, G_loss_U: 3.8703988, G_loss_S: 1.3730912e-06, E_loss_t0: 2.399678\n",
            "step: 27/50, D_loss: 0.18189253, G_loss_U: 3.8703988, G_loss_S: 1.3730912e-06, E_loss_t0: 2.399678\n",
            "step: 27/50, D_loss: 0.16212715, G_loss_U: 3.8703988, G_loss_S: 1.3730912e-06, E_loss_t0: 2.399678\n",
            "step: 27/50, D_loss: 0.18287903, G_loss_U: 3.8703988, G_loss_S: 1.3730912e-06, E_loss_t0: 2.399678\n",
            "step: 27/50, D_loss: 0.16278157, G_loss_U: 3.8703988, G_loss_S: 1.3730912e-06, E_loss_t0: 2.399678\n",
            "step: 27/50, D_loss: 0.16284344, G_loss_U: 3.8703988, G_loss_S: 1.3730912e-06, E_loss_t0: 2.399678\n",
            "step: 27/50, D_loss: 0.17869477, G_loss_U: 3.8703988, G_loss_S: 1.3730912e-06, E_loss_t0: 2.399678\n",
            "step: 27/50, D_loss: 0.17855497, G_loss_U: 3.8703988, G_loss_S: 1.3730912e-06, E_loss_t0: 2.399678\n",
            "step: 27/50, D_loss: 0.16260481, G_loss_U: 3.8703988, G_loss_S: 1.3730912e-06, E_loss_t0: 2.399678\n",
            "step: 27/50, D_loss: 0.19598019, G_loss_U: 3.8703988, G_loss_S: 1.3730912e-06, E_loss_t0: 2.399678\n",
            "step: 27/50, D_loss: 0.16267237, G_loss_U: 3.8703988, G_loss_S: 1.3730912e-06, E_loss_t0: 2.399678\n",
            "step: 27/50, D_loss: 0.16263302, G_loss_U: 3.8703988, G_loss_S: 1.3730912e-06, E_loss_t0: 2.399678\n",
            "step: 27/50, D_loss: 0.19569063, G_loss_U: 3.8703988, G_loss_S: 1.3730912e-06, E_loss_t0: 2.399678\n",
            "step: 27/50, D_loss: 0.16102183, G_loss_U: 3.8703988, G_loss_S: 1.3730912e-06, E_loss_t0: 2.399678\n",
            "step: 28/50, D_loss: 0.18332979, G_loss_U: 3.7758455, G_loss_S: 1.4592453e-06, E_loss_t0: 2.3722265\n",
            "step: 28/50, D_loss: 0.20432647, G_loss_U: 3.7758455, G_loss_S: 1.4592453e-06, E_loss_t0: 2.3722265\n",
            "step: 28/50, D_loss: 0.23273435, G_loss_U: 3.7758455, G_loss_S: 1.4592453e-06, E_loss_t0: 2.3722265\n",
            "step: 28/50, D_loss: 0.26589325, G_loss_U: 3.7758455, G_loss_S: 1.4592453e-06, E_loss_t0: 2.3722265\n",
            "step: 28/50, D_loss: 0.27065656, G_loss_U: 3.7758455, G_loss_S: 1.4592453e-06, E_loss_t0: 2.3722265\n",
            "step: 28/50, D_loss: 0.24371837, G_loss_U: 3.7758455, G_loss_S: 1.4592453e-06, E_loss_t0: 2.3722265\n",
            "step: 28/50, D_loss: 0.22006334, G_loss_U: 3.7758455, G_loss_S: 1.4592453e-06, E_loss_t0: 2.3722265\n",
            "step: 28/50, D_loss: 0.20494545, G_loss_U: 3.7758455, G_loss_S: 1.4592453e-06, E_loss_t0: 2.3722265\n",
            "step: 28/50, D_loss: 0.19280946, G_loss_U: 3.7758455, G_loss_S: 1.4592453e-06, E_loss_t0: 2.3722265\n",
            "step: 28/50, D_loss: 0.18143433, G_loss_U: 3.7758455, G_loss_S: 1.4592453e-06, E_loss_t0: 2.3722265\n",
            "step: 28/50, D_loss: 0.17451033, G_loss_U: 3.7758455, G_loss_S: 1.4592453e-06, E_loss_t0: 2.3722265\n",
            "step: 28/50, D_loss: 0.1855085, G_loss_U: 3.7758455, G_loss_S: 1.4592453e-06, E_loss_t0: 2.3722265\n",
            "step: 28/50, D_loss: 0.16275683, G_loss_U: 3.7758455, G_loss_S: 1.4592453e-06, E_loss_t0: 2.3722265\n",
            "step: 28/50, D_loss: 0.16055818, G_loss_U: 3.7758455, G_loss_S: 1.4592453e-06, E_loss_t0: 2.3722265\n",
            "step: 28/50, D_loss: 0.17786622, G_loss_U: 3.7758455, G_loss_S: 1.4592453e-06, E_loss_t0: 2.3722265\n",
            "step: 28/50, D_loss: 0.15696225, G_loss_U: 3.7758455, G_loss_S: 1.4592453e-06, E_loss_t0: 2.3722265\n",
            "step: 28/50, D_loss: 0.17156713, G_loss_U: 3.7758455, G_loss_S: 1.4592453e-06, E_loss_t0: 2.3722265\n",
            "step: 28/50, D_loss: 0.20465685, G_loss_U: 3.7758455, G_loss_S: 1.4592453e-06, E_loss_t0: 2.3722265\n",
            "step: 28/50, D_loss: 0.18597284, G_loss_U: 3.7758455, G_loss_S: 1.4592453e-06, E_loss_t0: 2.3722265\n",
            "step: 28/50, D_loss: 0.15070501, G_loss_U: 3.7758455, G_loss_S: 1.4592453e-06, E_loss_t0: 2.3722265\n",
            "step: 28/50, D_loss: 0.2038833, G_loss_U: 3.7758455, G_loss_S: 1.4592453e-06, E_loss_t0: 2.3722265\n",
            "step: 28/50, D_loss: 0.21602978, G_loss_U: 3.7758455, G_loss_S: 1.4592453e-06, E_loss_t0: 2.3722265\n",
            "step: 28/50, D_loss: 0.23022442, G_loss_U: 3.7758455, G_loss_S: 1.4592453e-06, E_loss_t0: 2.3722265\n",
            "step: 28/50, D_loss: 0.1492419, G_loss_U: 3.7758455, G_loss_S: 1.4592453e-06, E_loss_t0: 2.3722265\n",
            "step: 28/50, D_loss: 0.14687595, G_loss_U: 3.7758455, G_loss_S: 1.4592453e-06, E_loss_t0: 2.3722265\n",
            "step: 28/50, D_loss: 0.14667867, G_loss_U: 3.7758455, G_loss_S: 1.4592453e-06, E_loss_t0: 2.3722265\n",
            "step: 28/50, D_loss: 0.16594924, G_loss_U: 3.7758455, G_loss_S: 1.4592453e-06, E_loss_t0: 2.3722265\n",
            "step: 28/50, D_loss: 0.14592382, G_loss_U: 3.7758455, G_loss_S: 1.4592453e-06, E_loss_t0: 2.3722265\n",
            "step: 29/50, D_loss: 0.15877853, G_loss_U: 4.0205264, G_loss_S: 1.3624103e-06, E_loss_t0: 2.372824\n",
            "step: 29/50, D_loss: 0.17551818, G_loss_U: 4.0205264, G_loss_S: 1.3624103e-06, E_loss_t0: 2.372824\n",
            "step: 29/50, D_loss: 0.1915107, G_loss_U: 4.0205264, G_loss_S: 1.3624103e-06, E_loss_t0: 2.372824\n",
            "step: 29/50, D_loss: 0.21470556, G_loss_U: 4.0205264, G_loss_S: 1.3624103e-06, E_loss_t0: 2.372824\n",
            "step: 29/50, D_loss: 0.2432611, G_loss_U: 4.0205264, G_loss_S: 1.3624103e-06, E_loss_t0: 2.372824\n",
            "step: 29/50, D_loss: 0.27357274, G_loss_U: 4.0205264, G_loss_S: 1.3624103e-06, E_loss_t0: 2.372824\n",
            "step: 29/50, D_loss: 0.26807708, G_loss_U: 4.0205264, G_loss_S: 1.3624103e-06, E_loss_t0: 2.372824\n",
            "step: 29/50, D_loss: 0.2423152, G_loss_U: 4.0205264, G_loss_S: 1.3624103e-06, E_loss_t0: 2.372824\n",
            "step: 29/50, D_loss: 0.22057094, G_loss_U: 4.0205264, G_loss_S: 1.3624103e-06, E_loss_t0: 2.372824\n",
            "step: 29/50, D_loss: 0.2048263, G_loss_U: 4.0205264, G_loss_S: 1.3624103e-06, E_loss_t0: 2.372824\n",
            "step: 29/50, D_loss: 0.19260506, G_loss_U: 4.0205264, G_loss_S: 1.3624103e-06, E_loss_t0: 2.372824\n",
            "step: 29/50, D_loss: 0.1824684, G_loss_U: 4.0205264, G_loss_S: 1.3624103e-06, E_loss_t0: 2.372824\n",
            "step: 29/50, D_loss: 0.1754989, G_loss_U: 4.0205264, G_loss_S: 1.3624103e-06, E_loss_t0: 2.372824\n",
            "step: 29/50, D_loss: 0.16951855, G_loss_U: 4.0205264, G_loss_S: 1.3624103e-06, E_loss_t0: 2.372824\n",
            "step: 29/50, D_loss: 0.16430964, G_loss_U: 4.0205264, G_loss_S: 1.3624103e-06, E_loss_t0: 2.372824\n",
            "step: 29/50, D_loss: 0.17604825, G_loss_U: 4.0205264, G_loss_S: 1.3624103e-06, E_loss_t0: 2.372824\n",
            "step: 29/50, D_loss: 0.1581, G_loss_U: 4.0205264, G_loss_S: 1.3624103e-06, E_loss_t0: 2.372824\n",
            "step: 29/50, D_loss: 0.17172208, G_loss_U: 4.0205264, G_loss_S: 1.3624103e-06, E_loss_t0: 2.372824\n",
            "step: 29/50, D_loss: 0.15469669, G_loss_U: 4.0205264, G_loss_S: 1.3624103e-06, E_loss_t0: 2.372824\n",
            "step: 29/50, D_loss: 0.15419053, G_loss_U: 4.0205264, G_loss_S: 1.3624103e-06, E_loss_t0: 2.372824\n",
            "step: 29/50, D_loss: 0.1550057, G_loss_U: 4.0205264, G_loss_S: 1.3624103e-06, E_loss_t0: 2.372824\n",
            "step: 29/50, D_loss: 0.19883357, G_loss_U: 4.0205264, G_loss_S: 1.3624103e-06, E_loss_t0: 2.372824\n",
            "step: 29/50, D_loss: 0.17992519, G_loss_U: 4.0205264, G_loss_S: 1.3624103e-06, E_loss_t0: 2.372824\n",
            "step: 29/50, D_loss: 0.19626245, G_loss_U: 4.0205264, G_loss_S: 1.3624103e-06, E_loss_t0: 2.372824\n",
            "step: 29/50, D_loss: 0.17746995, G_loss_U: 4.0205264, G_loss_S: 1.3624103e-06, E_loss_t0: 2.372824\n",
            "step: 29/50, D_loss: 0.16305551, G_loss_U: 4.0205264, G_loss_S: 1.3624103e-06, E_loss_t0: 2.372824\n",
            "step: 29/50, D_loss: 0.18676375, G_loss_U: 4.0205264, G_loss_S: 1.3624103e-06, E_loss_t0: 2.372824\n",
            "step: 29/50, D_loss: 0.17669746, G_loss_U: 4.0205264, G_loss_S: 1.3624103e-06, E_loss_t0: 2.372824\n",
            "step: 30/50, D_loss: 0.16591789, G_loss_U: 4.0864635, G_loss_S: 1.4959157e-06, E_loss_t0: 2.3531215\n",
            "step: 30/50, D_loss: 0.171418, G_loss_U: 4.0864635, G_loss_S: 1.4959157e-06, E_loss_t0: 2.3531215\n",
            "step: 30/50, D_loss: 0.18044876, G_loss_U: 4.0864635, G_loss_S: 1.4959157e-06, E_loss_t0: 2.3531215\n",
            "step: 30/50, D_loss: 0.17270285, G_loss_U: 4.0864635, G_loss_S: 1.4959157e-06, E_loss_t0: 2.3531215\n",
            "step: 30/50, D_loss: 0.18221109, G_loss_U: 4.0864635, G_loss_S: 1.4959157e-06, E_loss_t0: 2.3531215\n",
            "step: 30/50, D_loss: 0.19139166, G_loss_U: 4.0864635, G_loss_S: 1.4959157e-06, E_loss_t0: 2.3531215\n",
            "step: 30/50, D_loss: 0.19914134, G_loss_U: 4.0864635, G_loss_S: 1.4959157e-06, E_loss_t0: 2.3531215\n",
            "step: 30/50, D_loss: 0.20392117, G_loss_U: 4.0864635, G_loss_S: 1.4959157e-06, E_loss_t0: 2.3531215\n",
            "step: 30/50, D_loss: 0.20779605, G_loss_U: 4.0864635, G_loss_S: 1.4959157e-06, E_loss_t0: 2.3531215\n",
            "step: 30/50, D_loss: 0.20847894, G_loss_U: 4.0864635, G_loss_S: 1.4959157e-06, E_loss_t0: 2.3531215\n",
            "step: 30/50, D_loss: 0.2047241, G_loss_U: 4.0864635, G_loss_S: 1.4959157e-06, E_loss_t0: 2.3531215\n",
            "step: 30/50, D_loss: 0.20126122, G_loss_U: 4.0864635, G_loss_S: 1.4959157e-06, E_loss_t0: 2.3531215\n",
            "step: 30/50, D_loss: 0.1952095, G_loss_U: 4.0864635, G_loss_S: 1.4959157e-06, E_loss_t0: 2.3531215\n",
            "step: 30/50, D_loss: 0.18887813, G_loss_U: 4.0864635, G_loss_S: 1.4959157e-06, E_loss_t0: 2.3531215\n",
            "step: 30/50, D_loss: 0.18417794, G_loss_U: 4.0864635, G_loss_S: 1.4959157e-06, E_loss_t0: 2.3531215\n",
            "step: 30/50, D_loss: 0.178245, G_loss_U: 4.0864635, G_loss_S: 1.4959157e-06, E_loss_t0: 2.3531215\n",
            "step: 30/50, D_loss: 0.1724452, G_loss_U: 4.0864635, G_loss_S: 1.4959157e-06, E_loss_t0: 2.3531215\n",
            "step: 30/50, D_loss: 0.18294622, G_loss_U: 4.0864635, G_loss_S: 1.4959157e-06, E_loss_t0: 2.3531215\n",
            "step: 30/50, D_loss: 0.16337079, G_loss_U: 4.0864635, G_loss_S: 1.4959157e-06, E_loss_t0: 2.3531215\n",
            "step: 30/50, D_loss: 0.16012754, G_loss_U: 4.0864635, G_loss_S: 1.4959157e-06, E_loss_t0: 2.3531215\n",
            "step: 30/50, D_loss: 0.1557294, G_loss_U: 4.0864635, G_loss_S: 1.4959157e-06, E_loss_t0: 2.3531215\n",
            "step: 30/50, D_loss: 0.154044, G_loss_U: 4.0864635, G_loss_S: 1.4959157e-06, E_loss_t0: 2.3531215\n",
            "step: 30/50, D_loss: 0.14968723, G_loss_U: 4.0864635, G_loss_S: 1.4959157e-06, E_loss_t0: 2.3531215\n",
            "step: 30/50, D_loss: 0.14960387, G_loss_U: 4.0864635, G_loss_S: 1.4959157e-06, E_loss_t0: 2.3531215\n",
            "step: 30/50, D_loss: 0.16788998, G_loss_U: 4.0864635, G_loss_S: 1.4959157e-06, E_loss_t0: 2.3531215\n",
            "step: 30/50, D_loss: 0.16539896, G_loss_U: 4.0864635, G_loss_S: 1.4959157e-06, E_loss_t0: 2.3531215\n",
            "step: 30/50, D_loss: 0.14616467, G_loss_U: 4.0864635, G_loss_S: 1.4959157e-06, E_loss_t0: 2.3531215\n",
            "step: 30/50, D_loss: 0.14648573, G_loss_U: 4.0864635, G_loss_S: 1.4959157e-06, E_loss_t0: 2.3531215\n",
            "step: 31/50, D_loss: 0.1510117, G_loss_U: 3.8914974, G_loss_S: 1.7814432e-06, E_loss_t0: 2.388826\n",
            "step: 31/50, D_loss: 0.15590908, G_loss_U: 3.8914974, G_loss_S: 1.7814432e-06, E_loss_t0: 2.388826\n",
            "step: 31/50, D_loss: 0.16082913, G_loss_U: 3.8914974, G_loss_S: 1.7814432e-06, E_loss_t0: 2.388826\n",
            "step: 31/50, D_loss: 0.16463211, G_loss_U: 3.8914974, G_loss_S: 1.7814432e-06, E_loss_t0: 2.388826\n",
            "step: 31/50, D_loss: 0.16830873, G_loss_U: 3.8914974, G_loss_S: 1.7814432e-06, E_loss_t0: 2.388826\n",
            "step: 31/50, D_loss: 0.17134987, G_loss_U: 3.8914974, G_loss_S: 1.7814432e-06, E_loss_t0: 2.388826\n",
            "step: 31/50, D_loss: 0.1738042, G_loss_U: 3.8914974, G_loss_S: 1.7814432e-06, E_loss_t0: 2.388826\n",
            "step: 31/50, D_loss: 0.17519754, G_loss_U: 3.8914974, G_loss_S: 1.7814432e-06, E_loss_t0: 2.388826\n",
            "step: 31/50, D_loss: 0.17584117, G_loss_U: 3.8914974, G_loss_S: 1.7814432e-06, E_loss_t0: 2.388826\n",
            "step: 31/50, D_loss: 0.17799535, G_loss_U: 3.8914974, G_loss_S: 1.7814432e-06, E_loss_t0: 2.388826\n",
            "step: 31/50, D_loss: 0.17575233, G_loss_U: 3.8914974, G_loss_S: 1.7814432e-06, E_loss_t0: 2.388826\n",
            "step: 31/50, D_loss: 0.17663752, G_loss_U: 3.8914974, G_loss_S: 1.7814432e-06, E_loss_t0: 2.388826\n",
            "step: 31/50, D_loss: 0.17345917, G_loss_U: 3.8914974, G_loss_S: 1.7814432e-06, E_loss_t0: 2.388826\n",
            "step: 31/50, D_loss: 0.17165536, G_loss_U: 3.8914974, G_loss_S: 1.7814432e-06, E_loss_t0: 2.388826\n",
            "step: 31/50, D_loss: 0.16923986, G_loss_U: 3.8914974, G_loss_S: 1.7814432e-06, E_loss_t0: 2.388826\n",
            "step: 31/50, D_loss: 0.18254985, G_loss_U: 3.8914974, G_loss_S: 1.7814432e-06, E_loss_t0: 2.388826\n",
            "step: 31/50, D_loss: 0.16419734, G_loss_U: 3.8914974, G_loss_S: 1.7814432e-06, E_loss_t0: 2.388826\n",
            "step: 31/50, D_loss: 0.16241571, G_loss_U: 3.8914974, G_loss_S: 1.7814432e-06, E_loss_t0: 2.388826\n",
            "step: 31/50, D_loss: 0.16061981, G_loss_U: 3.8914974, G_loss_S: 1.7814432e-06, E_loss_t0: 2.388826\n",
            "step: 31/50, D_loss: 0.15788843, G_loss_U: 3.8914974, G_loss_S: 1.7814432e-06, E_loss_t0: 2.388826\n",
            "step: 31/50, D_loss: 0.15496829, G_loss_U: 3.8914974, G_loss_S: 1.7814432e-06, E_loss_t0: 2.388826\n",
            "step: 31/50, D_loss: 0.16887249, G_loss_U: 3.8914974, G_loss_S: 1.7814432e-06, E_loss_t0: 2.388826\n",
            "step: 31/50, D_loss: 0.1508536, G_loss_U: 3.8914974, G_loss_S: 1.7814432e-06, E_loss_t0: 2.388826\n",
            "step: 31/50, D_loss: 0.16573815, G_loss_U: 3.8914974, G_loss_S: 1.7814432e-06, E_loss_t0: 2.388826\n",
            "step: 31/50, D_loss: 0.16525297, G_loss_U: 3.8914974, G_loss_S: 1.7814432e-06, E_loss_t0: 2.388826\n",
            "step: 31/50, D_loss: 0.1628079, G_loss_U: 3.8914974, G_loss_S: 1.7814432e-06, E_loss_t0: 2.388826\n",
            "step: 31/50, D_loss: 0.1627906, G_loss_U: 3.8914974, G_loss_S: 1.7814432e-06, E_loss_t0: 2.388826\n",
            "step: 31/50, D_loss: 0.14043114, G_loss_U: 3.8914974, G_loss_S: 1.7814432e-06, E_loss_t0: 2.388826\n",
            "step: 32/50, D_loss: 0.14751539, G_loss_U: 3.8942707, G_loss_S: 1.3927535e-06, E_loss_t0: 2.455518\n",
            "step: 32/50, D_loss: 0.14756523, G_loss_U: 3.8942707, G_loss_S: 1.3927535e-06, E_loss_t0: 2.455518\n",
            "step: 32/50, D_loss: 0.14704068, G_loss_U: 3.8942707, G_loss_S: 1.3927535e-06, E_loss_t0: 2.455518\n",
            "step: 32/50, D_loss: 0.14741638, G_loss_U: 3.8942707, G_loss_S: 1.3927535e-06, E_loss_t0: 2.455518\n",
            "step: 32/50, D_loss: 0.18206501, G_loss_U: 3.8942707, G_loss_S: 1.3927535e-06, E_loss_t0: 2.455518\n",
            "step: 32/50, D_loss: 0.15228444, G_loss_U: 3.8942707, G_loss_S: 1.3927535e-06, E_loss_t0: 2.455518\n",
            "step: 32/50, D_loss: 0.15718032, G_loss_U: 3.8942707, G_loss_S: 1.3927535e-06, E_loss_t0: 2.455518\n",
            "step: 32/50, D_loss: 0.17764409, G_loss_U: 3.8942707, G_loss_S: 1.3927535e-06, E_loss_t0: 2.455518\n",
            "step: 32/50, D_loss: 0.16573098, G_loss_U: 3.8942707, G_loss_S: 1.3927535e-06, E_loss_t0: 2.455518\n",
            "step: 32/50, D_loss: 0.18468136, G_loss_U: 3.8942707, G_loss_S: 1.3927535e-06, E_loss_t0: 2.455518\n",
            "step: 32/50, D_loss: 0.17279065, G_loss_U: 3.8942707, G_loss_S: 1.3927535e-06, E_loss_t0: 2.455518\n",
            "step: 32/50, D_loss: 0.1749964, G_loss_U: 3.8942707, G_loss_S: 1.3927535e-06, E_loss_t0: 2.455518\n",
            "step: 32/50, D_loss: 0.17618448, G_loss_U: 3.8942707, G_loss_S: 1.3927535e-06, E_loss_t0: 2.455518\n",
            "step: 32/50, D_loss: 0.17770056, G_loss_U: 3.8942707, G_loss_S: 1.3927535e-06, E_loss_t0: 2.455518\n",
            "step: 32/50, D_loss: 0.17507434, G_loss_U: 3.8942707, G_loss_S: 1.3927535e-06, E_loss_t0: 2.455518\n",
            "step: 32/50, D_loss: 0.17357545, G_loss_U: 3.8942707, G_loss_S: 1.3927535e-06, E_loss_t0: 2.455518\n",
            "step: 32/50, D_loss: 0.17222154, G_loss_U: 3.8942707, G_loss_S: 1.3927535e-06, E_loss_t0: 2.455518\n",
            "step: 32/50, D_loss: 0.1696483, G_loss_U: 3.8942707, G_loss_S: 1.3927535e-06, E_loss_t0: 2.455518\n",
            "step: 32/50, D_loss: 0.16798393, G_loss_U: 3.8942707, G_loss_S: 1.3927535e-06, E_loss_t0: 2.455518\n",
            "step: 32/50, D_loss: 0.16557884, G_loss_U: 3.8942707, G_loss_S: 1.3927535e-06, E_loss_t0: 2.455518\n",
            "step: 32/50, D_loss: 0.16164659, G_loss_U: 3.8942707, G_loss_S: 1.3927535e-06, E_loss_t0: 2.455518\n",
            "step: 32/50, D_loss: 0.17576788, G_loss_U: 3.8942707, G_loss_S: 1.3927535e-06, E_loss_t0: 2.455518\n",
            "step: 32/50, D_loss: 0.15564956, G_loss_U: 3.8942707, G_loss_S: 1.3927535e-06, E_loss_t0: 2.455518\n",
            "step: 32/50, D_loss: 0.16908728, G_loss_U: 3.8942707, G_loss_S: 1.3927535e-06, E_loss_t0: 2.455518\n",
            "step: 32/50, D_loss: 0.15036538, G_loss_U: 3.8942707, G_loss_S: 1.3927535e-06, E_loss_t0: 2.455518\n",
            "step: 32/50, D_loss: 0.14832738, G_loss_U: 3.8942707, G_loss_S: 1.3927535e-06, E_loss_t0: 2.455518\n",
            "step: 32/50, D_loss: 0.14843816, G_loss_U: 3.8942707, G_loss_S: 1.3927535e-06, E_loss_t0: 2.455518\n",
            "step: 32/50, D_loss: 0.14880662, G_loss_U: 3.8942707, G_loss_S: 1.3927535e-06, E_loss_t0: 2.455518\n",
            "step: 33/50, D_loss: 0.17381732, G_loss_U: 3.7110074, G_loss_S: 1.5849558e-06, E_loss_t0: 2.4795606\n",
            "step: 33/50, D_loss: 0.16349882, G_loss_U: 3.7110074, G_loss_S: 1.5849558e-06, E_loss_t0: 2.4795606\n",
            "step: 33/50, D_loss: 0.16877419, G_loss_U: 3.7110074, G_loss_S: 1.5849558e-06, E_loss_t0: 2.4795606\n",
            "step: 33/50, D_loss: 0.1731272, G_loss_U: 3.7110074, G_loss_S: 1.5849558e-06, E_loss_t0: 2.4795606\n",
            "step: 33/50, D_loss: 0.17741422, G_loss_U: 3.7110074, G_loss_S: 1.5849558e-06, E_loss_t0: 2.4795606\n",
            "step: 33/50, D_loss: 0.17974393, G_loss_U: 3.7110074, G_loss_S: 1.5849558e-06, E_loss_t0: 2.4795606\n",
            "step: 33/50, D_loss: 0.18333684, G_loss_U: 3.7110074, G_loss_S: 1.5849558e-06, E_loss_t0: 2.4795606\n",
            "step: 33/50, D_loss: 0.18332884, G_loss_U: 3.7110074, G_loss_S: 1.5849558e-06, E_loss_t0: 2.4795606\n",
            "step: 33/50, D_loss: 0.18231432, G_loss_U: 3.7110074, G_loss_S: 1.5849558e-06, E_loss_t0: 2.4795606\n",
            "step: 33/50, D_loss: 0.18078047, G_loss_U: 3.7110074, G_loss_S: 1.5849558e-06, E_loss_t0: 2.4795606\n",
            "step: 33/50, D_loss: 0.1783587, G_loss_U: 3.7110074, G_loss_S: 1.5849558e-06, E_loss_t0: 2.4795606\n",
            "step: 33/50, D_loss: 0.17566055, G_loss_U: 3.7110074, G_loss_S: 1.5849558e-06, E_loss_t0: 2.4795606\n",
            "step: 33/50, D_loss: 0.17258763, G_loss_U: 3.7110074, G_loss_S: 1.5849558e-06, E_loss_t0: 2.4795606\n",
            "step: 33/50, D_loss: 0.16911638, G_loss_U: 3.7110074, G_loss_S: 1.5849558e-06, E_loss_t0: 2.4795606\n",
            "step: 33/50, D_loss: 0.16596305, G_loss_U: 3.7110074, G_loss_S: 1.5849558e-06, E_loss_t0: 2.4795606\n",
            "step: 33/50, D_loss: 0.16226122, G_loss_U: 3.7110074, G_loss_S: 1.5849558e-06, E_loss_t0: 2.4795606\n",
            "step: 33/50, D_loss: 0.17404981, G_loss_U: 3.7110074, G_loss_S: 1.5849558e-06, E_loss_t0: 2.4795606\n",
            "step: 33/50, D_loss: 0.15581544, G_loss_U: 3.7110074, G_loss_S: 1.5849558e-06, E_loss_t0: 2.4795606\n",
            "step: 33/50, D_loss: 0.15273288, G_loss_U: 3.7110074, G_loss_S: 1.5849558e-06, E_loss_t0: 2.4795606\n",
            "step: 33/50, D_loss: 0.1499992, G_loss_U: 3.7110074, G_loss_S: 1.5849558e-06, E_loss_t0: 2.4795606\n",
            "step: 33/50, D_loss: 0.15024094, G_loss_U: 3.7110074, G_loss_S: 1.5849558e-06, E_loss_t0: 2.4795606\n",
            "step: 33/50, D_loss: 0.14814784, G_loss_U: 3.7110074, G_loss_S: 1.5849558e-06, E_loss_t0: 2.4795606\n",
            "step: 33/50, D_loss: 0.14835778, G_loss_U: 3.7110074, G_loss_S: 1.5849558e-06, E_loss_t0: 2.4795606\n",
            "step: 33/50, D_loss: 0.14904933, G_loss_U: 3.7110074, G_loss_S: 1.5849558e-06, E_loss_t0: 2.4795606\n",
            "step: 33/50, D_loss: 0.14867269, G_loss_U: 3.7110074, G_loss_S: 1.5849558e-06, E_loss_t0: 2.4795606\n",
            "step: 33/50, D_loss: 0.14873876, G_loss_U: 3.7110074, G_loss_S: 1.5849558e-06, E_loss_t0: 2.4795606\n",
            "step: 33/50, D_loss: 0.14841637, G_loss_U: 3.7110074, G_loss_S: 1.5849558e-06, E_loss_t0: 2.4795606\n",
            "step: 33/50, D_loss: 0.14941707, G_loss_U: 3.7110074, G_loss_S: 1.5849558e-06, E_loss_t0: 2.4795606\n",
            "step: 34/50, D_loss: 0.15581338, G_loss_U: 3.690551, G_loss_S: 1.5252953e-06, E_loss_t0: 2.4340422\n",
            "step: 34/50, D_loss: 0.16002777, G_loss_U: 3.690551, G_loss_S: 1.5252953e-06, E_loss_t0: 2.4340422\n",
            "step: 34/50, D_loss: 0.1649991, G_loss_U: 3.690551, G_loss_S: 1.5252953e-06, E_loss_t0: 2.4340422\n",
            "step: 34/50, D_loss: 0.16837317, G_loss_U: 3.690551, G_loss_S: 1.5252953e-06, E_loss_t0: 2.4340422\n",
            "step: 34/50, D_loss: 0.17239837, G_loss_U: 3.690551, G_loss_S: 1.5252953e-06, E_loss_t0: 2.4340422\n",
            "step: 34/50, D_loss: 0.17481345, G_loss_U: 3.690551, G_loss_S: 1.5252953e-06, E_loss_t0: 2.4340422\n",
            "step: 34/50, D_loss: 0.17564787, G_loss_U: 3.690551, G_loss_S: 1.5252953e-06, E_loss_t0: 2.4340422\n",
            "step: 34/50, D_loss: 0.18951239, G_loss_U: 3.690551, G_loss_S: 1.5252953e-06, E_loss_t0: 2.4340422\n",
            "step: 34/50, D_loss: 0.17701122, G_loss_U: 3.690551, G_loss_S: 1.5252953e-06, E_loss_t0: 2.4340422\n",
            "step: 34/50, D_loss: 0.17627184, G_loss_U: 3.690551, G_loss_S: 1.5252953e-06, E_loss_t0: 2.4340422\n",
            "step: 34/50, D_loss: 0.17386447, G_loss_U: 3.690551, G_loss_S: 1.5252953e-06, E_loss_t0: 2.4340422\n",
            "step: 34/50, D_loss: 0.17447916, G_loss_U: 3.690551, G_loss_S: 1.5252953e-06, E_loss_t0: 2.4340422\n",
            "step: 34/50, D_loss: 0.17121203, G_loss_U: 3.690551, G_loss_S: 1.5252953e-06, E_loss_t0: 2.4340422\n",
            "step: 34/50, D_loss: 0.18416093, G_loss_U: 3.690551, G_loss_S: 1.5252953e-06, E_loss_t0: 2.4340422\n",
            "step: 34/50, D_loss: 0.16459312, G_loss_U: 3.690551, G_loss_S: 1.5252953e-06, E_loss_t0: 2.4340422\n",
            "step: 34/50, D_loss: 0.16313669, G_loss_U: 3.690551, G_loss_S: 1.5252953e-06, E_loss_t0: 2.4340422\n",
            "step: 34/50, D_loss: 0.15994957, G_loss_U: 3.690551, G_loss_S: 1.5252953e-06, E_loss_t0: 2.4340422\n",
            "step: 34/50, D_loss: 0.17366649, G_loss_U: 3.690551, G_loss_S: 1.5252953e-06, E_loss_t0: 2.4340422\n",
            "step: 34/50, D_loss: 0.15503949, G_loss_U: 3.690551, G_loss_S: 1.5252953e-06, E_loss_t0: 2.4340422\n",
            "step: 34/50, D_loss: 0.1519887, G_loss_U: 3.690551, G_loss_S: 1.5252953e-06, E_loss_t0: 2.4340422\n",
            "step: 34/50, D_loss: 0.15013896, G_loss_U: 3.690551, G_loss_S: 1.5252953e-06, E_loss_t0: 2.4340422\n",
            "step: 34/50, D_loss: 0.14744847, G_loss_U: 3.690551, G_loss_S: 1.5252953e-06, E_loss_t0: 2.4340422\n",
            "step: 34/50, D_loss: 0.16484547, G_loss_U: 3.690551, G_loss_S: 1.5252953e-06, E_loss_t0: 2.4340422\n",
            "step: 34/50, D_loss: 0.14667745, G_loss_U: 3.690551, G_loss_S: 1.5252953e-06, E_loss_t0: 2.4340422\n",
            "step: 34/50, D_loss: 0.14629026, G_loss_U: 3.690551, G_loss_S: 1.5252953e-06, E_loss_t0: 2.4340422\n",
            "step: 34/50, D_loss: 0.15970905, G_loss_U: 3.690551, G_loss_S: 1.5252953e-06, E_loss_t0: 2.4340422\n",
            "step: 34/50, D_loss: 0.14417318, G_loss_U: 3.690551, G_loss_S: 1.5252953e-06, E_loss_t0: 2.4340422\n",
            "step: 34/50, D_loss: 0.16197921, G_loss_U: 3.690551, G_loss_S: 1.5252953e-06, E_loss_t0: 2.4340422\n",
            "step: 35/50, D_loss: 0.14823261, G_loss_U: 3.7536585, G_loss_S: 1.5956027e-06, E_loss_t0: 2.4424937\n",
            "step: 35/50, D_loss: 0.14813551, G_loss_U: 3.7536585, G_loss_S: 1.5956027e-06, E_loss_t0: 2.4424937\n",
            "step: 35/50, D_loss: 0.16406763, G_loss_U: 3.7536585, G_loss_S: 1.5956027e-06, E_loss_t0: 2.4424937\n",
            "step: 35/50, D_loss: 0.16754857, G_loss_U: 3.7536585, G_loss_S: 1.5956027e-06, E_loss_t0: 2.4424937\n",
            "step: 35/50, D_loss: 0.15627472, G_loss_U: 3.7536585, G_loss_S: 1.5956027e-06, E_loss_t0: 2.4424937\n",
            "step: 35/50, D_loss: 0.16118672, G_loss_U: 3.7536585, G_loss_S: 1.5956027e-06, E_loss_t0: 2.4424937\n",
            "step: 35/50, D_loss: 0.16397074, G_loss_U: 3.7536585, G_loss_S: 1.5956027e-06, E_loss_t0: 2.4424937\n",
            "step: 35/50, D_loss: 0.16741222, G_loss_U: 3.7536585, G_loss_S: 1.5956027e-06, E_loss_t0: 2.4424937\n",
            "step: 35/50, D_loss: 0.16962692, G_loss_U: 3.7536585, G_loss_S: 1.5956027e-06, E_loss_t0: 2.4424937\n",
            "step: 35/50, D_loss: 0.17213184, G_loss_U: 3.7536585, G_loss_S: 1.5956027e-06, E_loss_t0: 2.4424937\n",
            "step: 35/50, D_loss: 0.17161843, G_loss_U: 3.7536585, G_loss_S: 1.5956027e-06, E_loss_t0: 2.4424937\n",
            "step: 35/50, D_loss: 0.17124149, G_loss_U: 3.7536585, G_loss_S: 1.5956027e-06, E_loss_t0: 2.4424937\n",
            "step: 35/50, D_loss: 0.17045441, G_loss_U: 3.7536585, G_loss_S: 1.5956027e-06, E_loss_t0: 2.4424937\n",
            "step: 35/50, D_loss: 0.18128255, G_loss_U: 3.7536585, G_loss_S: 1.5956027e-06, E_loss_t0: 2.4424937\n",
            "step: 35/50, D_loss: 0.18430024, G_loss_U: 3.7536585, G_loss_S: 1.5956027e-06, E_loss_t0: 2.4424937\n",
            "step: 35/50, D_loss: 0.16796568, G_loss_U: 3.7536585, G_loss_S: 1.5956027e-06, E_loss_t0: 2.4424937\n",
            "step: 35/50, D_loss: 0.18153515, G_loss_U: 3.7536585, G_loss_S: 1.5956027e-06, E_loss_t0: 2.4424937\n",
            "step: 35/50, D_loss: 0.16508363, G_loss_U: 3.7536585, G_loss_S: 1.5956027e-06, E_loss_t0: 2.4424937\n",
            "step: 35/50, D_loss: 0.16416815, G_loss_U: 3.7536585, G_loss_S: 1.5956027e-06, E_loss_t0: 2.4424937\n",
            "step: 35/50, D_loss: 0.16055855, G_loss_U: 3.7536585, G_loss_S: 1.5956027e-06, E_loss_t0: 2.4424937\n",
            "step: 35/50, D_loss: 0.15792052, G_loss_U: 3.7536585, G_loss_S: 1.5956027e-06, E_loss_t0: 2.4424937\n",
            "step: 35/50, D_loss: 0.15565492, G_loss_U: 3.7536585, G_loss_S: 1.5956027e-06, E_loss_t0: 2.4424937\n",
            "step: 35/50, D_loss: 0.15254259, G_loss_U: 3.7536585, G_loss_S: 1.5956027e-06, E_loss_t0: 2.4424937\n",
            "step: 35/50, D_loss: 0.16612364, G_loss_U: 3.7536585, G_loss_S: 1.5956027e-06, E_loss_t0: 2.4424937\n",
            "step: 35/50, D_loss: 0.14803873, G_loss_U: 3.7536585, G_loss_S: 1.5956027e-06, E_loss_t0: 2.4424937\n",
            "step: 35/50, D_loss: 0.1484128, G_loss_U: 3.7536585, G_loss_S: 1.5956027e-06, E_loss_t0: 2.4424937\n",
            "step: 35/50, D_loss: 0.14709549, G_loss_U: 3.7536585, G_loss_S: 1.5956027e-06, E_loss_t0: 2.4424937\n",
            "step: 35/50, D_loss: 0.14838807, G_loss_U: 3.7536585, G_loss_S: 1.5956027e-06, E_loss_t0: 2.4424937\n",
            "step: 36/50, D_loss: 0.15588139, G_loss_U: 3.6114419, G_loss_S: 1.4185508e-06, E_loss_t0: 2.460686\n",
            "step: 36/50, D_loss: 0.17715119, G_loss_U: 3.6114419, G_loss_S: 1.4185508e-06, E_loss_t0: 2.460686\n",
            "step: 36/50, D_loss: 0.16873054, G_loss_U: 3.6114419, G_loss_S: 1.4185508e-06, E_loss_t0: 2.460686\n",
            "step: 36/50, D_loss: 0.1737581, G_loss_U: 3.6114419, G_loss_S: 1.4185508e-06, E_loss_t0: 2.460686\n",
            "step: 36/50, D_loss: 0.17757934, G_loss_U: 3.6114419, G_loss_S: 1.4185508e-06, E_loss_t0: 2.460686\n",
            "step: 36/50, D_loss: 0.18011414, G_loss_U: 3.6114419, G_loss_S: 1.4185508e-06, E_loss_t0: 2.460686\n",
            "step: 36/50, D_loss: 0.18196535, G_loss_U: 3.6114419, G_loss_S: 1.4185508e-06, E_loss_t0: 2.460686\n",
            "step: 36/50, D_loss: 0.18156655, G_loss_U: 3.6114419, G_loss_S: 1.4185508e-06, E_loss_t0: 2.460686\n",
            "step: 36/50, D_loss: 0.17972013, G_loss_U: 3.6114419, G_loss_S: 1.4185508e-06, E_loss_t0: 2.460686\n",
            "step: 36/50, D_loss: 0.1765677, G_loss_U: 3.6114419, G_loss_S: 1.4185508e-06, E_loss_t0: 2.460686\n",
            "step: 36/50, D_loss: 0.17363736, G_loss_U: 3.6114419, G_loss_S: 1.4185508e-06, E_loss_t0: 2.460686\n",
            "step: 36/50, D_loss: 0.17118506, G_loss_U: 3.6114419, G_loss_S: 1.4185508e-06, E_loss_t0: 2.460686\n",
            "step: 36/50, D_loss: 0.16631623, G_loss_U: 3.6114419, G_loss_S: 1.4185508e-06, E_loss_t0: 2.460686\n",
            "step: 36/50, D_loss: 0.16199079, G_loss_U: 3.6114419, G_loss_S: 1.4185508e-06, E_loss_t0: 2.460686\n",
            "step: 36/50, D_loss: 0.15892391, G_loss_U: 3.6114419, G_loss_S: 1.4185508e-06, E_loss_t0: 2.460686\n",
            "step: 36/50, D_loss: 0.16704205, G_loss_U: 3.6114419, G_loss_S: 1.4185508e-06, E_loss_t0: 2.460686\n",
            "step: 36/50, D_loss: 0.1560259, G_loss_U: 3.6114419, G_loss_S: 1.4185508e-06, E_loss_t0: 2.460686\n",
            "step: 36/50, D_loss: 0.15213437, G_loss_U: 3.6114419, G_loss_S: 1.4185508e-06, E_loss_t0: 2.460686\n",
            "step: 36/50, D_loss: 0.1509756, G_loss_U: 3.6114419, G_loss_S: 1.4185508e-06, E_loss_t0: 2.460686\n",
            "step: 36/50, D_loss: 0.14972393, G_loss_U: 3.6114419, G_loss_S: 1.4185508e-06, E_loss_t0: 2.460686\n",
            "step: 36/50, D_loss: 0.16323473, G_loss_U: 3.6114419, G_loss_S: 1.4185508e-06, E_loss_t0: 2.460686\n",
            "step: 36/50, D_loss: 0.14821209, G_loss_U: 3.6114419, G_loss_S: 1.4185508e-06, E_loss_t0: 2.460686\n",
            "step: 36/50, D_loss: 0.14802326, G_loss_U: 3.6114419, G_loss_S: 1.4185508e-06, E_loss_t0: 2.460686\n",
            "step: 36/50, D_loss: 0.14832602, G_loss_U: 3.6114419, G_loss_S: 1.4185508e-06, E_loss_t0: 2.460686\n",
            "step: 36/50, D_loss: 0.14797914, G_loss_U: 3.6114419, G_loss_S: 1.4185508e-06, E_loss_t0: 2.460686\n",
            "step: 36/50, D_loss: 0.14803423, G_loss_U: 3.6114419, G_loss_S: 1.4185508e-06, E_loss_t0: 2.460686\n",
            "step: 36/50, D_loss: 0.18126361, G_loss_U: 3.6114419, G_loss_S: 1.4185508e-06, E_loss_t0: 2.460686\n",
            "step: 36/50, D_loss: 0.16212335, G_loss_U: 3.6114419, G_loss_S: 1.4185508e-06, E_loss_t0: 2.460686\n",
            "step: 37/50, D_loss: 0.15375614, G_loss_U: 3.6251628, G_loss_S: 1.8542569e-06, E_loss_t0: 2.4835465\n",
            "step: 37/50, D_loss: 0.16031703, G_loss_U: 3.6251628, G_loss_S: 1.8542569e-06, E_loss_t0: 2.4835465\n",
            "step: 37/50, D_loss: 0.16544902, G_loss_U: 3.6251628, G_loss_S: 1.8542569e-06, E_loss_t0: 2.4835465\n",
            "step: 37/50, D_loss: 0.17200425, G_loss_U: 3.6251628, G_loss_S: 1.8542569e-06, E_loss_t0: 2.4835465\n",
            "step: 37/50, D_loss: 0.17886068, G_loss_U: 3.6251628, G_loss_S: 1.8542569e-06, E_loss_t0: 2.4835465\n",
            "step: 37/50, D_loss: 0.1805029, G_loss_U: 3.6251628, G_loss_S: 1.8542569e-06, E_loss_t0: 2.4835465\n",
            "step: 37/50, D_loss: 0.18273844, G_loss_U: 3.6251628, G_loss_S: 1.8542569e-06, E_loss_t0: 2.4835465\n",
            "step: 37/50, D_loss: 0.18112783, G_loss_U: 3.6251628, G_loss_S: 1.8542569e-06, E_loss_t0: 2.4835465\n",
            "step: 37/50, D_loss: 0.18010484, G_loss_U: 3.6251628, G_loss_S: 1.8542569e-06, E_loss_t0: 2.4835465\n",
            "step: 37/50, D_loss: 0.17683315, G_loss_U: 3.6251628, G_loss_S: 1.8542569e-06, E_loss_t0: 2.4835465\n",
            "step: 37/50, D_loss: 0.17385828, G_loss_U: 3.6251628, G_loss_S: 1.8542569e-06, E_loss_t0: 2.4835465\n",
            "step: 37/50, D_loss: 0.16841853, G_loss_U: 3.6251628, G_loss_S: 1.8542569e-06, E_loss_t0: 2.4835465\n",
            "step: 37/50, D_loss: 0.16492206, G_loss_U: 3.6251628, G_loss_S: 1.8542569e-06, E_loss_t0: 2.4835465\n",
            "step: 37/50, D_loss: 0.16043071, G_loss_U: 3.6251628, G_loss_S: 1.8542569e-06, E_loss_t0: 2.4835465\n",
            "step: 37/50, D_loss: 0.15718834, G_loss_U: 3.6251628, G_loss_S: 1.8542569e-06, E_loss_t0: 2.4835465\n",
            "step: 37/50, D_loss: 0.15326108, G_loss_U: 3.6251628, G_loss_S: 1.8542569e-06, E_loss_t0: 2.4835465\n",
            "step: 37/50, D_loss: 0.14976454, G_loss_U: 3.6251628, G_loss_S: 1.8542569e-06, E_loss_t0: 2.4835465\n",
            "step: 37/50, D_loss: 0.1497675, G_loss_U: 3.6251628, G_loss_S: 1.8542569e-06, E_loss_t0: 2.4835465\n",
            "step: 37/50, D_loss: 0.14933094, G_loss_U: 3.6251628, G_loss_S: 1.8542569e-06, E_loss_t0: 2.4835465\n",
            "step: 37/50, D_loss: 0.15206216, G_loss_U: 3.6251628, G_loss_S: 1.8542569e-06, E_loss_t0: 2.4835465\n",
            "step: 37/50, D_loss: 0.14673135, G_loss_U: 3.6251628, G_loss_S: 1.8542569e-06, E_loss_t0: 2.4835465\n",
            "step: 37/50, D_loss: 0.14707084, G_loss_U: 3.6251628, G_loss_S: 1.8542569e-06, E_loss_t0: 2.4835465\n",
            "step: 37/50, D_loss: 0.14822496, G_loss_U: 3.6251628, G_loss_S: 1.8542569e-06, E_loss_t0: 2.4835465\n",
            "step: 37/50, D_loss: 0.14756384, G_loss_U: 3.6251628, G_loss_S: 1.8542569e-06, E_loss_t0: 2.4835465\n",
            "step: 37/50, D_loss: 0.16333659, G_loss_U: 3.6251628, G_loss_S: 1.8542569e-06, E_loss_t0: 2.4835465\n",
            "step: 37/50, D_loss: 0.16188207, G_loss_U: 3.6251628, G_loss_S: 1.8542569e-06, E_loss_t0: 2.4835465\n",
            "step: 37/50, D_loss: 0.14332432, G_loss_U: 3.6251628, G_loss_S: 1.8542569e-06, E_loss_t0: 2.4835465\n",
            "step: 37/50, D_loss: 0.1428107, G_loss_U: 3.6251628, G_loss_S: 1.8542569e-06, E_loss_t0: 2.4835465\n",
            "step: 38/50, D_loss: 0.16365433, G_loss_U: 3.646413, G_loss_S: 1.5576695e-06, E_loss_t0: 2.5369358\n",
            "step: 38/50, D_loss: 0.15326199, G_loss_U: 3.646413, G_loss_S: 1.5576695e-06, E_loss_t0: 2.5369358\n",
            "step: 38/50, D_loss: 0.15802574, G_loss_U: 3.646413, G_loss_S: 1.5576695e-06, E_loss_t0: 2.5369358\n",
            "step: 38/50, D_loss: 0.16255869, G_loss_U: 3.646413, G_loss_S: 1.5576695e-06, E_loss_t0: 2.5369358\n",
            "step: 38/50, D_loss: 0.16487934, G_loss_U: 3.646413, G_loss_S: 1.5576695e-06, E_loss_t0: 2.5369358\n",
            "step: 38/50, D_loss: 0.16638948, G_loss_U: 3.646413, G_loss_S: 1.5576695e-06, E_loss_t0: 2.5369358\n",
            "step: 38/50, D_loss: 0.16801935, G_loss_U: 3.646413, G_loss_S: 1.5576695e-06, E_loss_t0: 2.5369358\n",
            "step: 38/50, D_loss: 0.16859499, G_loss_U: 3.646413, G_loss_S: 1.5576695e-06, E_loss_t0: 2.5369358\n",
            "step: 38/50, D_loss: 0.16852866, G_loss_U: 3.646413, G_loss_S: 1.5576695e-06, E_loss_t0: 2.5369358\n",
            "step: 38/50, D_loss: 0.1672449, G_loss_U: 3.646413, G_loss_S: 1.5576695e-06, E_loss_t0: 2.5369358\n",
            "step: 38/50, D_loss: 0.1819839, G_loss_U: 3.646413, G_loss_S: 1.5576695e-06, E_loss_t0: 2.5369358\n",
            "step: 38/50, D_loss: 0.16392331, G_loss_U: 3.646413, G_loss_S: 1.5576695e-06, E_loss_t0: 2.5369358\n",
            "step: 38/50, D_loss: 0.16240095, G_loss_U: 3.646413, G_loss_S: 1.5576695e-06, E_loss_t0: 2.5369358\n",
            "step: 38/50, D_loss: 0.15928955, G_loss_U: 3.646413, G_loss_S: 1.5576695e-06, E_loss_t0: 2.5369358\n",
            "step: 38/50, D_loss: 0.15612008, G_loss_U: 3.646413, G_loss_S: 1.5576695e-06, E_loss_t0: 2.5369358\n",
            "step: 38/50, D_loss: 0.154772, G_loss_U: 3.646413, G_loss_S: 1.5576695e-06, E_loss_t0: 2.5369358\n",
            "step: 38/50, D_loss: 0.15162884, G_loss_U: 3.646413, G_loss_S: 1.5576695e-06, E_loss_t0: 2.5369358\n",
            "step: 38/50, D_loss: 0.1667579, G_loss_U: 3.646413, G_loss_S: 1.5576695e-06, E_loss_t0: 2.5369358\n",
            "step: 38/50, D_loss: 0.14735457, G_loss_U: 3.646413, G_loss_S: 1.5576695e-06, E_loss_t0: 2.5369358\n",
            "step: 38/50, D_loss: 0.14712562, G_loss_U: 3.646413, G_loss_S: 1.5576695e-06, E_loss_t0: 2.5369358\n",
            "step: 38/50, D_loss: 0.16272599, G_loss_U: 3.646413, G_loss_S: 1.5576695e-06, E_loss_t0: 2.5369358\n",
            "step: 38/50, D_loss: 0.14412, G_loss_U: 3.646413, G_loss_S: 1.5576695e-06, E_loss_t0: 2.5369358\n",
            "step: 38/50, D_loss: 0.14524329, G_loss_U: 3.646413, G_loss_S: 1.5576695e-06, E_loss_t0: 2.5369358\n",
            "step: 38/50, D_loss: 0.16103329, G_loss_U: 3.646413, G_loss_S: 1.5576695e-06, E_loss_t0: 2.5369358\n",
            "step: 38/50, D_loss: 0.14323594, G_loss_U: 3.646413, G_loss_S: 1.5576695e-06, E_loss_t0: 2.5369358\n",
            "step: 38/50, D_loss: 0.14297666, G_loss_U: 3.646413, G_loss_S: 1.5576695e-06, E_loss_t0: 2.5369358\n",
            "step: 38/50, D_loss: 0.16099198, G_loss_U: 3.646413, G_loss_S: 1.5576695e-06, E_loss_t0: 2.5369358\n",
            "step: 38/50, D_loss: 0.15846127, G_loss_U: 3.646413, G_loss_S: 1.5576695e-06, E_loss_t0: 2.5369358\n",
            "step: 39/50, D_loss: 0.145457, G_loss_U: 3.6791122, G_loss_S: 1.4484439e-06, E_loss_t0: 2.3391364\n",
            "step: 39/50, D_loss: 0.14543007, G_loss_U: 3.6791122, G_loss_S: 1.4484439e-06, E_loss_t0: 2.3391364\n",
            "step: 39/50, D_loss: 0.14660856, G_loss_U: 3.6791122, G_loss_S: 1.4484439e-06, E_loss_t0: 2.3391364\n",
            "step: 39/50, D_loss: 0.16170132, G_loss_U: 3.6791122, G_loss_S: 1.4484439e-06, E_loss_t0: 2.3391364\n",
            "step: 39/50, D_loss: 0.1488685, G_loss_U: 3.6791122, G_loss_S: 1.4484439e-06, E_loss_t0: 2.3391364\n",
            "step: 39/50, D_loss: 0.14865229, G_loss_U: 3.6791122, G_loss_S: 1.4484439e-06, E_loss_t0: 2.3391364\n",
            "step: 39/50, D_loss: 0.1489784, G_loss_U: 3.6791122, G_loss_S: 1.4484439e-06, E_loss_t0: 2.3391364\n",
            "step: 39/50, D_loss: 0.1490169, G_loss_U: 3.6791122, G_loss_S: 1.4484439e-06, E_loss_t0: 2.3391364\n",
            "step: 39/50, D_loss: 0.14990498, G_loss_U: 3.6791122, G_loss_S: 1.4484439e-06, E_loss_t0: 2.3391364\n",
            "step: 39/50, D_loss: 0.16369936, G_loss_U: 3.6791122, G_loss_S: 1.4484439e-06, E_loss_t0: 2.3391364\n",
            "step: 39/50, D_loss: 0.15272202, G_loss_U: 3.6791122, G_loss_S: 1.4484439e-06, E_loss_t0: 2.3391364\n",
            "step: 39/50, D_loss: 0.15618457, G_loss_U: 3.6791122, G_loss_S: 1.4484439e-06, E_loss_t0: 2.3391364\n",
            "step: 39/50, D_loss: 0.1596092, G_loss_U: 3.6791122, G_loss_S: 1.4484439e-06, E_loss_t0: 2.3391364\n",
            "step: 39/50, D_loss: 0.16173775, G_loss_U: 3.6791122, G_loss_S: 1.4484439e-06, E_loss_t0: 2.3391364\n",
            "step: 39/50, D_loss: 0.16455883, G_loss_U: 3.6791122, G_loss_S: 1.4484439e-06, E_loss_t0: 2.3391364\n",
            "step: 39/50, D_loss: 0.16432288, G_loss_U: 3.6791122, G_loss_S: 1.4484439e-06, E_loss_t0: 2.3391364\n",
            "step: 39/50, D_loss: 0.1639894, G_loss_U: 3.6791122, G_loss_S: 1.4484439e-06, E_loss_t0: 2.3391364\n",
            "step: 39/50, D_loss: 0.16476817, G_loss_U: 3.6791122, G_loss_S: 1.4484439e-06, E_loss_t0: 2.3391364\n",
            "step: 39/50, D_loss: 0.1640061, G_loss_U: 3.6791122, G_loss_S: 1.4484439e-06, E_loss_t0: 2.3391364\n",
            "step: 39/50, D_loss: 0.17458194, G_loss_U: 3.6791122, G_loss_S: 1.4484439e-06, E_loss_t0: 2.3391364\n",
            "step: 39/50, D_loss: 0.16102736, G_loss_U: 3.6791122, G_loss_S: 1.4484439e-06, E_loss_t0: 2.3391364\n",
            "step: 39/50, D_loss: 0.15878347, G_loss_U: 3.6791122, G_loss_S: 1.4484439e-06, E_loss_t0: 2.3391364\n",
            "step: 39/50, D_loss: 0.17315705, G_loss_U: 3.6791122, G_loss_S: 1.4484439e-06, E_loss_t0: 2.3391364\n",
            "step: 39/50, D_loss: 0.16816728, G_loss_U: 3.6791122, G_loss_S: 1.4484439e-06, E_loss_t0: 2.3391364\n",
            "step: 39/50, D_loss: 0.15233347, G_loss_U: 3.6791122, G_loss_S: 1.4484439e-06, E_loss_t0: 2.3391364\n",
            "step: 39/50, D_loss: 0.15114689, G_loss_U: 3.6791122, G_loss_S: 1.4484439e-06, E_loss_t0: 2.3391364\n",
            "step: 39/50, D_loss: 0.14755602, G_loss_U: 3.6791122, G_loss_S: 1.4484439e-06, E_loss_t0: 2.3391364\n",
            "step: 39/50, D_loss: 0.14790824, G_loss_U: 3.6791122, G_loss_S: 1.4484439e-06, E_loss_t0: 2.3391364\n",
            "step: 40/50, D_loss: 0.17202285, G_loss_U: 3.526801, G_loss_S: 1.2809211e-06, E_loss_t0: 2.4123955\n",
            "step: 40/50, D_loss: 0.16255453, G_loss_U: 3.526801, G_loss_S: 1.2809211e-06, E_loss_t0: 2.4123955\n",
            "step: 40/50, D_loss: 0.16825828, G_loss_U: 3.526801, G_loss_S: 1.2809211e-06, E_loss_t0: 2.4123955\n",
            "step: 40/50, D_loss: 0.1733822, G_loss_U: 3.526801, G_loss_S: 1.2809211e-06, E_loss_t0: 2.4123955\n",
            "step: 40/50, D_loss: 0.17829613, G_loss_U: 3.526801, G_loss_S: 1.2809211e-06, E_loss_t0: 2.4123955\n",
            "step: 40/50, D_loss: 0.1790219, G_loss_U: 3.526801, G_loss_S: 1.2809211e-06, E_loss_t0: 2.4123955\n",
            "step: 40/50, D_loss: 0.18032274, G_loss_U: 3.526801, G_loss_S: 1.2809211e-06, E_loss_t0: 2.4123955\n",
            "step: 40/50, D_loss: 0.1794303, G_loss_U: 3.526801, G_loss_S: 1.2809211e-06, E_loss_t0: 2.4123955\n",
            "step: 40/50, D_loss: 0.17868103, G_loss_U: 3.526801, G_loss_S: 1.2809211e-06, E_loss_t0: 2.4123955\n",
            "step: 40/50, D_loss: 0.18582034, G_loss_U: 3.526801, G_loss_S: 1.2809211e-06, E_loss_t0: 2.4123955\n",
            "step: 40/50, D_loss: 0.1713141, G_loss_U: 3.526801, G_loss_S: 1.2809211e-06, E_loss_t0: 2.4123955\n",
            "step: 40/50, D_loss: 0.1687132, G_loss_U: 3.526801, G_loss_S: 1.2809211e-06, E_loss_t0: 2.4123955\n",
            "step: 40/50, D_loss: 0.16567121, G_loss_U: 3.526801, G_loss_S: 1.2809211e-06, E_loss_t0: 2.4123955\n",
            "step: 40/50, D_loss: 0.174934, G_loss_U: 3.526801, G_loss_S: 1.2809211e-06, E_loss_t0: 2.4123955\n",
            "step: 40/50, D_loss: 0.15921395, G_loss_U: 3.526801, G_loss_S: 1.2809211e-06, E_loss_t0: 2.4123955\n",
            "step: 40/50, D_loss: 0.15693468, G_loss_U: 3.526801, G_loss_S: 1.2809211e-06, E_loss_t0: 2.4123955\n",
            "step: 40/50, D_loss: 0.15486947, G_loss_U: 3.526801, G_loss_S: 1.2809211e-06, E_loss_t0: 2.4123955\n",
            "step: 40/50, D_loss: 0.15151839, G_loss_U: 3.526801, G_loss_S: 1.2809211e-06, E_loss_t0: 2.4123955\n",
            "step: 40/50, D_loss: 0.14974412, G_loss_U: 3.526801, G_loss_S: 1.2809211e-06, E_loss_t0: 2.4123955\n",
            "step: 40/50, D_loss: 0.16482568, G_loss_U: 3.526801, G_loss_S: 1.2809211e-06, E_loss_t0: 2.4123955\n",
            "step: 40/50, D_loss: 0.14679812, G_loss_U: 3.526801, G_loss_S: 1.2809211e-06, E_loss_t0: 2.4123955\n",
            "step: 40/50, D_loss: 0.14708687, G_loss_U: 3.526801, G_loss_S: 1.2809211e-06, E_loss_t0: 2.4123955\n",
            "step: 40/50, D_loss: 0.14601205, G_loss_U: 3.526801, G_loss_S: 1.2809211e-06, E_loss_t0: 2.4123955\n",
            "step: 40/50, D_loss: 0.14588727, G_loss_U: 3.526801, G_loss_S: 1.2809211e-06, E_loss_t0: 2.4123955\n",
            "step: 40/50, D_loss: 0.14710611, G_loss_U: 3.526801, G_loss_S: 1.2809211e-06, E_loss_t0: 2.4123955\n",
            "step: 40/50, D_loss: 0.16235693, G_loss_U: 3.526801, G_loss_S: 1.2809211e-06, E_loss_t0: 2.4123955\n",
            "step: 40/50, D_loss: 0.14391041, G_loss_U: 3.526801, G_loss_S: 1.2809211e-06, E_loss_t0: 2.4123955\n",
            "step: 40/50, D_loss: 0.14512148, G_loss_U: 3.526801, G_loss_S: 1.2809211e-06, E_loss_t0: 2.4123955\n",
            "step: 41/50, D_loss: 0.16414157, G_loss_U: 3.5713584, G_loss_S: 1.4565423e-06, E_loss_t0: 2.4633036\n",
            "step: 41/50, D_loss: 0.16745803, G_loss_U: 3.5713584, G_loss_S: 1.4565423e-06, E_loss_t0: 2.4633036\n",
            "step: 41/50, D_loss: 0.1596227, G_loss_U: 3.5713584, G_loss_S: 1.4565423e-06, E_loss_t0: 2.4633036\n",
            "step: 41/50, D_loss: 0.1631774, G_loss_U: 3.5713584, G_loss_S: 1.4565423e-06, E_loss_t0: 2.4633036\n",
            "step: 41/50, D_loss: 0.16769004, G_loss_U: 3.5713584, G_loss_S: 1.4565423e-06, E_loss_t0: 2.4633036\n",
            "step: 41/50, D_loss: 0.16926323, G_loss_U: 3.5713584, G_loss_S: 1.4565423e-06, E_loss_t0: 2.4633036\n",
            "step: 41/50, D_loss: 0.17067017, G_loss_U: 3.5713584, G_loss_S: 1.4565423e-06, E_loss_t0: 2.4633036\n",
            "step: 41/50, D_loss: 0.17151868, G_loss_U: 3.5713584, G_loss_S: 1.4565423e-06, E_loss_t0: 2.4633036\n",
            "step: 41/50, D_loss: 0.17132914, G_loss_U: 3.5713584, G_loss_S: 1.4565423e-06, E_loss_t0: 2.4633036\n",
            "step: 41/50, D_loss: 0.17024831, G_loss_U: 3.5713584, G_loss_S: 1.4565423e-06, E_loss_t0: 2.4633036\n",
            "step: 41/50, D_loss: 0.1675681, G_loss_U: 3.5713584, G_loss_S: 1.4565423e-06, E_loss_t0: 2.4633036\n",
            "step: 41/50, D_loss: 0.16502108, G_loss_U: 3.5713584, G_loss_S: 1.4565423e-06, E_loss_t0: 2.4633036\n",
            "step: 41/50, D_loss: 0.16269612, G_loss_U: 3.5713584, G_loss_S: 1.4565423e-06, E_loss_t0: 2.4633036\n",
            "step: 41/50, D_loss: 0.16080877, G_loss_U: 3.5713584, G_loss_S: 1.4565423e-06, E_loss_t0: 2.4633036\n",
            "step: 41/50, D_loss: 0.15741198, G_loss_U: 3.5713584, G_loss_S: 1.4565423e-06, E_loss_t0: 2.4633036\n",
            "step: 41/50, D_loss: 0.15447046, G_loss_U: 3.5713584, G_loss_S: 1.4565423e-06, E_loss_t0: 2.4633036\n",
            "step: 41/50, D_loss: 0.16679801, G_loss_U: 3.5713584, G_loss_S: 1.4565423e-06, E_loss_t0: 2.4633036\n",
            "step: 41/50, D_loss: 0.1488581, G_loss_U: 3.5713584, G_loss_S: 1.4565423e-06, E_loss_t0: 2.4633036\n",
            "step: 41/50, D_loss: 0.14845611, G_loss_U: 3.5713584, G_loss_S: 1.4565423e-06, E_loss_t0: 2.4633036\n",
            "step: 41/50, D_loss: 0.14864665, G_loss_U: 3.5713584, G_loss_S: 1.4565423e-06, E_loss_t0: 2.4633036\n",
            "step: 41/50, D_loss: 0.14870983, G_loss_U: 3.5713584, G_loss_S: 1.4565423e-06, E_loss_t0: 2.4633036\n",
            "step: 41/50, D_loss: 0.1637648, G_loss_U: 3.5713584, G_loss_S: 1.4565423e-06, E_loss_t0: 2.4633036\n",
            "step: 41/50, D_loss: 0.14675994, G_loss_U: 3.5713584, G_loss_S: 1.4565423e-06, E_loss_t0: 2.4633036\n",
            "step: 41/50, D_loss: 0.14726968, G_loss_U: 3.5713584, G_loss_S: 1.4565423e-06, E_loss_t0: 2.4633036\n",
            "step: 41/50, D_loss: 0.14668113, G_loss_U: 3.5713584, G_loss_S: 1.4565423e-06, E_loss_t0: 2.4633036\n",
            "step: 41/50, D_loss: 0.17880358, G_loss_U: 3.5713584, G_loss_S: 1.4565423e-06, E_loss_t0: 2.4633036\n",
            "step: 41/50, D_loss: 0.16148394, G_loss_U: 3.5713584, G_loss_S: 1.4565423e-06, E_loss_t0: 2.4633036\n",
            "step: 41/50, D_loss: 0.14243588, G_loss_U: 3.5713584, G_loss_S: 1.4565423e-06, E_loss_t0: 2.4633036\n",
            "step: 42/50, D_loss: 0.14748944, G_loss_U: 3.5846412, G_loss_S: 1.8807294e-06, E_loss_t0: 2.4747965\n",
            "step: 42/50, D_loss: 0.14716125, G_loss_U: 3.5846412, G_loss_S: 1.8807294e-06, E_loss_t0: 2.4747965\n",
            "step: 42/50, D_loss: 0.1473097, G_loss_U: 3.5846412, G_loss_S: 1.8807294e-06, E_loss_t0: 2.4747965\n",
            "step: 42/50, D_loss: 0.1632021, G_loss_U: 3.5846412, G_loss_S: 1.8807294e-06, E_loss_t0: 2.4747965\n",
            "step: 42/50, D_loss: 0.15141653, G_loss_U: 3.5846412, G_loss_S: 1.8807294e-06, E_loss_t0: 2.4747965\n",
            "step: 42/50, D_loss: 0.15519437, G_loss_U: 3.5846412, G_loss_S: 1.8807294e-06, E_loss_t0: 2.4747965\n",
            "step: 42/50, D_loss: 0.17322826, G_loss_U: 3.5846412, G_loss_S: 1.8807294e-06, E_loss_t0: 2.4747965\n",
            "step: 42/50, D_loss: 0.16147912, G_loss_U: 3.5846412, G_loss_S: 1.8807294e-06, E_loss_t0: 2.4747965\n",
            "step: 42/50, D_loss: 0.16403973, G_loss_U: 3.5846412, G_loss_S: 1.8807294e-06, E_loss_t0: 2.4747965\n",
            "step: 42/50, D_loss: 0.16488808, G_loss_U: 3.5846412, G_loss_S: 1.8807294e-06, E_loss_t0: 2.4747965\n",
            "step: 42/50, D_loss: 0.16619736, G_loss_U: 3.5846412, G_loss_S: 1.8807294e-06, E_loss_t0: 2.4747965\n",
            "step: 42/50, D_loss: 0.16622105, G_loss_U: 3.5846412, G_loss_S: 1.8807294e-06, E_loss_t0: 2.4747965\n",
            "step: 42/50, D_loss: 0.16507846, G_loss_U: 3.5846412, G_loss_S: 1.8807294e-06, E_loss_t0: 2.4747965\n",
            "step: 42/50, D_loss: 0.16318703, G_loss_U: 3.5846412, G_loss_S: 1.8807294e-06, E_loss_t0: 2.4747965\n",
            "step: 42/50, D_loss: 0.16390696, G_loss_U: 3.5846412, G_loss_S: 1.8807294e-06, E_loss_t0: 2.4747965\n",
            "step: 42/50, D_loss: 0.15964474, G_loss_U: 3.5846412, G_loss_S: 1.8807294e-06, E_loss_t0: 2.4747965\n",
            "step: 42/50, D_loss: 0.15840031, G_loss_U: 3.5846412, G_loss_S: 1.8807294e-06, E_loss_t0: 2.4747965\n",
            "step: 42/50, D_loss: 0.15554442, G_loss_U: 3.5846412, G_loss_S: 1.8807294e-06, E_loss_t0: 2.4747965\n",
            "step: 42/50, D_loss: 0.1531137, G_loss_U: 3.5846412, G_loss_S: 1.8807294e-06, E_loss_t0: 2.4747965\n",
            "step: 42/50, D_loss: 0.18334424, G_loss_U: 3.5846412, G_loss_S: 1.8807294e-06, E_loss_t0: 2.4747965\n",
            "step: 42/50, D_loss: 0.14915952, G_loss_U: 3.5846412, G_loss_S: 1.8807294e-06, E_loss_t0: 2.4747965\n",
            "step: 42/50, D_loss: 0.14962402, G_loss_U: 3.5846412, G_loss_S: 1.8807294e-06, E_loss_t0: 2.4747965\n",
            "step: 42/50, D_loss: 0.14897713, G_loss_U: 3.5846412, G_loss_S: 1.8807294e-06, E_loss_t0: 2.4747965\n",
            "step: 42/50, D_loss: 0.14995502, G_loss_U: 3.5846412, G_loss_S: 1.8807294e-06, E_loss_t0: 2.4747965\n",
            "step: 42/50, D_loss: 0.14951394, G_loss_U: 3.5846412, G_loss_S: 1.8807294e-06, E_loss_t0: 2.4747965\n",
            "step: 42/50, D_loss: 0.1490215, G_loss_U: 3.5846412, G_loss_S: 1.8807294e-06, E_loss_t0: 2.4747965\n",
            "step: 42/50, D_loss: 0.1491327, G_loss_U: 3.5846412, G_loss_S: 1.8807294e-06, E_loss_t0: 2.4747965\n",
            "step: 42/50, D_loss: 0.16315149, G_loss_U: 3.5846412, G_loss_S: 1.8807294e-06, E_loss_t0: 2.4747965\n",
            "step: 43/50, D_loss: 0.1544569, G_loss_U: 3.499973, G_loss_S: 1.2859348e-06, E_loss_t0: 2.4554071\n",
            "step: 43/50, D_loss: 0.15978204, G_loss_U: 3.499973, G_loss_S: 1.2859348e-06, E_loss_t0: 2.4554071\n",
            "step: 43/50, D_loss: 0.16557468, G_loss_U: 3.499973, G_loss_S: 1.2859348e-06, E_loss_t0: 2.4554071\n",
            "step: 43/50, D_loss: 0.16903543, G_loss_U: 3.499973, G_loss_S: 1.2859348e-06, E_loss_t0: 2.4554071\n",
            "step: 43/50, D_loss: 0.17231879, G_loss_U: 3.499973, G_loss_S: 1.2859348e-06, E_loss_t0: 2.4554071\n",
            "step: 43/50, D_loss: 0.17548741, G_loss_U: 3.499973, G_loss_S: 1.2859348e-06, E_loss_t0: 2.4554071\n",
            "step: 43/50, D_loss: 0.175161, G_loss_U: 3.499973, G_loss_S: 1.2859348e-06, E_loss_t0: 2.4554071\n",
            "step: 43/50, D_loss: 0.1759382, G_loss_U: 3.499973, G_loss_S: 1.2859348e-06, E_loss_t0: 2.4554071\n",
            "step: 43/50, D_loss: 0.17394663, G_loss_U: 3.499973, G_loss_S: 1.2859348e-06, E_loss_t0: 2.4554071\n",
            "step: 43/50, D_loss: 0.17111595, G_loss_U: 3.499973, G_loss_S: 1.2859348e-06, E_loss_t0: 2.4554071\n",
            "step: 43/50, D_loss: 0.16844574, G_loss_U: 3.499973, G_loss_S: 1.2859348e-06, E_loss_t0: 2.4554071\n",
            "step: 43/50, D_loss: 0.17991714, G_loss_U: 3.499973, G_loss_S: 1.2859348e-06, E_loss_t0: 2.4554071\n",
            "step: 43/50, D_loss: 0.16183077, G_loss_U: 3.499973, G_loss_S: 1.2859348e-06, E_loss_t0: 2.4554071\n",
            "step: 43/50, D_loss: 0.15933311, G_loss_U: 3.499973, G_loss_S: 1.2859348e-06, E_loss_t0: 2.4554071\n",
            "step: 43/50, D_loss: 0.15590903, G_loss_U: 3.499973, G_loss_S: 1.2859348e-06, E_loss_t0: 2.4554071\n",
            "step: 43/50, D_loss: 0.1677563, G_loss_U: 3.499973, G_loss_S: 1.2859348e-06, E_loss_t0: 2.4554071\n",
            "step: 43/50, D_loss: 0.16540079, G_loss_U: 3.499973, G_loss_S: 1.2859348e-06, E_loss_t0: 2.4554071\n",
            "step: 43/50, D_loss: 0.14718774, G_loss_U: 3.499973, G_loss_S: 1.2859348e-06, E_loss_t0: 2.4554071\n",
            "step: 43/50, D_loss: 0.14852102, G_loss_U: 3.499973, G_loss_S: 1.2859348e-06, E_loss_t0: 2.4554071\n",
            "step: 43/50, D_loss: 0.14771655, G_loss_U: 3.499973, G_loss_S: 1.2859348e-06, E_loss_t0: 2.4554071\n",
            "step: 43/50, D_loss: 0.14716047, G_loss_U: 3.499973, G_loss_S: 1.2859348e-06, E_loss_t0: 2.4554071\n",
            "step: 43/50, D_loss: 0.14868656, G_loss_U: 3.499973, G_loss_S: 1.2859348e-06, E_loss_t0: 2.4554071\n",
            "step: 43/50, D_loss: 0.14804329, G_loss_U: 3.499973, G_loss_S: 1.2859348e-06, E_loss_t0: 2.4554071\n",
            "step: 43/50, D_loss: 0.1638461, G_loss_U: 3.499973, G_loss_S: 1.2859348e-06, E_loss_t0: 2.4554071\n",
            "step: 43/50, D_loss: 0.1602174, G_loss_U: 3.499973, G_loss_S: 1.2859348e-06, E_loss_t0: 2.4554071\n",
            "step: 43/50, D_loss: 0.1437695, G_loss_U: 3.499973, G_loss_S: 1.2859348e-06, E_loss_t0: 2.4554071\n",
            "step: 43/50, D_loss: 0.14361005, G_loss_U: 3.499973, G_loss_S: 1.2859348e-06, E_loss_t0: 2.4554071\n",
            "step: 43/50, D_loss: 0.14275523, G_loss_U: 3.499973, G_loss_S: 1.2859348e-06, E_loss_t0: 2.4554071\n",
            "step: 44/50, D_loss: 0.14855935, G_loss_U: 3.5432756, G_loss_S: 1.4045232e-06, E_loss_t0: 2.41319\n",
            "step: 44/50, D_loss: 0.1489936, G_loss_U: 3.5432756, G_loss_S: 1.4045232e-06, E_loss_t0: 2.41319\n",
            "step: 44/50, D_loss: 0.16413945, G_loss_U: 3.5432756, G_loss_S: 1.4045232e-06, E_loss_t0: 2.41319\n",
            "step: 44/50, D_loss: 0.1678542, G_loss_U: 3.5432756, G_loss_S: 1.4045232e-06, E_loss_t0: 2.41319\n",
            "step: 44/50, D_loss: 0.15663204, G_loss_U: 3.5432756, G_loss_S: 1.4045232e-06, E_loss_t0: 2.41319\n",
            "step: 44/50, D_loss: 0.15933292, G_loss_U: 3.5432756, G_loss_S: 1.4045232e-06, E_loss_t0: 2.41319\n",
            "step: 44/50, D_loss: 0.16186213, G_loss_U: 3.5432756, G_loss_S: 1.4045232e-06, E_loss_t0: 2.41319\n",
            "step: 44/50, D_loss: 0.16424847, G_loss_U: 3.5432756, G_loss_S: 1.4045232e-06, E_loss_t0: 2.41319\n",
            "step: 44/50, D_loss: 0.16567004, G_loss_U: 3.5432756, G_loss_S: 1.4045232e-06, E_loss_t0: 2.41319\n",
            "step: 44/50, D_loss: 0.16531001, G_loss_U: 3.5432756, G_loss_S: 1.4045232e-06, E_loss_t0: 2.41319\n",
            "step: 44/50, D_loss: 0.16502526, G_loss_U: 3.5432756, G_loss_S: 1.4045232e-06, E_loss_t0: 2.41319\n",
            "step: 44/50, D_loss: 0.16384551, G_loss_U: 3.5432756, G_loss_S: 1.4045232e-06, E_loss_t0: 2.41319\n",
            "step: 44/50, D_loss: 0.16359064, G_loss_U: 3.5432756, G_loss_S: 1.4045232e-06, E_loss_t0: 2.41319\n",
            "step: 44/50, D_loss: 0.16164863, G_loss_U: 3.5432756, G_loss_S: 1.4045232e-06, E_loss_t0: 2.41319\n",
            "step: 44/50, D_loss: 0.15867196, G_loss_U: 3.5432756, G_loss_S: 1.4045232e-06, E_loss_t0: 2.41319\n",
            "step: 44/50, D_loss: 0.17170024, G_loss_U: 3.5432756, G_loss_S: 1.4045232e-06, E_loss_t0: 2.41319\n",
            "step: 44/50, D_loss: 0.15475906, G_loss_U: 3.5432756, G_loss_S: 1.4045232e-06, E_loss_t0: 2.41319\n",
            "step: 44/50, D_loss: 0.15286294, G_loss_U: 3.5432756, G_loss_S: 1.4045232e-06, E_loss_t0: 2.41319\n",
            "step: 44/50, D_loss: 0.14985684, G_loss_U: 3.5432756, G_loss_S: 1.4045232e-06, E_loss_t0: 2.41319\n",
            "step: 44/50, D_loss: 0.15178336, G_loss_U: 3.5432756, G_loss_S: 1.4045232e-06, E_loss_t0: 2.41319\n",
            "step: 44/50, D_loss: 0.14829792, G_loss_U: 3.5432756, G_loss_S: 1.4045232e-06, E_loss_t0: 2.41319\n",
            "step: 44/50, D_loss: 0.14809427, G_loss_U: 3.5432756, G_loss_S: 1.4045232e-06, E_loss_t0: 2.41319\n",
            "step: 44/50, D_loss: 0.16284, G_loss_U: 3.5432756, G_loss_S: 1.4045232e-06, E_loss_t0: 2.41319\n",
            "step: 44/50, D_loss: 0.16070385, G_loss_U: 3.5432756, G_loss_S: 1.4045232e-06, E_loss_t0: 2.41319\n",
            "step: 44/50, D_loss: 0.1606534, G_loss_U: 3.5432756, G_loss_S: 1.4045232e-06, E_loss_t0: 2.41319\n",
            "step: 44/50, D_loss: 0.14337413, G_loss_U: 3.5432756, G_loss_S: 1.4045232e-06, E_loss_t0: 2.41319\n",
            "step: 44/50, D_loss: 0.14317386, G_loss_U: 3.5432756, G_loss_S: 1.4045232e-06, E_loss_t0: 2.41319\n",
            "step: 44/50, D_loss: 0.14234897, G_loss_U: 3.5432756, G_loss_S: 1.4045232e-06, E_loss_t0: 2.41319\n",
            "step: 45/50, D_loss: 0.16247393, G_loss_U: 3.5446332, G_loss_S: 1.8669327e-06, E_loss_t0: 2.3998048\n",
            "step: 45/50, D_loss: 0.15169404, G_loss_U: 3.5446332, G_loss_S: 1.8669327e-06, E_loss_t0: 2.3998048\n",
            "step: 45/50, D_loss: 0.15552366, G_loss_U: 3.5446332, G_loss_S: 1.8669327e-06, E_loss_t0: 2.3998048\n",
            "step: 45/50, D_loss: 0.15837938, G_loss_U: 3.5446332, G_loss_S: 1.8669327e-06, E_loss_t0: 2.3998048\n",
            "step: 45/50, D_loss: 0.17346397, G_loss_U: 3.5446332, G_loss_S: 1.8669327e-06, E_loss_t0: 2.3998048\n",
            "step: 45/50, D_loss: 0.16487154, G_loss_U: 3.5446332, G_loss_S: 1.8669327e-06, E_loss_t0: 2.3998048\n",
            "step: 45/50, D_loss: 0.16678967, G_loss_U: 3.5446332, G_loss_S: 1.8669327e-06, E_loss_t0: 2.3998048\n",
            "step: 45/50, D_loss: 0.16933098, G_loss_U: 3.5446332, G_loss_S: 1.8669327e-06, E_loss_t0: 2.3998048\n",
            "step: 45/50, D_loss: 0.17039664, G_loss_U: 3.5446332, G_loss_S: 1.8669327e-06, E_loss_t0: 2.3998048\n",
            "step: 45/50, D_loss: 0.18341988, G_loss_U: 3.5446332, G_loss_S: 1.8669327e-06, E_loss_t0: 2.3998048\n",
            "step: 45/50, D_loss: 0.16897951, G_loss_U: 3.5446332, G_loss_S: 1.8669327e-06, E_loss_t0: 2.3998048\n",
            "step: 45/50, D_loss: 0.16727206, G_loss_U: 3.5446332, G_loss_S: 1.8669327e-06, E_loss_t0: 2.3998048\n",
            "step: 45/50, D_loss: 0.16450375, G_loss_U: 3.5446332, G_loss_S: 1.8669327e-06, E_loss_t0: 2.3998048\n",
            "step: 45/50, D_loss: 0.16173403, G_loss_U: 3.5446332, G_loss_S: 1.8669327e-06, E_loss_t0: 2.3998048\n",
            "step: 45/50, D_loss: 0.15968083, G_loss_U: 3.5446332, G_loss_S: 1.8669327e-06, E_loss_t0: 2.3998048\n",
            "step: 45/50, D_loss: 0.15616076, G_loss_U: 3.5446332, G_loss_S: 1.8669327e-06, E_loss_t0: 2.3998048\n",
            "step: 45/50, D_loss: 0.15390562, G_loss_U: 3.5446332, G_loss_S: 1.8669327e-06, E_loss_t0: 2.3998048\n",
            "step: 45/50, D_loss: 0.15026292, G_loss_U: 3.5446332, G_loss_S: 1.8669327e-06, E_loss_t0: 2.3998048\n",
            "step: 45/50, D_loss: 0.14754163, G_loss_U: 3.5446332, G_loss_S: 1.8669327e-06, E_loss_t0: 2.3998048\n",
            "step: 45/50, D_loss: 0.1647837, G_loss_U: 3.5446332, G_loss_S: 1.8669327e-06, E_loss_t0: 2.3998048\n",
            "step: 45/50, D_loss: 0.14479326, G_loss_U: 3.5446332, G_loss_S: 1.8669327e-06, E_loss_t0: 2.3998048\n",
            "step: 45/50, D_loss: 0.17661634, G_loss_U: 3.5446332, G_loss_S: 1.8669327e-06, E_loss_t0: 2.3998048\n",
            "step: 45/50, D_loss: 0.1433625, G_loss_U: 3.5446332, G_loss_S: 1.8669327e-06, E_loss_t0: 2.3998048\n",
            "step: 45/50, D_loss: 0.14299569, G_loss_U: 3.5446332, G_loss_S: 1.8669327e-06, E_loss_t0: 2.3998048\n",
            "step: 45/50, D_loss: 0.14306588, G_loss_U: 3.5446332, G_loss_S: 1.8669327e-06, E_loss_t0: 2.3998048\n",
            "step: 45/50, D_loss: 0.14294152, G_loss_U: 3.5446332, G_loss_S: 1.8669327e-06, E_loss_t0: 2.3998048\n",
            "step: 45/50, D_loss: 0.14293905, G_loss_U: 3.5446332, G_loss_S: 1.8669327e-06, E_loss_t0: 2.3998048\n",
            "step: 45/50, D_loss: 0.14386314, G_loss_U: 3.5446332, G_loss_S: 1.8669327e-06, E_loss_t0: 2.3998048\n",
            "step: 46/50, D_loss: 0.14875162, G_loss_U: 3.51371, G_loss_S: 1.5662742e-06, E_loss_t0: 2.4360921\n",
            "step: 46/50, D_loss: 0.1640092, G_loss_U: 3.51371, G_loss_S: 1.5662742e-06, E_loss_t0: 2.4360921\n",
            "step: 46/50, D_loss: 0.15375161, G_loss_U: 3.51371, G_loss_S: 1.5662742e-06, E_loss_t0: 2.4360921\n",
            "step: 46/50, D_loss: 0.1565133, G_loss_U: 3.51371, G_loss_S: 1.5662742e-06, E_loss_t0: 2.4360921\n",
            "step: 46/50, D_loss: 0.16005476, G_loss_U: 3.51371, G_loss_S: 1.5662742e-06, E_loss_t0: 2.4360921\n",
            "step: 46/50, D_loss: 0.16236179, G_loss_U: 3.51371, G_loss_S: 1.5662742e-06, E_loss_t0: 2.4360921\n",
            "step: 46/50, D_loss: 0.16351697, G_loss_U: 3.51371, G_loss_S: 1.5662742e-06, E_loss_t0: 2.4360921\n",
            "step: 46/50, D_loss: 0.16423413, G_loss_U: 3.51371, G_loss_S: 1.5662742e-06, E_loss_t0: 2.4360921\n",
            "step: 46/50, D_loss: 0.17861675, G_loss_U: 3.51371, G_loss_S: 1.5662742e-06, E_loss_t0: 2.4360921\n",
            "step: 46/50, D_loss: 0.16534933, G_loss_U: 3.51371, G_loss_S: 1.5662742e-06, E_loss_t0: 2.4360921\n",
            "step: 46/50, D_loss: 0.16319276, G_loss_U: 3.51371, G_loss_S: 1.5662742e-06, E_loss_t0: 2.4360921\n",
            "step: 46/50, D_loss: 0.16119696, G_loss_U: 3.51371, G_loss_S: 1.5662742e-06, E_loss_t0: 2.4360921\n",
            "step: 46/50, D_loss: 0.15916732, G_loss_U: 3.51371, G_loss_S: 1.5662742e-06, E_loss_t0: 2.4360921\n",
            "step: 46/50, D_loss: 0.15666343, G_loss_U: 3.51371, G_loss_S: 1.5662742e-06, E_loss_t0: 2.4360921\n",
            "step: 46/50, D_loss: 0.154258, G_loss_U: 3.51371, G_loss_S: 1.5662742e-06, E_loss_t0: 2.4360921\n",
            "step: 46/50, D_loss: 0.15174955, G_loss_U: 3.51371, G_loss_S: 1.5662742e-06, E_loss_t0: 2.4360921\n",
            "step: 46/50, D_loss: 0.1494753, G_loss_U: 3.51371, G_loss_S: 1.5662742e-06, E_loss_t0: 2.4360921\n",
            "step: 46/50, D_loss: 0.14938797, G_loss_U: 3.51371, G_loss_S: 1.5662742e-06, E_loss_t0: 2.4360921\n",
            "step: 46/50, D_loss: 0.15015729, G_loss_U: 3.51371, G_loss_S: 1.5662742e-06, E_loss_t0: 2.4360921\n",
            "step: 46/50, D_loss: 0.14644322, G_loss_U: 3.51371, G_loss_S: 1.5662742e-06, E_loss_t0: 2.4360921\n",
            "step: 46/50, D_loss: 0.14758682, G_loss_U: 3.51371, G_loss_S: 1.5662742e-06, E_loss_t0: 2.4360921\n",
            "step: 46/50, D_loss: 0.1477652, G_loss_U: 3.51371, G_loss_S: 1.5662742e-06, E_loss_t0: 2.4360921\n",
            "step: 46/50, D_loss: 0.147784, G_loss_U: 3.51371, G_loss_S: 1.5662742e-06, E_loss_t0: 2.4360921\n",
            "step: 46/50, D_loss: 0.17876673, G_loss_U: 3.51371, G_loss_S: 1.5662742e-06, E_loss_t0: 2.4360921\n",
            "step: 46/50, D_loss: 0.1594171, G_loss_U: 3.51371, G_loss_S: 1.5662742e-06, E_loss_t0: 2.4360921\n",
            "step: 46/50, D_loss: 0.14322545, G_loss_U: 3.51371, G_loss_S: 1.5662742e-06, E_loss_t0: 2.4360921\n",
            "step: 46/50, D_loss: 0.14293875, G_loss_U: 3.51371, G_loss_S: 1.5662742e-06, E_loss_t0: 2.4360921\n",
            "step: 46/50, D_loss: 0.15897383, G_loss_U: 3.51371, G_loss_S: 1.5662742e-06, E_loss_t0: 2.4360921\n",
            "step: 47/50, D_loss: 0.14703089, G_loss_U: 3.524595, G_loss_S: 1.628526e-06, E_loss_t0: 2.428859\n",
            "step: 47/50, D_loss: 0.14678743, G_loss_U: 3.524595, G_loss_S: 1.628526e-06, E_loss_t0: 2.428859\n",
            "step: 47/50, D_loss: 0.14645176, G_loss_U: 3.524595, G_loss_S: 1.628526e-06, E_loss_t0: 2.428859\n",
            "step: 47/50, D_loss: 0.14612, G_loss_U: 3.524595, G_loss_S: 1.628526e-06, E_loss_t0: 2.428859\n",
            "step: 47/50, D_loss: 0.14683491, G_loss_U: 3.524595, G_loss_S: 1.628526e-06, E_loss_t0: 2.428859\n",
            "step: 47/50, D_loss: 0.16187587, G_loss_U: 3.524595, G_loss_S: 1.628526e-06, E_loss_t0: 2.428859\n",
            "step: 47/50, D_loss: 0.15061647, G_loss_U: 3.524595, G_loss_S: 1.628526e-06, E_loss_t0: 2.428859\n",
            "step: 47/50, D_loss: 0.156185, G_loss_U: 3.524595, G_loss_S: 1.628526e-06, E_loss_t0: 2.428859\n",
            "step: 47/50, D_loss: 0.17163418, G_loss_U: 3.524595, G_loss_S: 1.628526e-06, E_loss_t0: 2.428859\n",
            "step: 47/50, D_loss: 0.16130172, G_loss_U: 3.524595, G_loss_S: 1.628526e-06, E_loss_t0: 2.428859\n",
            "step: 47/50, D_loss: 0.16382764, G_loss_U: 3.524595, G_loss_S: 1.628526e-06, E_loss_t0: 2.428859\n",
            "step: 47/50, D_loss: 0.16599312, G_loss_U: 3.524595, G_loss_S: 1.628526e-06, E_loss_t0: 2.428859\n",
            "step: 47/50, D_loss: 0.16611315, G_loss_U: 3.524595, G_loss_S: 1.628526e-06, E_loss_t0: 2.428859\n",
            "step: 47/50, D_loss: 0.1658807, G_loss_U: 3.524595, G_loss_S: 1.628526e-06, E_loss_t0: 2.428859\n",
            "step: 47/50, D_loss: 0.16558641, G_loss_U: 3.524595, G_loss_S: 1.628526e-06, E_loss_t0: 2.428859\n",
            "step: 47/50, D_loss: 0.17640817, G_loss_U: 3.524595, G_loss_S: 1.628526e-06, E_loss_t0: 2.428859\n",
            "step: 47/50, D_loss: 0.16228235, G_loss_U: 3.524595, G_loss_S: 1.628526e-06, E_loss_t0: 2.428859\n",
            "step: 47/50, D_loss: 0.15883148, G_loss_U: 3.524595, G_loss_S: 1.628526e-06, E_loss_t0: 2.428859\n",
            "step: 47/50, D_loss: 0.15574495, G_loss_U: 3.524595, G_loss_S: 1.628526e-06, E_loss_t0: 2.428859\n",
            "step: 47/50, D_loss: 0.15551096, G_loss_U: 3.524595, G_loss_S: 1.628526e-06, E_loss_t0: 2.428859\n",
            "step: 47/50, D_loss: 0.15174231, G_loss_U: 3.524595, G_loss_S: 1.628526e-06, E_loss_t0: 2.428859\n",
            "step: 47/50, D_loss: 0.14877287, G_loss_U: 3.524595, G_loss_S: 1.628526e-06, E_loss_t0: 2.428859\n",
            "step: 47/50, D_loss: 0.14884216, G_loss_U: 3.524595, G_loss_S: 1.628526e-06, E_loss_t0: 2.428859\n",
            "step: 47/50, D_loss: 0.1652939, G_loss_U: 3.524595, G_loss_S: 1.628526e-06, E_loss_t0: 2.428859\n",
            "step: 47/50, D_loss: 0.1467979, G_loss_U: 3.524595, G_loss_S: 1.628526e-06, E_loss_t0: 2.428859\n",
            "step: 47/50, D_loss: 0.16008061, G_loss_U: 3.524595, G_loss_S: 1.628526e-06, E_loss_t0: 2.428859\n",
            "step: 47/50, D_loss: 0.14474988, G_loss_U: 3.524595, G_loss_S: 1.628526e-06, E_loss_t0: 2.428859\n",
            "step: 47/50, D_loss: 0.14575773, G_loss_U: 3.524595, G_loss_S: 1.628526e-06, E_loss_t0: 2.428859\n",
            "step: 48/50, D_loss: 0.15075348, G_loss_U: 3.4717605, G_loss_S: 1.764781e-06, E_loss_t0: 2.4325185\n",
            "step: 48/50, D_loss: 0.15575151, G_loss_U: 3.4717605, G_loss_S: 1.764781e-06, E_loss_t0: 2.4325185\n",
            "step: 48/50, D_loss: 0.1594198, G_loss_U: 3.4717605, G_loss_S: 1.764781e-06, E_loss_t0: 2.4325185\n",
            "step: 48/50, D_loss: 0.17795521, G_loss_U: 3.4717605, G_loss_S: 1.764781e-06, E_loss_t0: 2.4325185\n",
            "step: 48/50, D_loss: 0.16600433, G_loss_U: 3.4717605, G_loss_S: 1.764781e-06, E_loss_t0: 2.4325185\n",
            "step: 48/50, D_loss: 0.16815725, G_loss_U: 3.4717605, G_loss_S: 1.764781e-06, E_loss_t0: 2.4325185\n",
            "step: 48/50, D_loss: 0.16852798, G_loss_U: 3.4717605, G_loss_S: 1.764781e-06, E_loss_t0: 2.4325185\n",
            "step: 48/50, D_loss: 0.16794513, G_loss_U: 3.4717605, G_loss_S: 1.764781e-06, E_loss_t0: 2.4325185\n",
            "step: 48/50, D_loss: 0.17868458, G_loss_U: 3.4717605, G_loss_S: 1.764781e-06, E_loss_t0: 2.4325185\n",
            "step: 48/50, D_loss: 0.16647534, G_loss_U: 3.4717605, G_loss_S: 1.764781e-06, E_loss_t0: 2.4325185\n",
            "step: 48/50, D_loss: 0.16410874, G_loss_U: 3.4717605, G_loss_S: 1.764781e-06, E_loss_t0: 2.4325185\n",
            "step: 48/50, D_loss: 0.16243416, G_loss_U: 3.4717605, G_loss_S: 1.764781e-06, E_loss_t0: 2.4325185\n",
            "step: 48/50, D_loss: 0.16073221, G_loss_U: 3.4717605, G_loss_S: 1.764781e-06, E_loss_t0: 2.4325185\n",
            "step: 48/50, D_loss: 0.15740542, G_loss_U: 3.4717605, G_loss_S: 1.764781e-06, E_loss_t0: 2.4325185\n",
            "step: 48/50, D_loss: 0.15467186, G_loss_U: 3.4717605, G_loss_S: 1.764781e-06, E_loss_t0: 2.4325185\n",
            "step: 48/50, D_loss: 0.15328181, G_loss_U: 3.4717605, G_loss_S: 1.764781e-06, E_loss_t0: 2.4325185\n",
            "step: 48/50, D_loss: 0.15026663, G_loss_U: 3.4717605, G_loss_S: 1.764781e-06, E_loss_t0: 2.4325185\n",
            "step: 48/50, D_loss: 0.14741015, G_loss_U: 3.4717605, G_loss_S: 1.764781e-06, E_loss_t0: 2.4325185\n",
            "step: 48/50, D_loss: 0.14738277, G_loss_U: 3.4717605, G_loss_S: 1.764781e-06, E_loss_t0: 2.4325185\n",
            "step: 48/50, D_loss: 0.1470384, G_loss_U: 3.4717605, G_loss_S: 1.764781e-06, E_loss_t0: 2.4325185\n",
            "step: 48/50, D_loss: 0.14743173, G_loss_U: 3.4717605, G_loss_S: 1.764781e-06, E_loss_t0: 2.4325185\n",
            "step: 48/50, D_loss: 0.14814888, G_loss_U: 3.4717605, G_loss_S: 1.764781e-06, E_loss_t0: 2.4325185\n",
            "step: 48/50, D_loss: 0.14744405, G_loss_U: 3.4717605, G_loss_S: 1.764781e-06, E_loss_t0: 2.4325185\n",
            "step: 48/50, D_loss: 0.14733535, G_loss_U: 3.4717605, G_loss_S: 1.764781e-06, E_loss_t0: 2.4325185\n",
            "step: 48/50, D_loss: 0.1634734, G_loss_U: 3.4717605, G_loss_S: 1.764781e-06, E_loss_t0: 2.4325185\n",
            "step: 48/50, D_loss: 0.16021639, G_loss_U: 3.4717605, G_loss_S: 1.764781e-06, E_loss_t0: 2.4325185\n",
            "step: 48/50, D_loss: 0.14383866, G_loss_U: 3.4717605, G_loss_S: 1.764781e-06, E_loss_t0: 2.4325185\n",
            "step: 48/50, D_loss: 0.14385247, G_loss_U: 3.4717605, G_loss_S: 1.764781e-06, E_loss_t0: 2.4325185\n",
            "step: 49/50, D_loss: 0.14843675, G_loss_U: 3.4769833, G_loss_S: 1.3366874e-06, E_loss_t0: 2.370823\n",
            "step: 49/50, D_loss: 0.16325901, G_loss_U: 3.4769833, G_loss_S: 1.3366874e-06, E_loss_t0: 2.370823\n",
            "step: 49/50, D_loss: 0.15451391, G_loss_U: 3.4769833, G_loss_S: 1.3366874e-06, E_loss_t0: 2.370823\n",
            "step: 49/50, D_loss: 0.15786785, G_loss_U: 3.4769833, G_loss_S: 1.3366874e-06, E_loss_t0: 2.370823\n",
            "step: 49/50, D_loss: 0.17614529, G_loss_U: 3.4769833, G_loss_S: 1.3366874e-06, E_loss_t0: 2.370823\n",
            "step: 49/50, D_loss: 0.16449854, G_loss_U: 3.4769833, G_loss_S: 1.3366874e-06, E_loss_t0: 2.370823\n",
            "step: 49/50, D_loss: 0.16621727, G_loss_U: 3.4769833, G_loss_S: 1.3366874e-06, E_loss_t0: 2.370823\n",
            "step: 49/50, D_loss: 0.16775253, G_loss_U: 3.4769833, G_loss_S: 1.3366874e-06, E_loss_t0: 2.370823\n",
            "step: 49/50, D_loss: 0.16762775, G_loss_U: 3.4769833, G_loss_S: 1.3366874e-06, E_loss_t0: 2.370823\n",
            "step: 49/50, D_loss: 0.16593221, G_loss_U: 3.4769833, G_loss_S: 1.3366874e-06, E_loss_t0: 2.370823\n",
            "step: 49/50, D_loss: 0.16539504, G_loss_U: 3.4769833, G_loss_S: 1.3366874e-06, E_loss_t0: 2.370823\n",
            "step: 49/50, D_loss: 0.16225573, G_loss_U: 3.4769833, G_loss_S: 1.3366874e-06, E_loss_t0: 2.370823\n",
            "step: 49/50, D_loss: 0.15968147, G_loss_U: 3.4769833, G_loss_S: 1.3366874e-06, E_loss_t0: 2.370823\n",
            "step: 49/50, D_loss: 0.17159528, G_loss_U: 3.4769833, G_loss_S: 1.3366874e-06, E_loss_t0: 2.370823\n",
            "step: 49/50, D_loss: 0.15481663, G_loss_U: 3.4769833, G_loss_S: 1.3366874e-06, E_loss_t0: 2.370823\n",
            "step: 49/50, D_loss: 0.15187018, G_loss_U: 3.4769833, G_loss_S: 1.3366874e-06, E_loss_t0: 2.370823\n",
            "step: 49/50, D_loss: 0.14852923, G_loss_U: 3.4769833, G_loss_S: 1.3366874e-06, E_loss_t0: 2.370823\n",
            "step: 49/50, D_loss: 0.16285856, G_loss_U: 3.4769833, G_loss_S: 1.3366874e-06, E_loss_t0: 2.370823\n",
            "step: 49/50, D_loss: 0.1457839, G_loss_U: 3.4769833, G_loss_S: 1.3366874e-06, E_loss_t0: 2.370823\n",
            "step: 49/50, D_loss: 0.147154, G_loss_U: 3.4769833, G_loss_S: 1.3366874e-06, E_loss_t0: 2.370823\n",
            "step: 49/50, D_loss: 0.14608672, G_loss_U: 3.4769833, G_loss_S: 1.3366874e-06, E_loss_t0: 2.370823\n",
            "step: 49/50, D_loss: 0.14676788, G_loss_U: 3.4769833, G_loss_S: 1.3366874e-06, E_loss_t0: 2.370823\n",
            "step: 49/50, D_loss: 0.14816846, G_loss_U: 3.4769833, G_loss_S: 1.3366874e-06, E_loss_t0: 2.370823\n",
            "step: 49/50, D_loss: 0.14618641, G_loss_U: 3.4769833, G_loss_S: 1.3366874e-06, E_loss_t0: 2.370823\n",
            "step: 49/50, D_loss: 0.16195166, G_loss_U: 3.4769833, G_loss_S: 1.3366874e-06, E_loss_t0: 2.370823\n",
            "step: 49/50, D_loss: 0.14396636, G_loss_U: 3.4769833, G_loss_S: 1.3366874e-06, E_loss_t0: 2.370823\n",
            "step: 49/50, D_loss: 0.14562473, G_loss_U: 3.4769833, G_loss_S: 1.3366874e-06, E_loss_t0: 2.370823\n",
            "step: 49/50, D_loss: 0.14396173, G_loss_U: 3.4769833, G_loss_S: 1.3366874e-06, E_loss_t0: 2.370823\n",
            "Finish Joint Training\n"
          ]
        }
      ],
      "source": [
        "print('Start Joint Training')\n",
        "for e in range(epoch):\n",
        "    for kk in range(2):\n",
        "        X = next(iter(loader))\n",
        "        random_data = random_generator(batch_size=batch_size, z_dim=dim, \n",
        "                                        T_mb=extract_time(data)[0], max_seq_len=extract_time(data)[1])\n",
        "            \n",
        "        # Generator Training \n",
        "        ## Train Generator\n",
        "        z = torch.tensor(random_data)\n",
        "        z = z.float()\n",
        "            \n",
        "        e_hat, _ = Generator(z)\n",
        "        e_hat = torch.reshape(e_hat, (batch_size, seq_len, hidden_dim))\n",
        "            \n",
        "        H_hat, _ = Supervisor(e_hat)\n",
        "        H_hat = torch.reshape(H_hat, (batch_size, seq_len, hidden_dim))\n",
        "            \n",
        "        Y_fake = Discriminator(H_hat)\n",
        "        Y_fake = torch.reshape(Y_fake, (batch_size, seq_len, 1))\n",
        "            \n",
        "        x_hat, _ = Recovery(H_hat)\n",
        "        x_hat = torch.reshape(x_hat, (batch_size, seq_len, dim))\n",
        "            \n",
        "        H, _ = Embedder(X.float())\n",
        "        H = torch.reshape(H, (batch_size, seq_len, hidden_dim))\n",
        "\n",
        "        H_hat_supervise, _ = Supervisor(H)\n",
        "        H_hat_supervise = torch.reshape(H_hat_supervise, (batch_size, seq_len, hidden_dim))\n",
        "\n",
        "        Generator.zero_grad()\n",
        "        Supervisor.zero_grad()\n",
        "        Discriminator.zero_grad()\n",
        "        Recovery.zero_grad()\n",
        "\n",
        "        # line 267 of original implementation: \n",
        "        # G_loss_U, G_loss_S, G_loss_V\n",
        "        G_loss_S = MSE_loss(H[:,1:,:], H_hat_supervise[:,:-1,:])\n",
        "            \n",
        "        G_loss_U = binary_cross_entropy_loss(torch.ones_like(Y_fake), Y_fake)\n",
        "            \n",
        "        G_loss_V1 = torch.mean(torch.abs((torch.std(x_hat, [0], unbiased = False)) + 1e-6 - (torch.std(X, [0]) + 1e-6)))\n",
        "        G_loss_V2 = torch.mean(torch.abs((torch.mean(x_hat, [0]) - (torch.mean(X, [0])))))\n",
        "        G_loss_V = G_loss_V1 + G_loss_V2\n",
        "            \n",
        "        # doing a backward step for each loss should result in gradients accumulating \n",
        "        # so we should be able to optimize them jointly\n",
        "        G_loss_S.backward(retain_graph=True)#\n",
        "        G_loss_U.backward(retain_graph=True)\n",
        "        G_loss_V.backward(retain_graph=True)#\n",
        "\n",
        "\n",
        "        generator_optimizer.step()\n",
        "        supervisor_optimizer.step()\n",
        "        discriminator_optimizer.step()\n",
        "        # Train Embedder \n",
        "        ## line 270: we only optimize E_loss_T0\n",
        "        ## E_loss_T0 = just mse of x and x_tilde\n",
        "        # but it calls E_solver which optimizes E_loss, which is a sum of \n",
        "        # E_loss0 and 0.1* G_loss_S\n",
        "        MSE_loss = nn.MSELoss()\n",
        "            \n",
        "        H, _ = Embedder(X.float())\n",
        "        H = torch.reshape(H, (batch_size, seq_len, hidden_dim))\n",
        "\n",
        "        X_tilde, _ = Recovery(H)\n",
        "        X_tilde = torch.reshape(X_tilde, (batch_size, seq_len, dim))\n",
        "\n",
        "        E_loss_T0 = MSE_loss(X, X_tilde)\n",
        "        E_loss0 = 10 * torch.sqrt(MSE_loss(X, X_tilde))  \n",
        "            \n",
        "        H_hat_supervise, _ = Supervisor(H)\n",
        "        H_hat_supervise = torch.reshape(H_hat_supervise, (batch_size, seq_len, hidden_dim))  \n",
        "\n",
        "        G_loss_S = MSE_loss(H[:,1:,:], H_hat_supervise[:,:-1,:])\n",
        "        E_loss = E_loss0  + 0.1 * G_loss_S\n",
        "            \n",
        "        G_loss_S.backward(retain_graph=True)\n",
        "        E_loss_T0.backward()\n",
        "            \n",
        "        Embedder.zero_grad()\n",
        "        Recovery.zero_grad()\n",
        "        Supervisor.zero_grad()\n",
        "            \n",
        "        embedder_optimizer.step()\n",
        "        recovery_optimizer.step()\n",
        "        supervisor_optimizer.step()\n",
        "    # train Discriminator\n",
        "    for batch_index, X in enumerate(loader):\n",
        "        random_data = random_generator(batch_size=batch_size, z_dim=dim, \n",
        "                                        T_mb=extract_time(data)[0], max_seq_len=extract_time(data)[1])\n",
        "        \n",
        "        z = torch.tensor(random_data)\n",
        "        z = z.float()\n",
        "\n",
        "        H, _ = Embedder(X)\n",
        "        H = torch.reshape(H, (batch_size, seq_len, hidden_dim))\n",
        "\n",
        "        Y_real = Discriminator(H)\n",
        "        Y_real = torch.reshape(Y_real, (batch_size, seq_len, 1))\n",
        "        \n",
        "        e_hat, _ = Generator(z)\n",
        "        e_hat = torch.reshape(e_hat, (batch_size, seq_len, hidden_dim))\n",
        "\n",
        "        Y_fake_e = Discriminator(e_hat)\n",
        "        Y_fake_e = torch.reshape(Y_fake_e, (batch_size, seq_len, 1))\n",
        "            \n",
        "        H_hat, _ = Supervisor(e_hat)\n",
        "        H_hat = torch.reshape(H_hat, (batch_size, seq_len, hidden_dim))\n",
        "            \n",
        "        Y_fake = Discriminator(H_hat)\n",
        "        Y_fake = torch.reshape(Y_fake, (batch_size, seq_len, 1))\n",
        "            \n",
        "        x_hat, _ = Recovery(H_hat)\n",
        "        x_hat = torch.reshape(x_hat, (batch_size, seq_len, dim))\n",
        "\n",
        "        Generator.zero_grad()\n",
        "        Supervisor.zero_grad()\n",
        "        Discriminator.zero_grad()\n",
        "        Recovery.zero_grad()\n",
        "        Embedder.zero_grad()\n",
        "\n",
        "        # logits first, then targets\n",
        "        # D_loss_real(Y_real, torch.ones_like(Y_real))\n",
        "        D_loss_real = nn.BCEWithLogitsLoss()\n",
        "        DLR = D_loss_real(Y_real, torch.ones_like(Y_real))\n",
        "\n",
        "        D_loss_fake = nn.BCEWithLogitsLoss()\n",
        "        DLF = D_loss_fake(Y_fake, torch.zeros_like(Y_fake))\n",
        "\n",
        "        D_loss_fake_e = nn.BCEWithLogitsLoss()\n",
        "        DLF_e = D_loss_fake_e(Y_fake_e, torch.zeros_like(Y_fake_e))\n",
        "\n",
        "        D_loss = DLR + DLF + gamma * DLF_e\n",
        "\n",
        "        # D_loss.backward(retain_graph=True)\n",
        "        \n",
        "        # discriminator_optimizer.step()\n",
        "\n",
        "        # check discriminator loss before updating\n",
        "        check_d_loss = D_loss\n",
        "        if (check_d_loss > 0.15):\n",
        "            D_loss.backward(retain_graph=True)\n",
        "            discriminator_optimizer.step()\n",
        "        \n",
        "        print('step: '+ str(e) + '/' + str(epoch) + \n",
        "                ', D_loss: ' + str(D_loss.detach().numpy()) +\n",
        "                ', G_loss_U: ' + str(G_loss_U.detach().numpy()) + \n",
        "                ', G_loss_S: ' + str(G_loss_S.detach().numpy()) + \n",
        "                ', E_loss_t0: ' + str(np.sqrt(E_loss0.detach().numpy()))\n",
        "                )\n",
        "print('Finish Joint Training')"
      ]
    },
    {
      "cell_type": "code",
      "execution_count": 17,
      "id": "7d7e0e55",
      "metadata": {},
      "outputs": [
        {
          "data": {
            "text/plain": [
              "<function utils.real_data_loading(path, seq_len)>"
            ]
          },
          "execution_count": 17,
          "metadata": {},
          "output_type": "execute_result"
        }
      ],
      "source": [
        "real_data_loading"
      ]
    },
    {
      "cell_type": "code",
      "execution_count": null,
      "id": "32aaf580",
      "metadata": {},
      "outputs": [],
      "source": []
    },
    {
      "cell_type": "code",
      "execution_count": 45,
      "id": "GtJjmjYDFR28",
      "metadata": {
        "colab": {
          "base_uri": "https://localhost:8080/",
          "height": 783
        },
        "id": "GtJjmjYDFR28",
        "outputId": "1787e47c-3478-4f7c-80bc-22f2b4f5822f"
      },
      "outputs": [
        {
          "name": "stdout",
          "output_type": "stream",
          "text": [
            "Start Joint Training\n",
            "step: 99/100, D_loss: -2.7969604, G_loss_U: -4.151405, G_loss_S: 9.272844e-06, E_loss_t0: 2.4685705\n",
            "step: 99/100, D_loss: -2.8291883, G_loss_U: -4.151405, G_loss_S: 9.272844e-06, E_loss_t0: 2.4685705\n",
            "step: 99/100, D_loss: -2.8611054, G_loss_U: -4.151405, G_loss_S: 9.272844e-06, E_loss_t0: 2.4685705\n",
            "step: 99/100, D_loss: -2.8930597, G_loss_U: -4.151405, G_loss_S: 9.272844e-06, E_loss_t0: 2.4685705\n",
            "step: 99/100, D_loss: -2.9248323, G_loss_U: -4.151405, G_loss_S: 9.272844e-06, E_loss_t0: 2.4685705\n",
            "step: 99/100, D_loss: -2.956499, G_loss_U: -4.151405, G_loss_S: 9.272844e-06, E_loss_t0: 2.4685705\n",
            "step: 99/100, D_loss: -2.9881005, G_loss_U: -4.151405, G_loss_S: 9.272844e-06, E_loss_t0: 2.4685705\n",
            "step: 99/100, D_loss: -3.0196328, G_loss_U: -4.151405, G_loss_S: 9.272844e-06, E_loss_t0: 2.4685705\n",
            "step: 99/100, D_loss: -3.0511103, G_loss_U: -4.151405, G_loss_S: 9.272844e-06, E_loss_t0: 2.4685705\n",
            "step: 99/100, D_loss: -3.0824876, G_loss_U: -4.151405, G_loss_S: 9.272844e-06, E_loss_t0: 2.4685705\n",
            "step: 99/100, D_loss: -3.1137981, G_loss_U: -4.151405, G_loss_S: 9.272844e-06, E_loss_t0: 2.4685705\n",
            "step: 99/100, D_loss: -3.145081, G_loss_U: -4.151405, G_loss_S: 9.272844e-06, E_loss_t0: 2.4685705\n",
            "step: 99/100, D_loss: -3.176251, G_loss_U: -4.151405, G_loss_S: 9.272844e-06, E_loss_t0: 2.4685705\n",
            "step: 99/100, D_loss: -3.2072897, G_loss_U: -4.151405, G_loss_S: 9.272844e-06, E_loss_t0: 2.4685705\n",
            "step: 99/100, D_loss: -3.2383351, G_loss_U: -4.151405, G_loss_S: 9.272844e-06, E_loss_t0: 2.4685705\n",
            "step: 99/100, D_loss: -3.2693243, G_loss_U: -4.151405, G_loss_S: 9.272844e-06, E_loss_t0: 2.4685705\n",
            "step: 99/100, D_loss: -3.300127, G_loss_U: -4.151405, G_loss_S: 9.272844e-06, E_loss_t0: 2.4685705\n",
            "step: 99/100, D_loss: -3.3309293, G_loss_U: -4.151405, G_loss_S: 9.272844e-06, E_loss_t0: 2.4685705\n",
            "step: 99/100, D_loss: -3.3617063, G_loss_U: -4.151405, G_loss_S: 9.272844e-06, E_loss_t0: 2.4685705\n",
            "step: 99/100, D_loss: -3.3925042, G_loss_U: -4.151405, G_loss_S: 9.272844e-06, E_loss_t0: 2.4685705\n",
            "step: 99/100, D_loss: -3.4229817, G_loss_U: -4.151405, G_loss_S: 9.272844e-06, E_loss_t0: 2.4685705\n"
          ]
        },
        {
          "ename": "KeyboardInterrupt",
          "evalue": "ignored",
          "output_type": "error",
          "traceback": [
            "\u001b[0;31m---------------------------------------------------------------------------\u001b[0m",
            "\u001b[0;31mKeyboardInterrupt\u001b[0m                         Traceback (most recent call last)",
            "\u001b[0;32m<ipython-input-45-9a32a2d7d6d6>\u001b[0m in \u001b[0;36m<module>\u001b[0;34m()\u001b[0m\n\u001b[1;32m     89\u001b[0m   \u001b[0;32mfor\u001b[0m \u001b[0mbatch_index\u001b[0m\u001b[0;34m,\u001b[0m \u001b[0mX\u001b[0m \u001b[0;32min\u001b[0m \u001b[0menumerate\u001b[0m\u001b[0;34m(\u001b[0m\u001b[0mloader\u001b[0m\u001b[0;34m)\u001b[0m\u001b[0;34m:\u001b[0m\u001b[0;34m\u001b[0m\u001b[0;34m\u001b[0m\u001b[0m\n\u001b[1;32m     90\u001b[0m     random_data = random_generator(batch_size=batch_size, z_dim=dim, \n\u001b[0;32m---> 91\u001b[0;31m                                      T_mb=extract_time(data)[0], max_seq_len=extract_time(data)[1])\n\u001b[0m\u001b[1;32m     92\u001b[0m \u001b[0;34m\u001b[0m\u001b[0m\n\u001b[1;32m     93\u001b[0m     \u001b[0mz\u001b[0m \u001b[0;34m=\u001b[0m \u001b[0mtorch\u001b[0m\u001b[0;34m.\u001b[0m\u001b[0mtensor\u001b[0m\u001b[0;34m(\u001b[0m\u001b[0mrandom_data\u001b[0m\u001b[0;34m)\u001b[0m\u001b[0;34m\u001b[0m\u001b[0;34m\u001b[0m\u001b[0m\n",
            "\u001b[0;32m<ipython-input-19-81307a2f1257>\u001b[0m in \u001b[0;36mextract_time\u001b[0;34m(data)\u001b[0m\n\u001b[1;32m     48\u001b[0m   \u001b[0;32mfor\u001b[0m \u001b[0mi\u001b[0m \u001b[0;32min\u001b[0m \u001b[0mrange\u001b[0m\u001b[0;34m(\u001b[0m\u001b[0mlen\u001b[0m\u001b[0;34m(\u001b[0m\u001b[0mdata\u001b[0m\u001b[0;34m)\u001b[0m\u001b[0;34m)\u001b[0m\u001b[0;34m:\u001b[0m\u001b[0;34m\u001b[0m\u001b[0;34m\u001b[0m\u001b[0m\n\u001b[1;32m     49\u001b[0m     \u001b[0mmax_seq_len\u001b[0m \u001b[0;34m=\u001b[0m \u001b[0mmax\u001b[0m\u001b[0;34m(\u001b[0m\u001b[0mmax_seq_len\u001b[0m\u001b[0;34m,\u001b[0m \u001b[0mlen\u001b[0m\u001b[0;34m(\u001b[0m\u001b[0mdata\u001b[0m\u001b[0;34m[\u001b[0m\u001b[0mi\u001b[0m\u001b[0;34m]\u001b[0m\u001b[0;34m[\u001b[0m\u001b[0;34m:\u001b[0m\u001b[0;34m,\u001b[0m\u001b[0;36m0\u001b[0m\u001b[0;34m]\u001b[0m\u001b[0;34m)\u001b[0m\u001b[0;34m)\u001b[0m\u001b[0;34m\u001b[0m\u001b[0;34m\u001b[0m\u001b[0m\n\u001b[0;32m---> 50\u001b[0;31m     \u001b[0mtime\u001b[0m\u001b[0;34m.\u001b[0m\u001b[0mappend\u001b[0m\u001b[0;34m(\u001b[0m\u001b[0mlen\u001b[0m\u001b[0;34m(\u001b[0m\u001b[0mdata\u001b[0m\u001b[0;34m[\u001b[0m\u001b[0mi\u001b[0m\u001b[0;34m]\u001b[0m\u001b[0;34m[\u001b[0m\u001b[0;34m:\u001b[0m\u001b[0;34m,\u001b[0m\u001b[0;36m0\u001b[0m\u001b[0;34m]\u001b[0m\u001b[0;34m)\u001b[0m\u001b[0;34m)\u001b[0m\u001b[0;34m\u001b[0m\u001b[0;34m\u001b[0m\u001b[0m\n\u001b[0m\u001b[1;32m     51\u001b[0m \u001b[0;34m\u001b[0m\u001b[0m\n\u001b[1;32m     52\u001b[0m   \u001b[0;32mreturn\u001b[0m \u001b[0mtime\u001b[0m\u001b[0;34m,\u001b[0m \u001b[0mmax_seq_len\u001b[0m\u001b[0;34m\u001b[0m\u001b[0;34m\u001b[0m\u001b[0m\n",
            "\u001b[0;31mKeyboardInterrupt\u001b[0m: "
          ]
        }
      ],
      "source": [
        "  print('Start Joint Training')\n",
        "  for itt in range(epoch):\n",
        "    for batch_index, X in enumerate(loader):\n",
        "      # X = next(iter(loader))\n",
        "      random_data = random_generator(batch_size=batch_size, z_dim=dim, \n",
        "                                       T_mb=extract_time(data)[0], max_seq_len=extract_time(data)[1])\n",
        "        \n",
        "      # Generator Training \n",
        "      ## Train Generator\n",
        "      z = torch.tensor(random_data)\n",
        "      z = z.float()\n",
        "        \n",
        "      e_hat, _ = Generator(z)\n",
        "      e_hat = torch.reshape(e_hat, (batch_size, seq_len, hidden_dim))\n",
        "        \n",
        "      H_hat, _ = Supervisor(e_hat)\n",
        "      H_hat = torch.reshape(H_hat, (batch_size, seq_len, hidden_dim))\n",
        "        \n",
        "      Y_fake = Discriminator(H_hat)\n",
        "      Y_fake = torch.reshape(Y_fake, (batch_size, seq_len, 1))\n",
        "        \n",
        "      x_hat, _ = Recovery(H_hat)\n",
        "      x_hat = torch.reshape(x_hat, (batch_size, seq_len, dim))\n",
        "        \n",
        "      H, _ = Embedder(X.float())\n",
        "      H = torch.reshape(H, (batch_size, seq_len, hidden_dim))\n",
        "\n",
        "      H_hat_supervise, _ = Supervisor(H)\n",
        "      H_hat_supervise = torch.reshape(H_hat_supervise, (batch_size, seq_len, hidden_dim))\n",
        "\n",
        "      Generator.zero_grad()\n",
        "      Supervisor.zero_grad()\n",
        "      Discriminator.zero_grad()\n",
        "      Recovery.zero_grad()\n",
        "\n",
        "      # line 267 of original implementation: \n",
        "      # G_loss_U, G_loss_S, G_loss_V\n",
        "      G_loss_S = MSE_loss(H[:,1:,:], H_hat_supervise[:,:-1,:])\n",
        "        \n",
        "      G_loss_U = binary_cross_entropy_loss(torch.ones_like(Y_fake), Y_fake)\n",
        "        \n",
        "      G_loss_V1 = torch.mean(torch.abs((torch.std(x_hat, [0], unbiased = False)) + 1e-6 - (torch.std(X, [0]) + 1e-6)))\n",
        "      G_loss_V2 = torch.mean(torch.abs((torch.mean(x_hat, [0]) - (torch.mean(X, [0])))))\n",
        "      G_loss_V = G_loss_V1 + G_loss_V2\n",
        "        \n",
        "      # doing a backward step for each loss should result in gradients accumulating \n",
        "      # so we should be able to optimize them jointly\n",
        "      G_loss_S.backward(retain_graph=True)#\n",
        "      G_loss_U.backward(retain_graph=True)\n",
        "      G_loss_V.backward(retain_graph=True)#\n",
        "\n",
        "\n",
        "      generator_optimizer.step()\n",
        "      supervisor_optimizer.step()\n",
        "      discriminator_optimizer.step()\n",
        "      # Train Embedder \n",
        "      ## line 270: we only optimize E_loss_T0\n",
        "      ## E_loss_T0 = just mse of x and x_tilde\n",
        "      # but it calls E_solver which optimizes E_loss, which is a sum of \n",
        "      # E_loss0 and 0.1* G_loss_S\n",
        "      MSE_loss = nn.MSELoss()\n",
        "        \n",
        "      H, _ = Embedder(X.float())\n",
        "      H = torch.reshape(H, (batch_size, seq_len, hidden_dim))\n",
        "\n",
        "      X_tilde, _ = Recovery(H)\n",
        "      X_tilde = torch.reshape(X_tilde, (batch_size, seq_len, dim))\n",
        "\n",
        "      E_loss_T0 = MSE_loss(X, X_tilde)\n",
        "      E_loss0 = 10 * torch.sqrt(MSE_loss(X, X_tilde))  \n",
        "        \n",
        "      H_hat_supervise, _ = Supervisor(H)\n",
        "      H_hat_supervise = torch.reshape(H_hat_supervise, (batch_size, seq_len, hidden_dim))  \n",
        "\n",
        "      G_loss_S = MSE_loss(H[:,1:,:], H_hat_supervise[:,:-1,:])\n",
        "      E_loss = E_loss0  + 0.1 * G_loss_S\n",
        "        \n",
        "      G_loss_S.backward(retain_graph=True)\n",
        "      E_loss_T0.backward()\n",
        "        \n",
        "      Embedder.zero_grad()\n",
        "      Recovery.zero_grad()\n",
        "      Supervisor.zero_grad()\n",
        "        \n",
        "      embedder_optimizer.step()\n",
        "      recovery_optimizer.step()\n",
        "      supervisor_optimizer.step()\n",
        "    # train Discriminator\n",
        "    for batch_index, X in enumerate(loader):\n",
        "      random_data = random_generator(batch_size=batch_size, z_dim=dim, \n",
        "                                       T_mb=extract_time(data)[0], max_seq_len=extract_time(data)[1])\n",
        "      \n",
        "      z = torch.tensor(random_data)\n",
        "      z = z.float()\n",
        "\n",
        "      H, _ = Embedder(X)\n",
        "      H = torch.reshape(H, (batch_size, seq_len, hidden_dim))\n",
        "\n",
        "      Y_real = Discriminator(H)\n",
        "      Y_real = torch.reshape(Y_real, (batch_size, seq_len, 1))\n",
        "      \n",
        "      e_hat, _ = Generator(z)\n",
        "      e_hat = torch.reshape(e_hat, (batch_size, seq_len, hidden_dim))\n",
        "\n",
        "      Y_fake_e = Discriminator(e_hat)\n",
        "      Y_fake_e = torch.reshape(Y_fake_e, (batch_size, seq_len, 1))\n",
        "        \n",
        "      H_hat, _ = Supervisor(e_hat)\n",
        "      H_hat = torch.reshape(H_hat, (batch_size, seq_len, hidden_dim))\n",
        "        \n",
        "      Y_fake = Discriminator(H_hat)\n",
        "      Y_fake = torch.reshape(Y_fake, (batch_size, seq_len, 1))\n",
        "        \n",
        "      x_hat, _ = Recovery(H_hat)\n",
        "      x_hat = torch.reshape(x_hat, (batch_size, seq_len, dim))\n",
        "\n",
        "      Generator.zero_grad()\n",
        "      Supervisor.zero_grad()\n",
        "      Discriminator.zero_grad()\n",
        "      Recovery.zero_grad()\n",
        "      Embedder.zero_grad()\n",
        "\n",
        "      D_loss_real = nn.BCEWithLogitsLoss()\n",
        "      # i think we need the order: logits, targets \n",
        "      # https://discuss.pytorch.org/t/v1-0-1-nn-bcewithlogitsloss-returns-negative-loss-sigmoid-layer-not-deployed/57409/3\n",
        "      DLR = D_loss_real(Y_real, torch.ones_like(Y_real))\n",
        "      D_loss_fake = nn.BCEWithLogitsLoss()\n",
        "      DLF = D_loss_fake(torch.zeros_like(Y_fake), Y_fake)\n",
        "      D_loss_fake_e = nn.BCEWithLogitsLoss()\n",
        "      DLF_e = D_loss_fake_e(torch.zeros_like(Y_fake_e), Y_fake_e)\n",
        "      D_loss = DLR + DLF + gamma * DLF_e\n",
        "\n",
        "      D_loss.backward(retain_graph=True)\n",
        "      \n",
        "      discriminator_optimizer.step()\n",
        "\n",
        "      # check discriminator loss before updating\n",
        "      #check_d_loss = D_loss\n",
        "      #if (check_d_loss > 0.15):\n",
        "      #  D_loss.backward(retain_graph=True)\n",
        "      #  discriminator_optimizer.step()\n",
        "      \n",
        "      print('step: '+ str(e) + '/' + str(epoch) + \n",
        "            ', D_loss: ' + str(D_loss.detach().numpy()) +\n",
        "            ', G_loss_U: ' + str(G_loss_U.detach().numpy()) + \n",
        "            ', G_loss_S: ' + str(G_loss_S.detach().numpy()) + \n",
        "            ', E_loss_t0: ' + str(np.sqrt(E_loss0.detach().numpy()))\n",
        "             )\n",
        "  print('Finish Joint Training')"
      ]
    },
    {
      "cell_type": "code",
      "execution_count": 47,
      "id": "2ckDW187GK3i",
      "metadata": {
        "colab": {
          "base_uri": "https://localhost:8080/"
        },
        "id": "2ckDW187GK3i",
        "outputId": "c3774480-c24a-4651-b957-c1da5194487d"
      },
      "outputs": [
        {
          "name": "stdout",
          "output_type": "stream",
          "text": [
            "tensor(9.9414e-06, grad_fn=<MseLossBackward>)\n",
            "torch.Size([128, 24, 1])\n",
            "tensor(-4.8705, grad_fn=<BinaryCrossEntropyWithLogitsBackward>)\n",
            "tensor(0.7864, grad_fn=<AddBackward0>)\n"
          ]
        }
      ],
      "source": [
        "      X = next(iter(loader))\n",
        "      random_data = random_generator(batch_size=batch_size, z_dim=dim, \n",
        "                                       T_mb=extract_time(data)[0], max_seq_len=extract_time(data)[1])\n",
        "        \n",
        "      # Generator Training \n",
        "      ## Train Generator\n",
        "      z = torch.tensor(random_data)\n",
        "      z = z.float()\n",
        "        \n",
        "      e_hat, _ = Generator(z)\n",
        "      e_hat = torch.reshape(e_hat, (batch_size, seq_len, hidden_dim))\n",
        "        \n",
        "      H_hat, _ = Supervisor(e_hat)\n",
        "      H_hat = torch.reshape(H_hat, (batch_size, seq_len, hidden_dim))\n",
        "        \n",
        "      Y_fake = Discriminator(H_hat)\n",
        "      Y_fake = torch.reshape(Y_fake, (batch_size, seq_len, 1))\n",
        "        \n",
        "      x_hat, _ = Recovery(H_hat)\n",
        "      x_hat = torch.reshape(x_hat, (batch_size, seq_len, dim))\n",
        "        \n",
        "      H, _ = Embedder(X.float())\n",
        "      H = torch.reshape(H, (batch_size, seq_len, hidden_dim))\n",
        "\n",
        "      H_hat_supervise, _ = Supervisor(H)\n",
        "      H_hat_supervise = torch.reshape(H_hat_supervise, (batch_size, seq_len, hidden_dim))\n",
        "\n",
        "      Generator.zero_grad()\n",
        "      Supervisor.zero_grad()\n",
        "      Discriminator.zero_grad()\n",
        "      Recovery.zero_grad()\n",
        "\n",
        "      # line 267 of original implementation: \n",
        "      # G_loss_U, G_loss_S, G_loss_V\n",
        "      G_loss_S = MSE_loss(H[:,1:,:], H_hat_supervise[:,:-1,:])\n",
        "      print(G_loss_S)\n",
        "      print(Y_fake.shape)\n",
        "      # G_loss_U returns negative values? \n",
        "      G_loss_U = binary_cross_entropy_loss(torch.ones_like(Y_fake), Y_fake)\n",
        "      print(G_loss_U)\n",
        "      G_loss_V1 = torch.mean(torch.abs((torch.std(x_hat, [0], unbiased = False)) + 1e-6 - (torch.std(X, [0]) + 1e-6)))\n",
        "      G_loss_V2 = torch.mean(torch.abs((torch.mean(x_hat, [0]) - (torch.mean(X, [0])))))\n",
        "      G_loss_V = G_loss_V1 + G_loss_V2\n",
        "      print(G_loss_V)\n",
        "      # doing a backward step for each loss should result in gradients accumulating \n",
        "      # so we should be able to optimize them jointly\n",
        "      G_loss_S.backward(retain_graph=True)#\n",
        "      G_loss_U.backward(retain_graph=True)\n",
        "      G_loss_V.backward(retain_graph=True)#\n",
        "\n",
        "\n",
        "      generator_optimizer.step()\n",
        "      supervisor_optimizer.step()\n",
        "      discriminator_optimizer.step()\n",
        "      "
      ]
    },
    {
      "cell_type": "code",
      "execution_count": 61,
      "id": "63mn6lA8GuP7",
      "metadata": {
        "colab": {
          "base_uri": "https://localhost:8080/"
        },
        "id": "63mn6lA8GuP7",
        "outputId": "2709f954-60ca-44fe-9d35-1e703e9937f5"
      },
      "outputs": [
        {
          "data": {
            "text/plain": [
              "(tensor([[0.4977],\n",
              "         [0.5011],\n",
              "         [0.5013],\n",
              "         ...,\n",
              "         [0.4923],\n",
              "         [0.4923],\n",
              "         [0.4923]], grad_fn=<SigmoidBackward>),\n",
              " tensor([[[ 0.3385, -0.2502, -0.0390,  ...,  0.0921, -0.1438,  0.1577],\n",
              "          [ 0.3385, -0.2502, -0.0390,  ...,  0.0921, -0.1438,  0.1577],\n",
              "          [ 0.3385, -0.2502, -0.0390,  ...,  0.0921, -0.1438,  0.1577],\n",
              "          ...,\n",
              "          [ 0.3385, -0.2502, -0.0390,  ...,  0.0921, -0.1438,  0.1577],\n",
              "          [ 0.3385, -0.2502, -0.0390,  ...,  0.0921, -0.1438,  0.1577],\n",
              "          [ 0.3385, -0.2502, -0.0390,  ...,  0.0921, -0.1438,  0.1577]],\n",
              " \n",
              "         [[-0.1385,  0.3385,  0.2934,  ..., -0.1475,  0.2490,  0.0824],\n",
              "          [-0.1385,  0.3385,  0.2934,  ..., -0.1475,  0.2490,  0.0824],\n",
              "          [-0.1385,  0.3385,  0.2934,  ..., -0.1475,  0.2490,  0.0824],\n",
              "          ...,\n",
              "          [-0.1385,  0.3385,  0.2934,  ..., -0.1475,  0.2490,  0.0824],\n",
              "          [-0.1385,  0.3385,  0.2934,  ..., -0.1475,  0.2490,  0.0824],\n",
              "          [-0.1385,  0.3385,  0.2934,  ..., -0.1475,  0.2490,  0.0824]],\n",
              " \n",
              "         [[-0.1396, -0.0889,  0.0376,  ..., -0.1524, -0.1783, -0.1427],\n",
              "          [-0.1396, -0.0889,  0.0376,  ..., -0.1524, -0.1783, -0.1427],\n",
              "          [-0.1396, -0.0889,  0.0376,  ..., -0.1524, -0.1783, -0.1427],\n",
              "          ...,\n",
              "          [-0.1396, -0.0889,  0.0376,  ..., -0.1524, -0.1783, -0.1427],\n",
              "          [-0.1396, -0.0889,  0.0376,  ..., -0.1524, -0.1783, -0.1427],\n",
              "          [-0.1396, -0.0889,  0.0376,  ..., -0.1524, -0.1783, -0.1427]]],\n",
              "        grad_fn=<StackBackward>))"
            ]
          },
          "execution_count": 61,
          "metadata": {},
          "output_type": "execute_result"
        }
      ],
      "source": [
        "# Discriminator outputs values larger than 1\n",
        "Discriminator(H_hat)"
      ]
    },
    {
      "cell_type": "code",
      "execution_count": 60,
      "id": "VuAD3bmIGQUq",
      "metadata": {
        "colab": {
          "base_uri": "https://localhost:8080/"
        },
        "id": "VuAD3bmIGQUq",
        "outputId": "6797b755-30ca-41d8-805e-2f0510e05037"
      },
      "outputs": [
        {
          "data": {
            "text/plain": [
              "Time_GAN_module(\n",
              "  (rnn): GRU(24, 24, num_layers=3, batch_first=True)\n",
              "  (fc): Linear(in_features=24, out_features=1, bias=True)\n",
              ")"
            ]
          },
          "execution_count": 60,
          "metadata": {},
          "output_type": "execute_result"
        }
      ],
      "source": [
        "Discriminator = Time_GAN_module(input_size=hidden_dim, output_size=1, hidden_dim=hidden_dim, n_layers=n_layers, activation=torch.sigmoid)\n",
        "Discriminator"
      ]
    },
    {
      "cell_type": "code",
      "execution_count": null,
      "id": "T3PHABnV9mBa",
      "metadata": {
        "id": "T3PHABnV9mBa"
      },
      "outputs": [],
      "source": [
        "test = next(iter(loader))\n",
        "test.shape"
      ]
    },
    {
      "cell_type": "code",
      "execution_count": 66,
      "id": "PiPaUpnzsUnj",
      "metadata": {
        "colab": {
          "base_uri": "https://localhost:8080/"
        },
        "id": "PiPaUpnzsUnj",
        "outputId": "b4cb916e-8c47-442d-9965-688e8735373a"
      },
      "outputs": [
        {
          "data": {
            "text/plain": [
              "tensor(0.0023, grad_fn=<BinaryCrossEntropyWithLogitsBackward>)"
            ]
          },
          "execution_count": 66,
          "metadata": {},
          "output_type": "execute_result"
        }
      ],
      "source": [
        "D_loss_real(Y_real, torch.ones_like(Y_real))"
      ]
    },
    {
      "cell_type": "code",
      "execution_count": null,
      "id": "bede8319",
      "metadata": {
        "id": "bede8319"
      },
      "outputs": [],
      "source": [
        "# outline of original training loop\n",
        "\"\"\"print('Start Joint Training')\n",
        "\n",
        "for e in range(epoch): \n",
        "\n",
        "    for batch_index, X in enumerate(loader):\n",
        "        \n",
        "        random_data = random_generator(batch_size=batch_size, z_dim=dim, \n",
        "                                       T_mb=extract_time(data)[0], max_seq_len=extract_time(data)[1])\n",
        "        \n",
        "        \n",
        "        # Generator Training \n",
        "        ## Train Generator\n",
        "        z = torch.tensor(random_data)\n",
        "        z = z.float()\n",
        "        \n",
        "        e_hat, _ = Generator(z)\n",
        "        e_hat = torch.reshape(e_hat, (batch_size, seq_len, hidden_dim))\n",
        "        \n",
        "        H_hat, _ = Supervisor(e_hat)\n",
        "        H_hat = torch.reshape(H_hat, (batch_size, seq_len, hidden_dim))\n",
        "        \n",
        "        Y_fake = Discriminator(H_hat)\n",
        "        Y_fake = torch.reshape(Y_fake, (batch_size, seq_len, 1))\n",
        "        \n",
        "        x_hat, _ = Recovery(H_hat)\n",
        "        x_hat = torch.reshape(x_hat, (batch_size, seq_len, dim))\n",
        "        \n",
        "        \n",
        "        Generator.zero_grad()\n",
        "        Supervisor.zero_grad()\n",
        "        Discriminator.zero_grad()\n",
        "        Recovery.zero_grad()\n",
        "        \n",
        "        G_loss_U = binary_cross_entropy_loss(torch.ones_like(Y_fake), Y_fake)\n",
        "        \n",
        "        G_loss_V1 = torch.mean(torch.abs((torch.std(x_hat, [0], unbiased = False)) + 1e-6 - (torch.std(X, [0]) + 1e-6)))\n",
        "        G_loss_V2 = torch.mean(torch.abs((torch.mean(x_hat, [0]) - (torch.mean(X, [0])))))\n",
        "        G_loss_V = G_loss_V1 + G_loss_V2\n",
        "        \n",
        " \n",
        "        G_loss_U.backward(retain_graph=True)\n",
        "        G_loss_V.backward()\n",
        "\n",
        "\n",
        "        generator_optimizer.step()\n",
        "        supervisor_optimizer.step()\n",
        "        discriminator_optimizer.step()\n",
        "        \n",
        "        ## Train Embedder\n",
        "        \n",
        "        MSE_loss = nn.MSELoss()\n",
        "        \n",
        "        H, _ = Embedder(X.float())\n",
        "        H = torch.reshape(H, (batch_size, seq_len, hidden_dim))\n",
        "\n",
        "        X_tilde, _ = Recovery(H)\n",
        "        X_tilde = torch.reshape(X_tilde, (batch_size, seq_len, dim))\n",
        "\n",
        "        E_loss0 = 10 * torch.sqrt(MSE_loss(X, X_tilde))  \n",
        "        \n",
        "        H_hat_supervise, _ = Supervisor(H)\n",
        "        H_hat_supervise = torch.reshape(H_hat_supervise, (batch_size, seq_len, hidden_dim))  \n",
        "\n",
        "        G_loss_S = MSE_loss(H[:,1:,:], H_hat_supervise[:,:-1,:])\n",
        "        E_loss = E_loss0  + 0.1 * G_loss_S\n",
        "        \n",
        "        G_loss_S.backward(retain_graph=True)\n",
        "        E_loss.backward()\n",
        "        \n",
        "        Embedder.zero_grad()\n",
        "        Recovery.zero_grad()\n",
        "        Supervisor.zero_grad()\n",
        "        \n",
        "        embedder_optimizer.step()\n",
        "        recovery_optimizer.step()\n",
        "        supervisor_optimizer.step()\n",
        "        \n",
        "        # Train Discriminator \n",
        "        \n",
        "        \n",
        "        \n",
        "        \n",
        "        #if e in range(1,epoch) and batch_index == 0:\n",
        "        print('step: '+ str(e) + '/' + str(epoch) + ', G_loss_U: ' + str(G_loss_U.detach().numpy()) + ', G_loss_S: ' + \n",
        "             str(G_loss_S.detach().numpy()) + ', E_loss_t0: ' + str(np.sqrt(E_loss0.detach().numpy()))\n",
        "             )\n",
        "        \n",
        "        \n",
        " \n",
        "\n",
        "\n",
        "\n",
        "    \n",
        "\n",
        "\n",
        "        \n",
        "\n",
        "print('Finish Joint Training')\"\"\""
      ]
    },
    {
      "cell_type": "markdown",
      "id": "88a183b3",
      "metadata": {},
      "source": [
        "# Exps"
      ]
    },
    {
      "cell_type": "code",
      "execution_count": 18,
      "id": "3e984a22",
      "metadata": {},
      "outputs": [],
      "source": [
        "class Discriminator(nn.Module):\n",
        "    def __init__(self, input_dim, hidden_dim):\n",
        "        super(Discriminator, self).__init__()\n",
        "        self.gru = nn.GRU(input_dim, hidden_dim, batch_first=True)\n",
        "        self.fc = nn.Linear(hidden_dim, 1)\n",
        "        self.sigmoid = nn.Sigmoid()\n",
        "    \n",
        "    def forward(self, x, seq_lengths):\n",
        "        packed_input = nn.utils.rnn.pack_padded_sequence(x, seq_lengths, batch_first=True, enforce_sorted=False)\n",
        "        _, h_n = self.gru(packed_input)\n",
        "        logits = self.fc(h_n[-1])\n",
        "        y_hat = self.sigmoid(logits)\n",
        "        return logits, y_hat"
      ]
    },
    {
      "cell_type": "code",
      "execution_count": 19,
      "id": "e608c768",
      "metadata": {},
      "outputs": [],
      "source": [
        "hidden_dim = 3\n",
        "data_dim = 6\n",
        "disc = Discriminator(input_dim=data_dim, hidden_dim=hidden_dim)"
      ]
    },
    {
      "cell_type": "code",
      "execution_count": 34,
      "id": "7f84dd03",
      "metadata": {},
      "outputs": [],
      "source": [
        "random_data = random_generator(batch_size=3661, z_dim=dim, \n",
        "                                T_mb=extract_time(data)[0], max_seq_len=extract_time(data)[1])\n",
        "z = torch.tensor(random_data)\n",
        "z = z.float()\n",
        "\n",
        "e_hat, _ = Generator(z)\n",
        "e_hat = torch.reshape(e_hat, (3661, seq_len, 24))\n",
        "\n",
        "H_hat, _ = Supervisor(e_hat)\n",
        "H_hat = torch.reshape(H_hat, (3661, seq_len, 24))\n",
        "\n",
        "x_hat, _ = Recovery(H_hat)\n",
        "x_hat = torch.reshape(x_hat, (3661, seq_len, dim))"
      ]
    },
    {
      "cell_type": "code",
      "execution_count": 46,
      "id": "c90e4025",
      "metadata": {},
      "outputs": [],
      "source": [
        "from torch.utils.data import DataLoader, TensorDataset, random_split\n",
        "def train_test_divide(dataX, dataX_hat, dataT, test_split=0.2):\n",
        "    # Combine real and fake data\n",
        "    data = np.concatenate((dataX, dataX_hat), axis=0)\n",
        "    labels = np.concatenate((np.ones(len(dataX)), np.zeros(len(dataX_hat))), axis=0)\n",
        "    lengths = np.concatenate((dataT, dataT), axis=0)  # Use same lengths for real and fake\n",
        "    \n",
        "    # Convert to tensors\n",
        "    data_tensor = torch.tensor(data, dtype=torch.float32)\n",
        "    labels_tensor = torch.tensor(labels, dtype=torch.float32)\n",
        "    lengths_tensor = torch.tensor(lengths, dtype=torch.int64)\n",
        "    \n",
        "    # Create dataset\n",
        "    dataset = TensorDataset(data_tensor, labels_tensor, lengths_tensor)\n",
        "    \n",
        "    # Split into train/test\n",
        "    test_size = int(len(dataset) * test_split)\n",
        "    train_size = len(dataset) - test_size\n",
        "    train_dataset, test_dataset = random_split(dataset, [train_size, test_size])\n",
        "    \n",
        "    return train_dataset, test_dataset"
      ]
    },
    {
      "cell_type": "code",
      "execution_count": 51,
      "id": "fdc4b3ee",
      "metadata": {},
      "outputs": [],
      "source": [
        "# Parameters\n",
        "hidden_dim = max(int(data[0].shape[1] / 2), 1)\n",
        "iterations = 100\n",
        "batch_size = 128\n",
        "learning_rate = 0.001\n",
        "\n",
        "# Prepare data\n",
        "No = len(data)\n",
        "data_dim = data[0].shape[1]\n",
        "\n",
        "# Compute sequence lengths\n",
        "dataT = [len(seq) for seq in data]\n",
        "\n",
        "# Get the maximum sequence length\n",
        "Max_Seq_Len = max(dataT)\n",
        "\n",
        "# Padding the sequences to the maximum length\n",
        "dataX_padded = [np.pad(seq, ((0, Max_Seq_Len - len(seq)), (0, 0)), 'constant') for seq in data]\n",
        "dataX_hat_padded = [np.pad(seq, ((0, Max_Seq_Len - len(seq)), (0, 0)), 'constant') for seq in x_hat.detach()]\n",
        "\n",
        "# Divide into training and test sets\n",
        "train_dataset, test_dataset = train_test_divide(dataX_padded, dataX_hat_padded, dataT)\n",
        "\n",
        "# Dataloaders\n",
        "train_loader = DataLoader(train_dataset, batch_size=batch_size, shuffle=True)\n",
        "test_loader = DataLoader(test_dataset, batch_size=batch_size, shuffle=False)"
      ]
    },
    {
      "cell_type": "code",
      "execution_count": 52,
      "id": "3964c1f8",
      "metadata": {},
      "outputs": [
        {
          "name": "stderr",
          "output_type": "stream",
          "text": [
            "                                                 \r"
          ]
        }
      ],
      "source": [
        "discriminator = Discriminator(input_dim=data_dim, hidden_dim=hidden_dim)\n",
        "criterion = nn.BCEWithLogitsLoss()\n",
        "optimizer = optim.Adam(discriminator.parameters(), lr=0.001)\n",
        "\n",
        "# Training\n",
        "discriminator.train()\n",
        "for epoch in tqdm(range(iterations)):\n",
        "    for real_data, labels, seq_lengths in train_loader:\n",
        "        # Forward pass\n",
        "        logits, predictions = discriminator(real_data, seq_lengths)\n",
        "        loss = criterion(logits.squeeze(), labels)\n",
        "        \n",
        "        # Backward pass and optimization\n",
        "        optimizer.zero_grad()\n",
        "        loss.backward()\n",
        "        optimizer.step()"
      ]
    },
    {
      "cell_type": "code",
      "execution_count": 53,
      "id": "34cc155b",
      "metadata": {},
      "outputs": [],
      "source": [
        "from sklearn.metrics import accuracy_score"
      ]
    },
    {
      "cell_type": "code",
      "execution_count": 54,
      "id": "465e5a1d",
      "metadata": {},
      "outputs": [],
      "source": [
        "# Testing\n",
        "discriminator.eval()\n",
        "y_pred = []\n",
        "y_true = []\n",
        "\n",
        "with torch.no_grad():\n",
        "    for real_data, labels, seq_lengths in test_loader:\n",
        "        logits, predictions = discriminator(real_data, seq_lengths)\n",
        "        y_pred.extend(predictions.squeeze().cpu().numpy())\n",
        "        y_true.extend(labels.cpu().numpy())\n",
        "\n",
        "# Calculate accuracy\n",
        "y_pred = np.array(y_pred)\n",
        "y_true = np.array(y_true)\n",
        "accuracy = accuracy_score(y_true, y_pred > 0.5)\n",
        "\n",
        "# Discriminative score\n",
        "disc_score = np.abs(0.5 - accuracy)"
      ]
    },
    {
      "cell_type": "code",
      "execution_count": 55,
      "id": "dbb4c723",
      "metadata": {},
      "outputs": [
        {
          "data": {
            "text/plain": [
              "0.4979508196721312"
            ]
          },
          "execution_count": 55,
          "metadata": {},
          "output_type": "execute_result"
        }
      ],
      "source": [
        "disc_score"
      ]
    },
    {
      "cell_type": "code",
      "execution_count": null,
      "id": "6d7d875c",
      "metadata": {},
      "outputs": [],
      "source": []
    }
  ],
  "metadata": {
    "colab": {
      "collapsed_sections": [],
      "name": "trainings_loops.ipynb",
      "provenance": []
    },
    "kernelspec": {
      "display_name": "base",
      "language": "python",
      "name": "python3"
    },
    "language_info": {
      "codemirror_mode": {
        "name": "ipython",
        "version": 3
      },
      "file_extension": ".py",
      "mimetype": "text/x-python",
      "name": "python",
      "nbconvert_exporter": "python",
      "pygments_lexer": "ipython3",
      "version": "3.12.4"
    },
    "varInspector": {
      "cols": {
        "lenName": 16,
        "lenType": 16,
        "lenVar": 40
      },
      "kernels_config": {
        "python": {
          "delete_cmd_postfix": "",
          "delete_cmd_prefix": "del ",
          "library": "var_list.py",
          "varRefreshCmd": "print(var_dic_list())"
        },
        "r": {
          "delete_cmd_postfix": ") ",
          "delete_cmd_prefix": "rm(",
          "library": "var_list.r",
          "varRefreshCmd": "cat(var_dic_list()) "
        }
      },
      "types_to_exclude": [
        "module",
        "function",
        "builtin_function_or_method",
        "instance",
        "_Feature"
      ],
      "window_display": false
    }
  },
  "nbformat": 4,
  "nbformat_minor": 5
}
